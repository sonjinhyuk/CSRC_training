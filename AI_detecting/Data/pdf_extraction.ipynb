{
 "cells": [
  {
   "cell_type": "markdown",
   "metadata": {
    "collapsed": false,
    "jupyter": {
     "outputs_hidden": false
    },
    "pycharm": {
     "name": "#%% md\n"
    }
   },
   "source": [
    "#PDF 파일을 활용하여 csv 파일을 생성\n",
    "- parser import"
   ]
  },
  {
   "cell_type": "code",
   "metadata": {
    "collapsed": false,
    "jupyter": {
     "outputs_hidden": false
    },
    "pycharm": {
     "name": "#%%\n"
    },
    "ExecuteTime": {
     "end_time": "2024-07-23T11:12:43.711161Z",
     "start_time": "2024-07-23T11:12:42.554354Z"
    }
   },
   "source": [
    "import sys\n",
    "from pathlib import Path\n",
    "import os\n",
    "cur = Path(os.getcwd())\n",
    "sys.path.append(f\"{cur.parent.parent}/Docscanner_parser/docscanner_parser\")\n",
    "from CSRC_parser.PDFparser import preprocessing"
   ],
   "outputs": [],
   "execution_count": 2
  },
  {
   "cell_type": "markdown",
   "metadata": {
    "collapsed": true,
    "jupyter": {
     "outputs_hidden": true
    },
    "pycharm": {
     "name": "#%% md\n"
    }
   },
   "source": [
    "- file load"
   ]
  },
  {
   "cell_type": "code",
   "metadata": {
    "collapsed": false,
    "jupyter": {
     "outputs_hidden": false
    },
    "pycharm": {
     "name": "#%%\n"
    },
    "ExecuteTime": {
     "end_time": "2024-07-23T11:16:28.187354Z",
     "start_time": "2024-07-23T11:12:54.060158Z"
    }
   },
   "source": [
    "from pathlib import Path\n",
    "from tqdm import tqdm\n",
    "paths = Path(\"test_files\").glob(\"*\")\n",
    "results = []\n",
    "for p in tqdm(paths):\n",
    "    try:\n",
    "        results.append(preprocessing.pdfparser(str(p)))\n",
    "    except:\n",
    "        print(p)"
   ],
   "outputs": [
    {
     "name": "stderr",
     "output_type": "stream",
     "text": [
      "10it [03:22, 56.59s/it]"
     ]
    },
    {
     "name": "stdout",
     "output_type": "stream",
     "text": [
      "MuPDF error: syntax error: unknown keyword: '694db768'\n",
      "\n",
      "b' \\r\\n58 35 4F 21 50 25 40 41 50 5B 34 5C 50 5A 58 35\\r\\n34 28 50 5E 29 37 43 43 29 37 7D 24 45 49 43 41\\r\\n52 2D 53 54 41 4E 44 41 52 44 2D 41 4E 54 49 56\\r\\n49 52 55 53 2D 54 45 53 54 2D 46 49 4C 45 21 24\\r\\n48 2B 48 2A>\\r\\n'\n"
     ]
    },
    {
     "name": "stderr",
     "output_type": "stream",
     "text": [
      "20it [03:34, 10.70s/it]\n"
     ]
    }
   ],
   "execution_count": 3
  },
  {
   "cell_type": "code",
   "metadata": {
    "ExecuteTime": {
     "end_time": "2024-07-23T11:21:02.016686Z",
     "start_time": "2024-07-23T11:21:01.882892Z"
    }
   },
   "source": [
    "for series in results:\n",
    "    file_name = series.model_input['file_name'].split(\"/\")[-1]\n",
    "    series.model_input = series.model_input.rename({\"#[0-9]([0-9|A-z])\":\"ascii_c\", \"temp,tmp\":\"temptmp\"})\n",
    "    series.model_input[:-2].to_csv(f\"{file_name}.csv\")\n"
   ],
   "outputs": [],
   "execution_count": 7
  },
  {
   "metadata": {},
   "cell_type": "code",
   "outputs": [],
   "execution_count": null,
   "source": ""
  }
 ],
 "metadata": {
  "kernelspec": {
   "display_name": "Python 3 (ipykernel)",
   "language": "python",
   "name": "python3"
  },
  "language_info": {
   "codemirror_mode": {
    "name": "ipython",
    "version": 3
   },
   "file_extension": ".py",
   "mimetype": "text/x-python",
   "name": "python",
   "nbconvert_exporter": "python",
   "pygments_lexer": "ipython3",
   "version": "3.9.7"
  }
 },
 "nbformat": 4,
 "nbformat_minor": 4
}
