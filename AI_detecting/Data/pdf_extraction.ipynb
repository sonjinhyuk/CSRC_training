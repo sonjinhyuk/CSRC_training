{
 "cells": [
  {
   "cell_type": "markdown",
   "source": [
    "#PDF 파일을 활용하여 csv 파일을 생성\n",
    "- parser import"
   ],
   "metadata": {
    "collapsed": false,
    "pycharm": {
     "name": "#%% md\n"
    }
   }
  },
  {
   "cell_type": "code",
   "source": [
    "import sys\n",
    "from pathlib import Path\n",
    "import os\n",
    "cur = Path(os.getcwd())\n",
    "sys.path.append(f\"{cur.parent.parent}/Docscanner_parser/docscanner_parser\")\n",
    "from CSRC_parser.PDFparser import preprocessing"
   ],
   "metadata": {
    "collapsed": false,
    "pycharm": {
     "name": "#%%\n"
    },
    "ExecuteTime": {
     "end_time": "2024-07-23T03:42:41.095156Z",
     "start_time": "2024-07-23T03:42:40.015410Z"
    }
   },
   "outputs": [],
   "execution_count": 1
  },
  {
   "cell_type": "markdown",
   "metadata": {
    "collapsed": true,
    "pycharm": {
     "name": "#%% md\n"
    }
   },
   "source": [
    "- file load"
   ]
  },
  {
   "cell_type": "code",
   "source": [
    "from pathlib import Path\n",
    "from tqdm import tqdm\n",
    "paths = Path(\"test_files\").glob(\"*\")\n",
    "results = []\n",
    "for p in tqdm(paths):\n",
    "    results.append(preprocessing.pdfparser(str(p)))\n",
    "    # try:\n",
    "    # except:\n",
    "    #     print(p)"
   ],
   "metadata": {
    "collapsed": false,
    "pycharm": {
     "name": "#%%\n"
    },
    "ExecuteTime": {
     "end_time": "2024-07-23T03:45:57.440268Z",
     "start_time": "2024-07-23T03:42:41.859835Z"
    }
   },
   "outputs": [
    {
     "name": "stderr",
     "output_type": "stream",
     "text": [
      "10it [03:03, 50.49s/it]"
     ]
    },
    {
     "name": "stdout",
     "output_type": "stream",
     "text": [
      "MuPDF error: syntax error: unknown keyword: '694db768'\n",
      "\n"
     ]
    },
    {
     "name": "stderr",
     "output_type": "stream",
     "text": [
      "11it [03:03, 35.51s/it]"
     ]
    },
    {
     "name": "stdout",
     "output_type": "stream",
     "text": [
      "b' \\r\\n58 35 4F 21 50 25 40 41 50 5B 34 5C 50 5A 58 35\\r\\n34 28 50 5E 29 37 43 43 29 37 7D 24 45 49 43 41\\r\\n52 2D 53 54 41 4E 44 41 52 44 2D 41 4E 54 49 56\\r\\n49 52 55 53 2D 54 45 53 54 2D 46 49 4C 45 21 24\\r\\n48 2B 48 2A>\\r\\n'\n"
     ]
    },
    {
     "name": "stderr",
     "output_type": "stream",
     "text": [
      "20it [03:15,  9.78s/it]\n"
     ]
    }
   ],
   "execution_count": 2
  },
  {
   "metadata": {
    "ExecuteTime": {
     "end_time": "2024-07-23T04:08:23.443069Z",
     "start_time": "2024-07-23T04:08:23.410501Z"
    }
   },
   "cell_type": "code",
   "source": [
    "for series in results:\n",
    "    file_name = series.model_input['file_name'].split(\"/\")[-1]\n",
    "    series.model_input.to_csv(f\"{file_name}.csv\")\n",
    "    "
   ],
   "outputs": [
    {
     "name": "stdout",
     "output_type": "stream",
     "text": [
      "file_name            test_files/file_06_0\n",
      "/JS                                     0\n",
      "/AA                                     0\n",
      "/OpenAction                             0\n",
      "/AcroForm                               2\n",
      "/RichMedia                              0\n",
      "/Launch                                 0\n",
      "/EmbeddedFile                           0\n",
      "/XFA                                    0\n",
      "/URI                                    0\n",
      "/F                                      0\n",
      "/GoToE                                  0\n",
      "/Extends                               10\n",
      "/Annot                                  0\n",
      "/Length                                 4\n",
      "/Filter                                57\n",
      "/FlateDecode                           56\n",
      "/XObject                              574\n",
      "/Encrypt                                0\n",
      "/CreationDate                           0\n",
      "/Author                                 1\n",
      "subject                                 7\n",
      "/ModDate                                0\n",
      "html                                    1\n",
      "Script                                  3\n",
      "powershell.exe                          0\n",
      "cmd.exe                                 0\n",
      "#[0-9]([0-9|A-z])                       0\n",
      "sys                                     6\n",
      "root                                    0\n",
      "reg                                     0\n",
      "exe                                     6\n",
      "http                                    2\n",
      "domain                                  0\n",
      "filepath                              646\n",
      "ascii                                  78\n",
      "xml                                     2\n",
      "dll                                     0\n",
      "unescape                                0\n",
      "%u9090%u9090                            0\n",
      "getIcon                                 0\n",
      "temp,tmp                                0\n",
      "eval                                    0\n",
      "%appdata%                               0\n",
      "chunk                                   0\n",
      "base64                                  0\n",
      "mkdir                                   0\n",
      "replace                                 0\n",
      "fromCharCode                            0\n",
      "getAnnots                               0\n",
      "ip                                     14\n",
      "xref_size                               0\n",
      "trailer_size                            0\n",
      "file_size                         331.039\n",
      "nof_stream                            736\n",
      "cve                                     0\n",
      "yara                                    3\n",
      "dtype: object\n"
     ]
    }
   ],
   "execution_count": 10
  },
  {
   "metadata": {},
   "cell_type": "code",
   "outputs": [],
   "execution_count": null,
   "source": ""
  }
 ],
 "metadata": {
  "kernelspec": {
   "display_name": "Python 3",
   "language": "python",
   "name": "python3"
  },
  "language_info": {
   "codemirror_mode": {
    "name": "ipython",
    "version": 2
   },
   "file_extension": ".py",
   "mimetype": "text/x-python",
   "name": "python",
   "nbconvert_exporter": "python",
   "pygments_lexer": "ipython2",
   "version": "2.7.6"
  }
 },
 "nbformat": 4,
 "nbformat_minor": 0
}
