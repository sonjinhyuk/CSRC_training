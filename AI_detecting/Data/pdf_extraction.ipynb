{
 "cells": [
  {
   "cell_type": "markdown",
   "source": [
    "#PDF 파일을 활용하여 csv 파일을 생성\n",
    "1. parser import"
   ],
   "metadata": {
    "collapsed": false,
    "pycharm": {
     "name": "#%% md\n"
    }
   }
  },
  {
   "cell_type": "code",
   "execution_count": 1,
   "outputs": [],
   "source": [
    "import sys\n",
    "sys.path.append(\"C:\\\\Users\\\\malware\\\\Desktop\\\\python\\\\AI\\\\Docscanner_parser\\\\docscanner_parser\")\n",
    "from CSRC_parser.PDFparser import preprocessing"
   ],
   "metadata": {
    "collapsed": false,
    "pycharm": {
     "name": "#%%\n"
    }
   }
  },
  {
   "cell_type": "markdown",
   "metadata": {
    "collapsed": true,
    "pycharm": {
     "name": "#%% md\n"
    }
   },
   "source": [
    "2. file load"
   ]
  },
  {
   "cell_type": "code",
   "execution_count": 5,
   "outputs": [
    {
     "name": "stdout",
     "output_type": "stream",
     "text": [
      "b' \\r\\n58 35 4F 21 50 25 40 41 50 5B 34 5C 50 5A 58 35\\r\\n34 28 50 5E 29 37 43 43 29 37 7D 24 45 49 43 41\\r\\n52 2D 53 54 41 4E 44 41 52 44 2D 41 4E 54 49 56\\r\\n49 52 55 53 2D 54 45 53 54 2D 46 49 4C 45 21 24\\r\\n48 2B 48 2A>\\r\\n'\n",
      "b' \\r\\n58 35 4F 21 50 25 40 41 50 5B 34 5C 50 5A 58 35\\r\\n34 28 50 5E 29 37 43 43 29 37 7D 24 45 49 43 41\\r\\n52 2D 53 54 41 4E 44 41 52 44 2D 41 4E 54 49 56\\r\\n49 52 55 53 2D 54 45 53 54 2D 46 49 4C 45 21 24\\r\\n48 2B 48 2A>\\r\\n'\n"
     ]
    }
   ],
   "source": [
    "from pathlib import Path\n",
    "paths = Path(\"Data\\\\test_files\").glob(\"*\")\n",
    "for p in paths:\n",
    "    try:\n",
    "        temp = preprocessing.pdfparser(str(p))\n",
    "    except:\n",
    "        print(p)"
   ],
   "metadata": {
    "collapsed": false,
    "pycharm": {
     "name": "#%%\n"
    }
   }
  },
  {
   "cell_type": "code",
   "execution_count": 11,
   "outputs": [
    {
     "ename": "OSError",
     "evalue": "[Errno 22] Invalid argument: 'output\\\\pdf\\\\1219983564d5d451329fdac08cb786df7eea1f86d52d579307e730eafd14c67a\\\\data\\\\1_0_data.txt'",
     "output_type": "error",
     "traceback": [
      "\u001B[1;31m---------------------------------------------------------------------------\u001B[0m",
      "\u001B[1;31mOSError\u001B[0m                                   Traceback (most recent call last)",
      "Cell \u001B[1;32mIn[11], line 2\u001B[0m\n\u001B[0;32m      1\u001B[0m error_file \u001B[38;5;241m=\u001B[39m \u001B[38;5;124m\"\u001B[39m\u001B[38;5;124mC:\u001B[39m\u001B[38;5;130;01m\\\\\u001B[39;00m\u001B[38;5;124mUsers\u001B[39m\u001B[38;5;130;01m\\\\\u001B[39;00m\u001B[38;5;124mmalware\u001B[39m\u001B[38;5;130;01m\\\\\u001B[39;00m\u001B[38;5;124mDesktop\u001B[39m\u001B[38;5;130;01m\\\\\u001B[39;00m\u001B[38;5;124mpython\u001B[39m\u001B[38;5;130;01m\\\\\u001B[39;00m\u001B[38;5;124mAI\u001B[39m\u001B[38;5;130;01m\\\\\u001B[39;00m\u001B[38;5;124mAI_detecting\u001B[39m\u001B[38;5;130;01m\\\\\u001B[39;00m\u001B[38;5;124mData\u001B[39m\u001B[38;5;130;01m\\\\\u001B[39;00m\u001B[38;5;124mtest_files\u001B[39m\u001B[38;5;130;01m\\\\\u001B[39;00m\u001B[38;5;124mfile_01_1\u001B[39m\u001B[38;5;124m\"\u001B[39m\n\u001B[1;32m----> 2\u001B[0m \u001B[43mpreprocessing\u001B[49m\u001B[38;5;241;43m.\u001B[39;49m\u001B[43mpdfparser\u001B[49m\u001B[43m(\u001B[49m\u001B[43merror_file\u001B[49m\u001B[43m)\u001B[49m\n",
      "File \u001B[1;32m~\\Desktop\\python\\AI\\Docscanner_parser\\docscanner_parser\\CSRC_parser\\PDFparser\\preprocessing.py:468\u001B[0m, in \u001B[0;36mpdfparser\u001B[1;34m(file_path)\u001B[0m\n\u001B[0;32m    466\u001B[0m \u001B[38;5;66;03m## AI model input form generate\u001B[39;00m\n\u001B[0;32m    467\u001B[0m input_data \u001B[38;5;241m=\u001B[39m get_model_input(file_path)\n\u001B[1;32m--> 468\u001B[0m \u001B[43mget_pdf_detail_info\u001B[49m\u001B[43m(\u001B[49m\u001B[43mfile_path\u001B[49m\u001B[43m,\u001B[49m\u001B[43m \u001B[49m\u001B[43mout_dir\u001B[49m\u001B[43m,\u001B[49m\u001B[43m \u001B[49m\u001B[43mbft_dict\u001B[49m\u001B[43m,\u001B[49m\u001B[43m \u001B[49m\u001B[43mpdf_obj\u001B[49m\u001B[43m,\u001B[49m\u001B[43m \u001B[49m\u001B[43mip_yara\u001B[49m\u001B[43m,\u001B[49m\u001B[43m \u001B[49m\u001B[43murl_yara\u001B[49m\u001B[43m,\u001B[49m\u001B[43m \u001B[49m\u001B[43minput_data\u001B[49m\u001B[43m,\u001B[49m\u001B[43m \u001B[49m\u001B[43mp_count\u001B[49m\u001B[43m,\u001B[49m\u001B[43m \u001B[49m\u001B[43msha256\u001B[49m\u001B[43m,\u001B[49m\u001B[43m \u001B[49m\u001B[43mmd5\u001B[49m\u001B[43m)\u001B[49m\n\u001B[0;32m    469\u001B[0m end_time \u001B[38;5;241m=\u001B[39m \u001B[38;5;28mint\u001B[39m(time\u001B[38;5;241m.\u001B[39mtime() \u001B[38;5;241m*\u001B[39m \u001B[38;5;241m1000\u001B[39m)\n\u001B[0;32m    470\u001B[0m bft_dict[\u001B[38;5;124m'\u001B[39m\u001B[38;5;124mbasicInfo\u001B[39m\u001B[38;5;124m'\u001B[39m][\u001B[38;5;124m'\u001B[39m\u001B[38;5;124manalysistime\u001B[39m\u001B[38;5;124m'\u001B[39m] \u001B[38;5;241m=\u001B[39m end_time \u001B[38;5;241m-\u001B[39m start_time\n",
      "File \u001B[1;32m~\\Desktop\\python\\AI\\Docscanner_parser\\docscanner_parser\\CSRC_parser\\PDFparser\\preprocessing.py:405\u001B[0m, in \u001B[0;36mget_pdf_detail_info\u001B[1;34m(file_path, out_dir, bft_dict, pdf_obj, ip_yara, url_yara, input_data, p_count, sha256, md5)\u001B[0m\n\u001B[0;32m    402\u001B[0m bft_dict[\u001B[38;5;124m'\u001B[39m\u001B[38;5;124mpdfInfo\u001B[39m\u001B[38;5;124m'\u001B[39m][\u001B[38;5;124m'\u001B[39m\u001B[38;5;124mdecomcount\u001B[39m\u001B[38;5;124m'\u001B[39m] \u001B[38;5;241m=\u001B[39m decode_cnt\n\u001B[0;32m    403\u001B[0m bft_dict[\u001B[38;5;124m'\u001B[39m\u001B[38;5;124mpdfInfo\u001B[39m\u001B[38;5;124m'\u001B[39m][\u001B[38;5;124m'\u001B[39m\u001B[38;5;124mjsobfusioncount\u001B[39m\u001B[38;5;124m'\u001B[39m] \u001B[38;5;241m=\u001B[39m get_max_filter_js(out_dir)\n\u001B[1;32m--> 405\u001B[0m \u001B[43mpdf_Analyzer\u001B[49m\u001B[43m(\u001B[49m\u001B[43mindir\u001B[49m\u001B[38;5;241;43m=\u001B[39;49m\u001B[38;5;124;43mf\u001B[39;49m\u001B[38;5;124;43m'\u001B[39;49m\u001B[38;5;132;43;01m{\u001B[39;49;00m\u001B[43mout_dir\u001B[49m\u001B[38;5;132;43;01m}\u001B[39;49;00m\u001B[38;5;124;43m'\u001B[39;49m\u001B[43m,\u001B[49m\u001B[43m \u001B[49m\u001B[43m__dict\u001B[49m\u001B[38;5;241;43m=\u001B[39;49m\u001B[43mbft_dict\u001B[49m\u001B[43m[\u001B[49m\u001B[38;5;124;43m'\u001B[39;49m\u001B[38;5;124;43mpdfInfo\u001B[39;49m\u001B[38;5;124;43m'\u001B[39;49m\u001B[43m]\u001B[49m\u001B[43m,\u001B[49m\u001B[43m \u001B[49m\u001B[43msha256\u001B[49m\u001B[38;5;241;43m=\u001B[39;49m\u001B[43msha256\u001B[49m\u001B[43m)\u001B[49m\n\u001B[0;32m    406\u001B[0m input_data[\u001B[38;5;124m\"\u001B[39m\u001B[38;5;124mcve\u001B[39m\u001B[38;5;124m\"\u001B[39m] \u001B[38;5;241m=\u001B[39m bft_dict[\u001B[38;5;124m'\u001B[39m\u001B[38;5;124mpdfInfo\u001B[39m\u001B[38;5;124m'\u001B[39m][\u001B[38;5;124m'\u001B[39m\u001B[38;5;124mcvedecte\u001B[39m\u001B[38;5;124m'\u001B[39m]\u001B[38;5;241m.\u001B[39mcount(\u001B[38;5;124m\"\u001B[39m\u001B[38;5;124m|\u001B[39m\u001B[38;5;124m\"\u001B[39m)\n\u001B[0;32m    407\u001B[0m input_data[\u001B[38;5;124m\"\u001B[39m\u001B[38;5;124myara\u001B[39m\u001B[38;5;124m\"\u001B[39m] \u001B[38;5;241m=\u001B[39m bft_dict[\u001B[38;5;124m'\u001B[39m\u001B[38;5;124mpdfInfo\u001B[39m\u001B[38;5;124m'\u001B[39m][\u001B[38;5;124m'\u001B[39m\u001B[38;5;124myaradetect\u001B[39m\u001B[38;5;124m'\u001B[39m]\u001B[38;5;241m.\u001B[39mcount(\u001B[38;5;124m\"\u001B[39m\u001B[38;5;124m|\u001B[39m\u001B[38;5;124m\"\u001B[39m) \u001B[38;5;241m+\u001B[39m bft_dict[\u001B[38;5;124m'\u001B[39m\u001B[38;5;124mpdfInfo\u001B[39m\u001B[38;5;124m'\u001B[39m][\u001B[38;5;124m'\u001B[39m\u001B[38;5;124mbinaryyaradetect\u001B[39m\u001B[38;5;124m'\u001B[39m]\u001B[38;5;241m.\u001B[39mcount(\u001B[38;5;124m\"\u001B[39m\u001B[38;5;124m|\u001B[39m\u001B[38;5;124m\"\u001B[39m)\n",
      "File \u001B[1;32m~\\Desktop\\python\\AI\\Docscanner_parser\\docscanner_parser\\CSRC_parser\\PDFparser\\preprocessing.py:514\u001B[0m, in \u001B[0;36mpdf_Analyzer\u001B[1;34m(indir, __dict, sha256)\u001B[0m\n\u001B[0;32m    512\u001B[0m path \u001B[38;5;241m=\u001B[39m Path(\u001B[38;5;124mf\u001B[39m\u001B[38;5;124m'\u001B[39m\u001B[38;5;132;01m{\u001B[39;00mindir\u001B[38;5;132;01m}\u001B[39;00m\u001B[38;5;124m/data\u001B[39m\u001B[38;5;124m'\u001B[39m)\n\u001B[0;32m    513\u001B[0m \u001B[38;5;28;01mfor\u001B[39;00m p \u001B[38;5;129;01min\u001B[39;00m path\u001B[38;5;241m.\u001B[39mglob(\u001B[38;5;124m\"\u001B[39m\u001B[38;5;124m*_data.txt\u001B[39m\u001B[38;5;124m\"\u001B[39m):\n\u001B[1;32m--> 514\u001B[0m     \u001B[38;5;28;01mwith\u001B[39;00m \u001B[38;5;28;43mopen\u001B[39;49m\u001B[43m(\u001B[49m\u001B[43mp\u001B[49m\u001B[43m,\u001B[49m\u001B[43m \u001B[49m\u001B[38;5;124;43m'\u001B[39;49m\u001B[38;5;124;43mr\u001B[39;49m\u001B[38;5;124;43m'\u001B[39;49m\u001B[43m,\u001B[49m\u001B[43m \u001B[49m\u001B[43mencoding\u001B[49m\u001B[38;5;241;43m=\u001B[39;49m\u001B[38;5;124;43m'\u001B[39;49m\u001B[38;5;124;43mutf-8\u001B[39;49m\u001B[38;5;124;43m'\u001B[39;49m\u001B[43m)\u001B[49m \u001B[38;5;28;01mas\u001B[39;00m data_reader:\n\u001B[0;32m    515\u001B[0m         read_data \u001B[38;5;241m=\u001B[39m data_reader\u001B[38;5;241m.\u001B[39mread()\n\u001B[0;32m    516\u001B[0m         rule_match_result \u001B[38;5;241m=\u001B[39m rules\u001B[38;5;241m.\u001B[39mmatch(data\u001B[38;5;241m=\u001B[39mread_data)\n",
      "\u001B[1;31mOSError\u001B[0m: [Errno 22] Invalid argument: 'output\\\\pdf\\\\1219983564d5d451329fdac08cb786df7eea1f86d52d579307e730eafd14c67a\\\\data\\\\1_0_data.txt'"
     ]
    }
   ],
   "source": [
    "temp"
   ],
   "metadata": {
    "collapsed": false,
    "pycharm": {
     "name": "#%%\n"
    }
   }
  }
 ],
 "metadata": {
  "kernelspec": {
   "display_name": "Python 3",
   "language": "python",
   "name": "python3"
  },
  "language_info": {
   "codemirror_mode": {
    "name": "ipython",
    "version": 2
   },
   "file_extension": ".py",
   "mimetype": "text/x-python",
   "name": "python",
   "nbconvert_exporter": "python",
   "pygments_lexer": "ipython2",
   "version": "2.7.6"
  }
 },
 "nbformat": 4,
 "nbformat_minor": 0
}