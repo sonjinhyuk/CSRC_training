{
 "cells": [
  {
   "cell_type": "code",
   "source": [
    "import pandas as pd\n",
    "import pickle"
   ],
   "metadata": {
    "collapsed": false,
    "pycharm": {
     "name": "#%%\n"
    },
    "ExecuteTime": {
     "end_time": "2024-07-23T05:47:35.626107Z",
     "start_time": "2024-07-23T05:47:35.603883Z"
    }
   },
   "outputs": [],
   "execution_count": 24
  },
  {
   "cell_type": "code",
   "source": [
    "df = pd.read_csv(\"../isec_train_scaled.csv\", index_col=0)\n",
    "df\n",
    "X, y = df.iloc[:, :-1], df.iloc[:, -1]"
   ],
   "metadata": {
    "collapsed": false,
    "pycharm": {
     "name": "#%%\n"
    },
    "ExecuteTime": {
     "end_time": "2024-07-23T05:34:40.144776Z",
     "start_time": "2024-07-23T05:34:40.120040Z"
    }
   },
   "outputs": [],
   "execution_count": 3
  },
  {
   "metadata": {
    "ExecuteTime": {
     "end_time": "2024-07-23T05:43:35.193490Z",
     "start_time": "2024-07-23T05:43:35.184665Z"
    }
   },
   "cell_type": "code",
   "source": "print(y.iloc[0])",
   "outputs": [
    {
     "name": "stdout",
     "output_type": "stream",
     "text": [
      "0.0\n"
     ]
    }
   ],
   "execution_count": 15
  },
  {
   "metadata": {
    "ExecuteTime": {
     "end_time": "2024-07-23T05:38:32.337541Z",
     "start_time": "2024-07-23T05:38:32.105110Z"
    }
   },
   "cell_type": "code",
   "source": [
    "from xgboost import XGBClassifier\n",
    "model = XGBClassifier(n_estimators=500, learning_rate=0.2, max_depth=4, random_state = 32)"
   ],
   "outputs": [],
   "execution_count": 5
  },
  {
   "metadata": {
    "ExecuteTime": {
     "end_time": "2024-07-23T05:40:34.852082Z",
     "start_time": "2024-07-23T05:40:34.847595Z"
    }
   },
   "cell_type": "code",
   "source": [
    "def train(model, X, y):\n",
    "\t# 모델 학습\n",
    "\tmodel.fit(X, y)"
   ],
   "outputs": [],
   "execution_count": 9
  },
  {
   "metadata": {
    "ExecuteTime": {
     "end_time": "2024-07-23T05:40:15.448186Z",
     "start_time": "2024-07-23T05:40:15.434032Z"
    }
   },
   "cell_type": "code",
   "source": [
    "from sklearn.metrics import confusion_matrix, accuracy_score, precision_score, recall_score, f1_score, roc_auc_score\n",
    "def get_clf_eval(y, y_pred, vervose=True):\n",
    "\tconfusion = confusion_matrix(y, y_pred)\n",
    "\taccuracy = accuracy_score(y, y_pred)\n",
    "\tprecision = precision_score(y, y_pred)\n",
    "\trecall = recall_score(y, y_pred)\n",
    "\tF1 = f1_score(y, y_pred)\n",
    "\tAUC = roc_auc_score(y, y_pred)\n",
    "\tif vervose:\n",
    "\t\tprint('오차행렬:\\n', confusion)\n",
    "\t\tprint('\\n정확도: {:.4f}'.format(accuracy))\n",
    "\t\tprint('정밀도: {:.4f}'.format(precision))\n",
    "\t\tprint('재현율: {:.4f}'.format(recall))\n",
    "\t\tprint('F1: {:.4f}'.format(F1))\n",
    "\t\tprint('AUC: {:.4f}'.format(AUC))\n",
    "\treturn confusion, accuracy, precision, recall, F1, AUC\n"
   ],
   "outputs": [],
   "execution_count": 7
  },
  {
   "cell_type": "markdown",
   "source": [
    "# hold out"
   ],
   "metadata": {
    "collapsed": false,
    "pycharm": {
     "name": "#%% md\n"
    }
   }
  },
  {
   "cell_type": "code",
   "metadata": {
    "collapsed": true,
    "ExecuteTime": {
     "end_time": "2024-07-23T05:40:50.397639Z",
     "start_time": "2024-07-23T05:40:50.001824Z"
    }
   },
   "source": [
    "# scikit-learn 패키지의 train_test_split()을 불러옵니다.\n",
    "from sklearn.model_selection import train_test_split\n",
    "# 학습 데이터와 학습용과 검증용으로 분리합니다.\n",
    "X_train, X_test, y_train, y_test = train_test_split(X, y,\n",
    "\t\t\t\t\t\t\t\t\t\t\t\t\ttest_size=0.2,\n",
    "\t\t\t\t\t\t\t\t\t\t\t\t\trandom_state=42)\n",
    "train(model, X_train, y_train)\n",
    "y_pred = model.predict(X_test)\n",
    "get_clf_eval(y_test, y_pred)"
   ],
   "outputs": [
    {
     "name": "stdout",
     "output_type": "stream",
     "text": [
      "오차행렬:\n",
      " [[46  0]\n",
      " [ 0 54]]\n",
      "\n",
      "정확도: 1.0000\n",
      "정밀도: 1.0000\n",
      "재현율: 1.0000\n",
      "F1: 1.0000\n",
      "AUC: 1.0000\n"
     ]
    },
    {
     "data": {
      "text/plain": [
       "(array([[46,  0],\n",
       "        [ 0, 54]]),\n",
       " 1.0,\n",
       " np.float64(1.0),\n",
       " np.float64(1.0),\n",
       " np.float64(1.0),\n",
       " np.float64(1.0))"
      ]
     },
     "execution_count": 11,
     "metadata": {},
     "output_type": "execute_result"
    }
   ],
   "execution_count": 11
  },
  {
   "cell_type": "markdown",
   "source": [
    "cross validation"
   ],
   "metadata": {
    "collapsed": false,
    "pycharm": {
     "name": "#%% md\n"
    }
   }
  },
  {
   "cell_type": "code",
   "source": [
    "from sklearn.model_selection import KFold\n",
    "knum = 10\n",
    "kfold = KFold(n_splits=knum, shuffle=True, random_state=42)\n",
    "model = XGBClassifier(n_estimators=500, learning_rate=0.2, max_depth=4, random_state = 32)\n",
    "max_acc, max_f1, max_auc = 0, 0, 0\n",
    "for train_index, test_index in kfold.split(X):\n",
    "\tX_train, X_test = X.iloc[train_index], X.iloc[test_index]\n",
    "\ty_train, y_test = y.iloc[train_index], y.iloc[test_index]\n",
    "\t# 학습 및 예측\n",
    "\ttrain(model, X_train, y_train)\n",
    "\ty_pred = model.predict(X_test)\n",
    "\t_, accuracy, _, _, F1, AUC = get_clf_eval(y_test, y_pred)\n",
    "\tif max_acc < accuracy:\n",
    "\t\tmax_acc = accuracy\n",
    "\t\twith open('models/max_acc.pickle','wb') as fw:\n",
    "\t\t\tpickle.dump(model, fw)\n",
    "\tif max_f1 < F1:\n",
    "\t\tmax_f1 = F1\n",
    "\t\twith open('models/max_f1.pickle','wb') as fw:\n",
    "\t\t\tpickle.dump(model, fw)\n",
    "\tif max_auc < AUC:\n",
    "\t\tmax_auc = AUC\n",
    "\t\twith open('models/max_auc.pickle','wb') as fw:\n",
    "\t\t\tpickle.dump(model, fw)\n"
   ],
   "metadata": {
    "collapsed": false,
    "pycharm": {
     "name": "#%%\n"
    },
    "ExecuteTime": {
     "end_time": "2024-07-23T05:49:28.707849Z",
     "start_time": "2024-07-23T05:49:25.582573Z"
    }
   },
   "outputs": [
    {
     "name": "stdout",
     "output_type": "stream",
     "text": [
      "오차행렬:\n",
      " [[23  0]\n",
      " [ 0 27]]\n",
      "\n",
      "정확도: 1.0000\n",
      "정밀도: 1.0000\n",
      "재현율: 1.0000\n",
      "F1: 1.0000\n",
      "AUC: 1.0000\n",
      "오차행렬:\n",
      " [[23  0]\n",
      " [ 0 27]]\n",
      "\n",
      "정확도: 1.0000\n",
      "정밀도: 1.0000\n",
      "재현율: 1.0000\n",
      "F1: 1.0000\n",
      "AUC: 1.0000\n",
      "오차행렬:\n",
      " [[24  0]\n",
      " [ 0 26]]\n",
      "\n",
      "정확도: 1.0000\n",
      "정밀도: 1.0000\n",
      "재현율: 1.0000\n",
      "F1: 1.0000\n",
      "AUC: 1.0000\n",
      "오차행렬:\n",
      " [[25  0]\n",
      " [ 0 25]]\n",
      "\n",
      "정확도: 1.0000\n",
      "정밀도: 1.0000\n",
      "재현율: 1.0000\n",
      "F1: 1.0000\n",
      "AUC: 1.0000\n",
      "오차행렬:\n",
      " [[30  0]\n",
      " [ 0 20]]\n",
      "\n",
      "정확도: 1.0000\n",
      "정밀도: 1.0000\n",
      "재현율: 1.0000\n",
      "F1: 1.0000\n",
      "AUC: 1.0000\n",
      "오차행렬:\n",
      " [[22  0]\n",
      " [ 0 28]]\n",
      "\n",
      "정확도: 1.0000\n",
      "정밀도: 1.0000\n",
      "재현율: 1.0000\n",
      "F1: 1.0000\n",
      "AUC: 1.0000\n",
      "오차행렬:\n",
      " [[30  0]\n",
      " [ 0 20]]\n",
      "\n",
      "정확도: 1.0000\n",
      "정밀도: 1.0000\n",
      "재현율: 1.0000\n",
      "F1: 1.0000\n",
      "AUC: 1.0000\n",
      "오차행렬:\n",
      " [[23  0]\n",
      " [ 0 27]]\n",
      "\n",
      "정확도: 1.0000\n",
      "정밀도: 1.0000\n",
      "재현율: 1.0000\n",
      "F1: 1.0000\n",
      "AUC: 1.0000\n",
      "오차행렬:\n",
      " [[23  0]\n",
      " [ 0 27]]\n",
      "\n",
      "정확도: 1.0000\n",
      "정밀도: 1.0000\n",
      "재현율: 1.0000\n",
      "F1: 1.0000\n",
      "AUC: 1.0000\n",
      "오차행렬:\n",
      " [[27  0]\n",
      " [ 0 23]]\n",
      "\n",
      "정확도: 1.0000\n",
      "정밀도: 1.0000\n",
      "재현율: 1.0000\n",
      "F1: 1.0000\n",
      "AUC: 1.0000\n"
     ]
    }
   ],
   "execution_count": 25
  },
  {
   "cell_type": "code",
   "source": [
    "from sklearn.model_selection import StratifiedKFold\n",
    "knum = 10\n",
    "model = XGBClassifier(n_estimators=500, learning_rate=0.2, max_depth=4, random_state = 32)\n",
    "skf = StratifiedKFold(n_splits=knum)\n",
    "max_acc, max_f1, max_auc = 0, 0, 0\n",
    "for train_index, test_index in skf.split(X, y):\n",
    "\tX_train, X_test = X.iloc[train_index], X.iloc[test_index]\n",
    "\ty_train, y_test = y.iloc[train_index], y.iloc[test_index]\n",
    "\ttrain(model, X_train, y_train)\n",
    "\ty_pred = model.predict(X_test)\n",
    "\t_, accuracy, _, _, F1, AUC = get_clf_eval(y_test, y_pred)\n",
    "\tif max_acc < accuracy:\n",
    "\t\tmax_acc = accuracy\n",
    "\t\twith open('models/max_acc.pickle','wb') as fw:\n",
    "\t\t\tpickle.dump(model, fw)\n",
    "\tif max_f1 < F1:\n",
    "\t\tmax_f1 = F1\n",
    "\t\twith open('models/max_f1.pickle','wb') as fw:\n",
    "\t\t\tpickle.dump(model, fw)\n",
    "\tif max_auc < AUC:\n",
    "\t\tmax_auc = AUC\n",
    "\t\twith open('models/max_auc.pickle','wb') as fw:\n",
    "\t\t\tpickle.dump(model, fw)\n"
   ],
   "metadata": {
    "collapsed": false,
    "pycharm": {
     "name": "#%%\n"
    },
    "ExecuteTime": {
     "end_time": "2024-07-23T05:49:34.383642Z",
     "start_time": "2024-07-23T05:49:30.843331Z"
    }
   },
   "outputs": [
    {
     "name": "stdout",
     "output_type": "stream",
     "text": [
      "오차행렬:\n",
      " [[25  0]\n",
      " [ 0 25]]\n",
      "\n",
      "정확도: 1.0000\n",
      "정밀도: 1.0000\n",
      "재현율: 1.0000\n",
      "F1: 1.0000\n",
      "AUC: 1.0000\n",
      "오차행렬:\n",
      " [[25  0]\n",
      " [ 0 25]]\n",
      "\n",
      "정확도: 1.0000\n",
      "정밀도: 1.0000\n",
      "재현율: 1.0000\n",
      "F1: 1.0000\n",
      "AUC: 1.0000\n",
      "오차행렬:\n",
      " [[25  0]\n",
      " [ 0 25]]\n",
      "\n",
      "정확도: 1.0000\n",
      "정밀도: 1.0000\n",
      "재현율: 1.0000\n",
      "F1: 1.0000\n",
      "AUC: 1.0000\n",
      "오차행렬:\n",
      " [[25  0]\n",
      " [ 0 25]]\n",
      "\n",
      "정확도: 1.0000\n",
      "정밀도: 1.0000\n",
      "재현율: 1.0000\n",
      "F1: 1.0000\n",
      "AUC: 1.0000\n",
      "오차행렬:\n",
      " [[25  0]\n",
      " [ 0 25]]\n",
      "\n",
      "정확도: 1.0000\n",
      "정밀도: 1.0000\n",
      "재현율: 1.0000\n",
      "F1: 1.0000\n",
      "AUC: 1.0000\n",
      "오차행렬:\n",
      " [[25  0]\n",
      " [ 0 25]]\n",
      "\n",
      "정확도: 1.0000\n",
      "정밀도: 1.0000\n",
      "재현율: 1.0000\n",
      "F1: 1.0000\n",
      "AUC: 1.0000\n",
      "오차행렬:\n",
      " [[25  0]\n",
      " [ 0 25]]\n",
      "\n",
      "정확도: 1.0000\n",
      "정밀도: 1.0000\n",
      "재현율: 1.0000\n",
      "F1: 1.0000\n",
      "AUC: 1.0000\n",
      "오차행렬:\n",
      " [[25  0]\n",
      " [ 0 25]]\n",
      "\n",
      "정확도: 1.0000\n",
      "정밀도: 1.0000\n",
      "재현율: 1.0000\n",
      "F1: 1.0000\n",
      "AUC: 1.0000\n",
      "오차행렬:\n",
      " [[25  0]\n",
      " [ 0 25]]\n",
      "\n",
      "정확도: 1.0000\n",
      "정밀도: 1.0000\n",
      "재현율: 1.0000\n",
      "F1: 1.0000\n",
      "AUC: 1.0000\n",
      "오차행렬:\n",
      " [[25  0]\n",
      " [ 0 25]]\n",
      "\n",
      "정확도: 1.0000\n",
      "정밀도: 1.0000\n",
      "재현율: 1.0000\n",
      "F1: 1.0000\n",
      "AUC: 1.0000\n"
     ]
    }
   ],
   "execution_count": 26
  }
 ],
 "metadata": {
  "kernelspec": {
   "display_name": "Python 3",
   "language": "python",
   "name": "python3"
  },
  "language_info": {
   "codemirror_mode": {
    "name": "ipython",
    "version": 2
   },
   "file_extension": ".py",
   "mimetype": "text/x-python",
   "name": "python",
   "nbconvert_exporter": "python",
   "pygments_lexer": "ipython2",
   "version": "2.7.6"
  }
 },
 "nbformat": 4,
 "nbformat_minor": 0
}
