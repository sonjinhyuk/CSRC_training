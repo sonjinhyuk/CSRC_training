{
 "cells": [
  {
   "cell_type": "code",
   "execution_count": 1,
   "metadata": {
    "collapsed": true
   },
   "outputs": [
    {
     "data": {
      "text/plain": "     Unnamed: 0       /JS  /OpenAction  /AcroForm  /Annot  /Length   /Filter  \\\n0      file_001  0.666667          1.0        NaN     1.0      NaN  0.666667   \n1      file_002  0.666667          1.0        NaN     1.0      NaN  0.666667   \n2      file_003  0.666667          1.0        NaN     1.0      NaN  0.666667   \n3      file_011  0.666667          1.0        NaN     1.0      NaN  0.666667   \n4      file_012  0.666667          1.0        NaN     1.0      NaN  0.666667   \n...         ...       ...          ...        ...     ...      ...       ...   \n2186  file_5336  0.666667          1.0        NaN     1.0      NaN  0.666667   \n2187  file_5337  0.000000          0.0        NaN     0.0      NaN  0.666667   \n2188  file_5341  0.666667          1.0        NaN     1.0      NaN  0.666667   \n2189  file_5342  0.000000          0.0        NaN     0.0      NaN  0.666667   \n2190  file_5343  0.666667          1.0        NaN     1.0      NaN  0.666667   \n\n      /FlateDecode  /XObject  /CreationDate  ...  eval  replace  fromCharCode  \\\n0         0.666667       0.0            0.0  ...   NaN      NaN           1.0   \n1         0.666667       0.0            0.0  ...   NaN      NaN           1.0   \n2         0.666667       0.0            0.0  ...   NaN      NaN           1.0   \n3         0.666667       0.0            0.0  ...   NaN      NaN           1.0   \n4         0.666667       0.0            0.0  ...   NaN      NaN           1.0   \n...            ...       ...            ...  ...   ...      ...           ...   \n2186      0.666667       0.0            0.0  ...   NaN      NaN           1.0   \n2187      0.333333       1.0            1.0  ...   NaN      NaN           0.0   \n2188      0.666667       0.0            0.0  ...   NaN      NaN           1.0   \n2189      0.666667       1.0            1.0  ...   NaN      NaN           0.0   \n2190      0.666667       0.0            0.0  ...   NaN      NaN           1.0   \n\n      getAnnots   ip  xref_size  trailer_size  file_size  nof_stream  class  \n0           1.0  0.0   0.333333      0.333333   0.074150       0.875    1.0  \n1           1.0  0.0   0.333333      0.333333   0.033158       1.000    1.0  \n2           1.0  0.0   0.333333      0.333333   0.033736       1.000    1.0  \n3           1.0  0.0   0.333333      0.333333   0.037542       1.000    1.0  \n4           1.0  0.0   0.333333      0.333333   0.082498       0.875    1.0  \n...         ...  ...        ...           ...        ...         ...    ...  \n2186        1.0  0.0   0.333333      0.333333   0.033395       1.000    1.0  \n2187        0.0  0.0   0.400000      0.500000   0.143468       0.375    0.0  \n2188        1.0  0.0   0.333333      0.333333   0.034405       1.000    1.0  \n2189        0.0  0.0   0.400000      0.500000   0.145757       0.500    0.0  \n2190        1.0  0.0   0.333333      0.333333   0.034815       1.000    1.0  \n\n[2191 rows x 31 columns]",
      "text/html": "<div>\n<style scoped>\n    .dataframe tbody tr th:only-of-type {\n        vertical-align: middle;\n    }\n\n    .dataframe tbody tr th {\n        vertical-align: top;\n    }\n\n    .dataframe thead th {\n        text-align: right;\n    }\n</style>\n<table border=\"1\" class=\"dataframe\">\n  <thead>\n    <tr style=\"text-align: right;\">\n      <th></th>\n      <th>Unnamed: 0</th>\n      <th>/JS</th>\n      <th>/OpenAction</th>\n      <th>/AcroForm</th>\n      <th>/Annot</th>\n      <th>/Length</th>\n      <th>/Filter</th>\n      <th>/FlateDecode</th>\n      <th>/XObject</th>\n      <th>/CreationDate</th>\n      <th>...</th>\n      <th>eval</th>\n      <th>replace</th>\n      <th>fromCharCode</th>\n      <th>getAnnots</th>\n      <th>ip</th>\n      <th>xref_size</th>\n      <th>trailer_size</th>\n      <th>file_size</th>\n      <th>nof_stream</th>\n      <th>class</th>\n    </tr>\n  </thead>\n  <tbody>\n    <tr>\n      <th>0</th>\n      <td>file_001</td>\n      <td>0.666667</td>\n      <td>1.0</td>\n      <td>NaN</td>\n      <td>1.0</td>\n      <td>NaN</td>\n      <td>0.666667</td>\n      <td>0.666667</td>\n      <td>0.0</td>\n      <td>0.0</td>\n      <td>...</td>\n      <td>NaN</td>\n      <td>NaN</td>\n      <td>1.0</td>\n      <td>1.0</td>\n      <td>0.0</td>\n      <td>0.333333</td>\n      <td>0.333333</td>\n      <td>0.074150</td>\n      <td>0.875</td>\n      <td>1.0</td>\n    </tr>\n    <tr>\n      <th>1</th>\n      <td>file_002</td>\n      <td>0.666667</td>\n      <td>1.0</td>\n      <td>NaN</td>\n      <td>1.0</td>\n      <td>NaN</td>\n      <td>0.666667</td>\n      <td>0.666667</td>\n      <td>0.0</td>\n      <td>0.0</td>\n      <td>...</td>\n      <td>NaN</td>\n      <td>NaN</td>\n      <td>1.0</td>\n      <td>1.0</td>\n      <td>0.0</td>\n      <td>0.333333</td>\n      <td>0.333333</td>\n      <td>0.033158</td>\n      <td>1.000</td>\n      <td>1.0</td>\n    </tr>\n    <tr>\n      <th>2</th>\n      <td>file_003</td>\n      <td>0.666667</td>\n      <td>1.0</td>\n      <td>NaN</td>\n      <td>1.0</td>\n      <td>NaN</td>\n      <td>0.666667</td>\n      <td>0.666667</td>\n      <td>0.0</td>\n      <td>0.0</td>\n      <td>...</td>\n      <td>NaN</td>\n      <td>NaN</td>\n      <td>1.0</td>\n      <td>1.0</td>\n      <td>0.0</td>\n      <td>0.333333</td>\n      <td>0.333333</td>\n      <td>0.033736</td>\n      <td>1.000</td>\n      <td>1.0</td>\n    </tr>\n    <tr>\n      <th>3</th>\n      <td>file_011</td>\n      <td>0.666667</td>\n      <td>1.0</td>\n      <td>NaN</td>\n      <td>1.0</td>\n      <td>NaN</td>\n      <td>0.666667</td>\n      <td>0.666667</td>\n      <td>0.0</td>\n      <td>0.0</td>\n      <td>...</td>\n      <td>NaN</td>\n      <td>NaN</td>\n      <td>1.0</td>\n      <td>1.0</td>\n      <td>0.0</td>\n      <td>0.333333</td>\n      <td>0.333333</td>\n      <td>0.037542</td>\n      <td>1.000</td>\n      <td>1.0</td>\n    </tr>\n    <tr>\n      <th>4</th>\n      <td>file_012</td>\n      <td>0.666667</td>\n      <td>1.0</td>\n      <td>NaN</td>\n      <td>1.0</td>\n      <td>NaN</td>\n      <td>0.666667</td>\n      <td>0.666667</td>\n      <td>0.0</td>\n      <td>0.0</td>\n      <td>...</td>\n      <td>NaN</td>\n      <td>NaN</td>\n      <td>1.0</td>\n      <td>1.0</td>\n      <td>0.0</td>\n      <td>0.333333</td>\n      <td>0.333333</td>\n      <td>0.082498</td>\n      <td>0.875</td>\n      <td>1.0</td>\n    </tr>\n    <tr>\n      <th>...</th>\n      <td>...</td>\n      <td>...</td>\n      <td>...</td>\n      <td>...</td>\n      <td>...</td>\n      <td>...</td>\n      <td>...</td>\n      <td>...</td>\n      <td>...</td>\n      <td>...</td>\n      <td>...</td>\n      <td>...</td>\n      <td>...</td>\n      <td>...</td>\n      <td>...</td>\n      <td>...</td>\n      <td>...</td>\n      <td>...</td>\n      <td>...</td>\n      <td>...</td>\n      <td>...</td>\n    </tr>\n    <tr>\n      <th>2186</th>\n      <td>file_5336</td>\n      <td>0.666667</td>\n      <td>1.0</td>\n      <td>NaN</td>\n      <td>1.0</td>\n      <td>NaN</td>\n      <td>0.666667</td>\n      <td>0.666667</td>\n      <td>0.0</td>\n      <td>0.0</td>\n      <td>...</td>\n      <td>NaN</td>\n      <td>NaN</td>\n      <td>1.0</td>\n      <td>1.0</td>\n      <td>0.0</td>\n      <td>0.333333</td>\n      <td>0.333333</td>\n      <td>0.033395</td>\n      <td>1.000</td>\n      <td>1.0</td>\n    </tr>\n    <tr>\n      <th>2187</th>\n      <td>file_5337</td>\n      <td>0.000000</td>\n      <td>0.0</td>\n      <td>NaN</td>\n      <td>0.0</td>\n      <td>NaN</td>\n      <td>0.666667</td>\n      <td>0.333333</td>\n      <td>1.0</td>\n      <td>1.0</td>\n      <td>...</td>\n      <td>NaN</td>\n      <td>NaN</td>\n      <td>0.0</td>\n      <td>0.0</td>\n      <td>0.0</td>\n      <td>0.400000</td>\n      <td>0.500000</td>\n      <td>0.143468</td>\n      <td>0.375</td>\n      <td>0.0</td>\n    </tr>\n    <tr>\n      <th>2188</th>\n      <td>file_5341</td>\n      <td>0.666667</td>\n      <td>1.0</td>\n      <td>NaN</td>\n      <td>1.0</td>\n      <td>NaN</td>\n      <td>0.666667</td>\n      <td>0.666667</td>\n      <td>0.0</td>\n      <td>0.0</td>\n      <td>...</td>\n      <td>NaN</td>\n      <td>NaN</td>\n      <td>1.0</td>\n      <td>1.0</td>\n      <td>0.0</td>\n      <td>0.333333</td>\n      <td>0.333333</td>\n      <td>0.034405</td>\n      <td>1.000</td>\n      <td>1.0</td>\n    </tr>\n    <tr>\n      <th>2189</th>\n      <td>file_5342</td>\n      <td>0.000000</td>\n      <td>0.0</td>\n      <td>NaN</td>\n      <td>0.0</td>\n      <td>NaN</td>\n      <td>0.666667</td>\n      <td>0.666667</td>\n      <td>1.0</td>\n      <td>1.0</td>\n      <td>...</td>\n      <td>NaN</td>\n      <td>NaN</td>\n      <td>0.0</td>\n      <td>0.0</td>\n      <td>0.0</td>\n      <td>0.400000</td>\n      <td>0.500000</td>\n      <td>0.145757</td>\n      <td>0.500</td>\n      <td>0.0</td>\n    </tr>\n    <tr>\n      <th>2190</th>\n      <td>file_5343</td>\n      <td>0.666667</td>\n      <td>1.0</td>\n      <td>NaN</td>\n      <td>1.0</td>\n      <td>NaN</td>\n      <td>0.666667</td>\n      <td>0.666667</td>\n      <td>0.0</td>\n      <td>0.0</td>\n      <td>...</td>\n      <td>NaN</td>\n      <td>NaN</td>\n      <td>1.0</td>\n      <td>1.0</td>\n      <td>0.0</td>\n      <td>0.333333</td>\n      <td>0.333333</td>\n      <td>0.034815</td>\n      <td>1.000</td>\n      <td>1.0</td>\n    </tr>\n  </tbody>\n</table>\n<p>2191 rows × 31 columns</p>\n</div>"
     },
     "execution_count": 1,
     "metadata": {},
     "output_type": "execute_result"
    }
   ],
   "source": [
    "import pandas as pd\n",
    "df = pd.read_csv(\"../pre_train.csv\")\n",
    "df"
   ]
  },
  {
   "cell_type": "markdown",
   "source": [
    "#model import\n",
    "- n_estimators : 학습 모델의 수, 많아질수록 성능 향상의 가능성이 있으나, 속도가 느려짐\n",
    "- learning_rate : 학습률, 너무 크면 gradient 발산의 가능성이 있으며, 너무 작으면 학습이 느림\n",
    "- max_depth : 최대 탐색 깊이, 너무 크면 과적합의 가능성, 너무 작으면 학습 성능 저하\n",
    "- min_samples_split : 분할 종료 최소 샘플 수, 큰 수면 과적합을 막지만 학습 성능 저하 가능성\n",
    "- min_samples_leaf : leaf node가 되기 위한 최소 샘플 수, min_samples_split과 비슷한 용도\n",
    "- random_state : 특정 숫자로 고정 시에 실행 시마다 고정된 결과 반환"
   ],
   "metadata": {
    "collapsed": false,
    "pycharm": {
     "name": "#%% md\n"
    }
   }
  },
  {
   "cell_type": "code",
   "execution_count": 3,
   "outputs": [],
   "source": [
    "from xgboost import XGBClassifier\n",
    "model = XGBClassifier(n_estimators=500, learning_rate=0.2, max_depth=4, random_state = 32)"
   ],
   "metadata": {
    "collapsed": false,
    "pycharm": {
     "name": "#%%\n"
    }
   }
  },
  {
   "cell_type": "code",
   "execution_count": 8,
   "outputs": [],
   "source": [
    "X = df.iloc[:, :-1]\n",
    "y = df.iloc[:, -1]\n",
    "\n"
   ],
   "metadata": {
    "collapsed": false,
    "pycharm": {
     "name": "#%%\n"
    }
   }
  },
  {
   "cell_type": "code",
   "execution_count": 9,
   "outputs": [
    {
     "name": "stdout",
     "output_type": "stream",
     "text": [
      "     Unnamed: 0       /JS  /OpenAction  /AcroForm  /Annot  /Length   /Filter  \\\n",
      "0      file_001  0.666667          1.0        NaN     1.0      NaN  0.666667   \n",
      "1      file_002  0.666667          1.0        NaN     1.0      NaN  0.666667   \n",
      "2      file_003  0.666667          1.0        NaN     1.0      NaN  0.666667   \n",
      "3      file_011  0.666667          1.0        NaN     1.0      NaN  0.666667   \n",
      "4      file_012  0.666667          1.0        NaN     1.0      NaN  0.666667   \n",
      "...         ...       ...          ...        ...     ...      ...       ...   \n",
      "2186  file_5336  0.666667          1.0        NaN     1.0      NaN  0.666667   \n",
      "2187  file_5337  0.000000          0.0        NaN     0.0      NaN  0.666667   \n",
      "2188  file_5341  0.666667          1.0        NaN     1.0      NaN  0.666667   \n",
      "2189  file_5342  0.000000          0.0        NaN     0.0      NaN  0.666667   \n",
      "2190  file_5343  0.666667          1.0        NaN     1.0      NaN  0.666667   \n",
      "\n",
      "      /FlateDecode  /XObject  /CreationDate  ...  temptmp  eval  replace  \\\n",
      "0         0.666667       0.0            0.0  ...      NaN   NaN      NaN   \n",
      "1         0.666667       0.0            0.0  ...      NaN   NaN      NaN   \n",
      "2         0.666667       0.0            0.0  ...      NaN   NaN      NaN   \n",
      "3         0.666667       0.0            0.0  ...      NaN   NaN      NaN   \n",
      "4         0.666667       0.0            0.0  ...      NaN   NaN      NaN   \n",
      "...            ...       ...            ...  ...      ...   ...      ...   \n",
      "2186      0.666667       0.0            0.0  ...      NaN   NaN      NaN   \n",
      "2187      0.333333       1.0            1.0  ...      NaN   NaN      NaN   \n",
      "2188      0.666667       0.0            0.0  ...      NaN   NaN      NaN   \n",
      "2189      0.666667       1.0            1.0  ...      NaN   NaN      NaN   \n",
      "2190      0.666667       0.0            0.0  ...      NaN   NaN      NaN   \n",
      "\n",
      "      fromCharCode  getAnnots   ip  xref_size  trailer_size  file_size  \\\n",
      "0              1.0        1.0  0.0   0.333333      0.333333   0.074150   \n",
      "1              1.0        1.0  0.0   0.333333      0.333333   0.033158   \n",
      "2              1.0        1.0  0.0   0.333333      0.333333   0.033736   \n",
      "3              1.0        1.0  0.0   0.333333      0.333333   0.037542   \n",
      "4              1.0        1.0  0.0   0.333333      0.333333   0.082498   \n",
      "...            ...        ...  ...        ...           ...        ...   \n",
      "2186           1.0        1.0  0.0   0.333333      0.333333   0.033395   \n",
      "2187           0.0        0.0  0.0   0.400000      0.500000   0.143468   \n",
      "2188           1.0        1.0  0.0   0.333333      0.333333   0.034405   \n",
      "2189           0.0        0.0  0.0   0.400000      0.500000   0.145757   \n",
      "2190           1.0        1.0  0.0   0.333333      0.333333   0.034815   \n",
      "\n",
      "      nof_stream  \n",
      "0          0.875  \n",
      "1          1.000  \n",
      "2          1.000  \n",
      "3          1.000  \n",
      "4          0.875  \n",
      "...          ...  \n",
      "2186       1.000  \n",
      "2187       0.375  \n",
      "2188       1.000  \n",
      "2189       0.500  \n",
      "2190       1.000  \n",
      "\n",
      "[2191 rows x 30 columns]\n",
      "0       1.0\n",
      "1       1.0\n",
      "2       1.0\n",
      "3       1.0\n",
      "4       1.0\n",
      "       ... \n",
      "2186    1.0\n",
      "2187    0.0\n",
      "2188    1.0\n",
      "2189    0.0\n",
      "2190    1.0\n",
      "Name: class, Length: 2191, dtype: float64\n"
     ]
    }
   ],
   "source": [
    "print(X)\n",
    "print(y)"
   ],
   "metadata": {
    "collapsed": false,
    "pycharm": {
     "name": "#%%\n"
    }
   }
  },
  {
   "cell_type": "code",
   "execution_count": null,
   "outputs": [],
   "source": [
    "# 모델 학습\n",
    "model.fit(X, y)"
   ],
   "metadata": {
    "collapsed": false,
    "pycharm": {
     "name": "#%%\n"
    }
   }
  },
  {
   "cell_type": "code",
   "execution_count": 6,
   "outputs": [
    {
     "ename": "NotFittedError",
     "evalue": "need to call fit or load_model beforehand",
     "output_type": "error",
     "traceback": [
      "\u001B[0;31m---------------------------------------------------------------------------\u001B[0m",
      "\u001B[0;31mNotFittedError\u001B[0m                            Traceback (most recent call last)",
      "Cell \u001B[0;32mIn[6], line 2\u001B[0m\n\u001B[1;32m      1\u001B[0m \u001B[38;5;28;01mfrom\u001B[39;00m \u001B[38;5;21;01msklearn\u001B[39;00m\u001B[38;5;21;01m.\u001B[39;00m\u001B[38;5;21;01mmetrics\u001B[39;00m \u001B[38;5;28;01mimport\u001B[39;00m accuracy_score\n\u001B[0;32m----> 2\u001B[0m y \u001B[38;5;241m=\u001B[39m \u001B[43mmodel\u001B[49m\u001B[38;5;241;43m.\u001B[39;49m\u001B[43mpredict\u001B[49m\u001B[43m(\u001B[49m\u001B[43mX\u001B[49m\u001B[43m)\u001B[49m \n",
      "File \u001B[0;32m~/workspace/isc_training/venv/lib/python3.9/site-packages/xgboost/sklearn.py:1565\u001B[0m, in \u001B[0;36mXGBClassifier.predict\u001B[0;34m(self, X, output_margin, validate_features, base_margin, iteration_range)\u001B[0m\n\u001B[1;32m   1556\u001B[0m \u001B[38;5;28;01mdef\u001B[39;00m \u001B[38;5;21mpredict\u001B[39m(\n\u001B[1;32m   1557\u001B[0m     \u001B[38;5;28mself\u001B[39m,\n\u001B[1;32m   1558\u001B[0m     X: ArrayLike,\n\u001B[0;32m   (...)\u001B[0m\n\u001B[1;32m   1562\u001B[0m     iteration_range: Optional[IterationRange] \u001B[38;5;241m=\u001B[39m \u001B[38;5;28;01mNone\u001B[39;00m,\n\u001B[1;32m   1563\u001B[0m ) \u001B[38;5;241m-\u001B[39m\u001B[38;5;241m>\u001B[39m ArrayLike:\n\u001B[1;32m   1564\u001B[0m     \u001B[38;5;28;01mwith\u001B[39;00m config_context(verbosity\u001B[38;5;241m=\u001B[39m\u001B[38;5;28mself\u001B[39m\u001B[38;5;241m.\u001B[39mverbosity):\n\u001B[0;32m-> 1565\u001B[0m         class_probs \u001B[38;5;241m=\u001B[39m \u001B[38;5;28;43msuper\u001B[39;49m\u001B[43m(\u001B[49m\u001B[43m)\u001B[49m\u001B[38;5;241;43m.\u001B[39;49m\u001B[43mpredict\u001B[49m\u001B[43m(\u001B[49m\n\u001B[1;32m   1566\u001B[0m \u001B[43m            \u001B[49m\u001B[43mX\u001B[49m\u001B[38;5;241;43m=\u001B[39;49m\u001B[43mX\u001B[49m\u001B[43m,\u001B[49m\n\u001B[1;32m   1567\u001B[0m \u001B[43m            \u001B[49m\u001B[43moutput_margin\u001B[49m\u001B[38;5;241;43m=\u001B[39;49m\u001B[43moutput_margin\u001B[49m\u001B[43m,\u001B[49m\n\u001B[1;32m   1568\u001B[0m \u001B[43m            \u001B[49m\u001B[43mvalidate_features\u001B[49m\u001B[38;5;241;43m=\u001B[39;49m\u001B[43mvalidate_features\u001B[49m\u001B[43m,\u001B[49m\n\u001B[1;32m   1569\u001B[0m \u001B[43m            \u001B[49m\u001B[43mbase_margin\u001B[49m\u001B[38;5;241;43m=\u001B[39;49m\u001B[43mbase_margin\u001B[49m\u001B[43m,\u001B[49m\n\u001B[1;32m   1570\u001B[0m \u001B[43m            \u001B[49m\u001B[43miteration_range\u001B[49m\u001B[38;5;241;43m=\u001B[39;49m\u001B[43miteration_range\u001B[49m\u001B[43m,\u001B[49m\n\u001B[1;32m   1571\u001B[0m \u001B[43m        \u001B[49m\u001B[43m)\u001B[49m\n\u001B[1;32m   1572\u001B[0m         \u001B[38;5;28;01mif\u001B[39;00m output_margin:\n\u001B[1;32m   1573\u001B[0m             \u001B[38;5;66;03m# If output_margin is active, simply return the scores\u001B[39;00m\n\u001B[1;32m   1574\u001B[0m             \u001B[38;5;28;01mreturn\u001B[39;00m class_probs\n",
      "File \u001B[0;32m~/workspace/isc_training/venv/lib/python3.9/site-packages/xgboost/sklearn.py:1186\u001B[0m, in \u001B[0;36mXGBModel.predict\u001B[0;34m(self, X, output_margin, validate_features, base_margin, iteration_range)\u001B[0m\n\u001B[1;32m   1184\u001B[0m \u001B[38;5;28;01mif\u001B[39;00m \u001B[38;5;28mself\u001B[39m\u001B[38;5;241m.\u001B[39m_can_use_inplace_predict():\n\u001B[1;32m   1185\u001B[0m     \u001B[38;5;28;01mtry\u001B[39;00m:\n\u001B[0;32m-> 1186\u001B[0m         predts \u001B[38;5;241m=\u001B[39m \u001B[38;5;28;43mself\u001B[39;49m\u001B[38;5;241;43m.\u001B[39;49m\u001B[43mget_booster\u001B[49m\u001B[43m(\u001B[49m\u001B[43m)\u001B[49m\u001B[38;5;241m.\u001B[39minplace_predict(\n\u001B[1;32m   1187\u001B[0m             data\u001B[38;5;241m=\u001B[39mX,\n\u001B[1;32m   1188\u001B[0m             iteration_range\u001B[38;5;241m=\u001B[39miteration_range,\n\u001B[1;32m   1189\u001B[0m             predict_type\u001B[38;5;241m=\u001B[39m\u001B[38;5;124m\"\u001B[39m\u001B[38;5;124mmargin\u001B[39m\u001B[38;5;124m\"\u001B[39m \u001B[38;5;28;01mif\u001B[39;00m output_margin \u001B[38;5;28;01melse\u001B[39;00m \u001B[38;5;124m\"\u001B[39m\u001B[38;5;124mvalue\u001B[39m\u001B[38;5;124m\"\u001B[39m,\n\u001B[1;32m   1190\u001B[0m             missing\u001B[38;5;241m=\u001B[39m\u001B[38;5;28mself\u001B[39m\u001B[38;5;241m.\u001B[39mmissing,\n\u001B[1;32m   1191\u001B[0m             base_margin\u001B[38;5;241m=\u001B[39mbase_margin,\n\u001B[1;32m   1192\u001B[0m             validate_features\u001B[38;5;241m=\u001B[39mvalidate_features,\n\u001B[1;32m   1193\u001B[0m         )\n\u001B[1;32m   1194\u001B[0m         \u001B[38;5;28;01mif\u001B[39;00m _is_cupy_alike(predts):\n\u001B[1;32m   1195\u001B[0m             \u001B[38;5;28;01mimport\u001B[39;00m \u001B[38;5;21;01mcupy\u001B[39;00m  \u001B[38;5;66;03m# pylint: disable=import-error\u001B[39;00m\n",
      "File \u001B[0;32m~/workspace/isc_training/venv/lib/python3.9/site-packages/xgboost/sklearn.py:805\u001B[0m, in \u001B[0;36mXGBModel.get_booster\u001B[0;34m(self)\u001B[0m\n\u001B[1;32m    802\u001B[0m \u001B[38;5;28;01mif\u001B[39;00m \u001B[38;5;129;01mnot\u001B[39;00m \u001B[38;5;28mself\u001B[39m\u001B[38;5;241m.\u001B[39m__sklearn_is_fitted__():\n\u001B[1;32m    803\u001B[0m     \u001B[38;5;28;01mfrom\u001B[39;00m \u001B[38;5;21;01msklearn\u001B[39;00m\u001B[38;5;21;01m.\u001B[39;00m\u001B[38;5;21;01mexceptions\u001B[39;00m \u001B[38;5;28;01mimport\u001B[39;00m NotFittedError\n\u001B[0;32m--> 805\u001B[0m     \u001B[38;5;28;01mraise\u001B[39;00m NotFittedError(\u001B[38;5;124m\"\u001B[39m\u001B[38;5;124mneed to call fit or load_model beforehand\u001B[39m\u001B[38;5;124m\"\u001B[39m)\n\u001B[1;32m    806\u001B[0m \u001B[38;5;28;01mreturn\u001B[39;00m \u001B[38;5;28mself\u001B[39m\u001B[38;5;241m.\u001B[39m_Booster\n",
      "\u001B[0;31mNotFittedError\u001B[0m: need to call fit or load_model beforehand"
     ]
    }
   ],
   "source": [
    "from sklearn.metrics import accuracy_score\n",
    "y = model.predict(X)"
   ],
   "metadata": {
    "collapsed": false,
    "pycharm": {
     "name": "#%%\n"
    }
   }
  }
 ],
 "metadata": {
  "kernelspec": {
   "display_name": "Python 3",
   "language": "python",
   "name": "python3"
  },
  "language_info": {
   "codemirror_mode": {
    "name": "ipython",
    "version": 2
   },
   "file_extension": ".py",
   "mimetype": "text/x-python",
   "name": "python",
   "nbconvert_exporter": "python",
   "pygments_lexer": "ipython2",
   "version": "2.7.6"
  }
 },
 "nbformat": 4,
 "nbformat_minor": 0
}