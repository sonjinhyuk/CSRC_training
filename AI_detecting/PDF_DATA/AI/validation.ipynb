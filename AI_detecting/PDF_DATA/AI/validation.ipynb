{
 "cells": [
  {
   "cell_type": "code",
   "id": "initial_id",
   "metadata": {
    "collapsed": true
   },
   "source": [
    "import pickle\n",
    "import joblib\n",
    "import pandas as pd\n",
    "df = pd.read_csv(\"../train_scaled.csv\", index_col=0)\n",
    "validation_df = pd.read_csv(\"../validation.csv\", index_col=0)\n",
    "scaler_model = joblib.load(open(\"../scaler.save\", \"rb\"))\n",
    "model = pickle.load(open(\"../models/max_f1.pickle\", \"rb\"))\n"
   ],
   "outputs": [],
   "execution_count": null
  },
  {
   "metadata": {},
   "cell_type": "code",
   "source": [
    "validation_df_X = scaler_model.transform(validation_df.iloc[:, :-1])\n",
    "validation_df_X"
   ],
   "id": "ece9238b2f0b9cdc",
   "outputs": [],
   "execution_count": null
  },
  {
   "metadata": {},
   "cell_type": "code",
   "source": "validation_df_y = validation_df.iloc[:, -1]",
   "id": "ac1f0b527e16215a",
   "outputs": [],
   "execution_count": null
  },
  {
   "metadata": {},
   "cell_type": "code",
   "source": "model.score(validation_df_X, validation_df_y)",
   "id": "dcf79f80d576fdd2",
   "outputs": [],
   "execution_count": null
  }
 ],
 "metadata": {
  "kernelspec": {
   "display_name": "Python 3",
   "language": "python",
   "name": "python3"
  },
  "language_info": {
   "codemirror_mode": {
    "name": "ipython",
    "version": 2
   },
   "file_extension": ".py",
   "mimetype": "text/x-python",
   "name": "python",
   "nbconvert_exporter": "python",
   "pygments_lexer": "ipython2",
   "version": "2.7.6"
  }
 },
 "nbformat": 4,
 "nbformat_minor": 5
}
