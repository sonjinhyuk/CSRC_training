{
 "cells": [
  {
   "cell_type": "code",
   "metadata": {
    "collapsed": true
   },
   "source": [
    "import pickle\n",
    "import pandas as pd\n",
    "df = pd.read_csv(\"../train_scaled.csv\", index_col=0)\n",
    "df\n",
    "X, y = df.iloc[:, :-1], df.iloc[:, -1]"
   ],
   "outputs": [],
   "execution_count": null
  },
  {
   "metadata": {},
   "cell_type": "code",
   "source": "X",
   "outputs": [],
   "execution_count": null
  },
  {
   "metadata": {},
   "cell_type": "code",
   "source": "y",
   "outputs": [],
   "execution_count": null
  },
  {
   "metadata": {},
   "cell_type": "code",
   "source": "y.value_counts()",
   "outputs": [],
   "execution_count": null
  },
  {
   "metadata": {},
   "cell_type": "code",
   "source": "model = pickle.load(open(\"../models/max_f1.pickle\", \"rb\"))",
   "outputs": [],
   "execution_count": null
  },
  {
   "metadata": {},
   "cell_type": "markdown",
   "source": "# 1. Feature Importance"
  },
  {
   "metadata": {},
   "cell_type": "code",
   "source": [
    "feature_importance_df = pd.DataFrame(model.feature_importances_, index=X.columns, columns=[\"importance\"])\n",
    "feature_importance_df\n",
    "feature_importance_df.plot.bar()"
   ],
   "outputs": [],
   "execution_count": null
  },
  {
   "metadata": {},
   "cell_type": "markdown",
   "source": "# 2. SHAP(global)"
  },
  {
   "metadata": {},
   "cell_type": "code",
   "source": [
    "import shap\n",
    "shap.initjs()\n",
    "# explainer = shap.TreeExplainer(model)\n",
    "explainer = shap.Explainer(model, X)\n",
    "shap_values = explainer(X)\n",
    "shap.summary_plot(shap_values, X)"
   ],
   "outputs": [],
   "execution_count": null
  },
  {
   "metadata": {},
   "cell_type": "markdown",
   "source": "# 2. SHAP(Local)"
  },
  {
   "metadata": {},
   "cell_type": "code",
   "source": [
    "shap.plots.bar(shap_values[0])\n",
    "shap.plots.bar(shap_values[100])"
   ],
   "outputs": [],
   "execution_count": null
  }
 ],
 "metadata": {
  "kernelspec": {
   "display_name": "Python 3",
   "language": "python",
   "name": "python3"
  },
  "language_info": {
   "codemirror_mode": {
    "name": "ipython",
    "version": 2
   },
   "file_extension": ".py",
   "mimetype": "text/x-python",
   "name": "python",
   "nbconvert_exporter": "python",
   "pygments_lexer": "ipython2",
   "version": "2.7.6"
  }
 },
 "nbformat": 4,
 "nbformat_minor": 0
}
