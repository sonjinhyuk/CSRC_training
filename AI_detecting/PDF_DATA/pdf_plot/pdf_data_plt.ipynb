{
 "cells": [
  {
   "cell_type": "markdown",
   "source": [
    "# PDF 데이터를 활용한 그래프 그리기"
   ],
   "metadata": {
    "collapsed": false,
    "pycharm": {
     "name": "#%% md\n"
    }
   }
  },
  {
   "cell_type": "code",
   "source": [
    "import matplotlib.pyplot as plt # matplotlib 패키지의 pyplot 모듈\n",
    "import pandas as pd\n",
    "import seaborn as sns"
   ],
   "metadata": {
    "collapsed": false,
    "pycharm": {
     "name": "#%%\n"
    }
   },
   "outputs": [],
   "execution_count": null
  },
  {
   "cell_type": "code",
   "source": [
    "df = pd.read_csv(\"../../Data/origin_data.csv\", index_col=0)\n",
    "df"
   ],
   "metadata": {
    "collapsed": false,
    "pycharm": {
     "name": "#%%\n"
    }
   },
   "outputs": [],
   "execution_count": null
  },
  {
   "cell_type": "markdown",
   "source": [
    "## 통계적 검증\n",
    "### 귀무가설(Null Hypothesis, H0)\t\n",
    "- 연구나 실험에서 처음에 세우는 기본 가설로, 보통 \"차이가 없다\" 또는 \"효과가 없다\"는 주장을 의미합니다. \n",
    "- 예를 들어, 새로운 약물이 기존 약물과 효과에 차이가 없다는 가설이 귀무 가설이 될 수 있습니다. 통계적 검정을 통해 귀무 가설이 기각될지 여부를 판단합니다.\n",
    "- ex) 귀무 가설: 새로운 교육 방법이 기존 방법과 성적에 차이가 없다.\n",
    "### 대립가설(Alternative Hypothesis, H1)\t\n",
    "- 귀무 가설과 반대되는 가설로, \"차이가 있다\" 또는 \"효과가 있다\"는 주장을 포함합니다. \n",
    "- 예를 들어, 새로운 약물이 기존 약물보다 효과가 더 좋다는 가설이 대립 가설이 될 수 있습니다.\n",
    "- ex) 대립 가설: 새로운 교육 방법이 기존 방법보다 성적이 더 높다.\n",
    "\n",
    "### P-value \n",
    "- p-value는 통계적 검정에서 중요한 개념으로, 귀무 가설이 참이라는 가정 하에, 현재 관측된 데이터 또는 그보다 더 극단적인 결과가 나올 확률을 의미\n",
    "- p-value는 우리가 귀무 가설을 기각할지 여부를 결정하는 데 도움을 줍니다.\n",
    "- p-value가 작을수록 현재 데이터가 귀무 가설을 지지할 가능성이 적다는 것을 의미하며, 귀무 가설을 기각할 가능성이 높아집니다.\n",
    "- p-value가 낮으면 (보통 0.05 이하) 귀무 가설을 기각하고, p-value가 높으면 귀무 가설을 기각하지 않음으로 결론을 내립니다.\n",
    "\n"
   ],
   "metadata": {
    "collapsed": false,
    "pycharm": {
     "name": "#%% md\n"
    }
   }
  },
  {
   "cell_type": "code",
   "source": "import scipy.stats as stats",
   "metadata": {
    "collapsed": false,
    "pycharm": {
     "name": "#%%\n"
    }
   },
   "outputs": [],
   "execution_count": null
  },
  {
   "metadata": {},
   "cell_type": "markdown",
   "source": [
    "# 정규성 검정(Normality Test)\n",
    "정규성 검정이란?\n",
    "정규성 검정은 주어진 표본이 정규 분포를 따르는지를 검정하는 통계적 방법론입니다. 정규성 검정은 데이터 분석을 위한 전제 조건 중 하나로, 데이터가 정규 분포를 따르는지 여부를 확인하는 것이 중요합니다. 데이터가 정규 분포를 따르지 않는다면, 비모수적인 방법을 사용해야 합니다.\n",
    "Anderson-Darling 검정과 Shapiro-Wilk 검정은 모두 데이터가 정규분포(가우시안 분포)를 따르는지를 확인하기 위한 정규성 검정(normality test)입니다. 두 검정은 서로 다른 방법론을 사용하지만, 같은 목표를 가지고 있습니다.\n",
    "- 정규성 검정 종류\n",
    "    - 앤더슨 달링 검정 (Anderson-Darling test)\n",
    "    - 통계적 검정(Shapiro-Wilk test)"
   ]
  },
  {
   "metadata": {},
   "cell_type": "code",
   "source": [
    "from scipy.stats import anderson, shapiro\n",
    "columns = df.columns\n",
    "for col in columns:\n",
    "    data = df[col]\n",
    "    anderson_result = anderson(data)\n",
    "    stat, p_value  = shapiro(data)\n",
    "    print(f\"-------------------{col}-------------------\")\n",
    "    print(f\"shapiro 통계치: {stat}\")#통계량이 1에 가까울수록 데이터가 정규분포를 따를 가능성이 높습니다.\n",
    "    print(f\"shapiro p_value: {p_value}\")#일반적으로 p-value가 사전에 설정된 유의 수준(보통 0.05)보다 작으면, 데이터가 정규분포를 따르지 않는다고 결론을 내립니다.\n",
    "    \n",
    "    print(f'검정 통계치 : {anderson_result.statistic}')#이 값이 클수록 데이터가 설정한 분포(예: 정규분포)로부터 더 많이 벗어난다는 의미입니다.\n",
    "    print(f'임계지점의 통계치 : {anderson_result.critical_values}')#이 값들은 특정 유의 수준(significance level)에 대응합니다. 예를 들어, 15%, 10%, 5%, 2.5%, 1%의 유의 수준에서 각각의 임계값이 제시됩니다.\n",
    "    print(f'각 임계 지점의 P-value : {anderson_result.significance_level}')#각각의 임계값에 해당하는 유의 수준입니다. 이 값들은 보통 15%, 10%, 5%, 2.5%, 1%로 제공됩니다.\n",
    "    print()\n"
   ],
   "outputs": [],
   "execution_count": null
  },
  {
   "metadata": {},
   "cell_type": "markdown",
   "source": [
    "- 데이터 분포에 따른 왜도, 첨도\n",
    "- 왜도\n",
    "    - 분포의 비대칭도\n",
    "    - 정규분포 = 왜도 0\n",
    "    - 왼쪽으로 치우침 = 왜도 > 0\n",
    "    - 오른쪽으로 치우침 = 왜도 < 0\n",
    "- 첨도\n",
    "    - 확률분포의 뾰족한 정도\n",
    "    - 정규분포 = 첨도 0(Pearson 첨도 = 3)\n",
    "    - 위로 뾰족함 = 첨도 > 0(Pearson 첨도 >3)\n",
    "    - 아래로 뾰족함 = 첨도 < 0 (Pearson 첨도 < 3)"
   ]
  },
  {
   "metadata": {},
   "cell_type": "code",
   "source": [
    "from scipy.stats import skew, kurtosis\n",
    "print(skew(df['/JS']))\n",
    "print(kurtosis(df['/JS'], fisher=True))"
   ],
   "outputs": [],
   "execution_count": null
  },
  {
   "metadata": {},
   "cell_type": "markdown",
   "source": "![skew,kurtosis](https://img1.daumcdn.net/thumb/R1280x0/?scode=mtistory2&fname=https%3A%2F%2Fblog.kakaocdn.net%2Fdn%2FbydVNd%2FbtqJPCBsLAp%2FTBQGpvVfBThfmYuMtSXTmk%2Fimg.jpg)"
  },
  {
   "cell_type": "markdown",
   "source": [
    "## feature별 분포 확인"
   ],
   "metadata": {
    "collapsed": false
   }
  },
  {
   "cell_type": "code",
   "source": [
    "import seaborn as sns"
   ],
   "metadata": {
    "collapsed": false,
    "pycharm": {
     "name": "#%%\n"
    }
   },
   "outputs": [],
   "execution_count": null
  },
  {
   "cell_type": "code",
   "source": [
    "sns.displot(df['/JS'])\n",
    "sns.displot(df['/AA'])"
   ],
   "metadata": {
    "collapsed": false,
    "pycharm": {
     "name": "#%%\n"
    }
   },
   "outputs": [],
   "execution_count": null
  },
  {
   "metadata": {},
   "cell_type": "markdown",
   "source": [
    "# Q-Q plot\n",
    "(osm, osr): 이론적 분포의 분위수(osm)와 실제 데이터(osr)의 분위수입니다. 이 값들을 비교해서 Q-Q 플롯을 그리게 됩니다.\n",
    "\n",
    "(slope, intercept, r): 데이터와 이론적 분포 간의 직선에 대한 기울기(slope), 절편(intercept), 그리고 결정 계수(r), 즉 상관계수입니다.\n",
    "\n",
    "slope: 직선의 기울기.\n",
    "intercept: 직선의 절편.\n",
    "r: 데이터가 직선을 얼마나 잘 따르는지 나타내는 상관계수로, 1에 가까울수록 데이터가 정규분포에 더 가깝다는 것을 의미합니다."
   ]
  },
  {
   "cell_type": "code",
   "source": [
    "stats.probplot(df['/JS'], plot=plt)"
   ],
   "metadata": {
    "collapsed": false,
    "pycharm": {
     "name": "#%%\n"
    }
   },
   "outputs": [],
   "execution_count": null
  },
  {
   "cell_type": "markdown",
   "source": "",
   "metadata": {
    "collapsed": false,
    "pycharm": {
     "name": "#%% md\n"
    }
   }
  },
  {
   "cell_type": "markdown",
   "source": [
    "## 데이터 분포 및 qq-plot 확인"
   ],
   "metadata": {
    "collapsed": false,
    "pycharm": {
     "name": "#%% md\n"
    }
   }
  },
  {
   "cell_type": "code",
   "source": [
    "columns = df.columns\n",
    "plt.clf()\n",
    "for col in columns:\n",
    "    data = df[col]\n",
    "    fig, ax = plt.subplots(2, 1)\n",
    "    ax1 = plt.subplot(211)\n",
    "    sns.histplot(data, ax=ax[0],kde=True)\n",
    "    ax2 = plt.subplot(212)\n",
    "    stats.probplot(data, plot=plt)\n",
    "    fig.suptitle(col)\n",
    "    plt.show()\n",
    "    plt.clf()"
   ],
   "metadata": {
    "collapsed": false,
    "pycharm": {
     "name": "#%%\n"
    }
   },
   "outputs": [],
   "execution_count": null
  },
  {
   "cell_type": "markdown",
   "source": [
    "## box plot"
   ],
   "metadata": {
    "collapsed": false,
    "pycharm": {
     "name": "#%% md\n"
    }
   }
  },
  {
   "metadata": {},
   "cell_type": "code",
   "source": [
    "columns = df.columns\n",
    "for col in columns[:5]:\n",
    "    data = df[col]\n",
    "    fig, ax = plt.subplots(2, 1)\n",
    "    ax[0].boxplot(data)\n",
    "    stats.probplot(data, plot=plt)\n",
    "    fig.suptitle(col)\n",
    "    plt.show()\n",
    "    plt.clf()"
   ],
   "outputs": [],
   "execution_count": null
  },
  {
   "metadata": {},
   "cell_type": "markdown",
   "source": "# 중복 데이터 삭제"
  },
  {
   "metadata": {},
   "cell_type": "code",
   "source": [
    "drop_columns = []\n",
    "for c in df.columns:\n",
    "    if df[c].nunique() == 1:\n",
    "        drop_columns.append(c)\n",
    "\n",
    "print(drop_columns)\n",
    "df = df.drop(drop_columns, axis=1)\n",
    "columns = df.columns"
   ],
   "outputs": [],
   "execution_count": null
  },
  {
   "cell_type": "markdown",
   "source": [
    "## 이상치 제거"
   ],
   "metadata": {
    "collapsed": false,
    "pycharm": {
     "name": "#%% md\n"
    }
   }
  },
  {
   "cell_type": "code",
   "source": [
    "Q1 = df.quantile(q=0.25)\n",
    "Q3 = df.quantile(q=0.75)\n",
    "IQR = Q3-Q1\n",
    "print(Q1, Q3)\n",
    "print(IQR)"
   ],
   "metadata": {
    "collapsed": false,
    "pycharm": {
     "name": "#%%\n"
    }
   },
   "outputs": [],
   "execution_count": null
  },
  {
   "cell_type": "code",
   "source": [
    "post_df = df.copy()\n",
    "print(post_df.shape)\n",
    "iqr_mul = 1.5\n",
    "for col in columns[:-1]:\n",
    "    post_df = post_df[(post_df[col] <= Q3[col]+iqr_mul*IQR[col]) & (post_df[col] >= Q1[col]-iqr_mul*IQR[col])]\n",
    "    print(f\"{col}: {post_df.shape}\")"
   ],
   "metadata": {
    "collapsed": false,
    "pycharm": {
     "name": "#%%\n"
    }
   },
   "outputs": [],
   "execution_count": null
  },
  {
   "cell_type": "markdown",
   "source": "- 모든 데이터에 적용할 경우, 5344개에서 2188개까지 줄어드는 현상을 볼 수 있음",
   "metadata": {
    "collapsed": false,
    "pycharm": {
     "name": "#%% md\n"
    }
   }
  },
  {
   "metadata": {},
   "cell_type": "code",
   "source": "post_df.to_csv(\"../preprocessed_data.csv\")",
   "outputs": [],
   "execution_count": null
  }
 ],
 "metadata": {
  "kernelspec": {
   "display_name": "Python 3",
   "language": "python",
   "name": "python3"
  },
  "language_info": {
   "codemirror_mode": {
    "name": "ipython",
    "version": 2
   },
   "file_extension": ".py",
   "mimetype": "text/x-python",
   "name": "python",
   "nbconvert_exporter": "python",
   "pygments_lexer": "ipython2",
   "version": "2.7.6"
  }
 },
 "nbformat": 4,
 "nbformat_minor": 0
}
