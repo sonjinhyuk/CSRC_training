{
 "cells": [
  {
   "cell_type": "markdown",
   "source": [
    "# PDF 데이터를 활용한 그래프 그리기"
   ],
   "metadata": {
    "collapsed": false,
    "pycharm": {
     "name": "#%% md\n"
    }
   }
  },
  {
   "cell_type": "code",
   "source": [
    "import matplotlib.pyplot as plt # matplotlib 패키지의 pyplot 모듈\n",
    "import pandas as pd\n",
    "import seaborn as sns"
   ],
   "metadata": {
    "collapsed": false,
    "pycharm": {
     "name": "#%%\n"
    },
    "ExecuteTime": {
     "end_time": "2024-07-23T05:13:19.139006Z",
     "start_time": "2024-07-23T05:13:18.952554Z"
    }
   },
   "outputs": [],
   "execution_count": 2
  },
  {
   "cell_type": "code",
   "source": [
    "df = pd.read_csv(\"../isec_train.csv\", index_col=0)\n",
    "df"
   ],
   "metadata": {
    "collapsed": false,
    "pycharm": {
     "name": "#%%\n"
    },
    "ExecuteTime": {
     "end_time": "2024-07-23T05:13:20.562857Z",
     "start_time": "2024-07-23T05:13:20.493551Z"
    }
   },
   "outputs": [
    {
     "data": {
      "text/plain": [
       "          /JS  /AA  /OpenAction  /AcroForm  /RichMedia  /Launch  \\\n",
       "file_000    0    0            0          0           0        0   \n",
       "file_001    0    0            0          0           0        0   \n",
       "file_002    2    0            1          0           0        0   \n",
       "file_003    0    0            0          0           0        0   \n",
       "file_004    0    0            0          1           0        0   \n",
       "...       ...  ...          ...        ...         ...      ...   \n",
       "file_495    2    0            1          0           0        0   \n",
       "file_496    2    0            1          0           0        0   \n",
       "file_497    0    0            0          1           0        0   \n",
       "file_498    2    0            1          0           0        0   \n",
       "file_499    0    0            0          1           0        0   \n",
       "\n",
       "          /EmbeddedFile  /XFA  /URI  /F  ...  mkdir  replace  fromCharCode  \\\n",
       "file_000              0     0     0   0  ...      0        0             0   \n",
       "file_001              0     0     0   0  ...      0        0             0   \n",
       "file_002              0     0     0   0  ...      0        0             1   \n",
       "file_003              0     0     0   0  ...      0        0             0   \n",
       "file_004              0     0     0   0  ...      0        0             0   \n",
       "...                 ...   ...   ...  ..  ...    ...      ...           ...   \n",
       "file_495              0     0     0   0  ...      0        0             1   \n",
       "file_496              0     0     0   0  ...      0        0             0   \n",
       "file_497              0     0     0   0  ...      0        0             0   \n",
       "file_498              0     0     0   0  ...      0        0             0   \n",
       "file_499              0     0     0   0  ...      0        0             0   \n",
       "\n",
       "          getAnnots  ip  xref_size  trailer_size  file_size  nof_stream  class  \n",
       "file_000          0   3         21            21     67.784           5      0  \n",
       "file_001          0   5         98           174     14.627          23      0  \n",
       "file_002          1   1         10            10     16.013           8      1  \n",
       "file_003          0   3         21            21     63.609           5      0  \n",
       "file_004          0   4         29            37     83.376          35      0  \n",
       "...             ...  ..        ...           ...        ...         ...    ...  \n",
       "file_495          1   1         10            10      8.181           8      1  \n",
       "file_496          1   1         11            11      8.118           9      1  \n",
       "file_497          0   4         25            33     78.263          28      0  \n",
       "file_498          1   1         11            11      8.157           9      1  \n",
       "file_499          0   3         33            41     76.468          42      0  \n",
       "\n",
       "[500 rows x 55 columns]"
      ],
      "text/html": [
       "<div>\n",
       "<style scoped>\n",
       "    .dataframe tbody tr th:only-of-type {\n",
       "        vertical-align: middle;\n",
       "    }\n",
       "\n",
       "    .dataframe tbody tr th {\n",
       "        vertical-align: top;\n",
       "    }\n",
       "\n",
       "    .dataframe thead th {\n",
       "        text-align: right;\n",
       "    }\n",
       "</style>\n",
       "<table border=\"1\" class=\"dataframe\">\n",
       "  <thead>\n",
       "    <tr style=\"text-align: right;\">\n",
       "      <th></th>\n",
       "      <th>/JS</th>\n",
       "      <th>/AA</th>\n",
       "      <th>/OpenAction</th>\n",
       "      <th>/AcroForm</th>\n",
       "      <th>/RichMedia</th>\n",
       "      <th>/Launch</th>\n",
       "      <th>/EmbeddedFile</th>\n",
       "      <th>/XFA</th>\n",
       "      <th>/URI</th>\n",
       "      <th>/F</th>\n",
       "      <th>...</th>\n",
       "      <th>mkdir</th>\n",
       "      <th>replace</th>\n",
       "      <th>fromCharCode</th>\n",
       "      <th>getAnnots</th>\n",
       "      <th>ip</th>\n",
       "      <th>xref_size</th>\n",
       "      <th>trailer_size</th>\n",
       "      <th>file_size</th>\n",
       "      <th>nof_stream</th>\n",
       "      <th>class</th>\n",
       "    </tr>\n",
       "  </thead>\n",
       "  <tbody>\n",
       "    <tr>\n",
       "      <th>file_000</th>\n",
       "      <td>0</td>\n",
       "      <td>0</td>\n",
       "      <td>0</td>\n",
       "      <td>0</td>\n",
       "      <td>0</td>\n",
       "      <td>0</td>\n",
       "      <td>0</td>\n",
       "      <td>0</td>\n",
       "      <td>0</td>\n",
       "      <td>0</td>\n",
       "      <td>...</td>\n",
       "      <td>0</td>\n",
       "      <td>0</td>\n",
       "      <td>0</td>\n",
       "      <td>0</td>\n",
       "      <td>3</td>\n",
       "      <td>21</td>\n",
       "      <td>21</td>\n",
       "      <td>67.784</td>\n",
       "      <td>5</td>\n",
       "      <td>0</td>\n",
       "    </tr>\n",
       "    <tr>\n",
       "      <th>file_001</th>\n",
       "      <td>0</td>\n",
       "      <td>0</td>\n",
       "      <td>0</td>\n",
       "      <td>0</td>\n",
       "      <td>0</td>\n",
       "      <td>0</td>\n",
       "      <td>0</td>\n",
       "      <td>0</td>\n",
       "      <td>0</td>\n",
       "      <td>0</td>\n",
       "      <td>...</td>\n",
       "      <td>0</td>\n",
       "      <td>0</td>\n",
       "      <td>0</td>\n",
       "      <td>0</td>\n",
       "      <td>5</td>\n",
       "      <td>98</td>\n",
       "      <td>174</td>\n",
       "      <td>14.627</td>\n",
       "      <td>23</td>\n",
       "      <td>0</td>\n",
       "    </tr>\n",
       "    <tr>\n",
       "      <th>file_002</th>\n",
       "      <td>2</td>\n",
       "      <td>0</td>\n",
       "      <td>1</td>\n",
       "      <td>0</td>\n",
       "      <td>0</td>\n",
       "      <td>0</td>\n",
       "      <td>0</td>\n",
       "      <td>0</td>\n",
       "      <td>0</td>\n",
       "      <td>0</td>\n",
       "      <td>...</td>\n",
       "      <td>0</td>\n",
       "      <td>0</td>\n",
       "      <td>1</td>\n",
       "      <td>1</td>\n",
       "      <td>1</td>\n",
       "      <td>10</td>\n",
       "      <td>10</td>\n",
       "      <td>16.013</td>\n",
       "      <td>8</td>\n",
       "      <td>1</td>\n",
       "    </tr>\n",
       "    <tr>\n",
       "      <th>file_003</th>\n",
       "      <td>0</td>\n",
       "      <td>0</td>\n",
       "      <td>0</td>\n",
       "      <td>0</td>\n",
       "      <td>0</td>\n",
       "      <td>0</td>\n",
       "      <td>0</td>\n",
       "      <td>0</td>\n",
       "      <td>0</td>\n",
       "      <td>0</td>\n",
       "      <td>...</td>\n",
       "      <td>0</td>\n",
       "      <td>0</td>\n",
       "      <td>0</td>\n",
       "      <td>0</td>\n",
       "      <td>3</td>\n",
       "      <td>21</td>\n",
       "      <td>21</td>\n",
       "      <td>63.609</td>\n",
       "      <td>5</td>\n",
       "      <td>0</td>\n",
       "    </tr>\n",
       "    <tr>\n",
       "      <th>file_004</th>\n",
       "      <td>0</td>\n",
       "      <td>0</td>\n",
       "      <td>0</td>\n",
       "      <td>1</td>\n",
       "      <td>0</td>\n",
       "      <td>0</td>\n",
       "      <td>0</td>\n",
       "      <td>0</td>\n",
       "      <td>0</td>\n",
       "      <td>0</td>\n",
       "      <td>...</td>\n",
       "      <td>0</td>\n",
       "      <td>0</td>\n",
       "      <td>0</td>\n",
       "      <td>0</td>\n",
       "      <td>4</td>\n",
       "      <td>29</td>\n",
       "      <td>37</td>\n",
       "      <td>83.376</td>\n",
       "      <td>35</td>\n",
       "      <td>0</td>\n",
       "    </tr>\n",
       "    <tr>\n",
       "      <th>...</th>\n",
       "      <td>...</td>\n",
       "      <td>...</td>\n",
       "      <td>...</td>\n",
       "      <td>...</td>\n",
       "      <td>...</td>\n",
       "      <td>...</td>\n",
       "      <td>...</td>\n",
       "      <td>...</td>\n",
       "      <td>...</td>\n",
       "      <td>...</td>\n",
       "      <td>...</td>\n",
       "      <td>...</td>\n",
       "      <td>...</td>\n",
       "      <td>...</td>\n",
       "      <td>...</td>\n",
       "      <td>...</td>\n",
       "      <td>...</td>\n",
       "      <td>...</td>\n",
       "      <td>...</td>\n",
       "      <td>...</td>\n",
       "      <td>...</td>\n",
       "    </tr>\n",
       "    <tr>\n",
       "      <th>file_495</th>\n",
       "      <td>2</td>\n",
       "      <td>0</td>\n",
       "      <td>1</td>\n",
       "      <td>0</td>\n",
       "      <td>0</td>\n",
       "      <td>0</td>\n",
       "      <td>0</td>\n",
       "      <td>0</td>\n",
       "      <td>0</td>\n",
       "      <td>0</td>\n",
       "      <td>...</td>\n",
       "      <td>0</td>\n",
       "      <td>0</td>\n",
       "      <td>1</td>\n",
       "      <td>1</td>\n",
       "      <td>1</td>\n",
       "      <td>10</td>\n",
       "      <td>10</td>\n",
       "      <td>8.181</td>\n",
       "      <td>8</td>\n",
       "      <td>1</td>\n",
       "    </tr>\n",
       "    <tr>\n",
       "      <th>file_496</th>\n",
       "      <td>2</td>\n",
       "      <td>0</td>\n",
       "      <td>1</td>\n",
       "      <td>0</td>\n",
       "      <td>0</td>\n",
       "      <td>0</td>\n",
       "      <td>0</td>\n",
       "      <td>0</td>\n",
       "      <td>0</td>\n",
       "      <td>0</td>\n",
       "      <td>...</td>\n",
       "      <td>0</td>\n",
       "      <td>0</td>\n",
       "      <td>0</td>\n",
       "      <td>1</td>\n",
       "      <td>1</td>\n",
       "      <td>11</td>\n",
       "      <td>11</td>\n",
       "      <td>8.118</td>\n",
       "      <td>9</td>\n",
       "      <td>1</td>\n",
       "    </tr>\n",
       "    <tr>\n",
       "      <th>file_497</th>\n",
       "      <td>0</td>\n",
       "      <td>0</td>\n",
       "      <td>0</td>\n",
       "      <td>1</td>\n",
       "      <td>0</td>\n",
       "      <td>0</td>\n",
       "      <td>0</td>\n",
       "      <td>0</td>\n",
       "      <td>0</td>\n",
       "      <td>0</td>\n",
       "      <td>...</td>\n",
       "      <td>0</td>\n",
       "      <td>0</td>\n",
       "      <td>0</td>\n",
       "      <td>0</td>\n",
       "      <td>4</td>\n",
       "      <td>25</td>\n",
       "      <td>33</td>\n",
       "      <td>78.263</td>\n",
       "      <td>28</td>\n",
       "      <td>0</td>\n",
       "    </tr>\n",
       "    <tr>\n",
       "      <th>file_498</th>\n",
       "      <td>2</td>\n",
       "      <td>0</td>\n",
       "      <td>1</td>\n",
       "      <td>0</td>\n",
       "      <td>0</td>\n",
       "      <td>0</td>\n",
       "      <td>0</td>\n",
       "      <td>0</td>\n",
       "      <td>0</td>\n",
       "      <td>0</td>\n",
       "      <td>...</td>\n",
       "      <td>0</td>\n",
       "      <td>0</td>\n",
       "      <td>0</td>\n",
       "      <td>1</td>\n",
       "      <td>1</td>\n",
       "      <td>11</td>\n",
       "      <td>11</td>\n",
       "      <td>8.157</td>\n",
       "      <td>9</td>\n",
       "      <td>1</td>\n",
       "    </tr>\n",
       "    <tr>\n",
       "      <th>file_499</th>\n",
       "      <td>0</td>\n",
       "      <td>0</td>\n",
       "      <td>0</td>\n",
       "      <td>1</td>\n",
       "      <td>0</td>\n",
       "      <td>0</td>\n",
       "      <td>0</td>\n",
       "      <td>0</td>\n",
       "      <td>0</td>\n",
       "      <td>0</td>\n",
       "      <td>...</td>\n",
       "      <td>0</td>\n",
       "      <td>0</td>\n",
       "      <td>0</td>\n",
       "      <td>0</td>\n",
       "      <td>3</td>\n",
       "      <td>33</td>\n",
       "      <td>41</td>\n",
       "      <td>76.468</td>\n",
       "      <td>42</td>\n",
       "      <td>0</td>\n",
       "    </tr>\n",
       "  </tbody>\n",
       "</table>\n",
       "<p>500 rows × 55 columns</p>\n",
       "</div>"
      ]
     },
     "execution_count": 3,
     "metadata": {},
     "output_type": "execute_result"
    }
   ],
   "execution_count": 3
  },
  {
   "cell_type": "markdown",
   "source": [
    "## 통계적 검증\n",
    "### 귀무가설\n",
    "- 특정 분포를 따른다. (특정 분포 :'norm', 'expon', 'logistic', 'gumbel', 'gumbel_l', 'gumbel_r', 'extreme1'로 지정)\n",
    "- 이때, 기본 값은 norm으로 정규분포를 따른다는 귀무가설을 검정한다. (참고로 extrame1, gumbel_l은 같은 분포를 의미함)\n",
    "- 쉽게 표현하자면 '차이가 없다'라고 주장하는 가설이라고 보시면 됩니다. 그리고, 이 가설이 맞지 않음을 즉, '차이가 있음'을 통계학적 증거로 증명하면 됩니다."
   ],
   "metadata": {
    "collapsed": false,
    "pycharm": {
     "name": "#%% md\n"
    }
   }
  },
  {
   "cell_type": "code",
   "source": "import scipy.stats as stats",
   "metadata": {
    "collapsed": false,
    "pycharm": {
     "name": "#%%\n"
    },
    "ExecuteTime": {
     "end_time": "2024-07-23T05:17:14.517883Z",
     "start_time": "2024-07-23T05:17:14.482464Z"
    }
   },
   "outputs": [
    {
     "name": "stdout",
     "output_type": "stream",
     "text": [
      "0.08759716396098596\n",
      "-1.8149138388859165\n"
     ]
    }
   ],
   "execution_count": 8
  },
  {
   "cell_type": "code",
   "source": [
    "from scipy.stats import anderson\n",
    "columns = df.columns\n",
    "plt.clf()\n",
    "for col in columns:\n",
    "    data = df[col]\n",
    "    anderson_result = anderson(data)\n",
    "    shapiro_test = stats.shapiro(data)\n",
    "    print(shapiro_test, type(shapiro_test))\n",
    "    print(f'검정 통계치 : {anderson_result[0]}')\n",
    "    print(f'임계지점의 통계치 : {anderson_result[1][-1]}')\n",
    "    print(f'각 임계 지점의 P-value : {anderson_result[2]}')\n"
   ],
   "metadata": {
    "collapsed": false,
    "pycharm": {
     "name": "#%%\n"
    },
    "ExecuteTime": {
     "end_time": "2024-07-23T05:16:25.443973Z",
     "start_time": "2024-07-23T05:16:25.365234Z"
    }
   },
   "outputs": [
    {
     "name": "stdout",
     "output_type": "stream",
     "text": [
      "ShapiroResult(statistic=np.float64(0.6837260760833517), pvalue=np.float64(1.6439810279204166e-29)) <class 'scipy.stats._morestats.ShapiroResult'>\n",
      "검정 통계치 : 80.54171345486225\n",
      "임계지점의 통계치 : 1.083\n",
      "각 임계 지점의 P-value : [15.  10.   5.   2.5  1. ]\n",
      "ShapiroResult(statistic=np.float64(1.0), pvalue=np.float64(1.0)) <class 'scipy.stats._morestats.ShapiroResult'>\n",
      "검정 통계치 : nan\n",
      "임계지점의 통계치 : 1.083\n",
      "각 임계 지점의 P-value : [15.  10.   5.   2.5  1. ]\n",
      "ShapiroResult(statistic=np.float64(0.6354014640669097), pvalue=np.float64(3.253287021626061e-31)) <class 'scipy.stats._morestats.ShapiroResult'>\n",
      "검정 통계치 : 90.03206117668788\n",
      "임계지점의 통계치 : 1.083\n",
      "각 임계 지점의 P-value : [15.  10.   5.   2.5  1. ]\n",
      "ShapiroResult(statistic=np.float64(0.3855760996095007), pvalue=np.float64(6.723756551069841e-38)) <class 'scipy.stats._morestats.ShapiroResult'>\n",
      "검정 통계치 : 156.7037699656246\n",
      "임계지점의 통계치 : 1.083\n",
      "각 임계 지점의 P-value : [15.  10.   5.   2.5  1. ]\n",
      "ShapiroResult(statistic=np.float64(1.0), pvalue=np.float64(1.0)) <class 'scipy.stats._morestats.ShapiroResult'>\n",
      "검정 통계치 : nan\n",
      "임계지점의 통계치 : 1.083\n",
      "각 임계 지점의 P-value : [15.  10.   5.   2.5  1. ]\n",
      "ShapiroResult(statistic=np.float64(1.0), pvalue=np.float64(1.0)) <class 'scipy.stats._morestats.ShapiroResult'>\n",
      "검정 통계치 : nan\n",
      "임계지점의 통계치 : 1.083\n",
      "각 임계 지점의 P-value : [15.  10.   5.   2.5  1. ]\n",
      "ShapiroResult(statistic=np.float64(1.0), pvalue=np.float64(1.0)) <class 'scipy.stats._morestats.ShapiroResult'>\n",
      "검정 통계치 : nan\n",
      "임계지점의 통계치 : 1.083\n",
      "각 임계 지점의 P-value : [15.  10.   5.   2.5  1. ]\n",
      "ShapiroResult(statistic=np.float64(1.0), pvalue=np.float64(1.0)) <class 'scipy.stats._morestats.ShapiroResult'>\n",
      "검정 통계치 : nan\n",
      "임계지점의 통계치 : 1.083\n",
      "각 임계 지점의 P-value : [15.  10.   5.   2.5  1. ]\n",
      "ShapiroResult(statistic=np.float64(1.0), pvalue=np.float64(1.0)) <class 'scipy.stats._morestats.ShapiroResult'>\n",
      "검정 통계치 : nan\n",
      "임계지점의 통계치 : 1.083\n",
      "각 임계 지점의 P-value : [15.  10.   5.   2.5  1. ]\n",
      "ShapiroResult(statistic=np.float64(1.0), pvalue=np.float64(1.0)) <class 'scipy.stats._morestats.ShapiroResult'>\n",
      "검정 통계치 : nan\n",
      "임계지점의 통계치 : 1.083\n",
      "각 임계 지점의 P-value : [15.  10.   5.   2.5  1. ]\n",
      "ShapiroResult(statistic=np.float64(1.0), pvalue=np.float64(1.0)) <class 'scipy.stats._morestats.ShapiroResult'>\n",
      "검정 통계치 : nan\n",
      "임계지점의 통계치 : 1.083\n",
      "각 임계 지점의 P-value : [15.  10.   5.   2.5  1. ]\n",
      "ShapiroResult(statistic=np.float64(1.0), pvalue=np.float64(1.0)) <class 'scipy.stats._morestats.ShapiroResult'>\n",
      "검정 통계치 : nan\n",
      "임계지점의 통계치 : 1.083\n",
      "각 임계 지점의 P-value : [15.  10.   5.   2.5  1. ]\n",
      "ShapiroResult(statistic=np.float64(0.7038623670871829), pvalue=np.float64(9.705760378278133e-29)) <class 'scipy.stats._morestats.ShapiroResult'>\n",
      "검정 통계치 : 66.27754252438854\n",
      "임계지점의 통계치 : 1.083\n",
      "각 임계 지점의 P-value : [15.  10.   5.   2.5  1. ]\n",
      "ShapiroResult(statistic=np.float64(0.602469301453266), pvalue=np.float64(2.82890389686719e-32)) <class 'scipy.stats._morestats.ShapiroResult'>\n",
      "검정 통계치 : 100.2445493133755\n",
      "임계지점의 통계치 : 1.083\n",
      "각 임계 지점의 P-value : [15.  10.   5.   2.5  1. ]\n",
      "ShapiroResult(statistic=np.float64(0.4895124325413619), pvalue=np.float64(1.9013684833540437e-35)) <class 'scipy.stats._morestats.ShapiroResult'>\n",
      "검정 통계치 : 85.42205885316594\n",
      "임계지점의 통계치 : 1.083\n",
      "각 임계 지점의 P-value : [15.  10.   5.   2.5  1. ]\n",
      "ShapiroResult(statistic=np.float64(0.699837008953536), pvalue=np.float64(6.755296193302162e-29)) <class 'scipy.stats._morestats.ShapiroResult'>\n",
      "검정 통계치 : 29.067498895089443\n",
      "임계지점의 통계치 : 1.083\n",
      "각 임계 지점의 P-value : [15.  10.   5.   2.5  1. ]\n",
      "ShapiroResult(statistic=np.float64(0.6585360896447922), pvalue=np.float64(2.0137268451912982e-30)) <class 'scipy.stats._morestats.ShapiroResult'>\n",
      "검정 통계치 : 70.72893596947324\n",
      "임계지점의 통계치 : 1.083\n",
      "각 임계 지점의 P-value : [15.  10.   5.   2.5  1. ]\n",
      "ShapiroResult(statistic=np.float64(1.0), pvalue=np.float64(1.0)) <class 'scipy.stats._morestats.ShapiroResult'>\n",
      "검정 통계치 : nan\n",
      "임계지점의 통계치 : 1.083\n",
      "각 임계 지점의 P-value : [15.  10.   5.   2.5  1. ]\n",
      "ShapiroResult(statistic=np.float64(0.636490466299187), pvalue=np.float64(3.5373696536950808e-31)) <class 'scipy.stats._morestats.ShapiroResult'>\n",
      "검정 통계치 : 89.67261532178065\n",
      "임계지점의 통계치 : 1.083\n",
      "각 임계 지점의 P-value : [15.  10.   5.   2.5  1. ]\n",
      "ShapiroResult(statistic=np.float64(0.6363973608793085), pvalue=np.float64(3.5121138944052163e-31)) <class 'scipy.stats._morestats.ShapiroResult'>\n",
      "검정 통계치 : 89.70336653242907\n",
      "임계지점의 통계치 : 1.083\n",
      "각 임계 지점의 P-value : [15.  10.   5.   2.5  1. ]\n",
      "ShapiroResult(statistic=np.float64(0.6772893146670194), pvalue=np.float64(9.49662095409849e-30)) <class 'scipy.stats._morestats.ShapiroResult'>\n",
      "검정 통계치 : 72.92530596330425\n",
      "임계지점의 통계치 : 1.083\n",
      "각 임계 지점의 P-value : [15.  10.   5.   2.5  1. ]\n",
      "ShapiroResult(statistic=np.float64(0.5920064526768547), pvalue=np.float64(1.346845353487324e-32)) <class 'scipy.stats._morestats.ShapiroResult'>\n",
      "검정 통계치 : 103.9272246226135\n",
      "임계지점의 통계치 : 1.083\n",
      "각 임계 지점의 P-value : [15.  10.   5.   2.5  1. ]\n",
      "ShapiroResult(statistic=np.float64(1.0), pvalue=np.float64(1.0)) <class 'scipy.stats._morestats.ShapiroResult'>\n",
      "검정 통계치 : nan\n",
      "임계지점의 통계치 : 1.083\n",
      "각 임계 지점의 P-value : [15.  10.   5.   2.5  1. ]\n",
      "ShapiroResult(statistic=np.float64(0.5575308734198703), pvalue=np.float64(1.2945428039212183e-33)) <class 'scipy.stats._morestats.ShapiroResult'>\n",
      "검정 통계치 : 114.37973022013568\n",
      "임계지점의 통계치 : 1.083\n",
      "각 임계 지점의 P-value : [15.  10.   5.   2.5  1. ]\n",
      "ShapiroResult(statistic=np.float64(1.0), pvalue=np.float64(1.0)) <class 'scipy.stats._morestats.ShapiroResult'>\n",
      "검정 통계치 : nan\n",
      "임계지점의 통계치 : 1.083\n",
      "각 임계 지점의 P-value : [15.  10.   5.   2.5  1. ]\n",
      "ShapiroResult(statistic=np.float64(1.0), pvalue=np.float64(1.0)) <class 'scipy.stats._morestats.ShapiroResult'>\n",
      "검정 통계치 : nan\n",
      "임계지점의 통계치 : 1.083\n",
      "각 임계 지점의 P-value : [15.  10.   5.   2.5  1. ]\n",
      "ShapiroResult(statistic=np.float64(1.0), pvalue=np.float64(1.0)) <class 'scipy.stats._morestats.ShapiroResult'>\n",
      "검정 통계치 : nan\n",
      "임계지점의 통계치 : 1.083\n",
      "각 임계 지점의 P-value : [15.  10.   5.   2.5  1. ]\n",
      "ShapiroResult(statistic=np.float64(0.1776013586413172), pvalue=np.float64(6.274777390269133e-42)) <class 'scipy.stats._morestats.ShapiroResult'>\n",
      "검정 통계치 : 178.29768983364124\n",
      "임계지점의 통계치 : 1.083\n",
      "각 임계 지점의 P-value : [15.  10.   5.   2.5  1. ]\n",
      "ShapiroResult(statistic=np.float64(0.1744361346275024), pvalue=np.float64(5.5345487156001674e-42)) <class 'scipy.stats._morestats.ShapiroResult'>\n",
      "검정 통계치 : 183.12593869669786\n",
      "임계지점의 통계치 : 1.083\n",
      "각 임계 지점의 P-value : [15.  10.   5.   2.5  1. ]\n",
      "ShapiroResult(statistic=np.float64(1.0), pvalue=np.float64(1.0)) <class 'scipy.stats._morestats.ShapiroResult'>\n",
      "검정 통계치 : nan\n",
      "임계지점의 통계치 : 1.083\n",
      "각 임계 지점의 P-value : [15.  10.   5.   2.5  1. ]\n",
      "ShapiroResult(statistic=np.float64(0.14340427451769133), pvalue=np.float64(1.650200028095318e-42)) <class 'scipy.stats._morestats.ShapiroResult'>\n",
      "검정 통계치 : 185.78802306356727\n",
      "임계지점의 통계치 : 1.083\n",
      "각 임계 지점의 P-value : [15.  10.   5.   2.5  1. ]\n",
      "ShapiroResult(statistic=np.float64(0.5260543873480885), pvalue=np.float64(1.727980504076318e-34)) <class 'scipy.stats._morestats.ShapiroResult'>\n",
      "검정 통계치 : 120.77338506741171\n",
      "임계지점의 통계치 : 1.083\n",
      "각 임계 지점의 P-value : [15.  10.   5.   2.5  1. ]\n",
      "ShapiroResult(statistic=np.float64(0.5294302449361785), pvalue=np.float64(2.133339821351955e-34)) <class 'scipy.stats._morestats.ShapiroResult'>\n",
      "검정 통계치 : 121.59627601136503\n",
      "임계지점의 통계치 : 1.083\n",
      "각 임계 지점의 P-value : [15.  10.   5.   2.5  1. ]\n",
      "ShapiroResult(statistic=np.float64(0.515913249958895), pvalue=np.float64(9.241236471256643e-35)) <class 'scipy.stats._morestats.ShapiroResult'>\n",
      "검정 통계치 : 84.6978858270885\n",
      "임계지점의 통계치 : 1.083\n",
      "각 임계 지점의 P-value : [15.  10.   5.   2.5  1. ]\n",
      "ShapiroResult(statistic=np.float64(0.6210699494434977), pvalue=np.float64(1.1008098543462393e-31)) <class 'scipy.stats._morestats.ShapiroResult'>\n",
      "검정 통계치 : 70.15174045102742\n",
      "임계지점의 통계치 : 1.083\n",
      "각 임계 지점의 P-value : [15.  10.   5.   2.5  1. ]\n",
      "ShapiroResult(statistic=np.float64(0.5113993463882146), pvalue=np.float64(7.018104145891998e-35)) <class 'scipy.stats._morestats.ShapiroResult'>\n",
      "검정 통계치 : 127.82824368941874\n",
      "임계지점의 통계치 : 1.083\n",
      "각 임계 지점의 P-value : [15.  10.   5.   2.5  1. ]\n",
      "ShapiroResult(statistic=np.float64(1.0), pvalue=np.float64(1.0)) <class 'scipy.stats._morestats.ShapiroResult'>\n",
      "검정 통계치 : nan\n",
      "임계지점의 통계치 : 1.083\n",
      "각 임계 지점의 P-value : [15.  10.   5.   2.5  1. ]\n",
      "ShapiroResult(statistic=np.float64(0.41128609995019494), pvalue=np.float64(2.5156693449906038e-37)) <class 'scipy.stats._morestats.ShapiroResult'>\n",
      "검정 통계치 : 151.47225252520525\n",
      "임계지점의 통계치 : 1.083\n",
      "각 임계 지점의 P-value : [15.  10.   5.   2.5  1. ]\n",
      "ShapiroResult(statistic=np.float64(1.0), pvalue=np.float64(1.0)) <class 'scipy.stats._morestats.ShapiroResult'>\n",
      "검정 통계치 : nan\n",
      "임계지점의 통계치 : 1.083\n",
      "각 임계 지점의 P-value : [15.  10.   5.   2.5  1. ]\n",
      "ShapiroResult(statistic=np.float64(1.0), pvalue=np.float64(1.0)) <class 'scipy.stats._morestats.ShapiroResult'>\n",
      "검정 통계치 : nan\n",
      "임계지점의 통계치 : 1.083\n",
      "각 임계 지점의 P-value : [15.  10.   5.   2.5  1. ]\n",
      "ShapiroResult(statistic=np.float64(0.1319144928071777), pvalue=np.float64(1.0639722162174229e-42)) <class 'scipy.stats._morestats.ShapiroResult'>\n",
      "검정 통계치 : 185.20455735913697\n",
      "임계지점의 통계치 : 1.083\n",
      "각 임계 지점의 P-value : [15.  10.   5.   2.5  1. ]\n",
      "ShapiroResult(statistic=np.float64(0.3259739205107889), pvalue=np.float64(3.7221458432799435e-39)) <class 'scipy.stats._morestats.ShapiroResult'>\n",
      "검정 통계치 : 167.26671666769903\n",
      "임계지점의 통계치 : 1.083\n",
      "각 임계 지점의 P-value : [15.  10.   5.   2.5  1. ]\n",
      "ShapiroResult(statistic=np.float64(1.0), pvalue=np.float64(1.0)) <class 'scipy.stats._morestats.ShapiroResult'>\n",
      "검정 통계치 : nan\n",
      "임계지점의 통계치 : 1.083\n",
      "각 임계 지점의 P-value : [15.  10.   5.   2.5  1. ]\n",
      "ShapiroResult(statistic=np.float64(1.0), pvalue=np.float64(1.0)) <class 'scipy.stats._morestats.ShapiroResult'>\n",
      "검정 통계치 : nan\n",
      "임계지점의 통계치 : 1.083\n",
      "각 임계 지점의 P-value : [15.  10.   5.   2.5  1. ]\n",
      "ShapiroResult(statistic=np.float64(1.0), pvalue=np.float64(1.0)) <class 'scipy.stats._morestats.ShapiroResult'>\n",
      "검정 통계치 : nan\n",
      "임계지점의 통계치 : 1.083\n",
      "각 임계 지점의 P-value : [15.  10.   5.   2.5  1. ]\n",
      "ShapiroResult(statistic=np.float64(1.0), pvalue=np.float64(1.0)) <class 'scipy.stats._morestats.ShapiroResult'>\n",
      "검정 통계치 : nan\n",
      "임계지점의 통계치 : 1.083\n",
      "각 임계 지점의 P-value : [15.  10.   5.   2.5  1. ]\n",
      "ShapiroResult(statistic=np.float64(0.4143364006479454), pvalue=np.float64(2.9511046309217605e-37)) <class 'scipy.stats._morestats.ShapiroResult'>\n",
      "검정 통계치 : 150.82464550561747\n",
      "임계지점의 통계치 : 1.083\n",
      "각 임계 지점의 P-value : [15.  10.   5.   2.5  1. ]\n",
      "ShapiroResult(statistic=np.float64(0.5434539421850492), pvalue=np.float64(5.188023418990087e-34)) <class 'scipy.stats._morestats.ShapiroResult'>\n",
      "검정 통계치 : 118.42363554789972\n",
      "임계지점의 통계치 : 1.083\n",
      "각 임계 지점의 P-value : [15.  10.   5.   2.5  1. ]\n",
      "ShapiroResult(statistic=np.float64(0.6261975652096168), pvalue=np.float64(1.6159813825435046e-31)) <class 'scipy.stats._morestats.ShapiroResult'>\n",
      "검정 통계치 : 93.04941848185604\n",
      "임계지점의 통계치 : 1.083\n",
      "각 임계 지점의 P-value : [15.  10.   5.   2.5  1. ]\n",
      "ShapiroResult(statistic=np.float64(0.7089119481117956), pvalue=np.float64(1.5376442530499624e-28)) <class 'scipy.stats._morestats.ShapiroResult'>\n",
      "검정 통계치 : 60.17166801725716\n",
      "임계지점의 통계치 : 1.083\n",
      "각 임계 지점의 P-value : [15.  10.   5.   2.5  1. ]\n",
      "ShapiroResult(statistic=np.float64(0.44242935086933144), pvalue=np.float64(1.3265058172406358e-36)) <class 'scipy.stats._morestats.ShapiroResult'>\n",
      "검정 통계치 : 73.19543823604852\n",
      "임계지점의 통계치 : 1.083\n",
      "각 임계 지점의 P-value : [15.  10.   5.   2.5  1. ]\n",
      "ShapiroResult(statistic=np.float64(0.4456072987196621), pvalue=np.float64(1.578400836499358e-36)) <class 'scipy.stats._morestats.ShapiroResult'>\n",
      "검정 통계치 : 84.8712946035954\n",
      "임계지점의 통계치 : 1.083\n",
      "각 임계 지점의 P-value : [15.  10.   5.   2.5  1. ]\n",
      "ShapiroResult(statistic=np.float64(0.7665703042067173), pvalue=np.float64(4.8559524793829627e-26)) <class 'scipy.stats._morestats.ShapiroResult'>\n",
      "검정 통계치 : 42.10679318369887\n",
      "임계지점의 통계치 : 1.083\n",
      "각 임계 지점의 P-value : [15.  10.   5.   2.5  1. ]\n",
      "ShapiroResult(statistic=np.float64(0.6406677282503668), pvalue=np.float64(4.885994722064649e-31)) <class 'scipy.stats._morestats.ShapiroResult'>\n",
      "검정 통계치 : 66.27031921301011\n",
      "임계지점의 통계치 : 1.083\n",
      "각 임계 지점의 P-value : [15.  10.   5.   2.5  1. ]\n",
      "ShapiroResult(statistic=np.float64(0.6365428322476134), pvalue=np.float64(3.5516564239367473e-31)) <class 'scipy.stats._morestats.ShapiroResult'>\n",
      "검정 통계치 : 89.65531805610578\n",
      "임계지점의 통계치 : 1.083\n",
      "각 임계 지점의 P-value : [15.  10.   5.   2.5  1. ]\n"
     ]
    },
    {
     "name": "stderr",
     "output_type": "stream",
     "text": [
      "/Users/sonjinhyuk/workspace/CSRC_training/venv/lib/python3.9/site-packages/scipy/stats/_morestats.py:2248: RuntimeWarning: invalid value encountered in divide\n",
      "  w = (y - xbar) / s\n",
      "/Users/sonjinhyuk/workspace/CSRC_training/venv/lib/python3.9/site-packages/scipy/stats/_axis_nan_policy.py:531: UserWarning: scipy.stats.shapiro: Input data has range zero. The results may not be accurate.\n",
      "  res = hypotest_fun_out(*samples, **kwds)\n"
     ]
    },
    {
     "data": {
      "text/plain": [
       "<Figure size 640x480 with 0 Axes>"
      ]
     },
     "metadata": {},
     "output_type": "display_data"
    }
   ],
   "execution_count": 7
  },
  {
   "metadata": {},
   "cell_type": "markdown",
   "source": [
    "- 데이터 분포에 따른 왜도, 첨도\n",
    "- 왜도\n",
    "    - 분포의 비대칭도\n",
    "    - 정규분포 = 왜도 0\n",
    "    - 왼쪽으로 치우침 = 왜도 > 0\n",
    "    - 오른쪽으로 치우침 = 왜도 < 0\n",
    "- 첨도\n",
    "    - 확률분포의 뾰족한 정도\n",
    "    - 정규분포 = 첨도 0(Pearson 첨도 = 3)\n",
    "    - 위로 뾰족함 = 첨도 > 0(Pearson 첨도 >3)\n",
    "    - 아래로 뾰족함 = 첨도 < 0 (Pearson 첨도 < 3)"
   ]
  },
  {
   "metadata": {},
   "cell_type": "code",
   "outputs": [],
   "execution_count": null,
   "source": [
    "from scipy.stats import skew, kurtosis\n",
    "print(skew(df['/JS']))\n",
    "print(kurtosis(df['/JS'], fisher=True))"
   ]
  },
  {
   "metadata": {},
   "cell_type": "markdown",
   "source": "![skew,kurtosis](https://img1.daumcdn.net/thumb/R1280x0/?scode=mtistory2&fname=https%3A%2F%2Fblog.kakaocdn.net%2Fdn%2FbydVNd%2FbtqJPCBsLAp%2FTBQGpvVfBThfmYuMtSXTmk%2Fimg.jpg)"
  },
  {
   "cell_type": "markdown",
   "source": [
    "## feature별 분포 확인"
   ],
   "metadata": {
    "collapsed": false
   }
  },
  {
   "cell_type": "code",
   "execution_count": null,
   "outputs": [],
   "source": [
    "import seaborn as sns"
   ],
   "metadata": {
    "collapsed": false,
    "pycharm": {
     "name": "#%%\n"
    }
   }
  },
  {
   "cell_type": "code",
   "execution_count": 41,
   "outputs": [
    {
     "data": {
      "text/plain": "<seaborn.axisgrid.FacetGrid at 0x7fa57db8bbe0>"
     },
     "execution_count": 41,
     "metadata": {},
     "output_type": "execute_result"
    },
    {
     "data": {
      "text/plain": "<Figure size 500x500 with 1 Axes>",
      "image/png": "[encoded data removed]"
     },
     "metadata": {},
     "output_type": "display_data"
    },
    {
     "data": {
      "text/plain": "<Figure size 500x500 with 1 Axes>",
      "image/png": "[encoded data removed]"
     },
     "metadata": {},
     "output_type": "display_data"
    }
   ],
   "source": [
    "sns.displot(df['/JS'])\n",
    "sns.displot(df['/AA'])"
   ],
   "metadata": {
    "collapsed": false,
    "pycharm": {
     "name": "#%%\n"
    }
   }
  },
  {
   "cell_type": "code",
   "execution_count": 42,
   "outputs": [
    {
     "data": {
      "text/plain": "((array([-2.99209858e+00, -2.71015927e+00, -2.55162541e+00, -2.43921385e+00,\n         -2.35113311e+00, -2.27822091e+00, -2.21572267e+00, -2.16084152e+00,\n         -2.11178767e+00, -2.06734403e+00, -2.02664403e+00, -1.98904794e+00,\n         -1.95406954e+00, -1.92133033e+00, -1.89052965e+00, -1.86142459e+00,\n         -1.83381593e+00, -1.80753820e+00, -1.78245240e+00, -1.75844061e+00,\n         -1.73540186e+00, -1.71324904e+00, -1.69190643e+00, -1.67130780e+00,\n         -1.65139483e+00, -1.63211595e+00, -1.61342528e+00, -1.59528183e+00,\n         -1.57764883e+00, -1.56049314e+00, -1.54378481e+00, -1.52749667e+00,\n         -1.51160399e+00, -1.49608418e+00, -1.48091659e+00, -1.46608224e+00,\n         -1.45156367e+00, -1.43734479e+00, -1.42341071e+00, -1.40974764e+00,\n         -1.39634279e+00, -1.38318426e+00, -1.37026095e+00, -1.35756253e+00,\n         -1.34507932e+00, -1.33280226e+00, -1.32072287e+00, -1.30883317e+00,\n         -1.29712567e+00, -1.28559331e+00, -1.27422944e+00, -1.26302778e+00,\n         -1.25198239e+00, -1.24108768e+00, -1.23033831e+00, -1.21972926e+00,\n         -1.20925574e+00, -1.19891322e+00, -1.18869738e+00, -1.17860411e+00,\n         -1.16862950e+00, -1.15876983e+00, -1.14902154e+00, -1.13938123e+00,\n         -1.12984566e+00, -1.12041173e+00, -1.11107648e+00, -1.10183707e+00,\n         -1.09269077e+00, -1.08363498e+00, -1.07466719e+00, -1.06578501e+00,\n         -1.05698612e+00, -1.04826831e+00, -1.03962946e+00, -1.03106750e+00,\n         -1.02258046e+00, -1.01416645e+00, -1.00582364e+00, -9.97550247e-01,\n         -9.89344581e-01, -9.81204996e-01, -9.73129904e-01, -9.65117774e-01,\n         -9.57167125e-01, -9.49276525e-01, -9.41444591e-01, -9.33669982e-01,\n         -9.25951403e-01, -9.18287599e-01, -9.10677353e-01, -9.03119487e-01,\n         -8.95612861e-01, -8.88156365e-01, -8.80748927e-01, -8.73389502e-01,\n         -8.66077081e-01, -8.58810678e-01, -8.51589342e-01, -8.44412143e-01,\n         -8.37278180e-01, -8.30186576e-01, -8.23136480e-01, -8.16127061e-01,\n         -8.09157513e-01, -8.02227049e-01, -7.95334905e-01, -7.88480336e-01,\n         -7.81662614e-01, -7.74881033e-01, -7.68134903e-01, -7.61423551e-01,\n         -7.54746322e-01, -7.48102575e-01, -7.41491685e-01, -7.34913044e-01,\n         -7.28366057e-01, -7.21850142e-01, -7.15364731e-01, -7.08909270e-01,\n         -7.02483218e-01, -6.96086043e-01, -6.89717230e-01, -6.83376271e-01,\n         -6.77062670e-01, -6.70775943e-01, -6.64515617e-01, -6.58281226e-01,\n         -6.52072317e-01, -6.45888445e-01, -6.39729174e-01, -6.33594076e-01,\n         -6.27482735e-01, -6.21394740e-01, -6.15329690e-01, -6.09287191e-01,\n         -6.03266856e-01, -5.97268307e-01, -5.91291174e-01, -5.85335090e-01,\n         -5.79399700e-01, -5.73484651e-01, -5.67589599e-01, -5.61714207e-01,\n         -5.55858142e-01, -5.50021077e-01, -5.44202692e-01, -5.38402673e-01,\n         -5.32620709e-01, -5.26856497e-01, -5.21109737e-01, -5.15380136e-01,\n         -5.09667405e-01, -5.03971258e-01, -4.98291417e-01, -4.92627606e-01,\n         -4.86979553e-01, -4.81346993e-01, -4.75729663e-01, -4.70127305e-01,\n         -4.64539663e-01, -4.58966488e-01, -4.53407532e-01, -4.47862553e-01,\n         -4.42331309e-01, -4.36813566e-01, -4.31309089e-01, -4.25817651e-01,\n         -4.20339023e-01, -4.14872983e-01, -4.09419311e-01, -4.03977788e-01,\n         -3.98548202e-01, -3.93130339e-01, -3.87723992e-01, -3.82328953e-01,\n         -3.76945020e-01, -3.71571992e-01, -3.66209669e-01, -3.60857856e-01,\n         -3.55516359e-01, -3.50184986e-01, -3.44863547e-01, -3.39551857e-01,\n         -3.34249730e-01, -3.28956983e-01, -3.23673435e-01, -3.18398908e-01,\n         -3.13133223e-01, -3.07876207e-01, -3.02627686e-01, -2.97387487e-01,\n         -2.92155443e-01, -2.86931384e-01, -2.81715143e-01, -2.76506557e-01,\n         -2.71305462e-01, -2.66111695e-01, -2.60925097e-01, -2.55745509e-01,\n         -2.50572773e-01, -2.45406732e-01, -2.40247233e-01, -2.35094122e-01,\n         -2.29947246e-01, -2.24806454e-01, -2.19671596e-01, -2.14542524e-01,\n         -2.09419090e-01, -2.04301147e-01, -1.99188550e-01, -1.94081154e-01,\n         -1.88978816e-01, -1.83881393e-01, -1.78788743e-01, -1.73700727e-01,\n         -1.68617203e-01, -1.63538032e-01, -1.58463078e-01, -1.53392201e-01,\n         -1.48325265e-01, -1.43262135e-01, -1.38202675e-01, -1.33146749e-01,\n         -1.28094226e-01, -1.23044970e-01, -1.17998849e-01, -1.12955731e-01,\n         -1.07915484e-01, -1.02877978e-01, -9.78430801e-02, -9.28106619e-02,\n         -8.77805930e-02, -8.27527442e-02, -7.77269864e-02, -7.27031911e-02,\n         -6.76812301e-02, -6.26609755e-02, -5.76422995e-02, -5.26250751e-02,\n         -4.76091750e-02, -4.25944724e-02, -3.75808407e-02, -3.25681535e-02,\n         -2.75562846e-02, -2.25451077e-02, -1.75344969e-02, -1.25243263e-02,\n         -7.51447003e-03, -2.50480239e-03,  2.50480239e-03,  7.51447003e-03,\n          1.25243263e-02,  1.75344969e-02,  2.25451077e-02,  2.75562846e-02,\n          3.25681535e-02,  3.75808407e-02,  4.25944724e-02,  4.76091750e-02,\n          5.26250751e-02,  5.76422995e-02,  6.26609755e-02,  6.76812301e-02,\n          7.27031911e-02,  7.77269864e-02,  8.27527442e-02,  8.77805930e-02,\n          9.28106619e-02,  9.78430801e-02,  1.02877978e-01,  1.07915484e-01,\n          1.12955731e-01,  1.17998849e-01,  1.23044970e-01,  1.28094226e-01,\n          1.33146749e-01,  1.38202675e-01,  1.43262135e-01,  1.48325265e-01,\n          1.53392201e-01,  1.58463078e-01,  1.63538032e-01,  1.68617203e-01,\n          1.73700727e-01,  1.78788743e-01,  1.83881393e-01,  1.88978816e-01,\n          1.94081154e-01,  1.99188550e-01,  2.04301147e-01,  2.09419090e-01,\n          2.14542524e-01,  2.19671596e-01,  2.24806454e-01,  2.29947246e-01,\n          2.35094122e-01,  2.40247233e-01,  2.45406732e-01,  2.50572773e-01,\n          2.55745509e-01,  2.60925097e-01,  2.66111695e-01,  2.71305462e-01,\n          2.76506557e-01,  2.81715143e-01,  2.86931384e-01,  2.92155443e-01,\n          2.97387487e-01,  3.02627686e-01,  3.07876207e-01,  3.13133223e-01,\n          3.18398908e-01,  3.23673435e-01,  3.28956983e-01,  3.34249730e-01,\n          3.39551857e-01,  3.44863547e-01,  3.50184986e-01,  3.55516359e-01,\n          3.60857856e-01,  3.66209669e-01,  3.71571992e-01,  3.76945020e-01,\n          3.82328953e-01,  3.87723992e-01,  3.93130339e-01,  3.98548202e-01,\n          4.03977788e-01,  4.09419311e-01,  4.14872983e-01,  4.20339023e-01,\n          4.25817651e-01,  4.31309089e-01,  4.36813566e-01,  4.42331309e-01,\n          4.47862553e-01,  4.53407532e-01,  4.58966488e-01,  4.64539663e-01,\n          4.70127305e-01,  4.75729663e-01,  4.81346993e-01,  4.86979553e-01,\n          4.92627606e-01,  4.98291417e-01,  5.03971258e-01,  5.09667405e-01,\n          5.15380136e-01,  5.21109737e-01,  5.26856497e-01,  5.32620709e-01,\n          5.38402673e-01,  5.44202692e-01,  5.50021077e-01,  5.55858142e-01,\n          5.61714207e-01,  5.67589599e-01,  5.73484651e-01,  5.79399700e-01,\n          5.85335090e-01,  5.91291174e-01,  5.97268307e-01,  6.03266856e-01,\n          6.09287191e-01,  6.15329690e-01,  6.21394740e-01,  6.27482735e-01,\n          6.33594076e-01,  6.39729174e-01,  6.45888445e-01,  6.52072317e-01,\n          6.58281226e-01,  6.64515617e-01,  6.70775943e-01,  6.77062670e-01,\n          6.83376271e-01,  6.89717230e-01,  6.96086043e-01,  7.02483218e-01,\n          7.08909270e-01,  7.15364731e-01,  7.21850142e-01,  7.28366057e-01,\n          7.34913044e-01,  7.41491685e-01,  7.48102575e-01,  7.54746322e-01,\n          7.61423551e-01,  7.68134903e-01,  7.74881033e-01,  7.81662614e-01,\n          7.88480336e-01,  7.95334905e-01,  8.02227049e-01,  8.09157513e-01,\n          8.16127061e-01,  8.23136480e-01,  8.30186576e-01,  8.37278180e-01,\n          8.44412143e-01,  8.51589342e-01,  8.58810678e-01,  8.66077081e-01,\n          8.73389502e-01,  8.80748927e-01,  8.88156365e-01,  8.95612861e-01,\n          9.03119487e-01,  9.10677353e-01,  9.18287599e-01,  9.25951403e-01,\n          9.33669982e-01,  9.41444591e-01,  9.49276525e-01,  9.57167125e-01,\n          9.65117774e-01,  9.73129904e-01,  9.81204996e-01,  9.89344581e-01,\n          9.97550247e-01,  1.00582364e+00,  1.01416645e+00,  1.02258046e+00,\n          1.03106750e+00,  1.03962946e+00,  1.04826831e+00,  1.05698612e+00,\n          1.06578501e+00,  1.07466719e+00,  1.08363498e+00,  1.09269077e+00,\n          1.10183707e+00,  1.11107648e+00,  1.12041173e+00,  1.12984566e+00,\n          1.13938123e+00,  1.14902154e+00,  1.15876983e+00,  1.16862950e+00,\n          1.17860411e+00,  1.18869738e+00,  1.19891322e+00,  1.20925574e+00,\n          1.21972926e+00,  1.23033831e+00,  1.24108768e+00,  1.25198239e+00,\n          1.26302778e+00,  1.27422944e+00,  1.28559331e+00,  1.29712567e+00,\n          1.30883317e+00,  1.32072287e+00,  1.33280226e+00,  1.34507932e+00,\n          1.35756253e+00,  1.37026095e+00,  1.38318426e+00,  1.39634279e+00,\n          1.40974764e+00,  1.42341071e+00,  1.43734479e+00,  1.45156367e+00,\n          1.46608224e+00,  1.48091659e+00,  1.49608418e+00,  1.51160399e+00,\n          1.52749667e+00,  1.54378481e+00,  1.56049314e+00,  1.57764883e+00,\n          1.59528183e+00,  1.61342528e+00,  1.63211595e+00,  1.65139483e+00,\n          1.67130780e+00,  1.69190643e+00,  1.71324904e+00,  1.73540186e+00,\n          1.75844061e+00,  1.78245240e+00,  1.80753820e+00,  1.83381593e+00,\n          1.86142459e+00,  1.89052965e+00,  1.92133033e+00,  1.95406954e+00,\n          1.98904794e+00,  2.02664403e+00,  2.06734403e+00,  2.11178767e+00,\n          2.16084152e+00,  2.21572267e+00,  2.27822091e+00,  2.35113311e+00,\n          2.43921385e+00,  2.55162541e+00,  2.71015927e+00,  2.99209858e+00]),\n  array([  0,   0,   0,   0,   0,   0,   0,   0,   0,   0,   0,   0,   0,\n           0,   0,   0,   0,   0,   0,   0,   0,   0,   0,   0,   0,   0,\n           0,   0,   0,   0,   0,   0,   0,   0,   0,   0,   0,   0,   0,\n           0,   0,   0,   0,   0,   0,   0,   0,   0,   0,   0,   0,   0,\n           0,   0,   0,   0,   0,   0,   0,   0,   0,   0,   0,   0,   0,\n           0,   0,   0,   0,   0,   0,   0,   0,   0,   0,   0,   0,   0,\n           0,   0,   0,   0,   0,   0,   0,   0,   0,   0,   0,   0,   0,\n           0,   0,   0,   0,   0,   0,   0,   0,   0,   0,   0,   0,   0,\n           0,   0,   0,   0,   0,   0,   0,   0,   0,   0,   0,   0,   0,\n           0,   0,   0,   0,   0,   0,   0,   0,   0,   0,   0,   0,   0,\n           0,   0,   0,   0,   0,   0,   0,   0,   0,   0,   0,   0,   0,\n           0,   0,   0,   0,   0,   0,   0,   0,   0,   0,   0,   0,   0,\n           0,   0,   0,   0,   0,   0,   0,   0,   0,   0,   0,   0,   0,\n           0,   0,   0,   0,   0,   0,   0,   0,   0,   0,   0,   0,   0,\n           0,   0,   0,   0,   0,   0,   0,   0,   0,   0,   0,   0,   0,\n           0,   0,   0,   0,   0,   0,   0,   0,   0,   0,   0,   0,   0,\n           0,   0,   0,   0,   0,   0,   0,   0,   0,   0,   0,   0,   0,\n           0,   0,   0,   0,   0,   0,   0,   0,   0,   0,   0,   0,   0,\n           0,   0,   0,   0,   0,   0,   0,   0,   0,   0,   0,   0,   0,\n           0,   0,   0,   0,   0,   0,   0,   0,   0,   0,   0,   0,   0,\n           0,   0,   0,   0,   0,   0,   0,   0,   0,   0,   0,   0,   0,\n           0,   0,   0,   0,   0,   0,   0,   1,   2,   2,   2,   2,   2,\n           2,   2,   2,   2,   2,   2,   2,   2,   2,   2,   2,   2,   2,\n           2,   2,   2,   2,   2,   2,   2,   2,   2,   2,   2,   2,   2,\n           2,   2,   2,   2,   2,   2,   2,   2,   2,   2,   2,   2,   2,\n           2,   2,   2,   2,   2,   2,   2,   2,   2,   2,   2,   2,   2,\n           2,   2,   2,   2,   2,   2,   2,   2,   2,   2,   2,   2,   2,\n           2,   2,   2,   2,   2,   2,   2,   2,   2,   2,   2,   2,   2,\n           2,   2,   2,   2,   2,   2,   2,   2,   2,   2,   2,   2,   2,\n           2,   2,   2,   2,   2,   2,   2,   2,   2,   2,   2,   2,   2,\n           2,   2,   2,   2,   2,   2,   2,   2,   2,   2,   2,   2,   2,\n           2,   2,   2,   2,   2,   2,   2,   2,   2,   2,   2,   2,   2,\n           2,   2,   2,   2,   2,   2,   2,   2,   2,   2,   2,   2,   2,\n           2,   2,   3,   3,   3,   3,   3,   3,   3,   3,   3,   3,   3,\n           3,   3,   3,   3,   3,   3,   3,   3,   3,   3,   3,   3,   3,\n           3,   3,   3,   3,   3,   3,   3,   3,   3,   3,   3,   3,   3,\n           3,   3,   3,   3,   4,   5,   5,   5,   5,   5,   5,   5,   5,\n           5,   5,   5,   5,   5,   5,   5,   5,   5,   5,   5,   5,   7,\n           7,   8,  11,  11,  26, 221])),\n (2.752868593546496, 1.6380000000000001, 0.27370830078697583))"
     },
     "execution_count": 42,
     "metadata": {},
     "output_type": "execute_result"
    },
    {
     "data": {
      "text/plain": "<Figure size 640x480 with 1 Axes>",
      "image/png": "[encoded data removed]"
     },
     "metadata": {},
     "output_type": "display_data"
    }
   ],
   "source": [
    "stats.probplot(df['/JS'], plot=plt)"
   ],
   "metadata": {
    "collapsed": false,
    "pycharm": {
     "name": "#%%\n"
    }
   }
  },
  {
   "cell_type": "markdown",
   "source": "",
   "metadata": {
    "collapsed": false,
    "pycharm": {
     "name": "#%% md\n"
    }
   }
  },
  {
   "cell_type": "code",
   "execution_count": 15,
   "outputs": [
    {
     "data": {
      "text/plain": "458.96525193959326"
     },
     "execution_count": 15,
     "metadata": {},
     "output_type": "execute_result"
    }
   ],
   "source": [],
   "metadata": {
    "collapsed": false,
    "pycharm": {
     "name": "#%%\n"
    }
   }
  },
  {
   "cell_type": "markdown",
   "source": [
    "## 데이터 분포 및 qq-plot 확인"
   ],
   "metadata": {
    "collapsed": false,
    "pycharm": {
     "name": "#%% md\n"
    }
   }
  },
  {
   "cell_type": "code",
   "execution_count": 38,
   "outputs": [
    {
     "data": {
      "text/plain": "<Figure size 640x480 with 0 Axes>"
     },
     "metadata": {},
     "output_type": "display_data"
    }
   ],
   "source": [
    "columns = df.columns\n",
    "plt.clf()\n",
    "for col in columns:\n",
    "    data = df[col]\n",
    "    fig, ax = plt.subplots(2, 1)\n",
    "    ax1 = plt.subplot(221)\n",
    "    sns.histplot(data, ax=ax[0],kde=True)\n",
    "    ax2 = plt.subplot(222)\n",
    "    stats.probplot(data, plot=plt)\n",
    "    fig.suptitle(col)\n",
    "    plt.show()\n",
    "    plt.clf()"
   ],
   "metadata": {
    "collapsed": false,
    "pycharm": {
     "name": "#%%\n"
    }
   }
  },
  {
   "cell_type": "markdown",
   "source": [
    "## box plot"
   ],
   "metadata": {
    "collapsed": false,
    "pycharm": {
     "name": "#%% md\n"
    }
   }
  },
  {
   "cell_type": "code",
   "execution_count": 44,
   "outputs": [
    {
     "data": {
      "text/plain": "<Figure size 640x480 with 2 Axes>",
      "image/png": "[encoded data removed]"
     },
     "metadata": {},
     "output_type": "display_data"
    },
    {
     "data": {
      "text/plain": "<Figure size 640x480 with 0 Axes>"
     },
     "metadata": {},
     "output_type": "display_data"
    },
    {
     "data": {
      "text/plain": "<Figure size 640x480 with 2 Axes>",
      "image/png": "[encoded data removed]"
     },
     "metadata": {},
     "output_type": "display_data"
    },
    {
     "data": {
      "text/plain": "<Figure size 640x480 with 0 Axes>"
     },
     "metadata": {},
     "output_type": "display_data"
    },
    {
     "data": {
      "text/plain": "<Figure size 640x480 with 2 Axes>",
      "image/png": "[encoded data removed]"
     },
     "metadata": {},
     "output_type": "display_data"
    },
    {
     "data": {
      "text/plain": "<Figure size 640x480 with 0 Axes>"
     },
     "metadata": {},
     "output_type": "display_data"
    },
    {
     "data": {
      "text/plain": "<Figure size 640x480 with 2 Axes>",
      "image/png": "[encoded data removed]"
     },
     "metadata": {},
     "output_type": "display_data"
    },
    {
     "data": {
      "text/plain": "<Figure size 640x480 with 0 Axes>"
     },
     "metadata": {},
     "output_type": "display_data"
    },
    {
     "data": {
      "text/plain": "<Figure size 640x480 with 2 Axes>",
      "image/png": "[encoded data removed]"
     },
     "metadata": {},
     "output_type": "display_data"
    },
    {
     "data": {
      "text/plain": "<Figure size 640x480 with 0 Axes>"
     },
     "metadata": {},
     "output_type": "display_data"
    }
   ],
   "source": [
    "columns = df.columns\n",
    "for col in columns[:5]:\n",
    "    data = df[col]\n",
    "    fig, ax = plt.subplots(2, 1)\n",
    "    ax[0].boxplot(data)\n",
    "    stats.probplot(data, plot=plt)\n",
    "    fig.suptitle(col)\n",
    "    plt.show()\n",
    "    plt.clf()"
   ],
   "metadata": {
    "collapsed": false,
    "pycharm": {
     "name": "#%%\n"
    }
   }
  },
  {
   "cell_type": "markdown",
   "source": [
    "## 이상치 제거"
   ],
   "metadata": {
    "collapsed": false,
    "pycharm": {
     "name": "#%% md\n"
    }
   }
  },
  {
   "cell_type": "code",
   "execution_count": 48,
   "outputs": [
    {
     "name": "stdout",
     "output_type": "stream",
     "text": [
      "/JS                0.00000\n",
      "/AA                0.00000\n",
      "/OpenAction        0.00000\n",
      "/AcroForm          0.00000\n",
      "/RichMedia         0.00000\n",
      "/Launch            0.00000\n",
      "/EmbeddedFile      0.00000\n",
      "/XFA               0.00000\n",
      "/URI               0.00000\n",
      "/F                 0.00000\n",
      "/GoToE             0.00000\n",
      "/Extends           0.00000\n",
      "/Annot             0.00000\n",
      "/Length            0.00000\n",
      "/Filter            2.00000\n",
      "/FlateDecode       2.00000\n",
      "/XObject           0.00000\n",
      "/Encrypt           0.00000\n",
      "/CreationDate      0.00000\n",
      "/Author            1.00000\n",
      "subject            1.00000\n",
      "/ModDate           0.00000\n",
      "html               1.00000\n",
      "Script             0.00000\n",
      "powershell.exe     0.00000\n",
      "cmd.exe            0.00000\n",
      "ascii_c            0.00000\n",
      "sys                0.00000\n",
      "root               0.00000\n",
      "reg                0.00000\n",
      "exe                1.00000\n",
      "http               0.00000\n",
      "domain             1.00000\n",
      "filepath           3.00000\n",
      "ascii              3.00000\n",
      "xml                0.00000\n",
      "dll                0.00000\n",
      "unescape           0.00000\n",
      "%u9090%u9090       0.00000\n",
      "getIcon            0.00000\n",
      "temptmp            0.00000\n",
      "eval               0.00000\n",
      "%appdata%          0.00000\n",
      "chunk              0.00000\n",
      "base64             0.00000\n",
      "mkdir              0.00000\n",
      "replace            0.00000\n",
      "fromCharCode       0.00000\n",
      "getAnnots          0.00000\n",
      "ip                 1.00000\n",
      "xref_size          9.00000\n",
      "trailer_size       9.00000\n",
      "file_size         10.22125\n",
      "nof_stream         8.00000\n",
      "class              0.00000\n",
      "Name: 0.25, dtype: float64 /JS                 2.00000\n",
      "/AA                 0.00000\n",
      "/OpenAction         1.00000\n",
      "/AcroForm           1.00000\n",
      "/RichMedia          0.00000\n",
      "/Launch             0.00000\n",
      "/EmbeddedFile       0.00000\n",
      "/XFA                0.00000\n",
      "/URI                0.00000\n",
      "/F                  0.00000\n",
      "/GoToE              0.00000\n",
      "/Extends            0.00000\n",
      "/Annot              1.00000\n",
      "/Length             1.00000\n",
      "/Filter            22.00000\n",
      "/FlateDecode       19.00000\n",
      "/XObject            2.00000\n",
      "/Encrypt            0.00000\n",
      "/CreationDate       2.00000\n",
      "/Author             2.00000\n",
      "subject             2.00000\n",
      "/ModDate            1.00000\n",
      "html                1.00000\n",
      "Script              3.00000\n",
      "powershell.exe      0.00000\n",
      "cmd.exe             0.00000\n",
      "ascii_c             0.00000\n",
      "sys                 3.00000\n",
      "root                0.00000\n",
      "reg                 0.00000\n",
      "exe                 1.00000\n",
      "http                3.00000\n",
      "domain              7.00000\n",
      "filepath           25.00000\n",
      "ascii              38.00000\n",
      "xml                 2.00000\n",
      "dll                 0.00000\n",
      "unescape            0.00000\n",
      "%u9090%u9090        0.00000\n",
      "getIcon             0.00000\n",
      "temptmp             1.00000\n",
      "eval                0.00000\n",
      "%appdata%           0.00000\n",
      "chunk               0.00000\n",
      "base64              0.00000\n",
      "mkdir               0.00000\n",
      "replace             0.00000\n",
      "fromCharCode        0.00000\n",
      "getAnnots           0.00000\n",
      "ip                  7.00000\n",
      "xref_size          55.25000\n",
      "trailer_size       84.25000\n",
      "file_size         104.57525\n",
      "nof_stream         65.25000\n",
      "class               1.00000\n",
      "Name: 0.75, dtype: float64\n",
      "/JS                2.000\n",
      "/AA                0.000\n",
      "/OpenAction        1.000\n",
      "/AcroForm          1.000\n",
      "/RichMedia         0.000\n",
      "/Launch            0.000\n",
      "/EmbeddedFile      0.000\n",
      "/XFA               0.000\n",
      "/URI               0.000\n",
      "/F                 0.000\n",
      "/GoToE             0.000\n",
      "/Extends           0.000\n",
      "/Annot             1.000\n",
      "/Length            1.000\n",
      "/Filter           20.000\n",
      "/FlateDecode      17.000\n",
      "/XObject           2.000\n",
      "/Encrypt           0.000\n",
      "/CreationDate      2.000\n",
      "/Author            1.000\n",
      "subject            1.000\n",
      "/ModDate           1.000\n",
      "html               0.000\n",
      "Script             3.000\n",
      "powershell.exe     0.000\n",
      "cmd.exe            0.000\n",
      "ascii_c            0.000\n",
      "sys                3.000\n",
      "root               0.000\n",
      "reg                0.000\n",
      "exe                0.000\n",
      "http               3.000\n",
      "domain             6.000\n",
      "filepath          22.000\n",
      "ascii             35.000\n",
      "xml                2.000\n",
      "dll                0.000\n",
      "unescape           0.000\n",
      "%u9090%u9090       0.000\n",
      "getIcon            0.000\n",
      "temptmp            1.000\n",
      "eval               0.000\n",
      "%appdata%          0.000\n",
      "chunk              0.000\n",
      "base64             0.000\n",
      "mkdir              0.000\n",
      "replace            0.000\n",
      "fromCharCode       0.000\n",
      "getAnnots          0.000\n",
      "ip                 6.000\n",
      "xref_size         46.250\n",
      "trailer_size      75.250\n",
      "file_size         94.354\n",
      "nof_stream        57.250\n",
      "class              1.000\n",
      "dtype: float64\n",
      "           /JS  /AA  /OpenAction  /AcroForm  /RichMedia  /Launch  \\\n",
      "file_name                                                          \n",
      "file_000     0    0            2          0           0        0   \n",
      "file_001     0    0            0          0           0        0   \n",
      "file_002     0    0            0          1           0        0   \n",
      "file_003     2    0            1          0           0        0   \n",
      "file_004     0    0            0          0           0        0   \n",
      "\n",
      "           /EmbeddedFile  /XFA  /URI  /F  ...  mkdir  replace  fromCharCode  \\\n",
      "file_name                                 ...                                 \n",
      "file_000               0     0     0   0  ...      0        2             0   \n",
      "file_001               0     0     2   2  ...      0        0             0   \n",
      "file_002               0     0     0   0  ...      0        0             0   \n",
      "file_003               0     0     0   0  ...      0        0             1   \n",
      "file_004               1     0     0   1  ...      0        0             0   \n",
      "\n",
      "           getAnnots  ip  xref_size  trailer_size  file_size  nof_stream  \\\n",
      "file_name                                                                  \n",
      "file_000           0   7         44            44    270.909          83   \n",
      "file_001           0   6        253           506    680.998          76   \n",
      "file_002           0   9          0             0    207.992          66   \n",
      "file_003           1   1         10            10     16.311           8   \n",
      "file_004           0   5         31            51     30.996          28   \n",
      "\n",
      "           class  \n",
      "file_name         \n",
      "file_000       1  \n",
      "file_001       0  \n",
      "file_002       1  \n",
      "file_003       1  \n",
      "file_004       0  \n",
      "\n",
      "[5 rows x 55 columns]\n"
     ]
    }
   ],
   "source": [
    "Q1 = df.quantile(q=0.25)\n",
    "Q3 = df.quantile(q=0.75)\n",
    "IQR = Q3-Q1\n",
    "print(Q1, Q3)\n",
    "print(IQR)"
   ],
   "metadata": {
    "collapsed": false,
    "pycharm": {
     "name": "#%%\n"
    }
   }
  },
  {
   "cell_type": "code",
   "execution_count": 70,
   "outputs": [
    {
     "name": "stdout",
     "output_type": "stream",
     "text": [
      "(500, 55)\n",
      "/JS: (493, 55)\n",
      "/AA: (479, 55)\n",
      "/OpenAction: (479, 55)\n",
      "/AcroForm: (476, 55)\n",
      "/RichMedia: (476, 55)\n",
      "/Launch: (473, 55)\n",
      "/EmbeddedFile: (448, 55)\n",
      "/XFA: (436, 55)\n",
      "/URI: (376, 55)\n",
      "/F: (353, 55)\n",
      "/GoToE: (353, 55)\n",
      "/Extends: (332, 55)\n",
      "/Annot: (332, 55)\n",
      "/Length: (310, 55)\n",
      "/Filter: (300, 55)\n",
      "/FlateDecode: (298, 55)\n",
      "/XObject: (292, 55)\n",
      "/Encrypt: (292, 55)\n",
      "/CreationDate: (292, 55)\n",
      "/Author: (292, 55)\n",
      "subject: (287, 55)\n",
      "/ModDate: (287, 55)\n",
      "html: (273, 55)\n",
      "Script: (271, 55)\n",
      "powershell.exe: (271, 55)\n",
      "cmd.exe: (271, 55)\n",
      "ascii_c: (271, 55)\n",
      "sys: (271, 55)\n",
      "root: (259, 55)\n",
      "reg: (259, 55)\n",
      "exe: (248, 55)\n",
      "http: (248, 55)\n",
      "domain: (248, 55)\n",
      "filepath: (248, 55)\n",
      "ascii: (248, 55)\n",
      "xml: (248, 55)\n",
      "dll: (232, 55)\n",
      "unescape: (171, 55)\n",
      "%u9090%u9090: (171, 55)\n",
      "getIcon: (169, 55)\n",
      "temptmp: (169, 55)\n",
      "eval: (149, 55)\n",
      "%appdata%: (149, 55)\n",
      "chunk: (149, 55)\n",
      "base64: (149, 55)\n",
      "mkdir: (149, 55)\n",
      "replace: (132, 55)\n",
      "fromCharCode: (77, 55)\n",
      "getAnnots: (75, 55)\n",
      "ip: (75, 55)\n",
      "xref_size: (71, 55)\n",
      "trailer_size: (71, 55)\n",
      "file_size: (71, 55)\n",
      "nof_stream: (71, 55)\n"
     ]
    }
   ],
   "source": [
    "post_df = df.copy()\n",
    "print(post_df.shape)\n",
    "iqr_mul = 1.5\n",
    "for col in columns[:-1]:\n",
    "    post_df = post_df[(post_df[col] <= Q3[col]+iqr_mul*IQR[col]) & (post_df[col] >= Q1[col]-iqr_mul*IQR[col])]\n",
    "    print(f\"{col}: {post_df.shape}\")"
   ],
   "metadata": {
    "collapsed": false,
    "pycharm": {
     "name": "#%%\n"
    }
   }
  },
  {
   "cell_type": "markdown",
   "source": [
    "- 모든 데이터에 적용할 경우, 500개에서 71개까지 줄어드는 현상을 볼 수 있음\n",
    "- 따라서, 정규분포에서 많이 벗어나는 특정 컬럼에만 적용하여 작업을 진행 혹은 iqr_mul을 늘려서 작업 필요\n",
    "- 본 연구에서는 c1, c2, c3, c4에만 적용"
   ],
   "metadata": {
    "collapsed": false,
    "pycharm": {
     "name": "#%% md\n"
    }
   }
  }
 ],
 "metadata": {
  "kernelspec": {
   "display_name": "Python 3",
   "language": "python",
   "name": "python3"
  },
  "language_info": {
   "codemirror_mode": {
    "name": "ipython",
    "version": 2
   },
   "file_extension": ".py",
   "mimetype": "text/x-python",
   "name": "python",
   "nbconvert_exporter": "python",
   "pygments_lexer": "ipython2",
   "version": "2.7.6"
  }
 },
 "nbformat": 4,
 "nbformat_minor": 0
}
