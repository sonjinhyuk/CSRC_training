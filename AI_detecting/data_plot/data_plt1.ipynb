{
 "cells": [
  {
   "cell_type": "markdown",
   "metadata": {
    "collapsed": true,
    "pycharm": {
     "name": "#%% md\n"
    }
   },
   "source": [
    "# 시각화 패키지 사용법\n",
    "## matplot 기본 사용"
   ]
  },
  {
   "cell_type": "code",
   "source": [
    "import matplotlib.pyplot as plt # matplotlib 패키지의 pyplot 모듈"
   ],
   "metadata": {
    "collapsed": false,
    "pycharm": {
     "name": "#%%\n"
    }
   },
   "outputs": [],
   "execution_count": null
  },
  {
   "cell_type": "markdown",
   "source": [
    "- plt.plot(데이터)"
   ],
   "metadata": {
    "collapsed": false,
    "pycharm": {
     "name": "#%% md\n"
    }
   }
  },
  {
   "cell_type": "code",
   "source": [
    "plt.figure() # 액자 만들기\n",
    "plt.show() #액자 출력하기"
   ],
   "metadata": {
    "collapsed": false,
    "pycharm": {
     "name": "#%%\n"
    }
   },
   "outputs": [],
   "execution_count": null
  },
  {
   "cell_type": "code",
   "source": [
    "plt.figure()\n",
    "plt.plot([1, 2, 3, 4])\n",
    "plt.show()"
   ],
   "metadata": {
    "collapsed": false,
    "pycharm": {
     "name": "#%%\n"
    }
   },
   "outputs": [],
   "execution_count": null
  },
  {
   "cell_type": "code",
   "source": [
    "plt.figure(figsize= (3, 5))\n",
    "plt.plot([1, 2, 3, 4])\n",
    "plt.show()"
   ],
   "metadata": {
    "collapsed": false,
    "pycharm": {
     "name": "#%%\n"
    }
   },
   "outputs": [],
   "execution_count": null
  },
  {
   "cell_type": "markdown",
   "source": [
    "- plt.plot(x축, y축)"
   ],
   "metadata": {
    "collapsed": false,
    "pycharm": {
     "name": "#%% md\n"
    }
   }
  },
  {
   "cell_type": "code",
   "source": [
    "plt.figure()\n",
    "plt.plot([1,2,3,4], [1,4,9,16])\n",
    "plt.show()"
   ],
   "metadata": {
    "collapsed": false,
    "pycharm": {
     "name": "#%%\n"
    }
   },
   "outputs": [],
   "execution_count": null
  },
  {
   "cell_type": "code",
   "source": [
    "plt.figure()\n",
    "plt.plot([1,2,3,4], [1,4,9,16])\n",
    "plt.title(\"matplot chart\", fontsize=15)\n",
    "plt.show()"
   ],
   "metadata": {
    "collapsed": false,
    "pycharm": {
     "name": "#%%\n"
    }
   },
   "outputs": [],
   "execution_count": null
  },
  {
   "cell_type": "code",
   "source": [
    "plt.figure()\n",
    "plt.plot([1,2,3,4], [1,4,9,16])\n",
    "plt.title(\"matplot chart\", fontsize=15)\n",
    "plt.xlabel(\"X-Label\", fontsize=13)\n",
    "plt.ylabel(\"Y-Label\", fontsize=13)\n",
    "plt.show()"
   ],
   "metadata": {
    "collapsed": false,
    "pycharm": {
     "name": "#%%\n"
    }
   },
   "outputs": [],
   "execution_count": null
  },
  {
   "cell_type": "code",
   "source": [
    "plt.figure()\n",
    "plt.plot([1,2,3,4], [1,4,9,16])\n",
    "plt.title(\"matplot chart\", fontsize=15)\n",
    "plt.xlabel(\"X-Label\", fontsize=13)\n",
    "plt.ylabel(\"Y-Label\", fontsize=13)\n",
    "plt.xticks(ticks=[1,2,3,4])\n",
    "plt.yticks(ticks=[4, 8, 12, 16])\n",
    "plt.show()"
   ],
   "metadata": {
    "collapsed": false,
    "pycharm": {
     "name": "#%%\n"
    }
   },
   "outputs": [],
   "execution_count": null
  },
  {
   "cell_type": "markdown",
   "source": [
    "- x축, y축 범위 지정"
   ],
   "metadata": {
    "collapsed": false,
    "pycharm": {
     "name": "#%% md\n"
    }
   }
  },
  {
   "cell_type": "code",
   "source": [
    "plt.figure()\n",
    "plt.plot([1,2,3,4], [1,4,9,16])\n",
    "plt.title(\"matplot chart\", fontsize=15)\n",
    "plt.xlabel(\"X-Label\", fontsize=13)\n",
    "plt.ylabel(\"Y-Label\", fontsize=13)\n",
    "#plt.axis([x측 최소. x측 최대. y측 최소. y축 최대])\n",
    "# plt.axis([0, 5, 0, 20])\n",
    "plt.axis(xmax=5, ymax=20)\n",
    "plt.show()"
   ],
   "metadata": {
    "collapsed": false,
    "pycharm": {
     "name": "#%%\n"
    }
   },
   "outputs": [],
   "execution_count": null
  },
  {
   "cell_type": "code",
   "source": [
    "plt.figure()\n",
    "plt.plot([1,2,3,4], [1,4,9,16])\n",
    "plt.title(\"matplot chart\", fontsize=15)\n",
    "plt.xlabel(\"X-Label\", fontsize=13)\n",
    "plt.ylabel(\"Y-Label\", fontsize=13)\n",
    "plt.xlim(0, 5)\n",
    "plt.ylim(0, 20)\n",
    "plt.show()"
   ],
   "metadata": {
    "collapsed": false,
    "pycharm": {
     "name": "#%%\n"
    }
   },
   "outputs": [],
   "execution_count": null
  },
  {
   "cell_type": "code",
   "source": [
    "plt.figure()\n",
    "plt.plot([1,2,3,4], [1,4,9,16], color='m') # b, k, y, m, w, g\n",
    "plt.title(\"matplot chart\", fontsize=15)\n",
    "plt.xlabel(\"X-Label\", fontsize=13)\n",
    "plt.ylabel(\"Y-Label\", fontsize=13)\n",
    "plt.show()"
   ],
   "metadata": {
    "collapsed": false,
    "pycharm": {
     "name": "#%%\n"
    }
   },
   "outputs": [],
   "execution_count": null
  },
  {
   "cell_type": "code",
   "source": [
    "plt.figure()\n",
    "# plt.plot([1,2,3,4], [1,4,9,16], color='m') # b, k, y, m, w, g\n",
    "# plt.plot([1,2,3,4], [1,4,9,16], color='red') # 칼라명칭(CSS색상 참조)\n",
    "# plt.plot([1,2,3,4], [1,4,9,16], color='#3ba889') # HEX code\n",
    "plt.plot([1,2,3,4], [1,4,9,16], color=(0.2, 0.9, 0)) # RGB code, 0~1사이의 정규화된 값\n",
    "plt.title(\"matplot chart\", fontsize=15)\n",
    "plt.xlabel(\"X-Label\", fontsize=13)\n",
    "plt.ylabel(\"Y-Label\", fontsize=13)\n",
    "plt.show()"
   ],
   "metadata": {
    "collapsed": false,
    "pycharm": {
     "name": "#%%\n"
    }
   },
   "outputs": [],
   "execution_count": null
  },
  {
   "cell_type": "markdown",
   "source": [
    "- 마커 및 라인 스타일"
   ],
   "metadata": {
    "collapsed": false,
    "pycharm": {
     "name": "#%% md\n"
    }
   }
  },
  {
   "cell_type": "code",
   "source": [
    "plt.figure()\n",
    "plt.plot([1,2,3,4], [1,4,9,16], color='m', marker = '+') # b, k, y, m, w, g\n",
    "plt.title(\"matplot chart\", fontsize=15)\n",
    "plt.xlabel(\"X-Label\", fontsize=13)\n",
    "plt.ylabel(\"Y-Label\", fontsize=13)\n",
    "plt.show()"
   ],
   "metadata": {
    "collapsed": false,
    "pycharm": {
     "name": "#%%\n"
    }
   },
   "outputs": [],
   "execution_count": null
  },
  {
   "cell_type": "code",
   "source": [
    "plt.figure()\n",
    "plt.plot([1,2,3,4], [1,4,9,16], color='m', marker = '+', linestyle=':') # b, k, y, m, w, g\n",
    "plt.title(\"matplot chart\", fontsize=15)\n",
    "plt.xlabel(\"X-Label\", fontsize=13)\n",
    "plt.ylabel(\"Y-Label\", fontsize=13)\n",
    "plt.show()"
   ],
   "metadata": {
    "collapsed": false,
    "pycharm": {
     "name": "#%%\n"
    }
   },
   "outputs": [],
   "execution_count": null
  }
 ],
 "metadata": {
  "kernelspec": {
   "display_name": "Python 3",
   "language": "python",
   "name": "python3"
  },
  "language_info": {
   "codemirror_mode": {
    "name": "ipython",
    "version": 2
   },
   "file_extension": ".py",
   "mimetype": "text/x-python",
   "name": "python",
   "nbconvert_exporter": "python",
   "pygments_lexer": "ipython2",
   "version": "2.7.6"
  }
 },
 "nbformat": 4,
 "nbformat_minor": 0
}
