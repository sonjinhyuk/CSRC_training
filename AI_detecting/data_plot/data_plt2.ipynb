{
 "cells": [
  {
   "cell_type": "markdown",
   "metadata": {
    "collapsed": true,
    "pycharm": {
     "name": "#%% md\n"
    }
   },
   "source": [
    "# 시각화 패키지 사용법\n",
    "## 그래프 여러개 그리기"
   ]
  },
  {
   "cell_type": "code",
   "source": [
    "import matplotlib.pyplot as plt # matplotlib 패키지의 pyplot 모듈"
   ],
   "metadata": {
    "collapsed": false,
    "pycharm": {
     "name": "#%%\n"
    }
   },
   "outputs": [],
   "execution_count": null
  },
  {
   "cell_type": "markdown",
   "source": [
    "- subplot와 subplots 모두 한번에 여러 그래프를 보여주기 위해 사용되지만, 코드 사용법이 다름"
   ],
   "metadata": {
    "collapsed": false,
    "pycharm": {
     "name": "#%% md\n"
    }
   }
  },
  {
   "cell_type": "code",
   "source": [
    "# subplot(row, col, index)\n",
    "plt.figure()\n",
    "plt.subplot(2,1,1)\n",
    "plt.subplot(2,1,2)\n",
    "plt.show()"
   ],
   "metadata": {
    "collapsed": false,
    "pycharm": {
     "name": "#%%\n"
    }
   },
   "outputs": [],
   "execution_count": null
  },
  {
   "cell_type": "code",
   "source": [
    "# subplot(rowcolindex)\n",
    "plt.figure()\n",
    "plt.subplot(211)\n",
    "plt.subplot(212)\n",
    "plt.show()"
   ],
   "metadata": {
    "collapsed": false,
    "pycharm": {
     "name": "#%%\n"
    }
   },
   "outputs": [],
   "execution_count": null
  },
  {
   "cell_type": "code",
   "source": [
    "# subplots\n",
    "fig, ax = plt.subplots(nrows=2, ncols=1)\n",
    "# fig, ax = plt.subplots(2,1)\n",
    "plt.show()"
   ],
   "metadata": {
    "collapsed": false,
    "pycharm": {
     "name": "#%%\n"
    }
   },
   "outputs": [],
   "execution_count": null
  },
  {
   "cell_type": "markdown",
   "source": [
    "## subplot"
   ],
   "metadata": {
    "collapsed": false,
    "pycharm": {
     "name": "#%% md\n"
    }
   }
  },
  {
   "cell_type": "code",
   "source": [
    "plt.figure(figsize=(7, 6))\n",
    "plt.subplot(221)\n",
    "plt.subplot(222)\n",
    "plt.subplot(223)\n",
    "plt.subplot(224)\n",
    "plt.show()"
   ],
   "metadata": {
    "collapsed": false,
    "pycharm": {
     "name": "#%%\n"
    }
   },
   "outputs": [],
   "execution_count": null
  },
  {
   "cell_type": "code",
   "source": [
    "plt.figure(figsize=(7, 6))\n",
    "plt.subplot(221)\n",
    "plt.plot([1, 2, 3, 4], [1, 4, 9, 16])\n",
    "plt.subplot(222)\n",
    "plt.plot([1, 2, 3, 4], [1, 1, 9, 16])\n",
    "plt.subplot(223)\n",
    "plt.plot([1, 2, 3, 4], [1, 2, 3, 3])\n",
    "plt.subplot(224)\n",
    "plt.plot([1, 2, 3, 4], [1, 3, 5, 7])\n",
    "plt.show()"
   ],
   "metadata": {
    "collapsed": false,
    "pycharm": {
     "name": "#%%\n"
    }
   },
   "outputs": [],
   "execution_count": null
  },
  {
   "cell_type": "markdown",
   "source": [
    "## subplots()"
   ],
   "metadata": {
    "collapsed": false,
    "pycharm": {
     "name": "#%% md\n"
    }
   }
  },
  {
   "cell_type": "code",
   "source": [
    "fig, ax = plt.subplots(2,3)\n",
    "plt.show()"
   ],
   "metadata": {
    "collapsed": false,
    "pycharm": {
     "name": "#%%\n"
    }
   },
   "outputs": [],
   "execution_count": null
  },
  {
   "cell_type": "code",
   "source": [
    "fig, ax = plt.subplots(1, 3, figsize=(7, 3))\n",
    "ax[0].plot([1, 2, 3], [1, 2, 3])\n",
    "plt.show()"
   ],
   "metadata": {
    "collapsed": false,
    "pycharm": {
     "name": "#%%\n"
    }
   },
   "outputs": [],
   "execution_count": null
  },
  {
   "cell_type": "code",
   "source": [
    "fig, ax = plt.subplots(1, 3, figsize=(7, 3))\n",
    "ax[0].plot([1, 2, 3], [1, 2, 3])\n",
    "ax[1].plot([1, 2, 3], [2, 2, 3])\n",
    "ax[2].plot([1, 2, 3], [1, 2, 5])\n",
    "plt.show()"
   ],
   "metadata": {
    "collapsed": false,
    "pycharm": {
     "name": "#%%\n"
    }
   },
   "outputs": [],
   "execution_count": null
  },
  {
   "cell_type": "code",
   "source": [
    "fig, ax = plt.subplots(1, 3, figsize=(7, 3))\n",
    "ax[0].plot([1, 2, 3], [1, 2, 3])\n",
    "ax[0].set_title(\"plot1\")\n",
    "ax[0].set_xlabel('X-Axis')\n",
    "ax[0].set_ylabel('Y-Axis')\n",
    "ax[1].plot([1, 2, 3], [2, 2, 3])\n",
    "ax[2].plot([1, 2, 3], [1, 2, 5])\n",
    "plt.show()"
   ],
   "metadata": {
    "collapsed": false,
    "pycharm": {
     "name": "#%%\n"
    }
   },
   "outputs": [],
   "execution_count": null
  },
  {
   "cell_type": "markdown",
   "source": [
    "## 이미지 저장"
   ],
   "metadata": {
    "collapsed": false,
    "pycharm": {
     "name": "#%% md\n"
    }
   }
  },
  {
   "cell_type": "code",
   "source": [
    "fig, ax = plt.subplots(1, 3, figsize=(7, 3))\n",
    "ax[0].plot([1, 2, 3], [1, 2, 3])\n",
    "ax[0].set_title(\"plot1\")\n",
    "ax[0].set_xlabel('X-Axis')\n",
    "ax[0].set_ylabel('Y-Axis')\n",
    "ax[1].plot([1, 2, 3], [2, 2, 3])\n",
    "ax[2].plot([1, 2, 3], [1, 2, 5])\n",
    "plt.savefig(\"image.png\")\n",
    "plt.tight_layout()\n",
    "plt.show()"
   ],
   "metadata": {
    "collapsed": false,
    "pycharm": {
     "name": "#%%\n"
    }
   },
   "outputs": [],
   "execution_count": null
  }
 ],
 "metadata": {
  "kernelspec": {
   "display_name": "Python 3",
   "language": "python",
   "name": "python3"
  },
  "language_info": {
   "codemirror_mode": {
    "name": "ipython",
    "version": 2
   },
   "file_extension": ".py",
   "mimetype": "text/x-python",
   "name": "python",
   "nbconvert_exporter": "python",
   "pygments_lexer": "ipython2",
   "version": "2.7.6"
  }
 },
 "nbformat": 4,
 "nbformat_minor": 0
}
