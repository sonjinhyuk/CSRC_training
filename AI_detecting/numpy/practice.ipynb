{
 "cells": [
  {
   "cell_type": "markdown",
   "source": [
    "# Numpy 패키기"
   ],
   "metadata": {
    "collapsed": false,
    "pycharm": {
     "name": "#%% md\n"
    }
   }
  },
  {
   "cell_type": "code",
   "source": [
    "import numpy as np"
   ],
   "metadata": {
    "collapsed": false,
    "pycharm": {
     "name": "#%%\n"
    },
    "ExecuteTime": {
     "end_time": "2024-07-23T04:11:46.977376Z",
     "start_time": "2024-07-23T04:11:46.839197Z"
    }
   },
   "outputs": [],
   "execution_count": 21
  },
  {
   "cell_type": "markdown",
   "source": [
    "## 문제 1. 3*2행렬 구조로 Array 형태 데이터 A, B를 생성하고, + 연산한 Array를 구하라\n",
    "    - A: [2,3,4,5,6,7]\n",
    "    - B: [1,1,3,3,5,5]"
   ],
   "metadata": {
    "collapsed": false,
    "pycharm": {
     "name": "#%% md\n"
    }
   }
  },
  {
   "cell_type": "code",
   "execution_count": 14,
   "outputs": [
    {
     "data": {
      "text/plain": "array([ 3,  4,  7,  8, 11, 12])"
     },
     "execution_count": 14,
     "metadata": {},
     "output_type": "execute_result"
    }
   ],
   "source": [
    "A=[2,3,4,5,6,7]\n",
    "B=[1,1,3,3,5,5]\n",
    "A = np.array(A)\n",
    "B = np.array(B)\n",
    "A+B"
   ],
   "metadata": {
    "collapsed": false,
    "pycharm": {
     "name": "#%%\n"
    }
   }
  },
  {
   "cell_type": "markdown",
   "source": [
    "## 문제 2. 1~100 사이의 정수 중 랜덤하게 한 개의 숫자 추출"
   ],
   "metadata": {
    "collapsed": false,
    "pycharm": {
     "name": "#%% md\n"
    }
   }
  },
  {
   "cell_type": "code",
   "execution_count": 44,
   "outputs": [
    {
     "data": {
      "text/plain": "100"
     },
     "execution_count": 44,
     "metadata": {},
     "output_type": "execute_result"
    }
   ],
   "source": [
    "np.random.randint(100)+1"
   ],
   "metadata": {
    "collapsed": false,
    "pycharm": {
     "name": "#%%\n"
    }
   }
  },
  {
   "cell_type": "markdown",
   "source": [
    "    - MAX, MIN 값 확인"
   ],
   "metadata": {
    "collapsed": false,
    "pycharm": {
     "name": "#%% md\n"
    }
   }
  },
  {
   "cell_type": "code",
   "execution_count": 45,
   "outputs": [
    {
     "name": "stdout",
     "output_type": "stream",
     "text": [
      "max:100, min:1\n"
     ]
    }
   ],
   "source": [
    "xs = []\n",
    "for i in range(10000):\n",
    "    xs.append(np.random.randint(100)+1)\n",
    "\n",
    "xs = np.array(xs)\n",
    "print(f\"max:{xs.max()}, min:{xs.min()}\")"
   ],
   "metadata": {
    "collapsed": false,
    "pycharm": {
     "name": "#%%\n"
    }
   }
  },
  {
   "cell_type": "markdown",
   "source": [
    "## 문제 3. 실 데이터 활용\n",
    "    - 제공한 PDF feature 2개 결합\n",
    "    - 결합한 데이터에서 랜덤 데이터 추출"
   ],
   "metadata": {
    "collapsed": false,
    "pycharm": {
     "name": "#%% md\n"
    }
   }
  },
  {
   "metadata": {
    "ExecuteTime": {
     "end_time": "2024-07-23T04:26:09.693563Z",
     "start_time": "2024-07-23T04:26:09.673323Z"
    }
   },
   "cell_type": "code",
   "source": [
    "def file_read(file):\n",
    "    with open(file, 'r') as f:\n",
    "        rlines = f.readlines()\n",
    "    non_numberic = 0\n",
    "    return_list = []\n",
    "    for line in rlines:\n",
    "        if non_numberic < 2:\n",
    "            non_numberic += 1\n",
    "            continue\n",
    "        lines = line.strip().split(',')\n",
    "        try:\n",
    "            temp_data = int(lines[-1])\n",
    "        except ValueError:\n",
    "            temp_data = float(lines[-1])\n",
    "        return_list.append(temp_data)\n",
    "    return return_list"
   ],
   "outputs": [],
   "execution_count": 28
  },
  {
   "cell_type": "code",
   "source": [
    "in_file1 = \"../Data/file_00_0.csv\"\n",
    "in_file2 = \"../Data/file_00_1.csv\"\n",
    "array1 = file_read(in_file1)\n",
    "array2 = file_read(in_file2)\n",
    "np_array1 = np.array(array1)\n",
    "np_array2 = np.array(array2)\n",
    "\n",
    "print(np_array1)\n",
    "print(np_array2)"
   ],
   "metadata": {
    "collapsed": false,
    "pycharm": {
     "name": "#%%\n"
    },
    "ExecuteTime": {
     "end_time": "2024-07-23T04:26:43.485982Z",
     "start_time": "2024-07-23T04:26:43.467830Z"
    }
   },
   "outputs": [
    {
     "name": "stdout",
     "output_type": "stream",
     "text": [
      "[  0.      0.      0.      0.      0.      0.      0.      0.      0.\n",
      "   0.      0.      2.      0.      1.     94.     90.      8.      0.\n",
      "   0.      1.      2.      0.      1.      7.      0.      0.      0.\n",
      "  32.      2.      0.      1.      4.      2.     97.    110.      3.\n",
      "   2.      0.      0.      0.      0.      0.      0.      0.      0.\n",
      "   0.      0.      0.      0.     15.      0.      0.    195.771 232.\n",
      "   0.      0.   ]\n",
      "[ 2.     0.     0.     0.     0.     0.     1.     0.     0.     1.\n",
      "  0.     0.     1.     0.     1.     0.     0.     0.     0.     1.\n",
      "  1.     0.     1.     0.     0.     0.     0.     0.     0.     0.\n",
      "  1.     0.     0.     3.     2.     0.     0.     0.     0.     0.\n",
      "  1.     0.     0.     0.     0.     0.     0.     0.     0.     0.\n",
      " 11.    11.     2.112  4.     0.     0.   ]\n"
     ]
    }
   ],
   "execution_count": 36
  },
  {
   "metadata": {},
   "cell_type": "markdown",
   "source": "- 2개의 numpy array 결합"
  },
  {
   "cell_type": "code",
   "source": [
    "np_array = np_array1+np_array2\n",
    "print(np_array)"
   ],
   "metadata": {
    "collapsed": false,
    "pycharm": {
     "name": "#%%\n"
    },
    "ExecuteTime": {
     "end_time": "2024-07-23T04:26:45.147848Z",
     "start_time": "2024-07-23T04:26:45.142786Z"
    }
   },
   "outputs": [
    {
     "name": "stdout",
     "output_type": "stream",
     "text": [
      "[  2.      0.      0.      0.      0.      0.      1.      0.      0.\n",
      "   1.      0.      2.      1.      1.     95.     90.      8.      0.\n",
      "   0.      2.      3.      0.      2.      7.      0.      0.      0.\n",
      "  32.      2.      0.      2.      4.      2.    100.    112.      3.\n",
      "   2.      0.      0.      0.      1.      0.      0.      0.      0.\n",
      "   0.      0.      0.      0.     15.     11.     11.    197.883 236.\n",
      "   0.      0.   ]\n"
     ]
    }
   ],
   "execution_count": 37
  },
  {
   "metadata": {},
   "cell_type": "markdown",
   "source": "- 10개의 feature random 선택"
  },
  {
   "metadata": {
    "ExecuteTime": {
     "end_time": "2024-07-23T04:26:52.291699Z",
     "start_time": "2024-07-23T04:26:52.278695Z"
    }
   },
   "cell_type": "code",
   "source": "np.random.choice(np_array, 10)",
   "outputs": [
    {
     "data": {
      "text/plain": [
       "array([2., 0., 0., 0., 0., 1., 2., 0., 3., 0.])"
      ]
     },
     "execution_count": 38,
     "metadata": {},
     "output_type": "execute_result"
    }
   ],
   "execution_count": 38
  },
  {
   "cell_type": "markdown",
   "source": "- Index를 포함한 random selection",
   "metadata": {
    "collapsed": false,
    "pycharm": {
     "name": "#%% md\n"
    }
   }
  },
  {
   "cell_type": "code",
   "source": [
    "import random\n",
    "r_indexs = []\n",
    "for i in range(10):\n",
    "    r_value = random.choice(range(np_array.shape[0]))\n",
    "    while r_value in r_indexs:\n",
    "        r_value = random.choice(range(np_array.shape[0]))\n",
    "    r_indexs.append(r_value)\n",
    "print(r_indexs)"
   ],
   "metadata": {
    "collapsed": false,
    "pycharm": {
     "name": "#%%\n"
    },
    "ExecuteTime": {
     "end_time": "2024-07-23T04:27:17.712245Z",
     "start_time": "2024-07-23T04:27:17.691120Z"
    }
   },
   "outputs": [
    {
     "name": "stdout",
     "output_type": "stream",
     "text": [
      "[17, 7, 4, 37, 19, 1, 16, 31, 24, 27]\n"
     ]
    }
   ],
   "execution_count": 41
  },
  {
   "cell_type": "code",
   "source": [
    "r_values_dict = {}\n",
    "for rindex in r_indexs:\n",
    "    r_values_dict[rindex] = np_array[rindex]\n",
    "print(r_values_dict)"
   ],
   "metadata": {
    "collapsed": false,
    "pycharm": {
     "name": "#%%\n"
    },
    "ExecuteTime": {
     "end_time": "2024-07-23T04:27:18.916159Z",
     "start_time": "2024-07-23T04:27:18.904676Z"
    }
   },
   "outputs": [
    {
     "name": "stdout",
     "output_type": "stream",
     "text": [
      "{17: np.float64(0.0), 7: np.float64(0.0), 4: np.float64(0.0), 37: np.float64(0.0), 19: np.float64(2.0), 1: np.float64(0.0), 16: np.float64(8.0), 31: np.float64(4.0), 24: np.float64(0.0), 27: np.float64(32.0)}\n"
     ]
    }
   ],
   "execution_count": 42
  }
 ],
 "metadata": {
  "kernelspec": {
   "display_name": "Python 3",
   "language": "python",
   "name": "python3"
  },
  "language_info": {
   "codemirror_mode": {
    "name": "ipython",
    "version": 2
   },
   "file_extension": ".py",
   "mimetype": "text/x-python",
   "name": "python",
   "nbconvert_exporter": "python",
   "pygments_lexer": "ipython2",
   "version": "2.7.6"
  }
 },
 "nbformat": 4,
 "nbformat_minor": 0
}
