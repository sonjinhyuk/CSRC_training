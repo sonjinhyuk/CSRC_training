{
 "cells": [
  {
   "cell_type": "markdown",
   "source": [
    "# Numpy 패키기"
   ],
   "metadata": {
    "collapsed": false,
    "pycharm": {
     "name": "#%% md\n"
    }
   }
  },
  {
   "cell_type": "code",
   "execution_count": null,
   "outputs": [],
   "source": [
    "import numpy as np"
   ],
   "metadata": {
    "collapsed": false,
    "pycharm": {
     "name": "#%%\n"
    }
   }
  },
  {
   "cell_type": "markdown",
   "source": [
    "## 문제 1. 3*2행렬 구조로 Array 형태 데이터 A, B를 생성하고, + 연산한 Array를 구하라\n",
    "    - A: [2,3,4,5,6,7]\n",
    "    - B: [1,1,3,3,5,5]"
   ],
   "metadata": {
    "collapsed": false,
    "pycharm": {
     "name": "#%% md\n"
    }
   }
  },
  {
   "cell_type": "code",
   "execution_count": 14,
   "outputs": [
    {
     "data": {
      "text/plain": "array([ 3,  4,  7,  8, 11, 12])"
     },
     "execution_count": 14,
     "metadata": {},
     "output_type": "execute_result"
    }
   ],
   "source": [
    "A=[2,3,4,5,6,7]\n",
    "B=[1,1,3,3,5,5]\n",
    "A = np.array(A)\n",
    "B = np.array(B)\n",
    "A+B"
   ],
   "metadata": {
    "collapsed": false,
    "pycharm": {
     "name": "#%%\n"
    }
   }
  },
  {
   "cell_type": "markdown",
   "source": [
    "## 문제 2. 1~100 사이의 정수 중 랜덤하게 한 개의 숫자 추출"
   ],
   "metadata": {
    "collapsed": false,
    "pycharm": {
     "name": "#%% md\n"
    }
   }
  },
  {
   "cell_type": "code",
   "execution_count": 44,
   "outputs": [
    {
     "data": {
      "text/plain": "100"
     },
     "execution_count": 44,
     "metadata": {},
     "output_type": "execute_result"
    }
   ],
   "source": [
    "np.random.randint(100)+1"
   ],
   "metadata": {
    "collapsed": false,
    "pycharm": {
     "name": "#%%\n"
    }
   }
  },
  {
   "cell_type": "markdown",
   "source": [
    "    - MAX, MIN 값 확인"
   ],
   "metadata": {
    "collapsed": false,
    "pycharm": {
     "name": "#%% md\n"
    }
   }
  },
  {
   "cell_type": "code",
   "execution_count": 45,
   "outputs": [
    {
     "name": "stdout",
     "output_type": "stream",
     "text": [
      "max:100, min:1\n"
     ]
    }
   ],
   "source": [
    "xs = []\n",
    "for i in range(10000):\n",
    "    xs.append(np.random.randint(100)+1)\n",
    "\n",
    "xs = np.array(xs)\n",
    "print(f\"max:{xs.max()}, min:{xs.min()}\")"
   ],
   "metadata": {
    "collapsed": false,
    "pycharm": {
     "name": "#%%\n"
    }
   }
  },
  {
   "cell_type": "markdown",
   "source": [
    "## 문제 3. 실 데이터 활용\n",
    "    - 제공한 PDF feature 2개 결합\n",
    "    - 결합한 데이터에서 랜덤 데이터 추출"
   ],
   "metadata": {
    "collapsed": false,
    "pycharm": {
     "name": "#%% md\n"
    }
   }
  },
  {
   "cell_type": "code",
   "execution_count": 57,
   "outputs": [
    {
     "name": "stdout",
     "output_type": "stream",
     "text": [
      "[  0.      0.      0.      0.      0.      0.      0.      0.      0.\n",
      "   0.      0.      2.      0.      1.     94.     90.      8.      0.\n",
      "   0.      1.      2.      0.      1.      7.      0.      0.      0.\n",
      "  32.      2.      0.      1.      4.      2.     97.    110.      3.\n",
      "   2.      0.      0.      0.      0.      0.      0.      0.      0.\n",
      "   0.      0.      0.      0.     15.      0.      0.    195.771 232.\n",
      "   0.      0.   ]\n",
      "[ 2.     0.     0.     0.     0.     0.     1.     0.     0.     1.\n",
      "  0.     0.     1.     0.     1.     0.     0.     0.     0.     1.\n",
      "  1.     0.     1.     0.     0.     0.     0.     0.     0.     0.\n",
      "  1.     0.     0.     3.     2.     0.     0.     0.     0.     0.\n",
      "  1.     0.     0.     0.     0.     0.     0.     0.     0.     0.\n",
      " 11.    11.     2.112  4.     0.     0.   ]\n"
     ]
    }
   ],
   "source": [
    "import pandas as pd\n",
    "in_file1 = \"Data/file_00_0.csv\"\n",
    "in_file2 = \"Data/file_00_1.csv\"\n",
    "np_array1 = pd.read_csv(in_file1, index_col=0).T.iloc[0, 1:].values\n",
    "np_array1 = np_array1.astype(np.float64)\n",
    "np_array2 = pd.read_csv(in_file2, index_col=0).T.iloc[0, 1:].values\n",
    "np_array2 = np_array2.astype(np.float64)\n",
    "print(np_array1)\n",
    "print(np_array2)"
   ],
   "metadata": {
    "collapsed": false,
    "pycharm": {
     "name": "#%%\n"
    }
   }
  },
  {
   "cell_type": "code",
   "execution_count": 59,
   "outputs": [
    {
     "name": "stdout",
     "output_type": "stream",
     "text": [
      "[  2.      0.      0.      0.      0.      0.      1.      0.      0.\n",
      "   1.      0.      2.      1.      1.     95.     90.      8.      0.\n",
      "   0.      2.      3.      0.      2.      7.      0.      0.      0.\n",
      "  32.      2.      0.      2.      4.      2.    100.    112.      3.\n",
      "   2.      0.      0.      0.      1.      0.      0.      0.      0.\n",
      "   0.      0.      0.      0.     15.     11.     11.    197.883 236.\n",
      "   0.      0.   ]\n"
     ]
    },
    {
     "data": {
      "text/plain": "array([0., 0., 2., 3., 1., 0., 1., 0., 0., 0.])"
     },
     "execution_count": 59,
     "metadata": {},
     "output_type": "execute_result"
    }
   ],
   "source": [
    "np_array = np_array1+np_array2\n",
    "print(np_array)\n",
    "np.random.choice(np_array, 10)"
   ],
   "metadata": {
    "collapsed": false,
    "pycharm": {
     "name": "#%%\n"
    }
   }
  },
  {
   "cell_type": "markdown",
   "source": [
    "    - Index를 포함한 random selection"
   ],
   "metadata": {
    "collapsed": false,
    "pycharm": {
     "name": "#%% md\n"
    }
   }
  },
  {
   "cell_type": "code",
   "execution_count": 65,
   "outputs": [
    {
     "name": "stdout",
     "output_type": "stream",
     "text": [
      "[14 19  3  4 52 25 38 45 41 33]\n"
     ]
    }
   ],
   "source": [
    "import random\n",
    "r_indexs = []\n",
    "for i in range(10):\n",
    "    r_value = random.choice(range(np_array.shape[0]))\n",
    "    while r_value in r_indexs:\n",
    "        r_value = random.choice(range(np_array.shape[0]))\n",
    "    r_indexs.append(r_value)\n",
    "r_indexs = np.array(r_indexs)\n",
    "print(r_indexs)"
   ],
   "metadata": {
    "collapsed": false,
    "pycharm": {
     "name": "#%%\n"
    }
   }
  },
  {
   "cell_type": "code",
   "execution_count": 66,
   "outputs": [
    {
     "name": "stdout",
     "output_type": "stream",
     "text": [
      "{14: 95.0, 19: 2.0, 3: 0.0, 4: 0.0, 52: 197.88299999999998, 25: 0.0, 38: 0.0, 45: 0.0, 41: 0.0, 33: 100.0}\n"
     ]
    }
   ],
   "source": [
    "r_values_dict = {}\n",
    "for rindex in r_indexs:\n",
    "    r_values_dict[rindex] = np_array[rindex]\n",
    "print(r_values_dict)"
   ],
   "metadata": {
    "collapsed": false,
    "pycharm": {
     "name": "#%%\n"
    }
   }
  }
 ],
 "metadata": {
  "kernelspec": {
   "display_name": "Python 3",
   "language": "python",
   "name": "python3"
  },
  "language_info": {
   "codemirror_mode": {
    "name": "ipython",
    "version": 2
   },
   "file_extension": ".py",
   "mimetype": "text/x-python",
   "name": "python",
   "nbconvert_exporter": "python",
   "pygments_lexer": "ipython2",
   "version": "2.7.6"
  }
 },
 "nbformat": 4,
 "nbformat_minor": 0
}