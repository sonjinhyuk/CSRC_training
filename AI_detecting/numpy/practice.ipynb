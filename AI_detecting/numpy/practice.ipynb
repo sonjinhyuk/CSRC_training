{
 "cells": [
  {
   "cell_type": "markdown",
   "metadata": {
    "collapsed": false,
    "jupyter": {
     "outputs_hidden": false
    },
    "pycharm": {
     "name": "#%% md\n"
    }
   },
   "source": [
    "# Numpy 패키기"
   ]
  },
  {
   "cell_type": "code",
   "metadata": {
    "collapsed": false,
    "jupyter": {
     "outputs_hidden": false
    },
    "pycharm": {
     "name": "#%%\n"
    }
   },
   "source": [
    "import numpy as np"
   ],
   "outputs": [],
   "execution_count": null
  },
  {
   "cell_type": "markdown",
   "metadata": {
    "collapsed": false,
    "jupyter": {
     "outputs_hidden": false
    },
    "pycharm": {
     "name": "#%% md\n"
    }
   },
   "source": [
    "## 문제 1. 3*2행렬 구조로 Array 형태 데이터 A, B를 생성하고, + 연산한 Array를 구하라\n",
    "    - A: [2,3,4,5,6,7]\n",
    "    - B: [1,1,3,3,5,5]"
   ]
  },
  {
   "cell_type": "code",
   "metadata": {
    "collapsed": false,
    "jupyter": {
     "outputs_hidden": false
    },
    "pycharm": {
     "name": "#%%\n"
    }
   },
   "source": [
    "A=[2,3,4,5,6,7]\n",
    "B=[1,1,3,3,5,5]\n",
    "A = np.array(A)\n",
    "B = np.array(B)\n",
    "A+B"
   ],
   "outputs": [],
   "execution_count": null
  },
  {
   "cell_type": "markdown",
   "metadata": {
    "collapsed": false,
    "jupyter": {
     "outputs_hidden": false
    },
    "pycharm": {
     "name": "#%% md\n"
    }
   },
   "source": [
    "## 문제 2. 1~100 사이의 정수 중 랜덤하게 한 개의 숫자 추출"
   ]
  },
  {
   "cell_type": "code",
   "metadata": {
    "collapsed": false,
    "jupyter": {
     "outputs_hidden": false
    },
    "pycharm": {
     "name": "#%%\n"
    }
   },
   "source": [
    "np.random.randint(100)+1"
   ],
   "outputs": [],
   "execution_count": null
  },
  {
   "cell_type": "markdown",
   "metadata": {
    "collapsed": false,
    "jupyter": {
     "outputs_hidden": false
    },
    "pycharm": {
     "name": "#%% md\n"
    }
   },
   "source": [
    "    - MAX, MIN 값 확인"
   ]
  },
  {
   "cell_type": "code",
   "metadata": {
    "collapsed": false,
    "jupyter": {
     "outputs_hidden": false
    },
    "pycharm": {
     "name": "#%%\n"
    }
   },
   "source": [
    "xs = []\n",
    "for i in range(10000):\n",
    "    xs.append(np.random.randint(100)+1)\n",
    "\n",
    "xs = np.array(xs)\n",
    "print(f\"max:{xs.max()}, min:{xs.min()}\")"
   ],
   "outputs": [],
   "execution_count": null
  },
  {
   "cell_type": "markdown",
   "metadata": {
    "collapsed": false,
    "jupyter": {
     "outputs_hidden": false
    },
    "pycharm": {
     "name": "#%% md\n"
    }
   },
   "source": [
    "## 문제 3. 실 데이터 활용\n",
    "    - 제공한 PDF feature 2개 결합\n",
    "    - 결합한 데이터에서 랜덤 데이터 추출"
   ]
  },
  {
   "cell_type": "code",
   "metadata": {},
   "source": [
    "def file_read(file):\n",
    "    with open(file, 'r') as f:\n",
    "        rlines = f.readlines()\n",
    "    non_numberic = 0\n",
    "    return_list = []\n",
    "    for line in rlines:\n",
    "        if non_numberic < 2:\n",
    "            non_numberic += 1\n",
    "            continue\n",
    "        lines = line.strip().split(',')\n",
    "        try:\n",
    "            temp_data = int(lines[-1])\n",
    "        except ValueError:\n",
    "            temp_data = float(lines[-1])\n",
    "        return_list.append(temp_data)\n",
    "    return return_list"
   ],
   "outputs": [],
   "execution_count": null
  },
  {
   "cell_type": "code",
   "metadata": {
    "collapsed": false,
    "jupyter": {
     "outputs_hidden": false
    },
    "pycharm": {
     "name": "#%%\n"
    }
   },
   "source": [
    "in_file1 = \"../Data/file_00_0.csv\"\n",
    "in_file2 = \"../Data/file_00_1.csv\"\n",
    "array1 = file_read(in_file1)\n",
    "array2 = file_read(in_file2)\n",
    "np_array1 = np.array(array1)\n",
    "np_array2 = np.array(array2)\n",
    "\n",
    "print(np_array1)\n",
    "print(np_array2)"
   ],
   "outputs": [],
   "execution_count": null
  },
  {
   "cell_type": "markdown",
   "metadata": {},
   "source": [
    "- 2개의 numpy array 결합"
   ]
  },
  {
   "cell_type": "code",
   "metadata": {
    "collapsed": false,
    "jupyter": {
     "outputs_hidden": false
    },
    "pycharm": {
     "name": "#%%\n"
    },
    "scrolled": true
   },
   "source": [
    "np_array = np_array1+np_array2\n",
    "print(np_array)"
   ],
   "outputs": [],
   "execution_count": null
  },
  {
   "cell_type": "markdown",
   "metadata": {},
   "source": [
    "- 10개의 feature random 선택"
   ]
  },
  {
   "cell_type": "code",
   "metadata": {},
   "source": [
    "np.random.choice(np_array, 10)"
   ],
   "outputs": [],
   "execution_count": null
  },
  {
   "cell_type": "markdown",
   "metadata": {
    "collapsed": false,
    "jupyter": {
     "outputs_hidden": false
    },
    "pycharm": {
     "name": "#%% md\n"
    }
   },
   "source": [
    "- Index를 포함한 random selection"
   ]
  },
  {
   "cell_type": "code",
   "metadata": {
    "collapsed": false,
    "jupyter": {
     "outputs_hidden": false
    },
    "pycharm": {
     "name": "#%%\n"
    }
   },
   "source": [
    "import random\n",
    "r_indexs = []\n",
    "for i in range(10):\n",
    "    r_value = random.choice(range(np_array.shape[0]))\n",
    "    while r_value in r_indexs:\n",
    "        r_value = random.choice(range(np_array.shape[0]))\n",
    "    r_indexs.append(r_value)\n",
    "print(r_indexs)"
   ],
   "outputs": [],
   "execution_count": null
  },
  {
   "cell_type": "code",
   "metadata": {
    "collapsed": false,
    "jupyter": {
     "outputs_hidden": false
    },
    "pycharm": {
     "name": "#%%\n"
    }
   },
   "source": [
    "r_values_dict = {}\n",
    "for rindex in r_indexs:\n",
    "    r_values_dict[rindex] = np_array[rindex]\n",
    "print(r_values_dict)"
   ],
   "outputs": [],
   "execution_count": null
  }
 ],
 "metadata": {
  "kernelspec": {
   "display_name": "Python 3 (ipykernel)",
   "language": "python",
   "name": "python3"
  },
  "language_info": {
   "codemirror_mode": {
    "name": "ipython",
    "version": 3
   },
   "file_extension": ".py",
   "mimetype": "text/x-python",
   "name": "python",
   "nbconvert_exporter": "python",
   "pygments_lexer": "ipython3",
   "version": "3.9.7"
  }
 },
 "nbformat": 4,
 "nbformat_minor": 4
}
