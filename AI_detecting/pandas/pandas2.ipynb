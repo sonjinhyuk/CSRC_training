{
 "cells": [
  {
   "cell_type": "markdown",
   "metadata": {
    "collapsed": true,
    "pycharm": {
     "name": "#%% md\n"
    }
   },
   "source": [
    "# 자료구조: DataFrame"
   ]
  },
  {
   "cell_type": "code",
   "source": [
    "import pandas as pd"
   ],
   "metadata": {
    "collapsed": false,
    "pycharm": {
     "name": "#%%\n"
    }
   },
   "outputs": [],
   "execution_count": null
  },
  {
   "cell_type": "markdown",
   "source": [
    "- pd.DataFrame(): 2차원 데이터 배열\n",
    "- pd.DataFrame(data=, index=, columns=)"
   ],
   "metadata": {
    "collapsed": false,
    "pycharm": {
     "name": "#%% md\n"
    }
   }
  },
  {
   "cell_type": "code",
   "source": [
    "df1 = pd.DataFrame([['a', 10, 110], ['b', 9, 90], ['c', 10, 80],\n",
    "                    ['a', 20, 150], ['c',7, 90], ['d',8,79],\n",
    "                    ['e',10,96], ['a',6,120]\n",
    "                    ])\n",
    "df1"
   ],
   "metadata": {
    "collapsed": false,
    "pycharm": {
     "name": "#%%\n"
    }
   },
   "outputs": [],
   "execution_count": null
  },
  {
   "cell_type": "code",
   "source": [
    "df1 = pd.DataFrame(data=[['a', 10, 110], ['b', 9, 90], ['c', 10, 80],\n",
    "                    ['a', 20, 150], ['c',7, 90], ['d',8,79],\n",
    "                    ['e',10,96], ['a',6,120]\n",
    "                    ], columns=['val0', 'val1', 'val2'],\n",
    "                   index=['x1', 'x2', 'x3', 'x4', 'x5', 'x6', 'x7', 'x8'])\n",
    "df1"
   ],
   "metadata": {
    "collapsed": false,
    "pycharm": {
     "name": "#%%\n"
    }
   },
   "outputs": [],
   "execution_count": null
  },
  {
   "cell_type": "markdown",
   "source": [
    "- 딕셔너리로 만들기"
   ],
   "metadata": {
    "collapsed": false,
    "pycharm": {
     "name": "#%% md\n"
    }
   }
  },
  {
   "cell_type": "code",
   "source": [
    "data = {\n",
    "    \"val0\": ['a', 'b', 'c', 'a', 'c', 'd', 'e', 'a'],\n",
    "    \"val1\": [10, 9, 10, 20, 7, 8, 10, 6],\n",
    "    \"val2\": [110, 90, 80, 150, 90, 79, 96, 120]\n",
    "}\n",
    "df2 = pd.DataFrame(data=data, index=['x1', 'x2', 'x3', 'x4', 'x5', 'x6', 'x7', 'x8'])\n",
    "df2"
   ],
   "metadata": {
    "collapsed": false,
    "pycharm": {
     "name": "#%%\n"
    }
   },
   "outputs": [],
   "execution_count": null
  },
  {
   "cell_type": "markdown",
   "source": [
    "열별로 데이터 구성 후, 딕셔너리방식으로 데이터프레임 생성"
   ],
   "metadata": {
    "collapsed": false,
    "pycharm": {
     "name": "#%% md\n"
    }
   }
  },
  {
   "cell_type": "code",
   "source": [
    "value0 = ['a', 'b', 'c', 'a', 'c', 'd', 'e', 'a']\n",
    "value1 = [10, 9, 10, 20, 7, 8, 10, 6]\n",
    "value2 = [110, 90, 80, 150, 90, 79, 96, 120]\n",
    "\n",
    "df2 = pd.DataFrame({'val0': value0, \"val1\": value1, \"val2\": value2},\n",
    "                   index=['x1', 'x2', 'x3', 'x4', 'x5', 'x6', 'x7', 'x8'])\n",
    "df2"
   ],
   "metadata": {
    "collapsed": false,
    "pycharm": {
     "name": "#%%\n"
    }
   },
   "outputs": [],
   "execution_count": null
  },
  {
   "cell_type": "code",
   "source": [
    "print(df2.index)\n",
    "print(df2.columns)\n",
    "print(df2.values)"
   ],
   "metadata": {
    "collapsed": false,
    "pycharm": {
     "name": "#%%\n"
    }
   },
   "outputs": [],
   "execution_count": null
  },
  {
   "cell_type": "code",
   "source": [
    "df2.index.name = \"No\"\n",
    "df2.columns.name = \"info\"\n",
    "df2"
   ],
   "metadata": {
    "collapsed": false,
    "pycharm": {
     "name": "#%%\n"
    }
   },
   "outputs": [],
   "execution_count": null
  },
  {
   "cell_type": "code",
   "source": [
    "df2.index = [0, 1, 2, 3, 4, 5, 6, 7]\n",
    "df2"
   ],
   "metadata": {
    "collapsed": false,
    "pycharm": {
     "name": "#%%\n"
    }
   },
   "outputs": [],
   "execution_count": null
  },
  {
   "cell_type": "markdown",
   "source": [
    "- series 유형을 DataFrame으로 변환"
   ],
   "metadata": {
    "collapsed": false,
    "pycharm": {
     "name": "#%% md\n"
    }
   }
  },
  {
   "cell_type": "code",
   "source": [
    "import numpy as np"
   ],
   "metadata": {
    "collapsed": false,
    "pycharm": {
     "name": "#%%\n"
    }
   },
   "outputs": [],
   "execution_count": null
  },
  {
   "cell_type": "code",
   "source": [
    "dt4 = pd.DataFrame(data=np.random.randint(0, 100, size=10), index=['a','b','c','d', 'e','f','g','h','i','j'])\n",
    "dt4"
   ],
   "metadata": {
    "collapsed": false,
    "pycharm": {
     "name": "#%%\n"
    }
   },
   "outputs": [],
   "execution_count": null
  },
  {
   "cell_type": "code",
   "source": [
    "dt1 = pd.DataFrame(data=np.random.randint(0, 100, size=10), index=['a','b','c','d', 'e','f','g','h','i','j'])\n",
    "dt2 = pd.DataFrame(data=np.random.randint(40, 100, size=10), index=['a','b','c','d', 'e','f','g','h','i','j'])\n",
    "dt3 = pd.DataFrame(data=np.random.randint(80, 100, size=10), index=['a','b','c','d', 'e','f','g','h','i','j'])\n",
    "\n",
    "df_total = pd.concat([dt1, dt2, dt3], axis=1)# axis=1 열을 따라 추가, axis=0은 행기준이며 default는 0\n",
    "df_total"
   ],
   "metadata": {
    "collapsed": false,
    "pycharm": {
     "name": "#%%\n"
    }
   },
   "outputs": [],
   "execution_count": null
  }
 ],
 "metadata": {
  "kernelspec": {
   "display_name": "Python 3",
   "language": "python",
   "name": "python3"
  },
  "language_info": {
   "codemirror_mode": {
    "name": "ipython",
    "version": 2
   },
   "file_extension": ".py",
   "mimetype": "text/x-python",
   "name": "python",
   "nbconvert_exporter": "python",
   "pygments_lexer": "ipython2",
   "version": "2.7.6"
  }
 },
 "nbformat": 4,
 "nbformat_minor": 0
}
