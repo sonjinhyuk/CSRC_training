{
 "cells": [
  {
   "cell_type": "markdown",
   "metadata": {
    "collapsed": true,
    "pycharm": {
     "name": "#%% md\n"
    }
   },
   "source": [
    "# 자료구조: DataFrame"
   ]
  },
  {
   "cell_type": "code",
   "execution_count": 1,
   "outputs": [],
   "source": [
    "import pandas as pd"
   ],
   "metadata": {
    "collapsed": false,
    "pycharm": {
     "name": "#%%\n"
    }
   }
  },
  {
   "cell_type": "markdown",
   "source": [
    "- pd.DataFrame(): 2차원 데이터 배열\n",
    "- pd.DataFrame(data=, index=, columns=)"
   ],
   "metadata": {
    "collapsed": false,
    "pycharm": {
     "name": "#%% md\n"
    }
   }
  },
  {
   "cell_type": "code",
   "execution_count": 3,
   "outputs": [
    {
     "data": {
      "text/plain": "   0   1    2\n0  a  10  110\n1  b   9   90\n2  c  10   80\n3  a  20  150\n4  c   7   90\n5  d   8   79\n6  e  10   96\n7  a   6  120",
      "text/html": "<div>\n<style scoped>\n    .dataframe tbody tr th:only-of-type {\n        vertical-align: middle;\n    }\n\n    .dataframe tbody tr th {\n        vertical-align: top;\n    }\n\n    .dataframe thead th {\n        text-align: right;\n    }\n</style>\n<table border=\"1\" class=\"dataframe\">\n  <thead>\n    <tr style=\"text-align: right;\">\n      <th></th>\n      <th>0</th>\n      <th>1</th>\n      <th>2</th>\n    </tr>\n  </thead>\n  <tbody>\n    <tr>\n      <th>0</th>\n      <td>a</td>\n      <td>10</td>\n      <td>110</td>\n    </tr>\n    <tr>\n      <th>1</th>\n      <td>b</td>\n      <td>9</td>\n      <td>90</td>\n    </tr>\n    <tr>\n      <th>2</th>\n      <td>c</td>\n      <td>10</td>\n      <td>80</td>\n    </tr>\n    <tr>\n      <th>3</th>\n      <td>a</td>\n      <td>20</td>\n      <td>150</td>\n    </tr>\n    <tr>\n      <th>4</th>\n      <td>c</td>\n      <td>7</td>\n      <td>90</td>\n    </tr>\n    <tr>\n      <th>5</th>\n      <td>d</td>\n      <td>8</td>\n      <td>79</td>\n    </tr>\n    <tr>\n      <th>6</th>\n      <td>e</td>\n      <td>10</td>\n      <td>96</td>\n    </tr>\n    <tr>\n      <th>7</th>\n      <td>a</td>\n      <td>6</td>\n      <td>120</td>\n    </tr>\n  </tbody>\n</table>\n</div>"
     },
     "execution_count": 3,
     "metadata": {},
     "output_type": "execute_result"
    }
   ],
   "source": [
    "df1 = pd.DataFrame([['a', 10, 110], ['b', 9, 90], ['c', 10, 80],\n",
    "                    ['a', 20, 150], ['c',7, 90], ['d',8,79],\n",
    "                    ['e',10,96], ['a',6,120]\n",
    "                    ])\n",
    "df1"
   ],
   "metadata": {
    "collapsed": false,
    "pycharm": {
     "name": "#%%\n"
    }
   }
  },
  {
   "cell_type": "code",
   "execution_count": 5,
   "outputs": [
    {
     "data": {
      "text/plain": "   val0  val1  val2\nx1    a    10   110\nx2    b     9    90\nx3    c    10    80\nx4    a    20   150\nx5    c     7    90\nx6    d     8    79\nx7    e    10    96\nx8    a     6   120",
      "text/html": "<div>\n<style scoped>\n    .dataframe tbody tr th:only-of-type {\n        vertical-align: middle;\n    }\n\n    .dataframe tbody tr th {\n        vertical-align: top;\n    }\n\n    .dataframe thead th {\n        text-align: right;\n    }\n</style>\n<table border=\"1\" class=\"dataframe\">\n  <thead>\n    <tr style=\"text-align: right;\">\n      <th></th>\n      <th>val0</th>\n      <th>val1</th>\n      <th>val2</th>\n    </tr>\n  </thead>\n  <tbody>\n    <tr>\n      <th>x1</th>\n      <td>a</td>\n      <td>10</td>\n      <td>110</td>\n    </tr>\n    <tr>\n      <th>x2</th>\n      <td>b</td>\n      <td>9</td>\n      <td>90</td>\n    </tr>\n    <tr>\n      <th>x3</th>\n      <td>c</td>\n      <td>10</td>\n      <td>80</td>\n    </tr>\n    <tr>\n      <th>x4</th>\n      <td>a</td>\n      <td>20</td>\n      <td>150</td>\n    </tr>\n    <tr>\n      <th>x5</th>\n      <td>c</td>\n      <td>7</td>\n      <td>90</td>\n    </tr>\n    <tr>\n      <th>x6</th>\n      <td>d</td>\n      <td>8</td>\n      <td>79</td>\n    </tr>\n    <tr>\n      <th>x7</th>\n      <td>e</td>\n      <td>10</td>\n      <td>96</td>\n    </tr>\n    <tr>\n      <th>x8</th>\n      <td>a</td>\n      <td>6</td>\n      <td>120</td>\n    </tr>\n  </tbody>\n</table>\n</div>"
     },
     "execution_count": 5,
     "metadata": {},
     "output_type": "execute_result"
    }
   ],
   "source": [
    "df1 = pd.DataFrame(data=[['a', 10, 110], ['b', 9, 90], ['c', 10, 80],\n",
    "                    ['a', 20, 150], ['c',7, 90], ['d',8,79],\n",
    "                    ['e',10,96], ['a',6,120]\n",
    "                    ], columns=['val0', 'val1', 'val2'],\n",
    "                   index=['x1', 'x2', 'x3', 'x4', 'x5', 'x6', 'x7', 'x8'])\n",
    "df1"
   ],
   "metadata": {
    "collapsed": false,
    "pycharm": {
     "name": "#%%\n"
    }
   }
  },
  {
   "cell_type": "markdown",
   "source": [
    "- 딕셔너리로 만들기"
   ],
   "metadata": {
    "collapsed": false,
    "pycharm": {
     "name": "#%% md\n"
    }
   }
  },
  {
   "cell_type": "code",
   "execution_count": 7,
   "outputs": [
    {
     "data": {
      "text/plain": "   val0  val1  val2\nx1    a    10   110\nx2    b     9    90\nx3    c    10    80\nx4    a    20   150\nx5    c     7    90\nx6    d     8    79\nx7    e    10    96\nx8    a     6   120",
      "text/html": "<div>\n<style scoped>\n    .dataframe tbody tr th:only-of-type {\n        vertical-align: middle;\n    }\n\n    .dataframe tbody tr th {\n        vertical-align: top;\n    }\n\n    .dataframe thead th {\n        text-align: right;\n    }\n</style>\n<table border=\"1\" class=\"dataframe\">\n  <thead>\n    <tr style=\"text-align: right;\">\n      <th></th>\n      <th>val0</th>\n      <th>val1</th>\n      <th>val2</th>\n    </tr>\n  </thead>\n  <tbody>\n    <tr>\n      <th>x1</th>\n      <td>a</td>\n      <td>10</td>\n      <td>110</td>\n    </tr>\n    <tr>\n      <th>x2</th>\n      <td>b</td>\n      <td>9</td>\n      <td>90</td>\n    </tr>\n    <tr>\n      <th>x3</th>\n      <td>c</td>\n      <td>10</td>\n      <td>80</td>\n    </tr>\n    <tr>\n      <th>x4</th>\n      <td>a</td>\n      <td>20</td>\n      <td>150</td>\n    </tr>\n    <tr>\n      <th>x5</th>\n      <td>c</td>\n      <td>7</td>\n      <td>90</td>\n    </tr>\n    <tr>\n      <th>x6</th>\n      <td>d</td>\n      <td>8</td>\n      <td>79</td>\n    </tr>\n    <tr>\n      <th>x7</th>\n      <td>e</td>\n      <td>10</td>\n      <td>96</td>\n    </tr>\n    <tr>\n      <th>x8</th>\n      <td>a</td>\n      <td>6</td>\n      <td>120</td>\n    </tr>\n  </tbody>\n</table>\n</div>"
     },
     "execution_count": 7,
     "metadata": {},
     "output_type": "execute_result"
    }
   ],
   "source": [
    "data = {\n",
    "    \"val0\": ['a', 'b', 'c', 'a', 'c', 'd', 'e', 'a'],\n",
    "    \"val1\": [10, 9, 10, 20, 7, 8, 10, 6],\n",
    "    \"val2\": [110, 90, 80, 150, 90, 79, 96, 120]\n",
    "}\n",
    "df2 = pd.DataFrame(data=data, index=['x1', 'x2', 'x3', 'x4', 'x5', 'x6', 'x7', 'x8'])\n",
    "df2"
   ],
   "metadata": {
    "collapsed": false,
    "pycharm": {
     "name": "#%%\n"
    }
   }
  },
  {
   "cell_type": "markdown",
   "source": [
    "열별로 데이터 구성 후, 딕셔너리방식으로 데이터프레임 생성"
   ],
   "metadata": {
    "collapsed": false,
    "pycharm": {
     "name": "#%% md\n"
    }
   }
  },
  {
   "cell_type": "code",
   "execution_count": 11,
   "outputs": [
    {
     "data": {
      "text/plain": "   val0  val1  val2\nx1    a    10   110\nx2    b     9    90\nx3    c    10    80\nx4    a    20   150\nx5    c     7    90\nx6    d     8    79\nx7    e    10    96\nx8    a     6   120",
      "text/html": "<div>\n<style scoped>\n    .dataframe tbody tr th:only-of-type {\n        vertical-align: middle;\n    }\n\n    .dataframe tbody tr th {\n        vertical-align: top;\n    }\n\n    .dataframe thead th {\n        text-align: right;\n    }\n</style>\n<table border=\"1\" class=\"dataframe\">\n  <thead>\n    <tr style=\"text-align: right;\">\n      <th></th>\n      <th>val0</th>\n      <th>val1</th>\n      <th>val2</th>\n    </tr>\n  </thead>\n  <tbody>\n    <tr>\n      <th>x1</th>\n      <td>a</td>\n      <td>10</td>\n      <td>110</td>\n    </tr>\n    <tr>\n      <th>x2</th>\n      <td>b</td>\n      <td>9</td>\n      <td>90</td>\n    </tr>\n    <tr>\n      <th>x3</th>\n      <td>c</td>\n      <td>10</td>\n      <td>80</td>\n    </tr>\n    <tr>\n      <th>x4</th>\n      <td>a</td>\n      <td>20</td>\n      <td>150</td>\n    </tr>\n    <tr>\n      <th>x5</th>\n      <td>c</td>\n      <td>7</td>\n      <td>90</td>\n    </tr>\n    <tr>\n      <th>x6</th>\n      <td>d</td>\n      <td>8</td>\n      <td>79</td>\n    </tr>\n    <tr>\n      <th>x7</th>\n      <td>e</td>\n      <td>10</td>\n      <td>96</td>\n    </tr>\n    <tr>\n      <th>x8</th>\n      <td>a</td>\n      <td>6</td>\n      <td>120</td>\n    </tr>\n  </tbody>\n</table>\n</div>"
     },
     "execution_count": 11,
     "metadata": {},
     "output_type": "execute_result"
    }
   ],
   "source": [
    "value0 = ['a', 'b', 'c', 'a', 'c', 'd', 'e', 'a']\n",
    "value1 = [10, 9, 10, 20, 7, 8, 10, 6]\n",
    "value2 = [110, 90, 80, 150, 90, 79, 96, 120]\n",
    "\n",
    "df2 = pd.DataFrame({'val0': value0, \"val1\": value1, \"val2\": value2},\n",
    "                   index=['x1', 'x2', 'x3', 'x4', 'x5', 'x6', 'x7', 'x8'])\n",
    "df2"
   ],
   "metadata": {
    "collapsed": false,
    "pycharm": {
     "name": "#%%\n"
    }
   }
  },
  {
   "cell_type": "code",
   "execution_count": 12,
   "outputs": [
    {
     "name": "stdout",
     "output_type": "stream",
     "text": [
      "Index(['x1', 'x2', 'x3', 'x4', 'x5', 'x6', 'x7', 'x8'], dtype='object')\n",
      "Index(['val0', 'val1', 'val2'], dtype='object')\n",
      "[['a' 10 110]\n",
      " ['b' 9 90]\n",
      " ['c' 10 80]\n",
      " ['a' 20 150]\n",
      " ['c' 7 90]\n",
      " ['d' 8 79]\n",
      " ['e' 10 96]\n",
      " ['a' 6 120]]\n"
     ]
    }
   ],
   "source": [
    "print(df2.index)\n",
    "print(df2.columns)\n",
    "print(df2.values)"
   ],
   "metadata": {
    "collapsed": false,
    "pycharm": {
     "name": "#%%\n"
    }
   }
  },
  {
   "cell_type": "code",
   "execution_count": 13,
   "outputs": [
    {
     "data": {
      "text/plain": "info val0  val1  val2\nNo                   \nx1      a    10   110\nx2      b     9    90\nx3      c    10    80\nx4      a    20   150\nx5      c     7    90\nx6      d     8    79\nx7      e    10    96\nx8      a     6   120",
      "text/html": "<div>\n<style scoped>\n    .dataframe tbody tr th:only-of-type {\n        vertical-align: middle;\n    }\n\n    .dataframe tbody tr th {\n        vertical-align: top;\n    }\n\n    .dataframe thead th {\n        text-align: right;\n    }\n</style>\n<table border=\"1\" class=\"dataframe\">\n  <thead>\n    <tr style=\"text-align: right;\">\n      <th>info</th>\n      <th>val0</th>\n      <th>val1</th>\n      <th>val2</th>\n    </tr>\n    <tr>\n      <th>No</th>\n      <th></th>\n      <th></th>\n      <th></th>\n    </tr>\n  </thead>\n  <tbody>\n    <tr>\n      <th>x1</th>\n      <td>a</td>\n      <td>10</td>\n      <td>110</td>\n    </tr>\n    <tr>\n      <th>x2</th>\n      <td>b</td>\n      <td>9</td>\n      <td>90</td>\n    </tr>\n    <tr>\n      <th>x3</th>\n      <td>c</td>\n      <td>10</td>\n      <td>80</td>\n    </tr>\n    <tr>\n      <th>x4</th>\n      <td>a</td>\n      <td>20</td>\n      <td>150</td>\n    </tr>\n    <tr>\n      <th>x5</th>\n      <td>c</td>\n      <td>7</td>\n      <td>90</td>\n    </tr>\n    <tr>\n      <th>x6</th>\n      <td>d</td>\n      <td>8</td>\n      <td>79</td>\n    </tr>\n    <tr>\n      <th>x7</th>\n      <td>e</td>\n      <td>10</td>\n      <td>96</td>\n    </tr>\n    <tr>\n      <th>x8</th>\n      <td>a</td>\n      <td>6</td>\n      <td>120</td>\n    </tr>\n  </tbody>\n</table>\n</div>"
     },
     "execution_count": 13,
     "metadata": {},
     "output_type": "execute_result"
    }
   ],
   "source": [
    "df2.index.name = \"No\"\n",
    "df2.columns.name = \"info\"\n",
    "df2"
   ],
   "metadata": {
    "collapsed": false,
    "pycharm": {
     "name": "#%%\n"
    }
   }
  },
  {
   "cell_type": "code",
   "execution_count": 21,
   "outputs": [
    {
     "data": {
      "text/plain": "info val0  val1  val2\n0       a    10   110\n1       b     9    90\n2       c    10    80\n3       a    20   150\n4       c     7    90\n5       d     8    79\n6       e    10    96\n7       a     6   120",
      "text/html": "<div>\n<style scoped>\n    .dataframe tbody tr th:only-of-type {\n        vertical-align: middle;\n    }\n\n    .dataframe tbody tr th {\n        vertical-align: top;\n    }\n\n    .dataframe thead th {\n        text-align: right;\n    }\n</style>\n<table border=\"1\" class=\"dataframe\">\n  <thead>\n    <tr style=\"text-align: right;\">\n      <th>info</th>\n      <th>val0</th>\n      <th>val1</th>\n      <th>val2</th>\n    </tr>\n  </thead>\n  <tbody>\n    <tr>\n      <th>0</th>\n      <td>a</td>\n      <td>10</td>\n      <td>110</td>\n    </tr>\n    <tr>\n      <th>1</th>\n      <td>b</td>\n      <td>9</td>\n      <td>90</td>\n    </tr>\n    <tr>\n      <th>2</th>\n      <td>c</td>\n      <td>10</td>\n      <td>80</td>\n    </tr>\n    <tr>\n      <th>3</th>\n      <td>a</td>\n      <td>20</td>\n      <td>150</td>\n    </tr>\n    <tr>\n      <th>4</th>\n      <td>c</td>\n      <td>7</td>\n      <td>90</td>\n    </tr>\n    <tr>\n      <th>5</th>\n      <td>d</td>\n      <td>8</td>\n      <td>79</td>\n    </tr>\n    <tr>\n      <th>6</th>\n      <td>e</td>\n      <td>10</td>\n      <td>96</td>\n    </tr>\n    <tr>\n      <th>7</th>\n      <td>a</td>\n      <td>6</td>\n      <td>120</td>\n    </tr>\n  </tbody>\n</table>\n</div>"
     },
     "execution_count": 21,
     "metadata": {},
     "output_type": "execute_result"
    }
   ],
   "source": [
    "df2.index = [0, 1, 2, 3, 4, 5, 6, 7]\n",
    "df2"
   ],
   "metadata": {
    "collapsed": false,
    "pycharm": {
     "name": "#%%\n"
    }
   }
  },
  {
   "cell_type": "markdown",
   "source": [
    "- series 유형을 DataFrame으로 변환"
   ],
   "metadata": {
    "collapsed": false,
    "pycharm": {
     "name": "#%% md\n"
    }
   }
  },
  {
   "cell_type": "code",
   "execution_count": 15,
   "outputs": [],
   "source": [
    "import numpy as np"
   ],
   "metadata": {
    "collapsed": false,
    "pycharm": {
     "name": "#%%\n"
    }
   }
  },
  {
   "cell_type": "code",
   "execution_count": 18,
   "outputs": [
    {
     "data": {
      "text/plain": "    0\na  80\nb  87\nc   0\nd  88\ne  41\nf  47\ng  96\nh  57\ni  49\nj  90",
      "text/html": "<div>\n<style scoped>\n    .dataframe tbody tr th:only-of-type {\n        vertical-align: middle;\n    }\n\n    .dataframe tbody tr th {\n        vertical-align: top;\n    }\n\n    .dataframe thead th {\n        text-align: right;\n    }\n</style>\n<table border=\"1\" class=\"dataframe\">\n  <thead>\n    <tr style=\"text-align: right;\">\n      <th></th>\n      <th>0</th>\n    </tr>\n  </thead>\n  <tbody>\n    <tr>\n      <th>a</th>\n      <td>80</td>\n    </tr>\n    <tr>\n      <th>b</th>\n      <td>87</td>\n    </tr>\n    <tr>\n      <th>c</th>\n      <td>0</td>\n    </tr>\n    <tr>\n      <th>d</th>\n      <td>88</td>\n    </tr>\n    <tr>\n      <th>e</th>\n      <td>41</td>\n    </tr>\n    <tr>\n      <th>f</th>\n      <td>47</td>\n    </tr>\n    <tr>\n      <th>g</th>\n      <td>96</td>\n    </tr>\n    <tr>\n      <th>h</th>\n      <td>57</td>\n    </tr>\n    <tr>\n      <th>i</th>\n      <td>49</td>\n    </tr>\n    <tr>\n      <th>j</th>\n      <td>90</td>\n    </tr>\n  </tbody>\n</table>\n</div>"
     },
     "execution_count": 18,
     "metadata": {},
     "output_type": "execute_result"
    }
   ],
   "source": [
    "dt4 = pd.DataFrame(data=np.random.randint(0, 100, size=10), index=['a','b','c','d', 'e','f','g','h','i','j'])\n",
    "dt4"
   ],
   "metadata": {
    "collapsed": false,
    "pycharm": {
     "name": "#%%\n"
    }
   }
  },
  {
   "cell_type": "code",
   "execution_count": 20,
   "outputs": [
    {
     "data": {
      "text/plain": "    0   0   0\na  81  82  84\nb   7  87  82\nc  31  55  98\nd  35  88  86\ne   7  92  91\nf  55  78  85\ng   3  44  95\nh   9  61  96\ni  17  72  85\nj  48  84  97",
      "text/html": "<div>\n<style scoped>\n    .dataframe tbody tr th:only-of-type {\n        vertical-align: middle;\n    }\n\n    .dataframe tbody tr th {\n        vertical-align: top;\n    }\n\n    .dataframe thead th {\n        text-align: right;\n    }\n</style>\n<table border=\"1\" class=\"dataframe\">\n  <thead>\n    <tr style=\"text-align: right;\">\n      <th></th>\n      <th>0</th>\n      <th>0</th>\n      <th>0</th>\n    </tr>\n  </thead>\n  <tbody>\n    <tr>\n      <th>a</th>\n      <td>81</td>\n      <td>82</td>\n      <td>84</td>\n    </tr>\n    <tr>\n      <th>b</th>\n      <td>7</td>\n      <td>87</td>\n      <td>82</td>\n    </tr>\n    <tr>\n      <th>c</th>\n      <td>31</td>\n      <td>55</td>\n      <td>98</td>\n    </tr>\n    <tr>\n      <th>d</th>\n      <td>35</td>\n      <td>88</td>\n      <td>86</td>\n    </tr>\n    <tr>\n      <th>e</th>\n      <td>7</td>\n      <td>92</td>\n      <td>91</td>\n    </tr>\n    <tr>\n      <th>f</th>\n      <td>55</td>\n      <td>78</td>\n      <td>85</td>\n    </tr>\n    <tr>\n      <th>g</th>\n      <td>3</td>\n      <td>44</td>\n      <td>95</td>\n    </tr>\n    <tr>\n      <th>h</th>\n      <td>9</td>\n      <td>61</td>\n      <td>96</td>\n    </tr>\n    <tr>\n      <th>i</th>\n      <td>17</td>\n      <td>72</td>\n      <td>85</td>\n    </tr>\n    <tr>\n      <th>j</th>\n      <td>48</td>\n      <td>84</td>\n      <td>97</td>\n    </tr>\n  </tbody>\n</table>\n</div>"
     },
     "execution_count": 20,
     "metadata": {},
     "output_type": "execute_result"
    }
   ],
   "source": [
    "dt1 = pd.DataFrame(data=np.random.randint(0, 100, size=10), index=['a','b','c','d', 'e','f','g','h','i','j'])\n",
    "dt2 = pd.DataFrame(data=np.random.randint(40, 100, size=10), index=['a','b','c','d', 'e','f','g','h','i','j'])\n",
    "dt3 = pd.DataFrame(data=np.random.randint(80, 100, size=10), index=['a','b','c','d', 'e','f','g','h','i','j'])\n",
    "\n",
    "df_total = pd.concat([dt1, dt2, dt3], axis=1)# axis=1 열을 따라 추가, axis=0은 행기준이며 default는 0\n",
    "df_total"
   ],
   "metadata": {
    "collapsed": false,
    "pycharm": {
     "name": "#%%\n"
    }
   }
  },
  {
   "cell_type": "code",
   "execution_count": null,
   "outputs": [],
   "source": [],
   "metadata": {
    "collapsed": false,
    "pycharm": {
     "name": "#%%\n"
    }
   }
  }
 ],
 "metadata": {
  "kernelspec": {
   "display_name": "Python 3",
   "language": "python",
   "name": "python3"
  },
  "language_info": {
   "codemirror_mode": {
    "name": "ipython",
    "version": 2
   },
   "file_extension": ".py",
   "mimetype": "text/x-python",
   "name": "python",
   "nbconvert_exporter": "python",
   "pygments_lexer": "ipython2",
   "version": "2.7.6"
  }
 },
 "nbformat": 4,
 "nbformat_minor": 0
}