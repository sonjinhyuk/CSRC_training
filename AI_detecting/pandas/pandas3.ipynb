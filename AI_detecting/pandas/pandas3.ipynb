{
 "cells": [
  {
   "cell_type": "markdown",
   "metadata": {
    "collapsed": true,
    "pycharm": {
     "name": "#%% md\n"
    }
   },
   "source": [
    "# 데이터 전처리 초급\n",
    "## 데이터 프레임 행열 조작 기본\n",
    "### 데이터프레임 생성"
   ]
  },
  {
   "cell_type": "code",
   "execution_count": 2,
   "outputs": [],
   "source": [
    "import pandas as pd"
   ],
   "metadata": {
    "collapsed": false,
    "pycharm": {
     "name": "#%%\n"
    }
   }
  },
  {
   "cell_type": "code",
   "execution_count": 5,
   "outputs": [
    {
     "data": {
      "text/plain": "   group  score  age\nx0     A     10   27\nx1     B      9   28\nx2     A     10   30\nx3     A     20   36\nx4     B      7   24\nx5     C      8   27\nx6     C     10   33\nx7     B      6   25",
      "text/html": "<div>\n<style scoped>\n    .dataframe tbody tr th:only-of-type {\n        vertical-align: middle;\n    }\n\n    .dataframe tbody tr th {\n        vertical-align: top;\n    }\n\n    .dataframe thead th {\n        text-align: right;\n    }\n</style>\n<table border=\"1\" class=\"dataframe\">\n  <thead>\n    <tr style=\"text-align: right;\">\n      <th></th>\n      <th>group</th>\n      <th>score</th>\n      <th>age</th>\n    </tr>\n  </thead>\n  <tbody>\n    <tr>\n      <th>x0</th>\n      <td>A</td>\n      <td>10</td>\n      <td>27</td>\n    </tr>\n    <tr>\n      <th>x1</th>\n      <td>B</td>\n      <td>9</td>\n      <td>28</td>\n    </tr>\n    <tr>\n      <th>x2</th>\n      <td>A</td>\n      <td>10</td>\n      <td>30</td>\n    </tr>\n    <tr>\n      <th>x3</th>\n      <td>A</td>\n      <td>20</td>\n      <td>36</td>\n    </tr>\n    <tr>\n      <th>x4</th>\n      <td>B</td>\n      <td>7</td>\n      <td>24</td>\n    </tr>\n    <tr>\n      <th>x5</th>\n      <td>C</td>\n      <td>8</td>\n      <td>27</td>\n    </tr>\n    <tr>\n      <th>x6</th>\n      <td>C</td>\n      <td>10</td>\n      <td>33</td>\n    </tr>\n    <tr>\n      <th>x7</th>\n      <td>B</td>\n      <td>6</td>\n      <td>25</td>\n    </tr>\n  </tbody>\n</table>\n</div>"
     },
     "execution_count": 5,
     "metadata": {},
     "output_type": "execute_result"
    }
   ],
   "source": [
    "data = {\n",
    "    \"group\": ['A', 'B', 'A', 'A', 'B', 'C', 'C', 'B'],\n",
    "    \"score\": [10, 9, 10, 20, 7, 8, 10, 6],\n",
    "    \"age\": [27, 28, 30, 36, 24, 27, 33, 25]\n",
    "}\n",
    "df = pd.DataFrame(data =data,\n",
    "    # columns = ['group', 'score', 'age'],\n",
    "    # columns = ['group', 'score'],#만약 선택하여 데이터를 추출할 때, columns에 추출하고자 하는 데이터의 key 입력\n",
    "    index = [f\"x{i}\" for i in range(8)]\n",
    ")\n",
    "df"
   ],
   "metadata": {
    "collapsed": false,
    "pycharm": {
     "name": "#%%\n"
    }
   }
  },
  {
   "cell_type": "markdown",
   "source": [
    "### 데이터 정보 확인"
   ],
   "metadata": {
    "collapsed": false,
    "pycharm": {
     "name": "#%% md\n"
    }
   }
  },
  {
   "cell_type": "code",
   "execution_count": 12,
   "outputs": [
    {
     "name": "stdout",
     "output_type": "stream",
     "text": [
      "----------values----------\n",
      "[['A' 10 27]\n",
      " ['B' 9 28]\n",
      " ['A' 10 30]\n",
      " ['A' 20 36]\n",
      " ['B' 7 24]\n",
      " ['C' 8 27]\n",
      " ['C' 10 33]\n",
      " ['B' 6 25]]\n",
      "----------index----------\n",
      "Index(['x0', 'x1', 'x2', 'x3', 'x4', 'x5', 'x6', 'x7'], dtype='object')\n",
      "----------columns----------\n",
      "Index(['group', 'score', 'age'], dtype='object')\n",
      "----------info----------\n",
      "<class 'pandas.core.frame.DataFrame'>\n",
      "Index: 8 entries, x0 to x7\n",
      "Data columns (total 3 columns):\n",
      " #   Column  Non-Null Count  Dtype \n",
      "---  ------  --------------  ----- \n",
      " 0   group   8 non-null      object\n",
      " 1   score   8 non-null      int64 \n",
      " 2   age     8 non-null      int64 \n",
      "dtypes: int64(2), object(1)\n",
      "memory usage: 256.0+ bytes\n",
      "----------head5----------\n",
      "   group  score  age\n",
      "x0     A     10   27\n",
      "x1     B      9   28\n",
      "x2     A     10   30\n",
      "x3     A     20   36\n",
      "x4     B      7   24\n",
      "----------tail5----------\n",
      "   group  score  age\n",
      "x3     A     20   36\n",
      "x4     B      7   24\n",
      "x5     C      8   27\n",
      "x6     C     10   33\n",
      "x7     B      6   25\n"
     ]
    }
   ],
   "source": [
    "print('-'*10+'values'+\"-\"*10)\n",
    "print(df.values)\n",
    "print('-'*10+'index'+\"-\"*10)\n",
    "print(df.index)\n",
    "print('-'*10+'columns'+\"-\"*10)\n",
    "print(df.columns)\n",
    "print('-'*10+'info'+\"-\"*10)\n",
    "df.info()\n",
    "print('-'*10+'head5'+\"-\"*10)\n",
    "print(df.head(5))\n",
    "print('-'*10+'tail5'+\"-\"*10)\n",
    "print(df.tail(5))"
   ],
   "metadata": {
    "collapsed": false,
    "pycharm": {
     "name": "#%%\n"
    }
   }
  },
  {
   "cell_type": "markdown",
   "source": [
    "## 데이터프레임 조작 기본\n",
    "- 컬럼선택"
   ],
   "metadata": {
    "collapsed": false,
    "pycharm": {
     "name": "#%% md\n"
    }
   }
  },
  {
   "cell_type": "code",
   "execution_count": 14,
   "outputs": [
    {
     "name": "stdout",
     "output_type": "stream",
     "text": [
      "x0    A\n",
      "x1    B\n",
      "x2    A\n",
      "x3    A\n",
      "x4    B\n",
      "x5    C\n",
      "x6    C\n",
      "x7    B\n",
      "Name: group, dtype: object\n",
      "x0    A\n",
      "x1    B\n",
      "x2    A\n",
      "x3    A\n",
      "x4    B\n",
      "x5    C\n",
      "x6    C\n",
      "x7    B\n",
      "Name: group, dtype: object\n"
     ]
    }
   ],
   "source": [
    "print(df['group'])\n",
    "print(df.group)"
   ],
   "metadata": {
    "collapsed": false,
    "pycharm": {
     "name": "#%%\n"
    }
   }
  },
  {
   "cell_type": "code",
   "execution_count": 15,
   "outputs": [
    {
     "data": {
      "text/plain": "   group  score\nx0     A     10\nx1     B      9\nx2     A     10\nx3     A     20\nx4     B      7\nx5     C      8\nx6     C     10\nx7     B      6",
      "text/html": "<div>\n<style scoped>\n    .dataframe tbody tr th:only-of-type {\n        vertical-align: middle;\n    }\n\n    .dataframe tbody tr th {\n        vertical-align: top;\n    }\n\n    .dataframe thead th {\n        text-align: right;\n    }\n</style>\n<table border=\"1\" class=\"dataframe\">\n  <thead>\n    <tr style=\"text-align: right;\">\n      <th></th>\n      <th>group</th>\n      <th>score</th>\n    </tr>\n  </thead>\n  <tbody>\n    <tr>\n      <th>x0</th>\n      <td>A</td>\n      <td>10</td>\n    </tr>\n    <tr>\n      <th>x1</th>\n      <td>B</td>\n      <td>9</td>\n    </tr>\n    <tr>\n      <th>x2</th>\n      <td>A</td>\n      <td>10</td>\n    </tr>\n    <tr>\n      <th>x3</th>\n      <td>A</td>\n      <td>20</td>\n    </tr>\n    <tr>\n      <th>x4</th>\n      <td>B</td>\n      <td>7</td>\n    </tr>\n    <tr>\n      <th>x5</th>\n      <td>C</td>\n      <td>8</td>\n    </tr>\n    <tr>\n      <th>x6</th>\n      <td>C</td>\n      <td>10</td>\n    </tr>\n    <tr>\n      <th>x7</th>\n      <td>B</td>\n      <td>6</td>\n    </tr>\n  </tbody>\n</table>\n</div>"
     },
     "execution_count": 15,
     "metadata": {},
     "output_type": "execute_result"
    }
   ],
   "source": [
    "df[['group','score']]# 2개 이상의 열을 선택할 경우 2차원 리스트(1, n) 형태로 해야한다."
   ],
   "metadata": {
    "collapsed": false,
    "pycharm": {
     "name": "#%%\n"
    }
   }
  },
  {
   "cell_type": "markdown",
   "source": [
    "-컬럼 추가\n",
    "전체 단일값으로 추가"
   ],
   "metadata": {
    "collapsed": false,
    "pycharm": {
     "name": "#%% md\n"
    }
   }
  },
  {
   "cell_type": "code",
   "execution_count": 16,
   "outputs": [
    {
     "data": {
      "text/plain": "   group  score  age  new1\nx0     A     10   27     1\nx1     B      9   28     1\nx2     A     10   30     1\nx3     A     20   36     1\nx4     B      7   24     1\nx5     C      8   27     1\nx6     C     10   33     1\nx7     B      6   25     1",
      "text/html": "<div>\n<style scoped>\n    .dataframe tbody tr th:only-of-type {\n        vertical-align: middle;\n    }\n\n    .dataframe tbody tr th {\n        vertical-align: top;\n    }\n\n    .dataframe thead th {\n        text-align: right;\n    }\n</style>\n<table border=\"1\" class=\"dataframe\">\n  <thead>\n    <tr style=\"text-align: right;\">\n      <th></th>\n      <th>group</th>\n      <th>score</th>\n      <th>age</th>\n      <th>new1</th>\n    </tr>\n  </thead>\n  <tbody>\n    <tr>\n      <th>x0</th>\n      <td>A</td>\n      <td>10</td>\n      <td>27</td>\n      <td>1</td>\n    </tr>\n    <tr>\n      <th>x1</th>\n      <td>B</td>\n      <td>9</td>\n      <td>28</td>\n      <td>1</td>\n    </tr>\n    <tr>\n      <th>x2</th>\n      <td>A</td>\n      <td>10</td>\n      <td>30</td>\n      <td>1</td>\n    </tr>\n    <tr>\n      <th>x3</th>\n      <td>A</td>\n      <td>20</td>\n      <td>36</td>\n      <td>1</td>\n    </tr>\n    <tr>\n      <th>x4</th>\n      <td>B</td>\n      <td>7</td>\n      <td>24</td>\n      <td>1</td>\n    </tr>\n    <tr>\n      <th>x5</th>\n      <td>C</td>\n      <td>8</td>\n      <td>27</td>\n      <td>1</td>\n    </tr>\n    <tr>\n      <th>x6</th>\n      <td>C</td>\n      <td>10</td>\n      <td>33</td>\n      <td>1</td>\n    </tr>\n    <tr>\n      <th>x7</th>\n      <td>B</td>\n      <td>6</td>\n      <td>25</td>\n      <td>1</td>\n    </tr>\n  </tbody>\n</table>\n</div>"
     },
     "execution_count": 16,
     "metadata": {},
     "output_type": "execute_result"
    }
   ],
   "source": [
    "df['new1'] = 1\n",
    "#변수명.컬럼명 형식의 경우 기존에 있던 column을 조회할 때만 사용\n",
    "#df.new2=1 ##이럴경우 new2 column가 생성되지 않음\n",
    "df"
   ],
   "metadata": {
    "collapsed": false,
    "pycharm": {
     "name": "#%%\n"
    }
   }
  },
  {
   "cell_type": "markdown",
   "source": [
    "- 값을 각각 추가 및 수정"
   ],
   "metadata": {
    "collapsed": false,
    "pycharm": {
     "name": "#%% md\n"
    }
   }
  },
  {
   "cell_type": "code",
   "execution_count": 18,
   "outputs": [
    {
     "data": {
      "text/plain": "   group  score  age  new1  new2\nx0     A     10   27     0     1\nx1     B      9   28     0     2\nx2     A     10   30     0     3\nx3     A     20   36     0     4\nx4     B      7   24     0     5\nx5     C      8   27     0     6\nx6     C     10   33     0     7\nx7     B      6   25     0     8",
      "text/html": "<div>\n<style scoped>\n    .dataframe tbody tr th:only-of-type {\n        vertical-align: middle;\n    }\n\n    .dataframe tbody tr th {\n        vertical-align: top;\n    }\n\n    .dataframe thead th {\n        text-align: right;\n    }\n</style>\n<table border=\"1\" class=\"dataframe\">\n  <thead>\n    <tr style=\"text-align: right;\">\n      <th></th>\n      <th>group</th>\n      <th>score</th>\n      <th>age</th>\n      <th>new1</th>\n      <th>new2</th>\n    </tr>\n  </thead>\n  <tbody>\n    <tr>\n      <th>x0</th>\n      <td>A</td>\n      <td>10</td>\n      <td>27</td>\n      <td>0</td>\n      <td>1</td>\n    </tr>\n    <tr>\n      <th>x1</th>\n      <td>B</td>\n      <td>9</td>\n      <td>28</td>\n      <td>0</td>\n      <td>2</td>\n    </tr>\n    <tr>\n      <th>x2</th>\n      <td>A</td>\n      <td>10</td>\n      <td>30</td>\n      <td>0</td>\n      <td>3</td>\n    </tr>\n    <tr>\n      <th>x3</th>\n      <td>A</td>\n      <td>20</td>\n      <td>36</td>\n      <td>0</td>\n      <td>4</td>\n    </tr>\n    <tr>\n      <th>x4</th>\n      <td>B</td>\n      <td>7</td>\n      <td>24</td>\n      <td>0</td>\n      <td>5</td>\n    </tr>\n    <tr>\n      <th>x5</th>\n      <td>C</td>\n      <td>8</td>\n      <td>27</td>\n      <td>0</td>\n      <td>6</td>\n    </tr>\n    <tr>\n      <th>x6</th>\n      <td>C</td>\n      <td>10</td>\n      <td>33</td>\n      <td>0</td>\n      <td>7</td>\n    </tr>\n    <tr>\n      <th>x7</th>\n      <td>B</td>\n      <td>6</td>\n      <td>25</td>\n      <td>0</td>\n      <td>8</td>\n    </tr>\n  </tbody>\n</table>\n</div>"
     },
     "execution_count": 18,
     "metadata": {},
     "output_type": "execute_result"
    }
   ],
   "source": [
    "df['new2'] = [1, 2, 3, 4, 5, 6, 7, 8]\n",
    "df['new1'] = [0,0,0,0,0,0,0,0]\n",
    "df"
   ],
   "metadata": {
    "collapsed": false,
    "pycharm": {
     "name": "#%%\n"
    }
   }
  },
  {
   "cell_type": "code",
   "execution_count": 19,
   "outputs": [
    {
     "data": {
      "text/plain": "   group  score  age  new1  new2\nx0     A     10   27     0     1\nx1     B      9   28     1     2\nx2     A     10   30     2     3\nx3     A     20   36     3     4\nx4     B      7   24     4     5\nx5     C      8   27     5     6\nx6     C     10   33     6     7\nx7     B      6   25     7     8",
      "text/html": "<div>\n<style scoped>\n    .dataframe tbody tr th:only-of-type {\n        vertical-align: middle;\n    }\n\n    .dataframe tbody tr th {\n        vertical-align: top;\n    }\n\n    .dataframe thead th {\n        text-align: right;\n    }\n</style>\n<table border=\"1\" class=\"dataframe\">\n  <thead>\n    <tr style=\"text-align: right;\">\n      <th></th>\n      <th>group</th>\n      <th>score</th>\n      <th>age</th>\n      <th>new1</th>\n      <th>new2</th>\n    </tr>\n  </thead>\n  <tbody>\n    <tr>\n      <th>x0</th>\n      <td>A</td>\n      <td>10</td>\n      <td>27</td>\n      <td>0</td>\n      <td>1</td>\n    </tr>\n    <tr>\n      <th>x1</th>\n      <td>B</td>\n      <td>9</td>\n      <td>28</td>\n      <td>1</td>\n      <td>2</td>\n    </tr>\n    <tr>\n      <th>x2</th>\n      <td>A</td>\n      <td>10</td>\n      <td>30</td>\n      <td>2</td>\n      <td>3</td>\n    </tr>\n    <tr>\n      <th>x3</th>\n      <td>A</td>\n      <td>20</td>\n      <td>36</td>\n      <td>3</td>\n      <td>4</td>\n    </tr>\n    <tr>\n      <th>x4</th>\n      <td>B</td>\n      <td>7</td>\n      <td>24</td>\n      <td>4</td>\n      <td>5</td>\n    </tr>\n    <tr>\n      <th>x5</th>\n      <td>C</td>\n      <td>8</td>\n      <td>27</td>\n      <td>5</td>\n      <td>6</td>\n    </tr>\n    <tr>\n      <th>x6</th>\n      <td>C</td>\n      <td>10</td>\n      <td>33</td>\n      <td>6</td>\n      <td>7</td>\n    </tr>\n    <tr>\n      <th>x7</th>\n      <td>B</td>\n      <td>6</td>\n      <td>25</td>\n      <td>7</td>\n      <td>8</td>\n    </tr>\n  </tbody>\n</table>\n</div>"
     },
     "execution_count": 19,
     "metadata": {},
     "output_type": "execute_result"
    }
   ],
   "source": [
    "##range를 활용한 column 추가\n",
    "df['new1'] = range(8)\n",
    "df"
   ],
   "metadata": {
    "collapsed": false,
    "pycharm": {
     "name": "#%%\n"
    }
   }
  },
  {
   "cell_type": "markdown",
   "source": [
    "-행 선택\n",
    "행선택은 인덱스번호나 인덱스 명칭으로 슬라이싱 구조로 특정 행 선택"
   ],
   "metadata": {
    "collapsed": false,
    "pycharm": {
     "name": "#%% md\n"
    }
   }
  },
  {
   "cell_type": "code",
   "execution_count": 20,
   "outputs": [
    {
     "data": {
      "text/plain": "   group  score  age  new1  new2\nx1     B      9   28     1     2\nx2     A     10   30     2     3\nx3     A     20   36     3     4",
      "text/html": "<div>\n<style scoped>\n    .dataframe tbody tr th:only-of-type {\n        vertical-align: middle;\n    }\n\n    .dataframe tbody tr th {\n        vertical-align: top;\n    }\n\n    .dataframe thead th {\n        text-align: right;\n    }\n</style>\n<table border=\"1\" class=\"dataframe\">\n  <thead>\n    <tr style=\"text-align: right;\">\n      <th></th>\n      <th>group</th>\n      <th>score</th>\n      <th>age</th>\n      <th>new1</th>\n      <th>new2</th>\n    </tr>\n  </thead>\n  <tbody>\n    <tr>\n      <th>x1</th>\n      <td>B</td>\n      <td>9</td>\n      <td>28</td>\n      <td>1</td>\n      <td>2</td>\n    </tr>\n    <tr>\n      <th>x2</th>\n      <td>A</td>\n      <td>10</td>\n      <td>30</td>\n      <td>2</td>\n      <td>3</td>\n    </tr>\n    <tr>\n      <th>x3</th>\n      <td>A</td>\n      <td>20</td>\n      <td>36</td>\n      <td>3</td>\n      <td>4</td>\n    </tr>\n  </tbody>\n</table>\n</div>"
     },
     "execution_count": 20,
     "metadata": {},
     "output_type": "execute_result"
    }
   ],
   "source": [
    "df['x1':'x3']"
   ],
   "metadata": {
    "collapsed": false,
    "pycharm": {
     "name": "#%%\n"
    }
   }
  },
  {
   "cell_type": "code",
   "execution_count": 21,
   "outputs": [
    {
     "data": {
      "text/plain": "   group  score  age  new1  new2\nx0     A     10   27     0     1\nx1     B      9   28     1     2\nx2     A     10   30     2     3",
      "text/html": "<div>\n<style scoped>\n    .dataframe tbody tr th:only-of-type {\n        vertical-align: middle;\n    }\n\n    .dataframe tbody tr th {\n        vertical-align: top;\n    }\n\n    .dataframe thead th {\n        text-align: right;\n    }\n</style>\n<table border=\"1\" class=\"dataframe\">\n  <thead>\n    <tr style=\"text-align: right;\">\n      <th></th>\n      <th>group</th>\n      <th>score</th>\n      <th>age</th>\n      <th>new1</th>\n      <th>new2</th>\n    </tr>\n  </thead>\n  <tbody>\n    <tr>\n      <th>x0</th>\n      <td>A</td>\n      <td>10</td>\n      <td>27</td>\n      <td>0</td>\n      <td>1</td>\n    </tr>\n    <tr>\n      <th>x1</th>\n      <td>B</td>\n      <td>9</td>\n      <td>28</td>\n      <td>1</td>\n      <td>2</td>\n    </tr>\n    <tr>\n      <th>x2</th>\n      <td>A</td>\n      <td>10</td>\n      <td>30</td>\n      <td>2</td>\n      <td>3</td>\n    </tr>\n  </tbody>\n</table>\n</div>"
     },
     "execution_count": 21,
     "metadata": {},
     "output_type": "execute_result"
    }
   ],
   "source": [
    "df[0:3]"
   ],
   "metadata": {
    "collapsed": false,
    "pycharm": {
     "name": "#%%\n"
    }
   }
  },
  {
   "cell_type": "code",
   "execution_count": 22,
   "outputs": [
    {
     "data": {
      "text/plain": "   group  score  age  new1  new2\nx1     B      9   28     1     2\nx2     A     10   30     2     3",
      "text/html": "<div>\n<style scoped>\n    .dataframe tbody tr th:only-of-type {\n        vertical-align: middle;\n    }\n\n    .dataframe tbody tr th {\n        vertical-align: top;\n    }\n\n    .dataframe thead th {\n        text-align: right;\n    }\n</style>\n<table border=\"1\" class=\"dataframe\">\n  <thead>\n    <tr style=\"text-align: right;\">\n      <th></th>\n      <th>group</th>\n      <th>score</th>\n      <th>age</th>\n      <th>new1</th>\n      <th>new2</th>\n    </tr>\n  </thead>\n  <tbody>\n    <tr>\n      <th>x1</th>\n      <td>B</td>\n      <td>9</td>\n      <td>28</td>\n      <td>1</td>\n      <td>2</td>\n    </tr>\n    <tr>\n      <th>x2</th>\n      <td>A</td>\n      <td>10</td>\n      <td>30</td>\n      <td>2</td>\n      <td>3</td>\n    </tr>\n  </tbody>\n</table>\n</div>"
     },
     "execution_count": 22,
     "metadata": {},
     "output_type": "execute_result"
    }
   ],
   "source": [
    "df[1:3]"
   ],
   "metadata": {
    "collapsed": false,
    "pycharm": {
     "name": "#%%\n"
    }
   }
  },
  {
   "cell_type": "markdown",
   "source": [
    "데이터프레임에서 컬럼을 선택할 때는 위와 같은 방식이 가능\n",
    "하지만 행을 선택하고 추가에 있어서는 이러한 방식으로 구조변경이 어려움\n",
    "행을 조작하고, 행,열을 동시에 조작하기 위해서는 loc, iloc을 활용해야 한다"
   ],
   "metadata": {
    "collapsed": false,
    "pycharm": {
     "name": "#%% md\n"
    }
   }
  }
 ],
 "metadata": {
  "kernelspec": {
   "display_name": "Python 3",
   "language": "python",
   "name": "python3"
  },
  "language_info": {
   "codemirror_mode": {
    "name": "ipython",
    "version": 2
   },
   "file_extension": ".py",
   "mimetype": "text/x-python",
   "name": "python",
   "nbconvert_exporter": "python",
   "pygments_lexer": "ipython2",
   "version": "2.7.6"
  }
 },
 "nbformat": 4,
 "nbformat_minor": 0
}