{
 "cells": [
  {
   "cell_type": "code",
   "execution_count": 1,
   "metadata": {
    "collapsed": true
   },
   "outputs": [],
   "source": [
    "import pandas as pd"
   ]
  },
  {
   "cell_type": "code",
   "execution_count": 2,
   "outputs": [],
   "source": [
    "data = {\n",
    "    \"group\": ['A', 'B', 'A', 'A', 'B', 'C', 'C', 'B'],\n",
    "    \"score\": [10, 9, 10, 20, 7, 8, 10, 6],\n",
    "    \"age\": [27, 28, 30, 36, 24, 27, 33, 25]\n",
    "}\n",
    "df = pd.DataFrame(data =data,\n",
    "    index = [f\"x{i}\" for i in range(8)]\n",
    ")"
   ],
   "metadata": {
    "collapsed": false,
    "pycharm": {
     "name": "#%%\n"
    }
   }
  },
  {
   "cell_type": "code",
   "execution_count": 3,
   "outputs": [
    {
     "data": {
      "text/plain": "   group  score  age\nx0     A     10   27\nx1     B      9   28\nx2     A     10   30\nx3     A     20   36\nx4     B      7   24\nx5     C      8   27\nx6     C     10   33\nx7     B      6   25",
      "text/html": "<div>\n<style scoped>\n    .dataframe tbody tr th:only-of-type {\n        vertical-align: middle;\n    }\n\n    .dataframe tbody tr th {\n        vertical-align: top;\n    }\n\n    .dataframe thead th {\n        text-align: right;\n    }\n</style>\n<table border=\"1\" class=\"dataframe\">\n  <thead>\n    <tr style=\"text-align: right;\">\n      <th></th>\n      <th>group</th>\n      <th>score</th>\n      <th>age</th>\n    </tr>\n  </thead>\n  <tbody>\n    <tr>\n      <th>x0</th>\n      <td>A</td>\n      <td>10</td>\n      <td>27</td>\n    </tr>\n    <tr>\n      <th>x1</th>\n      <td>B</td>\n      <td>9</td>\n      <td>28</td>\n    </tr>\n    <tr>\n      <th>x2</th>\n      <td>A</td>\n      <td>10</td>\n      <td>30</td>\n    </tr>\n    <tr>\n      <th>x3</th>\n      <td>A</td>\n      <td>20</td>\n      <td>36</td>\n    </tr>\n    <tr>\n      <th>x4</th>\n      <td>B</td>\n      <td>7</td>\n      <td>24</td>\n    </tr>\n    <tr>\n      <th>x5</th>\n      <td>C</td>\n      <td>8</td>\n      <td>27</td>\n    </tr>\n    <tr>\n      <th>x6</th>\n      <td>C</td>\n      <td>10</td>\n      <td>33</td>\n    </tr>\n    <tr>\n      <th>x7</th>\n      <td>B</td>\n      <td>6</td>\n      <td>25</td>\n    </tr>\n  </tbody>\n</table>\n</div>"
     },
     "execution_count": 3,
     "metadata": {},
     "output_type": "execute_result"
    }
   ],
   "source": [
    "df"
   ],
   "metadata": {
    "collapsed": false,
    "pycharm": {
     "name": "#%%\n"
    }
   }
  },
  {
   "cell_type": "code",
   "execution_count": 7,
   "outputs": [
    {
     "name": "stdout",
     "output_type": "stream",
     "text": [
      "x0     True\n",
      "x1    False\n",
      "x2     True\n",
      "x3     True\n",
      "x4    False\n",
      "x5    False\n",
      "x6     True\n",
      "x7    False\n",
      "Name: score, dtype: bool\n"
     ]
    }
   ],
   "source": [
    "print(df['score'] >= 10)"
   ],
   "metadata": {
    "collapsed": false,
    "pycharm": {
     "name": "#%%\n"
    }
   }
  },
  {
   "cell_type": "code",
   "execution_count": 5,
   "outputs": [
    {
     "data": {
      "text/plain": "   group  score  age\nx0     A     10   27\nx2     A     10   30\nx3     A     20   36\nx6     C     10   33",
      "text/html": "<div>\n<style scoped>\n    .dataframe tbody tr th:only-of-type {\n        vertical-align: middle;\n    }\n\n    .dataframe tbody tr th {\n        vertical-align: top;\n    }\n\n    .dataframe thead th {\n        text-align: right;\n    }\n</style>\n<table border=\"1\" class=\"dataframe\">\n  <thead>\n    <tr style=\"text-align: right;\">\n      <th></th>\n      <th>group</th>\n      <th>score</th>\n      <th>age</th>\n    </tr>\n  </thead>\n  <tbody>\n    <tr>\n      <th>x0</th>\n      <td>A</td>\n      <td>10</td>\n      <td>27</td>\n    </tr>\n    <tr>\n      <th>x2</th>\n      <td>A</td>\n      <td>10</td>\n      <td>30</td>\n    </tr>\n    <tr>\n      <th>x3</th>\n      <td>A</td>\n      <td>20</td>\n      <td>36</td>\n    </tr>\n    <tr>\n      <th>x6</th>\n      <td>C</td>\n      <td>10</td>\n      <td>33</td>\n    </tr>\n  </tbody>\n</table>\n</div>"
     },
     "execution_count": 5,
     "metadata": {},
     "output_type": "execute_result"
    }
   ],
   "source": [
    "df[df['score']>=10]"
   ],
   "metadata": {
    "collapsed": false,
    "pycharm": {
     "name": "#%%\n"
    }
   }
  },
  {
   "cell_type": "markdown",
   "source": [
    "- loc을 활용하여 행, 열 조건을 줄 수 있다."
   ],
   "metadata": {
    "collapsed": false,
    "pycharm": {
     "name": "#%% md\n"
    }
   }
  },
  {
   "cell_type": "code",
   "execution_count": 8,
   "outputs": [
    {
     "data": {
      "text/plain": "   group  score  age\nx0     A     10   27\nx2     A     10   30\nx3     A     20   36\nx6     C     10   33",
      "text/html": "<div>\n<style scoped>\n    .dataframe tbody tr th:only-of-type {\n        vertical-align: middle;\n    }\n\n    .dataframe tbody tr th {\n        vertical-align: top;\n    }\n\n    .dataframe thead th {\n        text-align: right;\n    }\n</style>\n<table border=\"1\" class=\"dataframe\">\n  <thead>\n    <tr style=\"text-align: right;\">\n      <th></th>\n      <th>group</th>\n      <th>score</th>\n      <th>age</th>\n    </tr>\n  </thead>\n  <tbody>\n    <tr>\n      <th>x0</th>\n      <td>A</td>\n      <td>10</td>\n      <td>27</td>\n    </tr>\n    <tr>\n      <th>x2</th>\n      <td>A</td>\n      <td>10</td>\n      <td>30</td>\n    </tr>\n    <tr>\n      <th>x3</th>\n      <td>A</td>\n      <td>20</td>\n      <td>36</td>\n    </tr>\n    <tr>\n      <th>x6</th>\n      <td>C</td>\n      <td>10</td>\n      <td>33</td>\n    </tr>\n  </tbody>\n</table>\n</div>"
     },
     "execution_count": 8,
     "metadata": {},
     "output_type": "execute_result"
    }
   ],
   "source": [
    "df.loc[df['score'] >= 10]"
   ],
   "metadata": {
    "collapsed": false,
    "pycharm": {
     "name": "#%%\n"
    }
   }
  },
  {
   "cell_type": "code",
   "execution_count": 10,
   "outputs": [
    {
     "name": "stdout",
     "output_type": "stream",
     "text": [
      "x0    27\n",
      "x2    30\n",
      "x3    36\n",
      "x6    33\n",
      "Name: age, dtype: int64\n"
     ]
    }
   ],
   "source": [
    "print(df.loc[df['score'] >= 10, 'age'])"
   ],
   "metadata": {
    "collapsed": false,
    "pycharm": {
     "name": "#%%\n"
    }
   }
  },
  {
   "cell_type": "code",
   "execution_count": 11,
   "outputs": [
    {
     "data": {
      "text/plain": "   group  score  age\nx0     A     10   27\nx2     A     10   30\nx3     A     20   36",
      "text/html": "<div>\n<style scoped>\n    .dataframe tbody tr th:only-of-type {\n        vertical-align: middle;\n    }\n\n    .dataframe tbody tr th {\n        vertical-align: top;\n    }\n\n    .dataframe thead th {\n        text-align: right;\n    }\n</style>\n<table border=\"1\" class=\"dataframe\">\n  <thead>\n    <tr style=\"text-align: right;\">\n      <th></th>\n      <th>group</th>\n      <th>score</th>\n      <th>age</th>\n    </tr>\n  </thead>\n  <tbody>\n    <tr>\n      <th>x0</th>\n      <td>A</td>\n      <td>10</td>\n      <td>27</td>\n    </tr>\n    <tr>\n      <th>x2</th>\n      <td>A</td>\n      <td>10</td>\n      <td>30</td>\n    </tr>\n    <tr>\n      <th>x3</th>\n      <td>A</td>\n      <td>20</td>\n      <td>36</td>\n    </tr>\n  </tbody>\n</table>\n</div>"
     },
     "execution_count": 11,
     "metadata": {},
     "output_type": "execute_result"
    }
   ],
   "source": [
    "df[df['group']=='A']"
   ],
   "metadata": {
    "collapsed": false,
    "pycharm": {
     "name": "#%%\n"
    }
   }
  },
  {
   "cell_type": "markdown",
   "source": [
    "- 2개 이상의 조건\n",
    "    - and 조건: &(shift + 7) A and B: A, B 둘 다 만족\n",
    "    - or 조건: |(shift+원화키(\\)) A or B: A 또는 B가 만족"
   ],
   "metadata": {
    "collapsed": false,
    "pycharm": {
     "name": "#%% md\n"
    }
   }
  },
  {
   "cell_type": "code",
   "execution_count": 13,
   "outputs": [
    {
     "name": "stdout",
     "output_type": "stream",
     "text": [
      "x0    False\n",
      "x1    False\n",
      "x2    False\n",
      "x3    False\n",
      "x4    False\n",
      "x5    False\n",
      "x6     True\n",
      "x7    False\n",
      "dtype: bool\n"
     ]
    }
   ],
   "source": [
    "print((df['group'] != 'A') & (df['age'] > 30))"
   ],
   "metadata": {
    "collapsed": false,
    "pycharm": {
     "name": "#%%\n"
    }
   }
  },
  {
   "cell_type": "code",
   "execution_count": 14,
   "outputs": [
    {
     "data": {
      "text/plain": "   group  score  age\nx6     C     10   33",
      "text/html": "<div>\n<style scoped>\n    .dataframe tbody tr th:only-of-type {\n        vertical-align: middle;\n    }\n\n    .dataframe tbody tr th {\n        vertical-align: top;\n    }\n\n    .dataframe thead th {\n        text-align: right;\n    }\n</style>\n<table border=\"1\" class=\"dataframe\">\n  <thead>\n    <tr style=\"text-align: right;\">\n      <th></th>\n      <th>group</th>\n      <th>score</th>\n      <th>age</th>\n    </tr>\n  </thead>\n  <tbody>\n    <tr>\n      <th>x6</th>\n      <td>C</td>\n      <td>10</td>\n      <td>33</td>\n    </tr>\n  </tbody>\n</table>\n</div>"
     },
     "execution_count": 14,
     "metadata": {},
     "output_type": "execute_result"
    }
   ],
   "source": [
    "df.loc[(df['group'] != 'A') & (df['age'] > 30)]"
   ],
   "metadata": {
    "collapsed": false,
    "pycharm": {
     "name": "#%%\n"
    }
   }
  },
  {
   "cell_type": "markdown",
   "source": [
    "> score가 10점 이상이거나 또는 age가 25살 초과 선택"
   ],
   "metadata": {
    "collapsed": false,
    "pycharm": {
     "name": "#%% md\n"
    }
   }
  },
  {
   "cell_type": "code",
   "execution_count": 15,
   "outputs": [
    {
     "data": {
      "text/plain": "   group  score  age\nx0     A     10   27\nx1     B      9   28\nx2     A     10   30\nx3     A     20   36\nx5     C      8   27\nx6     C     10   33",
      "text/html": "<div>\n<style scoped>\n    .dataframe tbody tr th:only-of-type {\n        vertical-align: middle;\n    }\n\n    .dataframe tbody tr th {\n        vertical-align: top;\n    }\n\n    .dataframe thead th {\n        text-align: right;\n    }\n</style>\n<table border=\"1\" class=\"dataframe\">\n  <thead>\n    <tr style=\"text-align: right;\">\n      <th></th>\n      <th>group</th>\n      <th>score</th>\n      <th>age</th>\n    </tr>\n  </thead>\n  <tbody>\n    <tr>\n      <th>x0</th>\n      <td>A</td>\n      <td>10</td>\n      <td>27</td>\n    </tr>\n    <tr>\n      <th>x1</th>\n      <td>B</td>\n      <td>9</td>\n      <td>28</td>\n    </tr>\n    <tr>\n      <th>x2</th>\n      <td>A</td>\n      <td>10</td>\n      <td>30</td>\n    </tr>\n    <tr>\n      <th>x3</th>\n      <td>A</td>\n      <td>20</td>\n      <td>36</td>\n    </tr>\n    <tr>\n      <th>x5</th>\n      <td>C</td>\n      <td>8</td>\n      <td>27</td>\n    </tr>\n    <tr>\n      <th>x6</th>\n      <td>C</td>\n      <td>10</td>\n      <td>33</td>\n    </tr>\n  </tbody>\n</table>\n</div>"
     },
     "execution_count": 15,
     "metadata": {},
     "output_type": "execute_result"
    }
   ],
   "source": [
    "df.loc[(df['score'] >= 10) | (df['age'] > 25)]"
   ],
   "metadata": {
    "collapsed": false,
    "pycharm": {
     "name": "#%%\n"
    }
   }
  },
  {
   "cell_type": "markdown",
   "source": [
    "> score가 10점 이상이거나 또는 age가 25살 초과 데이터 중 A group에 속하는 것 선택"
   ],
   "metadata": {
    "collapsed": false,
    "pycharm": {
     "name": "#%% md\n"
    }
   }
  },
  {
   "cell_type": "code",
   "execution_count": 16,
   "outputs": [
    {
     "data": {
      "text/plain": "   group  score  age\nx0     A     10   27\nx2     A     10   30\nx3     A     20   36",
      "text/html": "<div>\n<style scoped>\n    .dataframe tbody tr th:only-of-type {\n        vertical-align: middle;\n    }\n\n    .dataframe tbody tr th {\n        vertical-align: top;\n    }\n\n    .dataframe thead th {\n        text-align: right;\n    }\n</style>\n<table border=\"1\" class=\"dataframe\">\n  <thead>\n    <tr style=\"text-align: right;\">\n      <th></th>\n      <th>group</th>\n      <th>score</th>\n      <th>age</th>\n    </tr>\n  </thead>\n  <tbody>\n    <tr>\n      <th>x0</th>\n      <td>A</td>\n      <td>10</td>\n      <td>27</td>\n    </tr>\n    <tr>\n      <th>x2</th>\n      <td>A</td>\n      <td>10</td>\n      <td>30</td>\n    </tr>\n    <tr>\n      <th>x3</th>\n      <td>A</td>\n      <td>20</td>\n      <td>36</td>\n    </tr>\n  </tbody>\n</table>\n</div>"
     },
     "execution_count": 16,
     "metadata": {},
     "output_type": "execute_result"
    }
   ],
   "source": [
    "df.loc[((df['score'] >= 10) | (df['age'] > 25)) & (df['group']=='A')]"
   ],
   "metadata": {
    "collapsed": false,
    "pycharm": {
     "name": "#%%\n"
    }
   }
  },
  {
   "cell_type": "markdown",
   "source": [
    "# 행, 열 삭제\n",
    "- drop(columns=, index=, axis=)\n",
    "    - columns: 삭제한 열 정보\n",
    "    - index: 삭제할 행 정보\n",
    "    - axis: 행, 열 기준 정보\n",
    "        - 0: 행 기준 삭제\n",
    "        - 1: 열 기준 삭제"
   ],
   "metadata": {
    "collapsed": false,
    "pycharm": {
     "name": "#%% md\n"
    }
   }
  },
  {
   "cell_type": "code",
   "execution_count": 19,
   "outputs": [
    {
     "data": {
      "text/plain": "   group  score\nx0     A     10\nx1     B      9\nx2     A     10\nx3     A     20\nx4     B      7\nx5     C      8\nx6     C     10\nx7     B      6",
      "text/html": "<div>\n<style scoped>\n    .dataframe tbody tr th:only-of-type {\n        vertical-align: middle;\n    }\n\n    .dataframe tbody tr th {\n        vertical-align: top;\n    }\n\n    .dataframe thead th {\n        text-align: right;\n    }\n</style>\n<table border=\"1\" class=\"dataframe\">\n  <thead>\n    <tr style=\"text-align: right;\">\n      <th></th>\n      <th>group</th>\n      <th>score</th>\n    </tr>\n  </thead>\n  <tbody>\n    <tr>\n      <th>x0</th>\n      <td>A</td>\n      <td>10</td>\n    </tr>\n    <tr>\n      <th>x1</th>\n      <td>B</td>\n      <td>9</td>\n    </tr>\n    <tr>\n      <th>x2</th>\n      <td>A</td>\n      <td>10</td>\n    </tr>\n    <tr>\n      <th>x3</th>\n      <td>A</td>\n      <td>20</td>\n    </tr>\n    <tr>\n      <th>x4</th>\n      <td>B</td>\n      <td>7</td>\n    </tr>\n    <tr>\n      <th>x5</th>\n      <td>C</td>\n      <td>8</td>\n    </tr>\n    <tr>\n      <th>x6</th>\n      <td>C</td>\n      <td>10</td>\n    </tr>\n    <tr>\n      <th>x7</th>\n      <td>B</td>\n      <td>6</td>\n    </tr>\n  </tbody>\n</table>\n</div>"
     },
     "execution_count": 19,
     "metadata": {},
     "output_type": "execute_result"
    }
   ],
   "source": [
    "df.drop(columns=['age'])"
   ],
   "metadata": {
    "collapsed": false,
    "pycharm": {
     "name": "#%%\n"
    }
   }
  },
  {
   "cell_type": "code",
   "execution_count": 20,
   "outputs": [
    {
     "data": {
      "text/plain": "    score\nx0     10\nx1      9\nx2     10\nx3     20\nx4      7\nx5      8\nx6     10\nx7      6",
      "text/html": "<div>\n<style scoped>\n    .dataframe tbody tr th:only-of-type {\n        vertical-align: middle;\n    }\n\n    .dataframe tbody tr th {\n        vertical-align: top;\n    }\n\n    .dataframe thead th {\n        text-align: right;\n    }\n</style>\n<table border=\"1\" class=\"dataframe\">\n  <thead>\n    <tr style=\"text-align: right;\">\n      <th></th>\n      <th>score</th>\n    </tr>\n  </thead>\n  <tbody>\n    <tr>\n      <th>x0</th>\n      <td>10</td>\n    </tr>\n    <tr>\n      <th>x1</th>\n      <td>9</td>\n    </tr>\n    <tr>\n      <th>x2</th>\n      <td>10</td>\n    </tr>\n    <tr>\n      <th>x3</th>\n      <td>20</td>\n    </tr>\n    <tr>\n      <th>x4</th>\n      <td>7</td>\n    </tr>\n    <tr>\n      <th>x5</th>\n      <td>8</td>\n    </tr>\n    <tr>\n      <th>x6</th>\n      <td>10</td>\n    </tr>\n    <tr>\n      <th>x7</th>\n      <td>6</td>\n    </tr>\n  </tbody>\n</table>\n</div>"
     },
     "execution_count": 20,
     "metadata": {},
     "output_type": "execute_result"
    }
   ],
   "source": [
    "df.drop(columns=['group', 'age'])"
   ],
   "metadata": {
    "collapsed": false,
    "pycharm": {
     "name": "#%%\n"
    }
   }
  },
  {
   "cell_type": "code",
   "execution_count": 21,
   "outputs": [
    {
     "data": {
      "text/plain": "    score\nx0     10\nx1      9\nx2     10\nx3     20\nx4      7\nx5      8\nx6     10\nx7      6",
      "text/html": "<div>\n<style scoped>\n    .dataframe tbody tr th:only-of-type {\n        vertical-align: middle;\n    }\n\n    .dataframe tbody tr th {\n        vertical-align: top;\n    }\n\n    .dataframe thead th {\n        text-align: right;\n    }\n</style>\n<table border=\"1\" class=\"dataframe\">\n  <thead>\n    <tr style=\"text-align: right;\">\n      <th></th>\n      <th>score</th>\n    </tr>\n  </thead>\n  <tbody>\n    <tr>\n      <th>x0</th>\n      <td>10</td>\n    </tr>\n    <tr>\n      <th>x1</th>\n      <td>9</td>\n    </tr>\n    <tr>\n      <th>x2</th>\n      <td>10</td>\n    </tr>\n    <tr>\n      <th>x3</th>\n      <td>20</td>\n    </tr>\n    <tr>\n      <th>x4</th>\n      <td>7</td>\n    </tr>\n    <tr>\n      <th>x5</th>\n      <td>8</td>\n    </tr>\n    <tr>\n      <th>x6</th>\n      <td>10</td>\n    </tr>\n    <tr>\n      <th>x7</th>\n      <td>6</td>\n    </tr>\n  </tbody>\n</table>\n</div>"
     },
     "execution_count": 21,
     "metadata": {},
     "output_type": "execute_result"
    }
   ],
   "source": [
    "# 함수 안에 columns =를 기입하지 않을 경우 'axis='로 열 기준인 것을 입력\n",
    "df.drop(['age','group'], axis=1)\n",
    "# df.drop(['age', 'group']) --> Error, axis=0이 default이기 때문이다"
   ],
   "metadata": {
    "collapsed": false,
    "pycharm": {
     "name": "#%%\n"
    }
   }
  },
  {
   "cell_type": "code",
   "execution_count": 22,
   "outputs": [
    {
     "data": {
      "text/plain": "Index(['group', 'score', 'age'], dtype='object')"
     },
     "execution_count": 22,
     "metadata": {},
     "output_type": "execute_result"
    }
   ],
   "source": [
    "df.columns"
   ],
   "metadata": {
    "collapsed": false,
    "pycharm": {
     "name": "#%%\n"
    }
   }
  },
  {
   "cell_type": "code",
   "execution_count": 23,
   "outputs": [
    {
     "data": {
      "text/plain": "    age\nx0   27\nx1   28\nx2   30\nx3   36\nx4   24\nx5   27\nx6   33\nx7   25",
      "text/html": "<div>\n<style scoped>\n    .dataframe tbody tr th:only-of-type {\n        vertical-align: middle;\n    }\n\n    .dataframe tbody tr th {\n        vertical-align: top;\n    }\n\n    .dataframe thead th {\n        text-align: right;\n    }\n</style>\n<table border=\"1\" class=\"dataframe\">\n  <thead>\n    <tr style=\"text-align: right;\">\n      <th></th>\n      <th>age</th>\n    </tr>\n  </thead>\n  <tbody>\n    <tr>\n      <th>x0</th>\n      <td>27</td>\n    </tr>\n    <tr>\n      <th>x1</th>\n      <td>28</td>\n    </tr>\n    <tr>\n      <th>x2</th>\n      <td>30</td>\n    </tr>\n    <tr>\n      <th>x3</th>\n      <td>36</td>\n    </tr>\n    <tr>\n      <th>x4</th>\n      <td>24</td>\n    </tr>\n    <tr>\n      <th>x5</th>\n      <td>27</td>\n    </tr>\n    <tr>\n      <th>x6</th>\n      <td>33</td>\n    </tr>\n    <tr>\n      <th>x7</th>\n      <td>25</td>\n    </tr>\n  </tbody>\n</table>\n</div>"
     },
     "execution_count": 23,
     "metadata": {},
     "output_type": "execute_result"
    }
   ],
   "source": [
    "df.drop(columns=df.columns[0:2])"
   ],
   "metadata": {
    "collapsed": false,
    "pycharm": {
     "name": "#%%\n"
    }
   }
  },
  {
   "cell_type": "code",
   "execution_count": 24,
   "outputs": [
    {
     "data": {
      "text/plain": "   group  score  age\nx0     A     10   27\nx1     B      9   28\nx2     A     10   30\nx3     A     20   36\nx4     B      7   24\nx5     C      8   27\nx6     C     10   33\nx7     B      6   25",
      "text/html": "<div>\n<style scoped>\n    .dataframe tbody tr th:only-of-type {\n        vertical-align: middle;\n    }\n\n    .dataframe tbody tr th {\n        vertical-align: top;\n    }\n\n    .dataframe thead th {\n        text-align: right;\n    }\n</style>\n<table border=\"1\" class=\"dataframe\">\n  <thead>\n    <tr style=\"text-align: right;\">\n      <th></th>\n      <th>group</th>\n      <th>score</th>\n      <th>age</th>\n    </tr>\n  </thead>\n  <tbody>\n    <tr>\n      <th>x0</th>\n      <td>A</td>\n      <td>10</td>\n      <td>27</td>\n    </tr>\n    <tr>\n      <th>x1</th>\n      <td>B</td>\n      <td>9</td>\n      <td>28</td>\n    </tr>\n    <tr>\n      <th>x2</th>\n      <td>A</td>\n      <td>10</td>\n      <td>30</td>\n    </tr>\n    <tr>\n      <th>x3</th>\n      <td>A</td>\n      <td>20</td>\n      <td>36</td>\n    </tr>\n    <tr>\n      <th>x4</th>\n      <td>B</td>\n      <td>7</td>\n      <td>24</td>\n    </tr>\n    <tr>\n      <th>x5</th>\n      <td>C</td>\n      <td>8</td>\n      <td>27</td>\n    </tr>\n    <tr>\n      <th>x6</th>\n      <td>C</td>\n      <td>10</td>\n      <td>33</td>\n    </tr>\n    <tr>\n      <th>x7</th>\n      <td>B</td>\n      <td>6</td>\n      <td>25</td>\n    </tr>\n  </tbody>\n</table>\n</div>"
     },
     "execution_count": 24,
     "metadata": {},
     "output_type": "execute_result"
    }
   ],
   "source": [
    "df"
   ],
   "metadata": {
    "collapsed": false,
    "pycharm": {
     "name": "#%%\n"
    }
   }
  },
  {
   "cell_type": "code",
   "execution_count": 26,
   "outputs": [
    {
     "name": "stdout",
     "output_type": "stream",
     "text": [
      "    score\n",
      "x0     10\n",
      "x1      9\n",
      "x2     10\n",
      "x3     20\n",
      "x4      7\n",
      "x5      8\n",
      "x6     10\n",
      "x7      6\n"
     ]
    }
   ],
   "source": [
    "df_temp = df.drop(['age', 'group'], axis=1)\n",
    "print(df_temp)"
   ],
   "metadata": {
    "collapsed": false,
    "pycharm": {
     "name": "#%%\n"
    }
   }
  },
  {
   "cell_type": "markdown",
   "source": [
    "- 행 삭제"
   ],
   "metadata": {
    "collapsed": false
   }
  },
  {
   "cell_type": "code",
   "execution_count": 28,
   "outputs": [
    {
     "data": {
      "text/plain": "   group  score  age\nx0     A     10   27\nx2     A     10   30\nx4     B      7   24\nx5     C      8   27\nx6     C     10   33\nx7     B      6   25",
      "text/html": "<div>\n<style scoped>\n    .dataframe tbody tr th:only-of-type {\n        vertical-align: middle;\n    }\n\n    .dataframe tbody tr th {\n        vertical-align: top;\n    }\n\n    .dataframe thead th {\n        text-align: right;\n    }\n</style>\n<table border=\"1\" class=\"dataframe\">\n  <thead>\n    <tr style=\"text-align: right;\">\n      <th></th>\n      <th>group</th>\n      <th>score</th>\n      <th>age</th>\n    </tr>\n  </thead>\n  <tbody>\n    <tr>\n      <th>x0</th>\n      <td>A</td>\n      <td>10</td>\n      <td>27</td>\n    </tr>\n    <tr>\n      <th>x2</th>\n      <td>A</td>\n      <td>10</td>\n      <td>30</td>\n    </tr>\n    <tr>\n      <th>x4</th>\n      <td>B</td>\n      <td>7</td>\n      <td>24</td>\n    </tr>\n    <tr>\n      <th>x5</th>\n      <td>C</td>\n      <td>8</td>\n      <td>27</td>\n    </tr>\n    <tr>\n      <th>x6</th>\n      <td>C</td>\n      <td>10</td>\n      <td>33</td>\n    </tr>\n    <tr>\n      <th>x7</th>\n      <td>B</td>\n      <td>6</td>\n      <td>25</td>\n    </tr>\n  </tbody>\n</table>\n</div>"
     },
     "execution_count": 28,
     "metadata": {},
     "output_type": "execute_result"
    }
   ],
   "source": [
    "#df.drop(index = ['x1', 'x3'])\n",
    "#df.drop(['x1', 'x3'], axis=0)\n",
    "df.drop(['x1', 'x3'])"
   ],
   "metadata": {
    "collapsed": false,
    "pycharm": {
     "name": "#%%\n"
    }
   }
  },
  {
   "cell_type": "code",
   "execution_count": 30,
   "outputs": [
    {
     "data": {
      "text/plain": "Index(['x0', 'x1', 'x2', 'x3'], dtype='object')"
     },
     "execution_count": 30,
     "metadata": {},
     "output_type": "execute_result"
    }
   ],
   "source": [
    "df.index[0]\n",
    "df.index[:4]"
   ],
   "metadata": {
    "collapsed": false,
    "pycharm": {
     "name": "#%%\n"
    }
   }
  },
  {
   "cell_type": "code",
   "execution_count": 31,
   "outputs": [
    {
     "name": "stdout",
     "output_type": "stream",
     "text": [
      "   group  score  age\n",
      "x1     B      9   28\n",
      "x2     A     10   30\n",
      "x3     A     20   36\n",
      "x4     B      7   24\n",
      "x5     C      8   27\n",
      "x6     C     10   33\n",
      "x7     B      6   25\n",
      "   group  score  age\n",
      "x4     B      7   24\n",
      "x5     C      8   27\n",
      "x6     C     10   33\n",
      "x7     B      6   25\n"
     ]
    }
   ],
   "source": [
    "print(df.drop(df.index[0]))\n",
    "print(df.drop(df.index[:4]))"
   ],
   "metadata": {
    "collapsed": false,
    "pycharm": {
     "name": "#%%\n"
    }
   }
  },
  {
   "cell_type": "markdown",
   "source": [
    "# 행, 열 추가\n",
    "- 개수에 맞춰서 행 열 추가"
   ],
   "metadata": {
    "collapsed": false,
    "pycharm": {
     "name": "#%% md\n"
    }
   }
  },
  {
   "cell_type": "code",
   "execution_count": 33,
   "outputs": [
    {
     "data": {
      "text/plain": "   group  score  age  new1\nx0     A     10   27     0\nx1     B      9   28     1\nx2     A     10   30     0\nx3     A     20   36     1\nx4     B      7   24     0\nx5     C      8   27     1\nx6     C     10   33     0\nx7     B      6   25     1",
      "text/html": "<div>\n<style scoped>\n    .dataframe tbody tr th:only-of-type {\n        vertical-align: middle;\n    }\n\n    .dataframe tbody tr th {\n        vertical-align: top;\n    }\n\n    .dataframe thead th {\n        text-align: right;\n    }\n</style>\n<table border=\"1\" class=\"dataframe\">\n  <thead>\n    <tr style=\"text-align: right;\">\n      <th></th>\n      <th>group</th>\n      <th>score</th>\n      <th>age</th>\n      <th>new1</th>\n    </tr>\n  </thead>\n  <tbody>\n    <tr>\n      <th>x0</th>\n      <td>A</td>\n      <td>10</td>\n      <td>27</td>\n      <td>0</td>\n    </tr>\n    <tr>\n      <th>x1</th>\n      <td>B</td>\n      <td>9</td>\n      <td>28</td>\n      <td>1</td>\n    </tr>\n    <tr>\n      <th>x2</th>\n      <td>A</td>\n      <td>10</td>\n      <td>30</td>\n      <td>0</td>\n    </tr>\n    <tr>\n      <th>x3</th>\n      <td>A</td>\n      <td>20</td>\n      <td>36</td>\n      <td>1</td>\n    </tr>\n    <tr>\n      <th>x4</th>\n      <td>B</td>\n      <td>7</td>\n      <td>24</td>\n      <td>0</td>\n    </tr>\n    <tr>\n      <th>x5</th>\n      <td>C</td>\n      <td>8</td>\n      <td>27</td>\n      <td>1</td>\n    </tr>\n    <tr>\n      <th>x6</th>\n      <td>C</td>\n      <td>10</td>\n      <td>33</td>\n      <td>0</td>\n    </tr>\n    <tr>\n      <th>x7</th>\n      <td>B</td>\n      <td>6</td>\n      <td>25</td>\n      <td>1</td>\n    </tr>\n  </tbody>\n</table>\n</div>"
     },
     "execution_count": 33,
     "metadata": {},
     "output_type": "execute_result"
    }
   ],
   "source": [
    "df['new1'] = [0,1,0,1,0,1,0,1]\n",
    "df"
   ],
   "metadata": {
    "collapsed": false,
    "pycharm": {
     "name": "#%%\n"
    }
   }
  },
  {
   "cell_type": "code",
   "execution_count": 35,
   "outputs": [
    {
     "data": {
      "text/plain": "   group  score  age  new1\nx0     A     10   27     0\nx1     B      9   28     1\nx2     A     10   30     0\nx3     A     20   36     1\nx4     B      7   24     0\nx5     C      8   27     1\nx6     C     10   33     0\nx7     B      6   25     1\nx9     C     14   23     1",
      "text/html": "<div>\n<style scoped>\n    .dataframe tbody tr th:only-of-type {\n        vertical-align: middle;\n    }\n\n    .dataframe tbody tr th {\n        vertical-align: top;\n    }\n\n    .dataframe thead th {\n        text-align: right;\n    }\n</style>\n<table border=\"1\" class=\"dataframe\">\n  <thead>\n    <tr style=\"text-align: right;\">\n      <th></th>\n      <th>group</th>\n      <th>score</th>\n      <th>age</th>\n      <th>new1</th>\n    </tr>\n  </thead>\n  <tbody>\n    <tr>\n      <th>x0</th>\n      <td>A</td>\n      <td>10</td>\n      <td>27</td>\n      <td>0</td>\n    </tr>\n    <tr>\n      <th>x1</th>\n      <td>B</td>\n      <td>9</td>\n      <td>28</td>\n      <td>1</td>\n    </tr>\n    <tr>\n      <th>x2</th>\n      <td>A</td>\n      <td>10</td>\n      <td>30</td>\n      <td>0</td>\n    </tr>\n    <tr>\n      <th>x3</th>\n      <td>A</td>\n      <td>20</td>\n      <td>36</td>\n      <td>1</td>\n    </tr>\n    <tr>\n      <th>x4</th>\n      <td>B</td>\n      <td>7</td>\n      <td>24</td>\n      <td>0</td>\n    </tr>\n    <tr>\n      <th>x5</th>\n      <td>C</td>\n      <td>8</td>\n      <td>27</td>\n      <td>1</td>\n    </tr>\n    <tr>\n      <th>x6</th>\n      <td>C</td>\n      <td>10</td>\n      <td>33</td>\n      <td>0</td>\n    </tr>\n    <tr>\n      <th>x7</th>\n      <td>B</td>\n      <td>6</td>\n      <td>25</td>\n      <td>1</td>\n    </tr>\n    <tr>\n      <th>x9</th>\n      <td>C</td>\n      <td>14</td>\n      <td>23</td>\n      <td>1</td>\n    </tr>\n  </tbody>\n</table>\n</div>"
     },
     "execution_count": 35,
     "metadata": {},
     "output_type": "execute_result"
    }
   ],
   "source": [
    "df.loc['x9'] = ['C', 14, 23, 1]\n",
    "df"
   ],
   "metadata": {
    "collapsed": false,
    "pycharm": {
     "name": "#%%\n"
    }
   }
  },
  {
   "cell_type": "markdown",
   "source": [
    "- 조건에 따른 결과값 추가\n",
    "    > score가 10 이상이면 'good', 미만이면 'bed' 추가"
   ],
   "metadata": {
    "collapsed": false
   }
  },
  {
   "cell_type": "code",
   "execution_count": 39,
   "outputs": [
    {
     "name": "stdout",
     "output_type": "stream",
     "text": [
      "x0     True\n",
      "x1    False\n",
      "x2     True\n",
      "x3     True\n",
      "x4    False\n",
      "x5    False\n",
      "x6     True\n",
      "x7    False\n",
      "x9     True\n",
      "Name: score, dtype: bool\n"
     ]
    }
   ],
   "source": [
    "print(df['score']>=10)"
   ],
   "metadata": {
    "collapsed": false,
    "pycharm": {
     "name": "#%%\n"
    }
   }
  },
  {
   "cell_type": "code",
   "execution_count": 40,
   "outputs": [],
   "source": [
    "import numpy as np"
   ],
   "metadata": {
    "collapsed": false,
    "pycharm": {
     "name": "#%%\n"
    }
   }
  },
  {
   "cell_type": "code",
   "execution_count": 43,
   "outputs": [
    {
     "name": "stdout",
     "output_type": "stream",
     "text": [
      "['good' 'bed' 'good' 'good' 'bed' 'bed' 'good' 'bed' 'good']\n"
     ]
    }
   ],
   "source": [
    "print(np.where((df['score']>=10), 'good', 'bed'))"
   ],
   "metadata": {
    "collapsed": false,
    "pycharm": {
     "name": "#%%\n"
    }
   }
  },
  {
   "cell_type": "code",
   "execution_count": 45,
   "outputs": [
    {
     "data": {
      "text/plain": "   group  score  age  new1\nx0     A     10   27  good\nx1     B      9   28   bed\nx2     A     10   30  good\nx3     A     20   36  good\nx4     B      7   24   bed\nx5     C      8   27   bed\nx6     C     10   33  good\nx7     B      6   25   bed\nx9     C     14   23  good",
      "text/html": "<div>\n<style scoped>\n    .dataframe tbody tr th:only-of-type {\n        vertical-align: middle;\n    }\n\n    .dataframe tbody tr th {\n        vertical-align: top;\n    }\n\n    .dataframe thead th {\n        text-align: right;\n    }\n</style>\n<table border=\"1\" class=\"dataframe\">\n  <thead>\n    <tr style=\"text-align: right;\">\n      <th></th>\n      <th>group</th>\n      <th>score</th>\n      <th>age</th>\n      <th>new1</th>\n    </tr>\n  </thead>\n  <tbody>\n    <tr>\n      <th>x0</th>\n      <td>A</td>\n      <td>10</td>\n      <td>27</td>\n      <td>good</td>\n    </tr>\n    <tr>\n      <th>x1</th>\n      <td>B</td>\n      <td>9</td>\n      <td>28</td>\n      <td>bed</td>\n    </tr>\n    <tr>\n      <th>x2</th>\n      <td>A</td>\n      <td>10</td>\n      <td>30</td>\n      <td>good</td>\n    </tr>\n    <tr>\n      <th>x3</th>\n      <td>A</td>\n      <td>20</td>\n      <td>36</td>\n      <td>good</td>\n    </tr>\n    <tr>\n      <th>x4</th>\n      <td>B</td>\n      <td>7</td>\n      <td>24</td>\n      <td>bed</td>\n    </tr>\n    <tr>\n      <th>x5</th>\n      <td>C</td>\n      <td>8</td>\n      <td>27</td>\n      <td>bed</td>\n    </tr>\n    <tr>\n      <th>x6</th>\n      <td>C</td>\n      <td>10</td>\n      <td>33</td>\n      <td>good</td>\n    </tr>\n    <tr>\n      <th>x7</th>\n      <td>B</td>\n      <td>6</td>\n      <td>25</td>\n      <td>bed</td>\n    </tr>\n    <tr>\n      <th>x9</th>\n      <td>C</td>\n      <td>14</td>\n      <td>23</td>\n      <td>good</td>\n    </tr>\n  </tbody>\n</table>\n</div>"
     },
     "execution_count": 45,
     "metadata": {},
     "output_type": "execute_result"
    }
   ],
   "source": [
    "df['new1'] = np.where((df['score']>=10), 'good', 'bed')\n",
    "df"
   ],
   "metadata": {
    "collapsed": false,
    "pycharm": {
     "name": "#%%\n"
    }
   }
  },
  {
   "cell_type": "markdown",
   "source": [
    "- score가 10 미만이녀 'low', 15이상이면 'high', 나머지는 'medium'"
   ],
   "metadata": {
    "collapsed": false,
    "pycharm": {
     "name": "#%% md\n"
    }
   }
  },
  {
   "cell_type": "code",
   "execution_count": 46,
   "outputs": [
    {
     "data": {
      "text/plain": "   group  score  age  new1 group_new\nx0     A     10   27  good    medium\nx1     B      9   28   bed       low\nx2     A     10   30  good    medium\nx3     A     20   36  good      high\nx4     B      7   24   bed       low\nx5     C      8   27   bed       low\nx6     C     10   33  good    medium\nx7     B      6   25   bed       low\nx9     C     14   23  good    medium",
      "text/html": "<div>\n<style scoped>\n    .dataframe tbody tr th:only-of-type {\n        vertical-align: middle;\n    }\n\n    .dataframe tbody tr th {\n        vertical-align: top;\n    }\n\n    .dataframe thead th {\n        text-align: right;\n    }\n</style>\n<table border=\"1\" class=\"dataframe\">\n  <thead>\n    <tr style=\"text-align: right;\">\n      <th></th>\n      <th>group</th>\n      <th>score</th>\n      <th>age</th>\n      <th>new1</th>\n      <th>group_new</th>\n    </tr>\n  </thead>\n  <tbody>\n    <tr>\n      <th>x0</th>\n      <td>A</td>\n      <td>10</td>\n      <td>27</td>\n      <td>good</td>\n      <td>medium</td>\n    </tr>\n    <tr>\n      <th>x1</th>\n      <td>B</td>\n      <td>9</td>\n      <td>28</td>\n      <td>bed</td>\n      <td>low</td>\n    </tr>\n    <tr>\n      <th>x2</th>\n      <td>A</td>\n      <td>10</td>\n      <td>30</td>\n      <td>good</td>\n      <td>medium</td>\n    </tr>\n    <tr>\n      <th>x3</th>\n      <td>A</td>\n      <td>20</td>\n      <td>36</td>\n      <td>good</td>\n      <td>high</td>\n    </tr>\n    <tr>\n      <th>x4</th>\n      <td>B</td>\n      <td>7</td>\n      <td>24</td>\n      <td>bed</td>\n      <td>low</td>\n    </tr>\n    <tr>\n      <th>x5</th>\n      <td>C</td>\n      <td>8</td>\n      <td>27</td>\n      <td>bed</td>\n      <td>low</td>\n    </tr>\n    <tr>\n      <th>x6</th>\n      <td>C</td>\n      <td>10</td>\n      <td>33</td>\n      <td>good</td>\n      <td>medium</td>\n    </tr>\n    <tr>\n      <th>x7</th>\n      <td>B</td>\n      <td>6</td>\n      <td>25</td>\n      <td>bed</td>\n      <td>low</td>\n    </tr>\n    <tr>\n      <th>x9</th>\n      <td>C</td>\n      <td>14</td>\n      <td>23</td>\n      <td>good</td>\n      <td>medium</td>\n    </tr>\n  </tbody>\n</table>\n</div>"
     },
     "execution_count": 46,
     "metadata": {},
     "output_type": "execute_result"
    }
   ],
   "source": [
    "df['group_new'] = df['score'].map(lambda x: 'low' if x < 10 else 'high' if x > 15 else 'medium')\n",
    "df"
   ],
   "metadata": {
    "collapsed": false,
    "pycharm": {
     "name": "#%%\n"
    }
   }
  },
  {
   "cell_type": "code",
   "execution_count": 48,
   "outputs": [
    {
     "name": "stdout",
     "output_type": "stream",
     "text": [
      "x0    goodmedium\n",
      "x1        bedlow\n",
      "x2    goodmedium\n",
      "x3      goodhigh\n",
      "x4        bedlow\n",
      "x5        bedlow\n",
      "x6    goodmedium\n",
      "x7        bedlow\n",
      "x9    goodmedium\n",
      "dtype: object\n"
     ]
    }
   ],
   "source": [
    "print(df['new1']+df['group_new'])"
   ],
   "metadata": {
    "collapsed": false,
    "pycharm": {
     "name": "#%%\n"
    }
   }
  },
  {
   "cell_type": "code",
   "execution_count": 49,
   "outputs": [
    {
     "name": "stdout",
     "output_type": "stream",
     "text": [
      "x0    good_medium\n",
      "x1        bed_low\n",
      "x2    good_medium\n",
      "x3      good_high\n",
      "x4        bed_low\n",
      "x5        bed_low\n",
      "x6    good_medium\n",
      "x7        bed_low\n",
      "x9    good_medium\n",
      "dtype: object\n"
     ]
    }
   ],
   "source": [
    "print(df['new1']+\"_\"+df['group_new'])"
   ],
   "metadata": {
    "collapsed": false,
    "pycharm": {
     "name": "#%%\n"
    }
   }
  },
  {
   "cell_type": "code",
   "execution_count": 51,
   "outputs": [
    {
     "data": {
      "text/plain": "   group  score  age  new1 group_new   group_new2\nx0     A     10   27  good    medium  good_medium\nx1     B      9   28   bed       low      bed_low\nx2     A     10   30  good    medium  good_medium\nx3     A     20   36  good      high    good_high\nx4     B      7   24   bed       low      bed_low\nx5     C      8   27   bed       low      bed_low\nx6     C     10   33  good    medium  good_medium\nx7     B      6   25   bed       low      bed_low\nx9     C     14   23  good    medium  good_medium",
      "text/html": "<div>\n<style scoped>\n    .dataframe tbody tr th:only-of-type {\n        vertical-align: middle;\n    }\n\n    .dataframe tbody tr th {\n        vertical-align: top;\n    }\n\n    .dataframe thead th {\n        text-align: right;\n    }\n</style>\n<table border=\"1\" class=\"dataframe\">\n  <thead>\n    <tr style=\"text-align: right;\">\n      <th></th>\n      <th>group</th>\n      <th>score</th>\n      <th>age</th>\n      <th>new1</th>\n      <th>group_new</th>\n      <th>group_new2</th>\n    </tr>\n  </thead>\n  <tbody>\n    <tr>\n      <th>x0</th>\n      <td>A</td>\n      <td>10</td>\n      <td>27</td>\n      <td>good</td>\n      <td>medium</td>\n      <td>good_medium</td>\n    </tr>\n    <tr>\n      <th>x1</th>\n      <td>B</td>\n      <td>9</td>\n      <td>28</td>\n      <td>bed</td>\n      <td>low</td>\n      <td>bed_low</td>\n    </tr>\n    <tr>\n      <th>x2</th>\n      <td>A</td>\n      <td>10</td>\n      <td>30</td>\n      <td>good</td>\n      <td>medium</td>\n      <td>good_medium</td>\n    </tr>\n    <tr>\n      <th>x3</th>\n      <td>A</td>\n      <td>20</td>\n      <td>36</td>\n      <td>good</td>\n      <td>high</td>\n      <td>good_high</td>\n    </tr>\n    <tr>\n      <th>x4</th>\n      <td>B</td>\n      <td>7</td>\n      <td>24</td>\n      <td>bed</td>\n      <td>low</td>\n      <td>bed_low</td>\n    </tr>\n    <tr>\n      <th>x5</th>\n      <td>C</td>\n      <td>8</td>\n      <td>27</td>\n      <td>bed</td>\n      <td>low</td>\n      <td>bed_low</td>\n    </tr>\n    <tr>\n      <th>x6</th>\n      <td>C</td>\n      <td>10</td>\n      <td>33</td>\n      <td>good</td>\n      <td>medium</td>\n      <td>good_medium</td>\n    </tr>\n    <tr>\n      <th>x7</th>\n      <td>B</td>\n      <td>6</td>\n      <td>25</td>\n      <td>bed</td>\n      <td>low</td>\n      <td>bed_low</td>\n    </tr>\n    <tr>\n      <th>x9</th>\n      <td>C</td>\n      <td>14</td>\n      <td>23</td>\n      <td>good</td>\n      <td>medium</td>\n      <td>good_medium</td>\n    </tr>\n  </tbody>\n</table>\n</div>"
     },
     "execution_count": 51,
     "metadata": {},
     "output_type": "execute_result"
    }
   ],
   "source": [
    "df['group_new2'] = df['new1']+\"_\"+df['group_new']\n",
    "df"
   ],
   "metadata": {
    "collapsed": false,
    "pycharm": {
     "name": "#%%\n"
    }
   }
  },
  {
   "cell_type": "code",
   "execution_count": 52,
   "outputs": [
    {
     "data": {
      "text/plain": "   group  score  age  new1 group_new   group_new2  total\nx0     A     10   27  good    medium  good_medium     37\nx1     B      9   28   bed       low      bed_low     37\nx2     A     10   30  good    medium  good_medium     40\nx3     A     20   36  good      high    good_high     56\nx4     B      7   24   bed       low      bed_low     31\nx5     C      8   27   bed       low      bed_low     35\nx6     C     10   33  good    medium  good_medium     43\nx7     B      6   25   bed       low      bed_low     31\nx9     C     14   23  good    medium  good_medium     37",
      "text/html": "<div>\n<style scoped>\n    .dataframe tbody tr th:only-of-type {\n        vertical-align: middle;\n    }\n\n    .dataframe tbody tr th {\n        vertical-align: top;\n    }\n\n    .dataframe thead th {\n        text-align: right;\n    }\n</style>\n<table border=\"1\" class=\"dataframe\">\n  <thead>\n    <tr style=\"text-align: right;\">\n      <th></th>\n      <th>group</th>\n      <th>score</th>\n      <th>age</th>\n      <th>new1</th>\n      <th>group_new</th>\n      <th>group_new2</th>\n      <th>total</th>\n    </tr>\n  </thead>\n  <tbody>\n    <tr>\n      <th>x0</th>\n      <td>A</td>\n      <td>10</td>\n      <td>27</td>\n      <td>good</td>\n      <td>medium</td>\n      <td>good_medium</td>\n      <td>37</td>\n    </tr>\n    <tr>\n      <th>x1</th>\n      <td>B</td>\n      <td>9</td>\n      <td>28</td>\n      <td>bed</td>\n      <td>low</td>\n      <td>bed_low</td>\n      <td>37</td>\n    </tr>\n    <tr>\n      <th>x2</th>\n      <td>A</td>\n      <td>10</td>\n      <td>30</td>\n      <td>good</td>\n      <td>medium</td>\n      <td>good_medium</td>\n      <td>40</td>\n    </tr>\n    <tr>\n      <th>x3</th>\n      <td>A</td>\n      <td>20</td>\n      <td>36</td>\n      <td>good</td>\n      <td>high</td>\n      <td>good_high</td>\n      <td>56</td>\n    </tr>\n    <tr>\n      <th>x4</th>\n      <td>B</td>\n      <td>7</td>\n      <td>24</td>\n      <td>bed</td>\n      <td>low</td>\n      <td>bed_low</td>\n      <td>31</td>\n    </tr>\n    <tr>\n      <th>x5</th>\n      <td>C</td>\n      <td>8</td>\n      <td>27</td>\n      <td>bed</td>\n      <td>low</td>\n      <td>bed_low</td>\n      <td>35</td>\n    </tr>\n    <tr>\n      <th>x6</th>\n      <td>C</td>\n      <td>10</td>\n      <td>33</td>\n      <td>good</td>\n      <td>medium</td>\n      <td>good_medium</td>\n      <td>43</td>\n    </tr>\n    <tr>\n      <th>x7</th>\n      <td>B</td>\n      <td>6</td>\n      <td>25</td>\n      <td>bed</td>\n      <td>low</td>\n      <td>bed_low</td>\n      <td>31</td>\n    </tr>\n    <tr>\n      <th>x9</th>\n      <td>C</td>\n      <td>14</td>\n      <td>23</td>\n      <td>good</td>\n      <td>medium</td>\n      <td>good_medium</td>\n      <td>37</td>\n    </tr>\n  </tbody>\n</table>\n</div>"
     },
     "execution_count": 52,
     "metadata": {},
     "output_type": "execute_result"
    }
   ],
   "source": [
    "df['total'] = df['score'] + df['age']\n",
    "df"
   ],
   "metadata": {
    "collapsed": false,
    "pycharm": {
     "name": "#%%\n"
    }
   }
  },
  {
   "cell_type": "markdown",
   "source": [],
   "metadata": {
    "collapsed": false
   }
  },
  {
   "cell_type": "markdown",
   "source": [
    "# 특정 열 선택 기타 함수"
   ],
   "metadata": {
    "collapsed": false,
    "pycharm": {
     "name": "#%% md\n"
    }
   }
  },
  {
   "cell_type": "code",
   "execution_count": 53,
   "outputs": [
    {
     "data": {
      "text/plain": "   group  score  age  new1 group_new   group_new2  total group_age\nx0     A     10   27  good    medium  good_medium     37       20대\nx1     B      9   28   bed       low      bed_low     37       20대\nx2     A     10   30  good    medium  good_medium     40    30대 이상\nx3     A     20   36  good      high    good_high     56    30대 이상\nx4     B      7   24   bed       low      bed_low     31       20대\nx5     C      8   27   bed       low      bed_low     35       20대\nx6     C     10   33  good    medium  good_medium     43    30대 이상\nx7     B      6   25   bed       low      bed_low     31       20대\nx9     C     14   23  good    medium  good_medium     37       20대",
      "text/html": "<div>\n<style scoped>\n    .dataframe tbody tr th:only-of-type {\n        vertical-align: middle;\n    }\n\n    .dataframe tbody tr th {\n        vertical-align: top;\n    }\n\n    .dataframe thead th {\n        text-align: right;\n    }\n</style>\n<table border=\"1\" class=\"dataframe\">\n  <thead>\n    <tr style=\"text-align: right;\">\n      <th></th>\n      <th>group</th>\n      <th>score</th>\n      <th>age</th>\n      <th>new1</th>\n      <th>group_new</th>\n      <th>group_new2</th>\n      <th>total</th>\n      <th>group_age</th>\n    </tr>\n  </thead>\n  <tbody>\n    <tr>\n      <th>x0</th>\n      <td>A</td>\n      <td>10</td>\n      <td>27</td>\n      <td>good</td>\n      <td>medium</td>\n      <td>good_medium</td>\n      <td>37</td>\n      <td>20대</td>\n    </tr>\n    <tr>\n      <th>x1</th>\n      <td>B</td>\n      <td>9</td>\n      <td>28</td>\n      <td>bed</td>\n      <td>low</td>\n      <td>bed_low</td>\n      <td>37</td>\n      <td>20대</td>\n    </tr>\n    <tr>\n      <th>x2</th>\n      <td>A</td>\n      <td>10</td>\n      <td>30</td>\n      <td>good</td>\n      <td>medium</td>\n      <td>good_medium</td>\n      <td>40</td>\n      <td>30대 이상</td>\n    </tr>\n    <tr>\n      <th>x3</th>\n      <td>A</td>\n      <td>20</td>\n      <td>36</td>\n      <td>good</td>\n      <td>high</td>\n      <td>good_high</td>\n      <td>56</td>\n      <td>30대 이상</td>\n    </tr>\n    <tr>\n      <th>x4</th>\n      <td>B</td>\n      <td>7</td>\n      <td>24</td>\n      <td>bed</td>\n      <td>low</td>\n      <td>bed_low</td>\n      <td>31</td>\n      <td>20대</td>\n    </tr>\n    <tr>\n      <th>x5</th>\n      <td>C</td>\n      <td>8</td>\n      <td>27</td>\n      <td>bed</td>\n      <td>low</td>\n      <td>bed_low</td>\n      <td>35</td>\n      <td>20대</td>\n    </tr>\n    <tr>\n      <th>x6</th>\n      <td>C</td>\n      <td>10</td>\n      <td>33</td>\n      <td>good</td>\n      <td>medium</td>\n      <td>good_medium</td>\n      <td>43</td>\n      <td>30대 이상</td>\n    </tr>\n    <tr>\n      <th>x7</th>\n      <td>B</td>\n      <td>6</td>\n      <td>25</td>\n      <td>bed</td>\n      <td>low</td>\n      <td>bed_low</td>\n      <td>31</td>\n      <td>20대</td>\n    </tr>\n    <tr>\n      <th>x9</th>\n      <td>C</td>\n      <td>14</td>\n      <td>23</td>\n      <td>good</td>\n      <td>medium</td>\n      <td>good_medium</td>\n      <td>37</td>\n      <td>20대</td>\n    </tr>\n  </tbody>\n</table>\n</div>"
     },
     "execution_count": 53,
     "metadata": {},
     "output_type": "execute_result"
    }
   ],
   "source": [
    "df['group_age'] = df['age'].map(lambda x: '청소년' if x < 20 else '20대' if x < 30 else '30대 이상')\n",
    "df"
   ],
   "metadata": {
    "collapsed": false,
    "pycharm": {
     "name": "#%%\n"
    }
   }
  },
  {
   "cell_type": "markdown",
   "source": [
    "- 참고: difference()\n",
    "- 특정 컬럼 제외 후 선택"
   ],
   "metadata": {
    "collapsed": false,
    "pycharm": {
     "name": "#%% md\n"
    }
   }
  },
  {
   "cell_type": "code",
   "execution_count": 55,
   "outputs": [
    {
     "data": {
      "text/plain": "Index(['age', 'group_age', 'group_new', 'group_new2', 'new1', 'score',\n       'total'],\n      dtype='object')"
     },
     "execution_count": 55,
     "metadata": {},
     "output_type": "execute_result"
    }
   ],
   "source": [
    "df.columns.difference(['group'])"
   ],
   "metadata": {
    "collapsed": false,
    "pycharm": {
     "name": "#%%\n"
    }
   }
  },
  {
   "cell_type": "code",
   "execution_count": 56,
   "outputs": [
    {
     "data": {
      "text/plain": "    age group_age group_new   group_new2  new1  score  total\nx0   27       20대    medium  good_medium  good     10     37\nx1   28       20대       low      bed_low   bed      9     37\nx2   30    30대 이상    medium  good_medium  good     10     40\nx3   36    30대 이상      high    good_high  good     20     56\nx4   24       20대       low      bed_low   bed      7     31\nx5   27       20대       low      bed_low   bed      8     35\nx6   33    30대 이상    medium  good_medium  good     10     43\nx7   25       20대       low      bed_low   bed      6     31\nx9   23       20대    medium  good_medium  good     14     37",
      "text/html": "<div>\n<style scoped>\n    .dataframe tbody tr th:only-of-type {\n        vertical-align: middle;\n    }\n\n    .dataframe tbody tr th {\n        vertical-align: top;\n    }\n\n    .dataframe thead th {\n        text-align: right;\n    }\n</style>\n<table border=\"1\" class=\"dataframe\">\n  <thead>\n    <tr style=\"text-align: right;\">\n      <th></th>\n      <th>age</th>\n      <th>group_age</th>\n      <th>group_new</th>\n      <th>group_new2</th>\n      <th>new1</th>\n      <th>score</th>\n      <th>total</th>\n    </tr>\n  </thead>\n  <tbody>\n    <tr>\n      <th>x0</th>\n      <td>27</td>\n      <td>20대</td>\n      <td>medium</td>\n      <td>good_medium</td>\n      <td>good</td>\n      <td>10</td>\n      <td>37</td>\n    </tr>\n    <tr>\n      <th>x1</th>\n      <td>28</td>\n      <td>20대</td>\n      <td>low</td>\n      <td>bed_low</td>\n      <td>bed</td>\n      <td>9</td>\n      <td>37</td>\n    </tr>\n    <tr>\n      <th>x2</th>\n      <td>30</td>\n      <td>30대 이상</td>\n      <td>medium</td>\n      <td>good_medium</td>\n      <td>good</td>\n      <td>10</td>\n      <td>40</td>\n    </tr>\n    <tr>\n      <th>x3</th>\n      <td>36</td>\n      <td>30대 이상</td>\n      <td>high</td>\n      <td>good_high</td>\n      <td>good</td>\n      <td>20</td>\n      <td>56</td>\n    </tr>\n    <tr>\n      <th>x4</th>\n      <td>24</td>\n      <td>20대</td>\n      <td>low</td>\n      <td>bed_low</td>\n      <td>bed</td>\n      <td>7</td>\n      <td>31</td>\n    </tr>\n    <tr>\n      <th>x5</th>\n      <td>27</td>\n      <td>20대</td>\n      <td>low</td>\n      <td>bed_low</td>\n      <td>bed</td>\n      <td>8</td>\n      <td>35</td>\n    </tr>\n    <tr>\n      <th>x6</th>\n      <td>33</td>\n      <td>30대 이상</td>\n      <td>medium</td>\n      <td>good_medium</td>\n      <td>good</td>\n      <td>10</td>\n      <td>43</td>\n    </tr>\n    <tr>\n      <th>x7</th>\n      <td>25</td>\n      <td>20대</td>\n      <td>low</td>\n      <td>bed_low</td>\n      <td>bed</td>\n      <td>6</td>\n      <td>31</td>\n    </tr>\n    <tr>\n      <th>x9</th>\n      <td>23</td>\n      <td>20대</td>\n      <td>medium</td>\n      <td>good_medium</td>\n      <td>good</td>\n      <td>14</td>\n      <td>37</td>\n    </tr>\n  </tbody>\n</table>\n</div>"
     },
     "execution_count": 56,
     "metadata": {},
     "output_type": "execute_result"
    }
   ],
   "source": [
    "df[df.columns.difference(['group'])]"
   ],
   "metadata": {
    "collapsed": false,
    "pycharm": {
     "name": "#%%\n"
    }
   }
  },
  {
   "cell_type": "code",
   "execution_count": 57,
   "outputs": [
    {
     "data": {
      "text/plain": "    age group_age group_new   group_new2  new1  total\nx0   27       20대    medium  good_medium  good     37\nx1   28       20대       low      bed_low   bed     37\nx2   30    30대 이상    medium  good_medium  good     40\nx3   36    30대 이상      high    good_high  good     56\nx4   24       20대       low      bed_low   bed     31\nx5   27       20대       low      bed_low   bed     35\nx6   33    30대 이상    medium  good_medium  good     43\nx7   25       20대       low      bed_low   bed     31\nx9   23       20대    medium  good_medium  good     37",
      "text/html": "<div>\n<style scoped>\n    .dataframe tbody tr th:only-of-type {\n        vertical-align: middle;\n    }\n\n    .dataframe tbody tr th {\n        vertical-align: top;\n    }\n\n    .dataframe thead th {\n        text-align: right;\n    }\n</style>\n<table border=\"1\" class=\"dataframe\">\n  <thead>\n    <tr style=\"text-align: right;\">\n      <th></th>\n      <th>age</th>\n      <th>group_age</th>\n      <th>group_new</th>\n      <th>group_new2</th>\n      <th>new1</th>\n      <th>total</th>\n    </tr>\n  </thead>\n  <tbody>\n    <tr>\n      <th>x0</th>\n      <td>27</td>\n      <td>20대</td>\n      <td>medium</td>\n      <td>good_medium</td>\n      <td>good</td>\n      <td>37</td>\n    </tr>\n    <tr>\n      <th>x1</th>\n      <td>28</td>\n      <td>20대</td>\n      <td>low</td>\n      <td>bed_low</td>\n      <td>bed</td>\n      <td>37</td>\n    </tr>\n    <tr>\n      <th>x2</th>\n      <td>30</td>\n      <td>30대 이상</td>\n      <td>medium</td>\n      <td>good_medium</td>\n      <td>good</td>\n      <td>40</td>\n    </tr>\n    <tr>\n      <th>x3</th>\n      <td>36</td>\n      <td>30대 이상</td>\n      <td>high</td>\n      <td>good_high</td>\n      <td>good</td>\n      <td>56</td>\n    </tr>\n    <tr>\n      <th>x4</th>\n      <td>24</td>\n      <td>20대</td>\n      <td>low</td>\n      <td>bed_low</td>\n      <td>bed</td>\n      <td>31</td>\n    </tr>\n    <tr>\n      <th>x5</th>\n      <td>27</td>\n      <td>20대</td>\n      <td>low</td>\n      <td>bed_low</td>\n      <td>bed</td>\n      <td>35</td>\n    </tr>\n    <tr>\n      <th>x6</th>\n      <td>33</td>\n      <td>30대 이상</td>\n      <td>medium</td>\n      <td>good_medium</td>\n      <td>good</td>\n      <td>43</td>\n    </tr>\n    <tr>\n      <th>x7</th>\n      <td>25</td>\n      <td>20대</td>\n      <td>low</td>\n      <td>bed_low</td>\n      <td>bed</td>\n      <td>31</td>\n    </tr>\n    <tr>\n      <th>x9</th>\n      <td>23</td>\n      <td>20대</td>\n      <td>medium</td>\n      <td>good_medium</td>\n      <td>good</td>\n      <td>37</td>\n    </tr>\n  </tbody>\n</table>\n</div>"
     },
     "execution_count": 57,
     "metadata": {},
     "output_type": "execute_result"
    }
   ],
   "source": [
    "df[df.columns.difference(['group', 'score'])]"
   ],
   "metadata": {
    "collapsed": false,
    "pycharm": {
     "name": "#%%\n"
    }
   }
  },
  {
   "cell_type": "markdown",
   "source": [
    "- 특정 이름이 포함된 컬럼 제외 후 선택\n",
    "- str.contains()"
   ],
   "metadata": {
    "collapsed": false,
    "pycharm": {
     "name": "#%% md\n"
    }
   }
  },
  {
   "cell_type": "code",
   "execution_count": 58,
   "outputs": [
    {
     "data": {
      "text/plain": "   group  score  age  new1 group_new   group_new2  total group_age\nx0     A     10   27  good    medium  good_medium     37       20대\nx1     B      9   28   bed       low      bed_low     37       20대\nx2     A     10   30  good    medium  good_medium     40    30대 이상",
      "text/html": "<div>\n<style scoped>\n    .dataframe tbody tr th:only-of-type {\n        vertical-align: middle;\n    }\n\n    .dataframe tbody tr th {\n        vertical-align: top;\n    }\n\n    .dataframe thead th {\n        text-align: right;\n    }\n</style>\n<table border=\"1\" class=\"dataframe\">\n  <thead>\n    <tr style=\"text-align: right;\">\n      <th></th>\n      <th>group</th>\n      <th>score</th>\n      <th>age</th>\n      <th>new1</th>\n      <th>group_new</th>\n      <th>group_new2</th>\n      <th>total</th>\n      <th>group_age</th>\n    </tr>\n  </thead>\n  <tbody>\n    <tr>\n      <th>x0</th>\n      <td>A</td>\n      <td>10</td>\n      <td>27</td>\n      <td>good</td>\n      <td>medium</td>\n      <td>good_medium</td>\n      <td>37</td>\n      <td>20대</td>\n    </tr>\n    <tr>\n      <th>x1</th>\n      <td>B</td>\n      <td>9</td>\n      <td>28</td>\n      <td>bed</td>\n      <td>low</td>\n      <td>bed_low</td>\n      <td>37</td>\n      <td>20대</td>\n    </tr>\n    <tr>\n      <th>x2</th>\n      <td>A</td>\n      <td>10</td>\n      <td>30</td>\n      <td>good</td>\n      <td>medium</td>\n      <td>good_medium</td>\n      <td>40</td>\n      <td>30대 이상</td>\n    </tr>\n  </tbody>\n</table>\n</div>"
     },
     "execution_count": 58,
     "metadata": {},
     "output_type": "execute_result"
    }
   ],
   "source": [
    "df.head(3)"
   ],
   "metadata": {
    "collapsed": false,
    "pycharm": {
     "name": "#%%\n"
    }
   }
  },
  {
   "cell_type": "code",
   "execution_count": 59,
   "outputs": [
    {
     "data": {
      "text/plain": "Index(['group', 'score', 'age', 'new1', 'group_new', 'group_new2', 'total',\n       'group_age'],\n      dtype='object')"
     },
     "execution_count": 59,
     "metadata": {},
     "output_type": "execute_result"
    }
   ],
   "source": [
    "df.columns"
   ],
   "metadata": {
    "collapsed": false,
    "pycharm": {
     "name": "#%%\n"
    }
   }
  },
  {
   "cell_type": "code",
   "execution_count": 61,
   "outputs": [
    {
     "name": "stdout",
     "output_type": "stream",
     "text": [
      "[ True False False False  True  True False  True]\n"
     ]
    }
   ],
   "source": [
    "print(df.columns.str.contains(pat='group'))"
   ],
   "metadata": {
    "collapsed": false,
    "pycharm": {
     "name": "#%%\n"
    }
   }
  },
  {
   "cell_type": "code",
   "execution_count": 63,
   "outputs": [
    {
     "name": "stdout",
     "output_type": "stream",
     "text": [
      "[False  True  True  True False False  True False]\n"
     ]
    }
   ],
   "source": [
    "print(df.columns.str.contains(pat='group')==False)"
   ],
   "metadata": {
    "collapsed": false,
    "pycharm": {
     "name": "#%%\n"
    }
   }
  },
  {
   "cell_type": "code",
   "execution_count": 64,
   "outputs": [
    {
     "data": {
      "text/plain": "Index(['score', 'age', 'new1', 'total'], dtype='object')"
     },
     "execution_count": 64,
     "metadata": {},
     "output_type": "execute_result"
    }
   ],
   "source": [
    "df.columns[df.columns.str.contains(pat='group')==False]"
   ],
   "metadata": {
    "collapsed": false,
    "pycharm": {
     "name": "#%%\n"
    }
   }
  },
  {
   "cell_type": "code",
   "execution_count": 65,
   "outputs": [
    {
     "data": {
      "text/plain": "    score  age  new1  total\nx0     10   27  good     37\nx1      9   28   bed     37\nx2     10   30  good     40\nx3     20   36  good     56\nx4      7   24   bed     31\nx5      8   27   bed     35\nx6     10   33  good     43\nx7      6   25   bed     31\nx9     14   23  good     37",
      "text/html": "<div>\n<style scoped>\n    .dataframe tbody tr th:only-of-type {\n        vertical-align: middle;\n    }\n\n    .dataframe tbody tr th {\n        vertical-align: top;\n    }\n\n    .dataframe thead th {\n        text-align: right;\n    }\n</style>\n<table border=\"1\" class=\"dataframe\">\n  <thead>\n    <tr style=\"text-align: right;\">\n      <th></th>\n      <th>score</th>\n      <th>age</th>\n      <th>new1</th>\n      <th>total</th>\n    </tr>\n  </thead>\n  <tbody>\n    <tr>\n      <th>x0</th>\n      <td>10</td>\n      <td>27</td>\n      <td>good</td>\n      <td>37</td>\n    </tr>\n    <tr>\n      <th>x1</th>\n      <td>9</td>\n      <td>28</td>\n      <td>bed</td>\n      <td>37</td>\n    </tr>\n    <tr>\n      <th>x2</th>\n      <td>10</td>\n      <td>30</td>\n      <td>good</td>\n      <td>40</td>\n    </tr>\n    <tr>\n      <th>x3</th>\n      <td>20</td>\n      <td>36</td>\n      <td>good</td>\n      <td>56</td>\n    </tr>\n    <tr>\n      <th>x4</th>\n      <td>7</td>\n      <td>24</td>\n      <td>bed</td>\n      <td>31</td>\n    </tr>\n    <tr>\n      <th>x5</th>\n      <td>8</td>\n      <td>27</td>\n      <td>bed</td>\n      <td>35</td>\n    </tr>\n    <tr>\n      <th>x6</th>\n      <td>10</td>\n      <td>33</td>\n      <td>good</td>\n      <td>43</td>\n    </tr>\n    <tr>\n      <th>x7</th>\n      <td>6</td>\n      <td>25</td>\n      <td>bed</td>\n      <td>31</td>\n    </tr>\n    <tr>\n      <th>x9</th>\n      <td>14</td>\n      <td>23</td>\n      <td>good</td>\n      <td>37</td>\n    </tr>\n  </tbody>\n</table>\n</div>"
     },
     "execution_count": 65,
     "metadata": {},
     "output_type": "execute_result"
    }
   ],
   "source": [
    "df[df.columns[df.columns.str.contains(pat='group')==False]]"
   ],
   "metadata": {
    "collapsed": false,
    "pycharm": {
     "name": "#%%\n"
    }
   }
  },
  {
   "cell_type": "markdown",
   "source": [
    "- 특정 이름이 포함된 컬럼 선택"
   ],
   "metadata": {
    "collapsed": false,
    "pycharm": {
     "name": "#%% md\n"
    }
   }
  },
  {
   "cell_type": "code",
   "execution_count": 67,
   "outputs": [
    {
     "data": {
      "text/plain": "   group group_new   group_new2 group_age\nx0     A    medium  good_medium       20대\nx1     B       low      bed_low       20대\nx2     A    medium  good_medium    30대 이상\nx3     A      high    good_high    30대 이상\nx4     B       low      bed_low       20대\nx5     C       low      bed_low       20대\nx6     C    medium  good_medium    30대 이상\nx7     B       low      bed_low       20대\nx9     C    medium  good_medium       20대",
      "text/html": "<div>\n<style scoped>\n    .dataframe tbody tr th:only-of-type {\n        vertical-align: middle;\n    }\n\n    .dataframe tbody tr th {\n        vertical-align: top;\n    }\n\n    .dataframe thead th {\n        text-align: right;\n    }\n</style>\n<table border=\"1\" class=\"dataframe\">\n  <thead>\n    <tr style=\"text-align: right;\">\n      <th></th>\n      <th>group</th>\n      <th>group_new</th>\n      <th>group_new2</th>\n      <th>group_age</th>\n    </tr>\n  </thead>\n  <tbody>\n    <tr>\n      <th>x0</th>\n      <td>A</td>\n      <td>medium</td>\n      <td>good_medium</td>\n      <td>20대</td>\n    </tr>\n    <tr>\n      <th>x1</th>\n      <td>B</td>\n      <td>low</td>\n      <td>bed_low</td>\n      <td>20대</td>\n    </tr>\n    <tr>\n      <th>x2</th>\n      <td>A</td>\n      <td>medium</td>\n      <td>good_medium</td>\n      <td>30대 이상</td>\n    </tr>\n    <tr>\n      <th>x3</th>\n      <td>A</td>\n      <td>high</td>\n      <td>good_high</td>\n      <td>30대 이상</td>\n    </tr>\n    <tr>\n      <th>x4</th>\n      <td>B</td>\n      <td>low</td>\n      <td>bed_low</td>\n      <td>20대</td>\n    </tr>\n    <tr>\n      <th>x5</th>\n      <td>C</td>\n      <td>low</td>\n      <td>bed_low</td>\n      <td>20대</td>\n    </tr>\n    <tr>\n      <th>x6</th>\n      <td>C</td>\n      <td>medium</td>\n      <td>good_medium</td>\n      <td>30대 이상</td>\n    </tr>\n    <tr>\n      <th>x7</th>\n      <td>B</td>\n      <td>low</td>\n      <td>bed_low</td>\n      <td>20대</td>\n    </tr>\n    <tr>\n      <th>x9</th>\n      <td>C</td>\n      <td>medium</td>\n      <td>good_medium</td>\n      <td>20대</td>\n    </tr>\n  </tbody>\n</table>\n</div>"
     },
     "execution_count": 67,
     "metadata": {},
     "output_type": "execute_result"
    }
   ],
   "source": [
    "df[df.columns[df.columns.str.contains(pat='group')]]"
   ],
   "metadata": {
    "collapsed": false,
    "pycharm": {
     "name": "#%%\n"
    }
   }
  },
  {
   "cell_type": "code",
   "execution_count": 68,
   "outputs": [
    {
     "data": {
      "text/plain": "   group  age group_new   group_new2 group_age\nx0     A   27    medium  good_medium       20대\nx1     B   28       low      bed_low       20대\nx2     A   30    medium  good_medium    30대 이상\nx3     A   36      high    good_high    30대 이상\nx4     B   24       low      bed_low       20대\nx5     C   27       low      bed_low       20대\nx6     C   33    medium  good_medium    30대 이상\nx7     B   25       low      bed_low       20대\nx9     C   23    medium  good_medium       20대",
      "text/html": "<div>\n<style scoped>\n    .dataframe tbody tr th:only-of-type {\n        vertical-align: middle;\n    }\n\n    .dataframe tbody tr th {\n        vertical-align: top;\n    }\n\n    .dataframe thead th {\n        text-align: right;\n    }\n</style>\n<table border=\"1\" class=\"dataframe\">\n  <thead>\n    <tr style=\"text-align: right;\">\n      <th></th>\n      <th>group</th>\n      <th>age</th>\n      <th>group_new</th>\n      <th>group_new2</th>\n      <th>group_age</th>\n    </tr>\n  </thead>\n  <tbody>\n    <tr>\n      <th>x0</th>\n      <td>A</td>\n      <td>27</td>\n      <td>medium</td>\n      <td>good_medium</td>\n      <td>20대</td>\n    </tr>\n    <tr>\n      <th>x1</th>\n      <td>B</td>\n      <td>28</td>\n      <td>low</td>\n      <td>bed_low</td>\n      <td>20대</td>\n    </tr>\n    <tr>\n      <th>x2</th>\n      <td>A</td>\n      <td>30</td>\n      <td>medium</td>\n      <td>good_medium</td>\n      <td>30대 이상</td>\n    </tr>\n    <tr>\n      <th>x3</th>\n      <td>A</td>\n      <td>36</td>\n      <td>high</td>\n      <td>good_high</td>\n      <td>30대 이상</td>\n    </tr>\n    <tr>\n      <th>x4</th>\n      <td>B</td>\n      <td>24</td>\n      <td>low</td>\n      <td>bed_low</td>\n      <td>20대</td>\n    </tr>\n    <tr>\n      <th>x5</th>\n      <td>C</td>\n      <td>27</td>\n      <td>low</td>\n      <td>bed_low</td>\n      <td>20대</td>\n    </tr>\n    <tr>\n      <th>x6</th>\n      <td>C</td>\n      <td>33</td>\n      <td>medium</td>\n      <td>good_medium</td>\n      <td>30대 이상</td>\n    </tr>\n    <tr>\n      <th>x7</th>\n      <td>B</td>\n      <td>25</td>\n      <td>low</td>\n      <td>bed_low</td>\n      <td>20대</td>\n    </tr>\n    <tr>\n      <th>x9</th>\n      <td>C</td>\n      <td>23</td>\n      <td>medium</td>\n      <td>good_medium</td>\n      <td>20대</td>\n    </tr>\n  </tbody>\n</table>\n</div>"
     },
     "execution_count": 68,
     "metadata": {},
     "output_type": "execute_result"
    }
   ],
   "source": [
    "df[df.columns[df.columns.str.contains(pat='group|age')]]"
   ],
   "metadata": {
    "collapsed": false,
    "pycharm": {
     "name": "#%%\n"
    }
   }
  }
 ],
 "metadata": {
  "kernelspec": {
   "display_name": "Python 3",
   "language": "python",
   "name": "python3"
  },
  "language_info": {
   "codemirror_mode": {
    "name": "ipython",
    "version": 2
   },
   "file_extension": ".py",
   "mimetype": "text/x-python",
   "name": "python",
   "nbconvert_exporter": "python",
   "pygments_lexer": "ipython2",
   "version": "2.7.6"
  }
 },
 "nbformat": 4,
 "nbformat_minor": 0
}