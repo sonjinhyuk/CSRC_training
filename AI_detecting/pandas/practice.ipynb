{
 "cells": [
  {
   "cell_type": "markdown",
   "metadata": {
    "collapsed": true,
    "pycharm": {
     "name": "#%% md\n"
    }
   },
   "source": [
    "7# 1. 주어진 PDF 파일을 PDF parser 모듈을 활용하여 데이터 프레임 생성"
   ]
  },
  {
   "cell_type": "code",
   "execution_count": 50,
   "outputs": [],
   "source": [
    "import sys\n",
    "sys.path.append(\"C:\\\\Users\\\\malware\\\\Desktop\\\\python\\\\AI\\\\Docscanner_parser\\\\docscanner_parser\")\n",
    "from CSRC_parser.PDFparser import preprocessing"
   ],
   "metadata": {
    "collapsed": false,
    "pycharm": {
     "name": "#%%\n"
    }
   }
  },
  {
   "cell_type": "code",
   "execution_count": 51,
   "outputs": [
    {
     "name": "stderr",
     "output_type": "stream",
     "text": [
      "1it [00:01,  1.00s/it]"
     ]
    },
    {
     "name": "stdout",
     "output_type": "stream",
     "text": [
      "b' \\r\\n58 35 4F 21 50 25 40 41 50 5B 34 5C 50 5A 58 35\\r\\n34 28 50 5E 29 37 43 43 29 37 7D 24 45 49 43 41\\r\\n52 2D 53 54 41 4E 44 41 52 44 2D 41 4E 54 49 56\\r\\n49 52 55 53 2D 54 45 53 54 2D 46 49 4C 45 21 24\\r\\n48 2B 48 2A>\\r\\n'\n"
     ]
    },
    {
     "name": "stderr",
     "output_type": "stream",
     "text": [
      "20it [02:43,  8.15s/it]\n"
     ]
    }
   ],
   "source": [
    "from pathlib import Path\n",
    "from tqdm import tqdm\n",
    "paths = Path(\"Data/test_files\").glob(\"*\")\n",
    "results = []\n",
    "for p in tqdm(paths):\n",
    "    try:\n",
    "        results.append(preprocessing.pdfparser(str(p)))\n",
    "    except:\n",
    "        print(p)"
   ],
   "metadata": {
    "collapsed": false,
    "pycharm": {
     "name": "#%%\n"
    }
   }
  },
  {
   "cell_type": "markdown",
   "source": [
    "# 2. 해당 데이터 프레임 모두 합치기"
   ],
   "metadata": {
    "collapsed": false,
    "pycharm": {
     "name": "#%% md\n"
    }
   }
  },
  {
   "cell_type": "code",
   "execution_count": 52,
   "outputs": [],
   "source": [
    "import pandas as pd\n",
    "df = pd.DataFrame()\n",
    "for series in results:\n",
    "    file_name = series.model_input['file_name'].split(\"\\\\\")[-1]\n",
    "    temp_df = pd.DataFrame(series.model_input).T\n",
    "    if df.empty:\n",
    "        df = temp_df\n",
    "    else:\n",
    "        df = pd.concat([df, temp_df])"
   ],
   "metadata": {
    "collapsed": false,
    "pycharm": {
     "name": "#%%\n"
    }
   }
  },
  {
   "cell_type": "code",
   "execution_count": 53,
   "outputs": [
    {
     "data": {
      "text/plain": "                   file_name /JS /AA /OpenAction /AcroForm /RichMedia /Launch  \\\n0  Data\\test_files\\file_00_0   0   0           0         0          0       0   \n0  Data\\test_files\\file_00_1   2   0           0         0          0       0   \n0  Data\\test_files\\file_01_0   0   0           0         0          0       0   \n0  Data\\test_files\\file_01_1   2   0           1         0          0       0   \n0  Data\\test_files\\file_02_0   0   0           0         0          0       0   \n0  Data\\test_files\\file_02_1   5   0           0         1          0       0   \n0  Data\\test_files\\file_03_0   0   0           0         0          0       0   \n0  Data\\test_files\\file_03_1   2   0           1         0          0       0   \n0  Data\\test_files\\file_04_0   0   0           0         1          0       0   \n0  Data\\test_files\\file_04_1   0   0           0         0          0       0   \n0  Data\\test_files\\file_05_0   0   0           0         0          0       0   \n0  Data\\test_files\\file_05_1   2   1           1         0          0       1   \n0  Data\\test_files\\file_06_0   0   0           0         2          0       0   \n0  Data\\test_files\\file_06_1   5   0           1         1          0       0   \n0  Data\\test_files\\file_07_0   0   0           0         0          0       0   \n0  Data\\test_files\\file_07_1   0   0           0         0          0       0   \n0  Data\\test_files\\file_08_0   0   0           0         0          0       0   \n0  Data\\test_files\\file_08_1   0   0           0         1          0       0   \n0  Data\\test_files\\file_09_0   0   0           0         0          0       0   \n0  Data\\test_files\\file_09_1   2   0           1         0          0       0   \n\n  /EmbeddedFile /XFA /URI  ... replace fromCharCode getAnnots  ip xref_size  \\\n0             0    0    0  ...       0            0         0  15         0   \n0             1    0    0  ...       0            0         0   0        11   \n0             0    0    1  ...       0            0         0   4       459   \n0             0    0    0  ...       2            0         1   0         9   \n0             0    0    1  ...       0            0         0   5         0   \n0             0    0    0  ...       0            0         0   0       155   \n0             1    0    1  ...       0            0         0   5        43   \n0             0    0    0  ...       2            0         1   0         9   \n0             0    0    0  ...       0            0         0   4        29   \n0             0    0   22  ...       0            0         0   3        72   \n0             1    0    0  ...       0            0         0   4        27   \n0             0    0    0  ...       0            0         0   2        66   \n0             0    0    0  ...       0            0         0  14         0   \n0             0    0    0  ...       2            1         0   3        15   \n0             0    0    0  ...       0            0         0   4       282   \n0             0    0   21  ...       0            0         0   5        59   \n0             0    0    0  ...       0            0         0  13       451   \n0             8    1    0  ...       2            1         0   4        22   \n0             0    0    0  ...       0            0         0   4        54   \n0             0    0    0  ...       0            1         1   0        10   \n\n  trailer_size  file_size nof_stream cve yara  \n0            0    195.771        232   0    0  \n0           11      2.112          4   0    0  \n0          900     44.214         46   0    0  \n0            9      9.822          8   0    0  \n0            0    154.175         86   0    0  \n0          310    135.794          0   0    0  \n0           70     54.748         26   0    0  \n0            9      9.383          8   0    0  \n0           37     92.542         36   0    0  \n0           72     50.527         34   0    0  \n0           45     24.263         22   0    0  \n0          122  20510.442         48   0   20  \n0            0    331.039        736   0    3  \n0           15       4.17         10   0    0  \n0          580     78.299         58   0    0  \n0          111     73.821         34   0    0  \n0          902    347.411        267   0    2  \n0           22     11.157         43   0    0  \n0          197     15.317         20   0    0  \n0           10      8.322          9   0    0  \n\n[20 rows x 57 columns]",
      "text/html": "<div>\n<style scoped>\n    .dataframe tbody tr th:only-of-type {\n        vertical-align: middle;\n    }\n\n    .dataframe tbody tr th {\n        vertical-align: top;\n    }\n\n    .dataframe thead th {\n        text-align: right;\n    }\n</style>\n<table border=\"1\" class=\"dataframe\">\n  <thead>\n    <tr style=\"text-align: right;\">\n      <th></th>\n      <th>file_name</th>\n      <th>/JS</th>\n      <th>/AA</th>\n      <th>/OpenAction</th>\n      <th>/AcroForm</th>\n      <th>/RichMedia</th>\n      <th>/Launch</th>\n      <th>/EmbeddedFile</th>\n      <th>/XFA</th>\n      <th>/URI</th>\n      <th>...</th>\n      <th>replace</th>\n      <th>fromCharCode</th>\n      <th>getAnnots</th>\n      <th>ip</th>\n      <th>xref_size</th>\n      <th>trailer_size</th>\n      <th>file_size</th>\n      <th>nof_stream</th>\n      <th>cve</th>\n      <th>yara</th>\n    </tr>\n  </thead>\n  <tbody>\n    <tr>\n      <th>0</th>\n      <td>Data\\test_files\\file_00_0</td>\n      <td>0</td>\n      <td>0</td>\n      <td>0</td>\n      <td>0</td>\n      <td>0</td>\n      <td>0</td>\n      <td>0</td>\n      <td>0</td>\n      <td>0</td>\n      <td>...</td>\n      <td>0</td>\n      <td>0</td>\n      <td>0</td>\n      <td>15</td>\n      <td>0</td>\n      <td>0</td>\n      <td>195.771</td>\n      <td>232</td>\n      <td>0</td>\n      <td>0</td>\n    </tr>\n    <tr>\n      <th>0</th>\n      <td>Data\\test_files\\file_00_1</td>\n      <td>2</td>\n      <td>0</td>\n      <td>0</td>\n      <td>0</td>\n      <td>0</td>\n      <td>0</td>\n      <td>1</td>\n      <td>0</td>\n      <td>0</td>\n      <td>...</td>\n      <td>0</td>\n      <td>0</td>\n      <td>0</td>\n      <td>0</td>\n      <td>11</td>\n      <td>11</td>\n      <td>2.112</td>\n      <td>4</td>\n      <td>0</td>\n      <td>0</td>\n    </tr>\n    <tr>\n      <th>0</th>\n      <td>Data\\test_files\\file_01_0</td>\n      <td>0</td>\n      <td>0</td>\n      <td>0</td>\n      <td>0</td>\n      <td>0</td>\n      <td>0</td>\n      <td>0</td>\n      <td>0</td>\n      <td>1</td>\n      <td>...</td>\n      <td>0</td>\n      <td>0</td>\n      <td>0</td>\n      <td>4</td>\n      <td>459</td>\n      <td>900</td>\n      <td>44.214</td>\n      <td>46</td>\n      <td>0</td>\n      <td>0</td>\n    </tr>\n    <tr>\n      <th>0</th>\n      <td>Data\\test_files\\file_01_1</td>\n      <td>2</td>\n      <td>0</td>\n      <td>1</td>\n      <td>0</td>\n      <td>0</td>\n      <td>0</td>\n      <td>0</td>\n      <td>0</td>\n      <td>0</td>\n      <td>...</td>\n      <td>2</td>\n      <td>0</td>\n      <td>1</td>\n      <td>0</td>\n      <td>9</td>\n      <td>9</td>\n      <td>9.822</td>\n      <td>8</td>\n      <td>0</td>\n      <td>0</td>\n    </tr>\n    <tr>\n      <th>0</th>\n      <td>Data\\test_files\\file_02_0</td>\n      <td>0</td>\n      <td>0</td>\n      <td>0</td>\n      <td>0</td>\n      <td>0</td>\n      <td>0</td>\n      <td>0</td>\n      <td>0</td>\n      <td>1</td>\n      <td>...</td>\n      <td>0</td>\n      <td>0</td>\n      <td>0</td>\n      <td>5</td>\n      <td>0</td>\n      <td>0</td>\n      <td>154.175</td>\n      <td>86</td>\n      <td>0</td>\n      <td>0</td>\n    </tr>\n    <tr>\n      <th>0</th>\n      <td>Data\\test_files\\file_02_1</td>\n      <td>5</td>\n      <td>0</td>\n      <td>0</td>\n      <td>1</td>\n      <td>0</td>\n      <td>0</td>\n      <td>0</td>\n      <td>0</td>\n      <td>0</td>\n      <td>...</td>\n      <td>0</td>\n      <td>0</td>\n      <td>0</td>\n      <td>0</td>\n      <td>155</td>\n      <td>310</td>\n      <td>135.794</td>\n      <td>0</td>\n      <td>0</td>\n      <td>0</td>\n    </tr>\n    <tr>\n      <th>0</th>\n      <td>Data\\test_files\\file_03_0</td>\n      <td>0</td>\n      <td>0</td>\n      <td>0</td>\n      <td>0</td>\n      <td>0</td>\n      <td>0</td>\n      <td>1</td>\n      <td>0</td>\n      <td>1</td>\n      <td>...</td>\n      <td>0</td>\n      <td>0</td>\n      <td>0</td>\n      <td>5</td>\n      <td>43</td>\n      <td>70</td>\n      <td>54.748</td>\n      <td>26</td>\n      <td>0</td>\n      <td>0</td>\n    </tr>\n    <tr>\n      <th>0</th>\n      <td>Data\\test_files\\file_03_1</td>\n      <td>2</td>\n      <td>0</td>\n      <td>1</td>\n      <td>0</td>\n      <td>0</td>\n      <td>0</td>\n      <td>0</td>\n      <td>0</td>\n      <td>0</td>\n      <td>...</td>\n      <td>2</td>\n      <td>0</td>\n      <td>1</td>\n      <td>0</td>\n      <td>9</td>\n      <td>9</td>\n      <td>9.383</td>\n      <td>8</td>\n      <td>0</td>\n      <td>0</td>\n    </tr>\n    <tr>\n      <th>0</th>\n      <td>Data\\test_files\\file_04_0</td>\n      <td>0</td>\n      <td>0</td>\n      <td>0</td>\n      <td>1</td>\n      <td>0</td>\n      <td>0</td>\n      <td>0</td>\n      <td>0</td>\n      <td>0</td>\n      <td>...</td>\n      <td>0</td>\n      <td>0</td>\n      <td>0</td>\n      <td>4</td>\n      <td>29</td>\n      <td>37</td>\n      <td>92.542</td>\n      <td>36</td>\n      <td>0</td>\n      <td>0</td>\n    </tr>\n    <tr>\n      <th>0</th>\n      <td>Data\\test_files\\file_04_1</td>\n      <td>0</td>\n      <td>0</td>\n      <td>0</td>\n      <td>0</td>\n      <td>0</td>\n      <td>0</td>\n      <td>0</td>\n      <td>0</td>\n      <td>22</td>\n      <td>...</td>\n      <td>0</td>\n      <td>0</td>\n      <td>0</td>\n      <td>3</td>\n      <td>72</td>\n      <td>72</td>\n      <td>50.527</td>\n      <td>34</td>\n      <td>0</td>\n      <td>0</td>\n    </tr>\n    <tr>\n      <th>0</th>\n      <td>Data\\test_files\\file_05_0</td>\n      <td>0</td>\n      <td>0</td>\n      <td>0</td>\n      <td>0</td>\n      <td>0</td>\n      <td>0</td>\n      <td>1</td>\n      <td>0</td>\n      <td>0</td>\n      <td>...</td>\n      <td>0</td>\n      <td>0</td>\n      <td>0</td>\n      <td>4</td>\n      <td>27</td>\n      <td>45</td>\n      <td>24.263</td>\n      <td>22</td>\n      <td>0</td>\n      <td>0</td>\n    </tr>\n    <tr>\n      <th>0</th>\n      <td>Data\\test_files\\file_05_1</td>\n      <td>2</td>\n      <td>1</td>\n      <td>1</td>\n      <td>0</td>\n      <td>0</td>\n      <td>1</td>\n      <td>0</td>\n      <td>0</td>\n      <td>0</td>\n      <td>...</td>\n      <td>0</td>\n      <td>0</td>\n      <td>0</td>\n      <td>2</td>\n      <td>66</td>\n      <td>122</td>\n      <td>20510.442</td>\n      <td>48</td>\n      <td>0</td>\n      <td>20</td>\n    </tr>\n    <tr>\n      <th>0</th>\n      <td>Data\\test_files\\file_06_0</td>\n      <td>0</td>\n      <td>0</td>\n      <td>0</td>\n      <td>2</td>\n      <td>0</td>\n      <td>0</td>\n      <td>0</td>\n      <td>0</td>\n      <td>0</td>\n      <td>...</td>\n      <td>0</td>\n      <td>0</td>\n      <td>0</td>\n      <td>14</td>\n      <td>0</td>\n      <td>0</td>\n      <td>331.039</td>\n      <td>736</td>\n      <td>0</td>\n      <td>3</td>\n    </tr>\n    <tr>\n      <th>0</th>\n      <td>Data\\test_files\\file_06_1</td>\n      <td>5</td>\n      <td>0</td>\n      <td>1</td>\n      <td>1</td>\n      <td>0</td>\n      <td>0</td>\n      <td>0</td>\n      <td>0</td>\n      <td>0</td>\n      <td>...</td>\n      <td>2</td>\n      <td>1</td>\n      <td>0</td>\n      <td>3</td>\n      <td>15</td>\n      <td>15</td>\n      <td>4.17</td>\n      <td>10</td>\n      <td>0</td>\n      <td>0</td>\n    </tr>\n    <tr>\n      <th>0</th>\n      <td>Data\\test_files\\file_07_0</td>\n      <td>0</td>\n      <td>0</td>\n      <td>0</td>\n      <td>0</td>\n      <td>0</td>\n      <td>0</td>\n      <td>0</td>\n      <td>0</td>\n      <td>0</td>\n      <td>...</td>\n      <td>0</td>\n      <td>0</td>\n      <td>0</td>\n      <td>4</td>\n      <td>282</td>\n      <td>580</td>\n      <td>78.299</td>\n      <td>58</td>\n      <td>0</td>\n      <td>0</td>\n    </tr>\n    <tr>\n      <th>0</th>\n      <td>Data\\test_files\\file_07_1</td>\n      <td>0</td>\n      <td>0</td>\n      <td>0</td>\n      <td>0</td>\n      <td>0</td>\n      <td>0</td>\n      <td>0</td>\n      <td>0</td>\n      <td>21</td>\n      <td>...</td>\n      <td>0</td>\n      <td>0</td>\n      <td>0</td>\n      <td>5</td>\n      <td>59</td>\n      <td>111</td>\n      <td>73.821</td>\n      <td>34</td>\n      <td>0</td>\n      <td>0</td>\n    </tr>\n    <tr>\n      <th>0</th>\n      <td>Data\\test_files\\file_08_0</td>\n      <td>0</td>\n      <td>0</td>\n      <td>0</td>\n      <td>0</td>\n      <td>0</td>\n      <td>0</td>\n      <td>0</td>\n      <td>0</td>\n      <td>0</td>\n      <td>...</td>\n      <td>0</td>\n      <td>0</td>\n      <td>0</td>\n      <td>13</td>\n      <td>451</td>\n      <td>902</td>\n      <td>347.411</td>\n      <td>267</td>\n      <td>0</td>\n      <td>2</td>\n    </tr>\n    <tr>\n      <th>0</th>\n      <td>Data\\test_files\\file_08_1</td>\n      <td>0</td>\n      <td>0</td>\n      <td>0</td>\n      <td>1</td>\n      <td>0</td>\n      <td>0</td>\n      <td>8</td>\n      <td>1</td>\n      <td>0</td>\n      <td>...</td>\n      <td>2</td>\n      <td>1</td>\n      <td>0</td>\n      <td>4</td>\n      <td>22</td>\n      <td>22</td>\n      <td>11.157</td>\n      <td>43</td>\n      <td>0</td>\n      <td>0</td>\n    </tr>\n    <tr>\n      <th>0</th>\n      <td>Data\\test_files\\file_09_0</td>\n      <td>0</td>\n      <td>0</td>\n      <td>0</td>\n      <td>0</td>\n      <td>0</td>\n      <td>0</td>\n      <td>0</td>\n      <td>0</td>\n      <td>0</td>\n      <td>...</td>\n      <td>0</td>\n      <td>0</td>\n      <td>0</td>\n      <td>4</td>\n      <td>54</td>\n      <td>197</td>\n      <td>15.317</td>\n      <td>20</td>\n      <td>0</td>\n      <td>0</td>\n    </tr>\n    <tr>\n      <th>0</th>\n      <td>Data\\test_files\\file_09_1</td>\n      <td>2</td>\n      <td>0</td>\n      <td>1</td>\n      <td>0</td>\n      <td>0</td>\n      <td>0</td>\n      <td>0</td>\n      <td>0</td>\n      <td>0</td>\n      <td>...</td>\n      <td>0</td>\n      <td>1</td>\n      <td>1</td>\n      <td>0</td>\n      <td>10</td>\n      <td>10</td>\n      <td>8.322</td>\n      <td>9</td>\n      <td>0</td>\n      <td>0</td>\n    </tr>\n  </tbody>\n</table>\n<p>20 rows × 57 columns</p>\n</div>"
     },
     "execution_count": 53,
     "metadata": {},
     "output_type": "execute_result"
    }
   ],
   "source": [
    "df"
   ],
   "metadata": {
    "collapsed": false,
    "pycharm": {
     "name": "#%%\n"
    }
   }
  },
  {
   "cell_type": "markdown",
   "source": [
    "# 파일 명의 마지막이 1인 경우 class에 1을, 0인 경우 class에 0을 넣기"
   ],
   "metadata": {
    "collapsed": false,
    "pycharm": {
     "name": "#%% md\n"
    }
   }
  },
  {
   "cell_type": "code",
   "execution_count": 54,
   "outputs": [
    {
     "data": {
      "text/plain": "                   file_name /JS /AA /OpenAction /AcroForm /RichMedia /Launch  \\\n0  Data\\test_files\\file_00_0   0   0           0         0          0       0   \n0  Data\\test_files\\file_00_1   2   0           0         0          0       0   \n0  Data\\test_files\\file_01_0   0   0           0         0          0       0   \n0  Data\\test_files\\file_01_1   2   0           1         0          0       0   \n0  Data\\test_files\\file_02_0   0   0           0         0          0       0   \n0  Data\\test_files\\file_02_1   5   0           0         1          0       0   \n0  Data\\test_files\\file_03_0   0   0           0         0          0       0   \n0  Data\\test_files\\file_03_1   2   0           1         0          0       0   \n0  Data\\test_files\\file_04_0   0   0           0         1          0       0   \n0  Data\\test_files\\file_04_1   0   0           0         0          0       0   \n0  Data\\test_files\\file_05_0   0   0           0         0          0       0   \n0  Data\\test_files\\file_05_1   2   1           1         0          0       1   \n0  Data\\test_files\\file_06_0   0   0           0         2          0       0   \n0  Data\\test_files\\file_06_1   5   0           1         1          0       0   \n0  Data\\test_files\\file_07_0   0   0           0         0          0       0   \n0  Data\\test_files\\file_07_1   0   0           0         0          0       0   \n0  Data\\test_files\\file_08_0   0   0           0         0          0       0   \n0  Data\\test_files\\file_08_1   0   0           0         1          0       0   \n0  Data\\test_files\\file_09_0   0   0           0         0          0       0   \n0  Data\\test_files\\file_09_1   2   0           1         0          0       0   \n\n  /EmbeddedFile /XFA /URI  ... fromCharCode getAnnots  ip xref_size  \\\n0             0    0    0  ...            0         0  15         0   \n0             1    0    0  ...            0         0   0        11   \n0             0    0    1  ...            0         0   4       459   \n0             0    0    0  ...            0         1   0         9   \n0             0    0    1  ...            0         0   5         0   \n0             0    0    0  ...            0         0   0       155   \n0             1    0    1  ...            0         0   5        43   \n0             0    0    0  ...            0         1   0         9   \n0             0    0    0  ...            0         0   4        29   \n0             0    0   22  ...            0         0   3        72   \n0             1    0    0  ...            0         0   4        27   \n0             0    0    0  ...            0         0   2        66   \n0             0    0    0  ...            0         0  14         0   \n0             0    0    0  ...            1         0   3        15   \n0             0    0    0  ...            0         0   4       282   \n0             0    0   21  ...            0         0   5        59   \n0             0    0    0  ...            0         0  13       451   \n0             8    1    0  ...            1         0   4        22   \n0             0    0    0  ...            0         0   4        54   \n0             0    0    0  ...            1         1   0        10   \n\n  trailer_size  file_size nof_stream cve yara class  \n0            0    195.771        232   0    0     0  \n0           11      2.112          4   0    0     1  \n0          900     44.214         46   0    0     0  \n0            9      9.822          8   0    0     1  \n0            0    154.175         86   0    0     0  \n0          310    135.794          0   0    0     1  \n0           70     54.748         26   0    0     0  \n0            9      9.383          8   0    0     1  \n0           37     92.542         36   0    0     0  \n0           72     50.527         34   0    0     1  \n0           45     24.263         22   0    0     0  \n0          122  20510.442         48   0   20     1  \n0            0    331.039        736   0    3     0  \n0           15       4.17         10   0    0     1  \n0          580     78.299         58   0    0     0  \n0          111     73.821         34   0    0     1  \n0          902    347.411        267   0    2     0  \n0           22     11.157         43   0    0     1  \n0          197     15.317         20   0    0     0  \n0           10      8.322          9   0    0     1  \n\n[20 rows x 58 columns]",
      "text/html": "<div>\n<style scoped>\n    .dataframe tbody tr th:only-of-type {\n        vertical-align: middle;\n    }\n\n    .dataframe tbody tr th {\n        vertical-align: top;\n    }\n\n    .dataframe thead th {\n        text-align: right;\n    }\n</style>\n<table border=\"1\" class=\"dataframe\">\n  <thead>\n    <tr style=\"text-align: right;\">\n      <th></th>\n      <th>file_name</th>\n      <th>/JS</th>\n      <th>/AA</th>\n      <th>/OpenAction</th>\n      <th>/AcroForm</th>\n      <th>/RichMedia</th>\n      <th>/Launch</th>\n      <th>/EmbeddedFile</th>\n      <th>/XFA</th>\n      <th>/URI</th>\n      <th>...</th>\n      <th>fromCharCode</th>\n      <th>getAnnots</th>\n      <th>ip</th>\n      <th>xref_size</th>\n      <th>trailer_size</th>\n      <th>file_size</th>\n      <th>nof_stream</th>\n      <th>cve</th>\n      <th>yara</th>\n      <th>class</th>\n    </tr>\n  </thead>\n  <tbody>\n    <tr>\n      <th>0</th>\n      <td>Data\\test_files\\file_00_0</td>\n      <td>0</td>\n      <td>0</td>\n      <td>0</td>\n      <td>0</td>\n      <td>0</td>\n      <td>0</td>\n      <td>0</td>\n      <td>0</td>\n      <td>0</td>\n      <td>...</td>\n      <td>0</td>\n      <td>0</td>\n      <td>15</td>\n      <td>0</td>\n      <td>0</td>\n      <td>195.771</td>\n      <td>232</td>\n      <td>0</td>\n      <td>0</td>\n      <td>0</td>\n    </tr>\n    <tr>\n      <th>0</th>\n      <td>Data\\test_files\\file_00_1</td>\n      <td>2</td>\n      <td>0</td>\n      <td>0</td>\n      <td>0</td>\n      <td>0</td>\n      <td>0</td>\n      <td>1</td>\n      <td>0</td>\n      <td>0</td>\n      <td>...</td>\n      <td>0</td>\n      <td>0</td>\n      <td>0</td>\n      <td>11</td>\n      <td>11</td>\n      <td>2.112</td>\n      <td>4</td>\n      <td>0</td>\n      <td>0</td>\n      <td>1</td>\n    </tr>\n    <tr>\n      <th>0</th>\n      <td>Data\\test_files\\file_01_0</td>\n      <td>0</td>\n      <td>0</td>\n      <td>0</td>\n      <td>0</td>\n      <td>0</td>\n      <td>0</td>\n      <td>0</td>\n      <td>0</td>\n      <td>1</td>\n      <td>...</td>\n      <td>0</td>\n      <td>0</td>\n      <td>4</td>\n      <td>459</td>\n      <td>900</td>\n      <td>44.214</td>\n      <td>46</td>\n      <td>0</td>\n      <td>0</td>\n      <td>0</td>\n    </tr>\n    <tr>\n      <th>0</th>\n      <td>Data\\test_files\\file_01_1</td>\n      <td>2</td>\n      <td>0</td>\n      <td>1</td>\n      <td>0</td>\n      <td>0</td>\n      <td>0</td>\n      <td>0</td>\n      <td>0</td>\n      <td>0</td>\n      <td>...</td>\n      <td>0</td>\n      <td>1</td>\n      <td>0</td>\n      <td>9</td>\n      <td>9</td>\n      <td>9.822</td>\n      <td>8</td>\n      <td>0</td>\n      <td>0</td>\n      <td>1</td>\n    </tr>\n    <tr>\n      <th>0</th>\n      <td>Data\\test_files\\file_02_0</td>\n      <td>0</td>\n      <td>0</td>\n      <td>0</td>\n      <td>0</td>\n      <td>0</td>\n      <td>0</td>\n      <td>0</td>\n      <td>0</td>\n      <td>1</td>\n      <td>...</td>\n      <td>0</td>\n      <td>0</td>\n      <td>5</td>\n      <td>0</td>\n      <td>0</td>\n      <td>154.175</td>\n      <td>86</td>\n      <td>0</td>\n      <td>0</td>\n      <td>0</td>\n    </tr>\n    <tr>\n      <th>0</th>\n      <td>Data\\test_files\\file_02_1</td>\n      <td>5</td>\n      <td>0</td>\n      <td>0</td>\n      <td>1</td>\n      <td>0</td>\n      <td>0</td>\n      <td>0</td>\n      <td>0</td>\n      <td>0</td>\n      <td>...</td>\n      <td>0</td>\n      <td>0</td>\n      <td>0</td>\n      <td>155</td>\n      <td>310</td>\n      <td>135.794</td>\n      <td>0</td>\n      <td>0</td>\n      <td>0</td>\n      <td>1</td>\n    </tr>\n    <tr>\n      <th>0</th>\n      <td>Data\\test_files\\file_03_0</td>\n      <td>0</td>\n      <td>0</td>\n      <td>0</td>\n      <td>0</td>\n      <td>0</td>\n      <td>0</td>\n      <td>1</td>\n      <td>0</td>\n      <td>1</td>\n      <td>...</td>\n      <td>0</td>\n      <td>0</td>\n      <td>5</td>\n      <td>43</td>\n      <td>70</td>\n      <td>54.748</td>\n      <td>26</td>\n      <td>0</td>\n      <td>0</td>\n      <td>0</td>\n    </tr>\n    <tr>\n      <th>0</th>\n      <td>Data\\test_files\\file_03_1</td>\n      <td>2</td>\n      <td>0</td>\n      <td>1</td>\n      <td>0</td>\n      <td>0</td>\n      <td>0</td>\n      <td>0</td>\n      <td>0</td>\n      <td>0</td>\n      <td>...</td>\n      <td>0</td>\n      <td>1</td>\n      <td>0</td>\n      <td>9</td>\n      <td>9</td>\n      <td>9.383</td>\n      <td>8</td>\n      <td>0</td>\n      <td>0</td>\n      <td>1</td>\n    </tr>\n    <tr>\n      <th>0</th>\n      <td>Data\\test_files\\file_04_0</td>\n      <td>0</td>\n      <td>0</td>\n      <td>0</td>\n      <td>1</td>\n      <td>0</td>\n      <td>0</td>\n      <td>0</td>\n      <td>0</td>\n      <td>0</td>\n      <td>...</td>\n      <td>0</td>\n      <td>0</td>\n      <td>4</td>\n      <td>29</td>\n      <td>37</td>\n      <td>92.542</td>\n      <td>36</td>\n      <td>0</td>\n      <td>0</td>\n      <td>0</td>\n    </tr>\n    <tr>\n      <th>0</th>\n      <td>Data\\test_files\\file_04_1</td>\n      <td>0</td>\n      <td>0</td>\n      <td>0</td>\n      <td>0</td>\n      <td>0</td>\n      <td>0</td>\n      <td>0</td>\n      <td>0</td>\n      <td>22</td>\n      <td>...</td>\n      <td>0</td>\n      <td>0</td>\n      <td>3</td>\n      <td>72</td>\n      <td>72</td>\n      <td>50.527</td>\n      <td>34</td>\n      <td>0</td>\n      <td>0</td>\n      <td>1</td>\n    </tr>\n    <tr>\n      <th>0</th>\n      <td>Data\\test_files\\file_05_0</td>\n      <td>0</td>\n      <td>0</td>\n      <td>0</td>\n      <td>0</td>\n      <td>0</td>\n      <td>0</td>\n      <td>1</td>\n      <td>0</td>\n      <td>0</td>\n      <td>...</td>\n      <td>0</td>\n      <td>0</td>\n      <td>4</td>\n      <td>27</td>\n      <td>45</td>\n      <td>24.263</td>\n      <td>22</td>\n      <td>0</td>\n      <td>0</td>\n      <td>0</td>\n    </tr>\n    <tr>\n      <th>0</th>\n      <td>Data\\test_files\\file_05_1</td>\n      <td>2</td>\n      <td>1</td>\n      <td>1</td>\n      <td>0</td>\n      <td>0</td>\n      <td>1</td>\n      <td>0</td>\n      <td>0</td>\n      <td>0</td>\n      <td>...</td>\n      <td>0</td>\n      <td>0</td>\n      <td>2</td>\n      <td>66</td>\n      <td>122</td>\n      <td>20510.442</td>\n      <td>48</td>\n      <td>0</td>\n      <td>20</td>\n      <td>1</td>\n    </tr>\n    <tr>\n      <th>0</th>\n      <td>Data\\test_files\\file_06_0</td>\n      <td>0</td>\n      <td>0</td>\n      <td>0</td>\n      <td>2</td>\n      <td>0</td>\n      <td>0</td>\n      <td>0</td>\n      <td>0</td>\n      <td>0</td>\n      <td>...</td>\n      <td>0</td>\n      <td>0</td>\n      <td>14</td>\n      <td>0</td>\n      <td>0</td>\n      <td>331.039</td>\n      <td>736</td>\n      <td>0</td>\n      <td>3</td>\n      <td>0</td>\n    </tr>\n    <tr>\n      <th>0</th>\n      <td>Data\\test_files\\file_06_1</td>\n      <td>5</td>\n      <td>0</td>\n      <td>1</td>\n      <td>1</td>\n      <td>0</td>\n      <td>0</td>\n      <td>0</td>\n      <td>0</td>\n      <td>0</td>\n      <td>...</td>\n      <td>1</td>\n      <td>0</td>\n      <td>3</td>\n      <td>15</td>\n      <td>15</td>\n      <td>4.17</td>\n      <td>10</td>\n      <td>0</td>\n      <td>0</td>\n      <td>1</td>\n    </tr>\n    <tr>\n      <th>0</th>\n      <td>Data\\test_files\\file_07_0</td>\n      <td>0</td>\n      <td>0</td>\n      <td>0</td>\n      <td>0</td>\n      <td>0</td>\n      <td>0</td>\n      <td>0</td>\n      <td>0</td>\n      <td>0</td>\n      <td>...</td>\n      <td>0</td>\n      <td>0</td>\n      <td>4</td>\n      <td>282</td>\n      <td>580</td>\n      <td>78.299</td>\n      <td>58</td>\n      <td>0</td>\n      <td>0</td>\n      <td>0</td>\n    </tr>\n    <tr>\n      <th>0</th>\n      <td>Data\\test_files\\file_07_1</td>\n      <td>0</td>\n      <td>0</td>\n      <td>0</td>\n      <td>0</td>\n      <td>0</td>\n      <td>0</td>\n      <td>0</td>\n      <td>0</td>\n      <td>21</td>\n      <td>...</td>\n      <td>0</td>\n      <td>0</td>\n      <td>5</td>\n      <td>59</td>\n      <td>111</td>\n      <td>73.821</td>\n      <td>34</td>\n      <td>0</td>\n      <td>0</td>\n      <td>1</td>\n    </tr>\n    <tr>\n      <th>0</th>\n      <td>Data\\test_files\\file_08_0</td>\n      <td>0</td>\n      <td>0</td>\n      <td>0</td>\n      <td>0</td>\n      <td>0</td>\n      <td>0</td>\n      <td>0</td>\n      <td>0</td>\n      <td>0</td>\n      <td>...</td>\n      <td>0</td>\n      <td>0</td>\n      <td>13</td>\n      <td>451</td>\n      <td>902</td>\n      <td>347.411</td>\n      <td>267</td>\n      <td>0</td>\n      <td>2</td>\n      <td>0</td>\n    </tr>\n    <tr>\n      <th>0</th>\n      <td>Data\\test_files\\file_08_1</td>\n      <td>0</td>\n      <td>0</td>\n      <td>0</td>\n      <td>1</td>\n      <td>0</td>\n      <td>0</td>\n      <td>8</td>\n      <td>1</td>\n      <td>0</td>\n      <td>...</td>\n      <td>1</td>\n      <td>0</td>\n      <td>4</td>\n      <td>22</td>\n      <td>22</td>\n      <td>11.157</td>\n      <td>43</td>\n      <td>0</td>\n      <td>0</td>\n      <td>1</td>\n    </tr>\n    <tr>\n      <th>0</th>\n      <td>Data\\test_files\\file_09_0</td>\n      <td>0</td>\n      <td>0</td>\n      <td>0</td>\n      <td>0</td>\n      <td>0</td>\n      <td>0</td>\n      <td>0</td>\n      <td>0</td>\n      <td>0</td>\n      <td>...</td>\n      <td>0</td>\n      <td>0</td>\n      <td>4</td>\n      <td>54</td>\n      <td>197</td>\n      <td>15.317</td>\n      <td>20</td>\n      <td>0</td>\n      <td>0</td>\n      <td>0</td>\n    </tr>\n    <tr>\n      <th>0</th>\n      <td>Data\\test_files\\file_09_1</td>\n      <td>2</td>\n      <td>0</td>\n      <td>1</td>\n      <td>0</td>\n      <td>0</td>\n      <td>0</td>\n      <td>0</td>\n      <td>0</td>\n      <td>0</td>\n      <td>...</td>\n      <td>1</td>\n      <td>1</td>\n      <td>0</td>\n      <td>10</td>\n      <td>10</td>\n      <td>8.322</td>\n      <td>9</td>\n      <td>0</td>\n      <td>0</td>\n      <td>1</td>\n    </tr>\n  </tbody>\n</table>\n<p>20 rows × 58 columns</p>\n</div>"
     },
     "execution_count": 54,
     "metadata": {},
     "output_type": "execute_result"
    }
   ],
   "source": [
    "df['class'] = df['file_name'].apply(lambda x: str(x).split(\"\\\\\")[-1].split(\"_\")[-1])\n",
    "df"
   ],
   "metadata": {
    "collapsed": false,
    "pycharm": {
     "name": "#%%\n"
    }
   }
  },
  {
   "cell_type": "markdown",
   "source": [
    "# 3. class가 0이고, '/AA'가 5 미만인 데이터프레임 저장"
   ],
   "metadata": {
    "collapsed": false,
    "pycharm": {
     "name": "#%% md\n"
    }
   }
  },
  {
   "cell_type": "code",
   "execution_count": 59,
   "outputs": [
    {
     "name": "stdout",
     "output_type": "stream",
     "text": [
      "                   file_name /JS /AA /OpenAction /AcroForm /RichMedia /Launch  \\\n",
      "0  Data\\test_files\\file_00_0   0   0           0         0          0       0   \n",
      "0  Data\\test_files\\file_01_0   0   0           0         0          0       0   \n",
      "0  Data\\test_files\\file_02_0   0   0           0         0          0       0   \n",
      "0  Data\\test_files\\file_03_0   0   0           0         0          0       0   \n",
      "0  Data\\test_files\\file_04_0   0   0           0         1          0       0   \n",
      "0  Data\\test_files\\file_05_0   0   0           0         0          0       0   \n",
      "0  Data\\test_files\\file_06_0   0   0           0         2          0       0   \n",
      "0  Data\\test_files\\file_07_0   0   0           0         0          0       0   \n",
      "0  Data\\test_files\\file_08_0   0   0           0         0          0       0   \n",
      "0  Data\\test_files\\file_09_0   0   0           0         0          0       0   \n",
      "\n",
      "  /EmbeddedFile /XFA /URI  ... fromCharCode getAnnots  ip xref_size  \\\n",
      "0             0    0    0  ...            0         0  15         0   \n",
      "0             0    0    1  ...            0         0   4       459   \n",
      "0             0    0    1  ...            0         0   5         0   \n",
      "0             1    0    1  ...            0         0   5        43   \n",
      "0             0    0    0  ...            0         0   4        29   \n",
      "0             1    0    0  ...            0         0   4        27   \n",
      "0             0    0    0  ...            0         0  14         0   \n",
      "0             0    0    0  ...            0         0   4       282   \n",
      "0             0    0    0  ...            0         0  13       451   \n",
      "0             0    0    0  ...            0         0   4        54   \n",
      "\n",
      "  trailer_size file_size nof_stream cve yara class  \n",
      "0            0   195.771        232   0    0     0  \n",
      "0          900    44.214         46   0    0     0  \n",
      "0            0   154.175         86   0    0     0  \n",
      "0           70    54.748         26   0    0     0  \n",
      "0           37    92.542         36   0    0     0  \n",
      "0           45    24.263         22   0    0     0  \n",
      "0            0   331.039        736   0    3     0  \n",
      "0          580    78.299         58   0    0     0  \n",
      "0          902   347.411        267   0    2     0  \n",
      "0          197    15.317         20   0    0     0  \n",
      "\n",
      "[10 rows x 58 columns]\n"
     ]
    }
   ],
   "source": [
    "df_c0_AA5u = df[(df['class'] == '0') & (df['/AA'] <5)]\n",
    "print(df_c0_AA5u)"
   ],
   "metadata": {
    "collapsed": false,
    "pycharm": {
     "name": "#%%\n"
    }
   }
  },
  {
   "cell_type": "markdown",
   "source": [
    "# 4. class가 1이고, '/JS'가 3 이상인 데이터프레임 저장"
   ],
   "metadata": {
    "collapsed": false,
    "pycharm": {
     "name": "#%% md\n"
    }
   }
  },
  {
   "cell_type": "code",
   "execution_count": 63,
   "outputs": [
    {
     "name": "stdout",
     "output_type": "stream",
     "text": [
      "                   file_name /JS /AA /OpenAction /AcroForm /RichMedia /Launch  \\\n",
      "0  Data\\test_files\\file_02_1   5   0           0         1          0       0   \n",
      "0  Data\\test_files\\file_06_1   5   0           1         1          0       0   \n",
      "\n",
      "  /EmbeddedFile /XFA /URI  ... fromCharCode getAnnots ip xref_size  \\\n",
      "0             0    0    0  ...            0         0  0       155   \n",
      "0             0    0    0  ...            1         0  3        15   \n",
      "\n",
      "  trailer_size file_size nof_stream cve yara class  \n",
      "0          310   135.794          0   0    0     1  \n",
      "0           15      4.17         10   0    0     1  \n",
      "\n",
      "[2 rows x 58 columns]\n"
     ]
    }
   ],
   "source": [
    "df_c0_js2o = df[(df['class'] == '1') & (df['/JS'] >=3)]\n",
    "print(df_c0_js2o)"
   ],
   "metadata": {
    "collapsed": false,
    "pycharm": {
     "name": "#%%\n"
    }
   }
  },
  {
   "cell_type": "markdown",
   "source": [
    "# 5. 실습 3, 4 데이터 프레임 결합"
   ],
   "metadata": {
    "collapsed": false,
    "pycharm": {
     "name": "#%% md\n"
    }
   }
  },
  {
   "cell_type": "code",
   "execution_count": 64,
   "outputs": [
    {
     "name": "stdout",
     "output_type": "stream",
     "text": [
      "                   file_name /JS /AA /OpenAction /AcroForm /RichMedia /Launch  \\\n",
      "0  Data\\test_files\\file_00_0   0   0           0         0          0       0   \n",
      "0  Data\\test_files\\file_01_0   0   0           0         0          0       0   \n",
      "0  Data\\test_files\\file_02_0   0   0           0         0          0       0   \n",
      "0  Data\\test_files\\file_03_0   0   0           0         0          0       0   \n",
      "0  Data\\test_files\\file_04_0   0   0           0         1          0       0   \n",
      "0  Data\\test_files\\file_05_0   0   0           0         0          0       0   \n",
      "0  Data\\test_files\\file_06_0   0   0           0         2          0       0   \n",
      "0  Data\\test_files\\file_07_0   0   0           0         0          0       0   \n",
      "0  Data\\test_files\\file_08_0   0   0           0         0          0       0   \n",
      "0  Data\\test_files\\file_09_0   0   0           0         0          0       0   \n",
      "0  Data\\test_files\\file_02_1   5   0           0         1          0       0   \n",
      "0  Data\\test_files\\file_06_1   5   0           1         1          0       0   \n",
      "\n",
      "  /EmbeddedFile /XFA /URI  ... fromCharCode getAnnots  ip xref_size  \\\n",
      "0             0    0    0  ...            0         0  15         0   \n",
      "0             0    0    1  ...            0         0   4       459   \n",
      "0             0    0    1  ...            0         0   5         0   \n",
      "0             1    0    1  ...            0         0   5        43   \n",
      "0             0    0    0  ...            0         0   4        29   \n",
      "0             1    0    0  ...            0         0   4        27   \n",
      "0             0    0    0  ...            0         0  14         0   \n",
      "0             0    0    0  ...            0         0   4       282   \n",
      "0             0    0    0  ...            0         0  13       451   \n",
      "0             0    0    0  ...            0         0   4        54   \n",
      "0             0    0    0  ...            0         0   0       155   \n",
      "0             0    0    0  ...            1         0   3        15   \n",
      "\n",
      "  trailer_size file_size nof_stream cve yara class  \n",
      "0            0   195.771        232   0    0     0  \n",
      "0          900    44.214         46   0    0     0  \n",
      "0            0   154.175         86   0    0     0  \n",
      "0           70    54.748         26   0    0     0  \n",
      "0           37    92.542         36   0    0     0  \n",
      "0           45    24.263         22   0    0     0  \n",
      "0            0   331.039        736   0    3     0  \n",
      "0          580    78.299         58   0    0     0  \n",
      "0          902   347.411        267   0    2     0  \n",
      "0          197    15.317         20   0    0     0  \n",
      "0          310   135.794          0   0    0     1  \n",
      "0           15      4.17         10   0    0     1  \n",
      "\n",
      "[12 rows x 58 columns]\n"
     ]
    }
   ],
   "source": [
    "new_df = pd.concat([df_c0_AA5u, df_c0_js2o])\n",
    "print(new_df)"
   ],
   "metadata": {
    "collapsed": false,
    "pycharm": {
     "name": "#%%\n"
    }
   }
  },
  {
   "cell_type": "markdown",
   "source": [
    "# 6. '/JS' 컬럼의 평균값을 계산하기"
   ],
   "metadata": {
    "collapsed": false,
    "pycharm": {
     "name": "#%% md\n"
    }
   }
  },
  {
   "cell_type": "code",
   "execution_count": 65,
   "outputs": [
    {
     "data": {
      "text/plain": "1.0"
     },
     "execution_count": 65,
     "metadata": {},
     "output_type": "execute_result"
    }
   ],
   "source": [
    "df['/JS'].mean()"
   ],
   "metadata": {
    "collapsed": false,
    "pycharm": {
     "name": "#%%\n"
    }
   }
  },
  {
   "cell_type": "markdown",
   "source": [
    "# 7. 합친 데이터 프레임의 기본 통계 정보를 출력"
   ],
   "metadata": {
    "collapsed": false,
    "pycharm": {
     "name": "#%% md\n"
    }
   }
  },
  {
   "cell_type": "code",
   "execution_count": 66,
   "outputs": [
    {
     "ename": "AttributeError",
     "evalue": "'DataFrame' object has no attribute 'stat'",
     "output_type": "error",
     "traceback": [
      "\u001B[1;31m---------------------------------------------------------------------------\u001B[0m",
      "\u001B[1;31mAttributeError\u001B[0m                            Traceback (most recent call last)",
      "\u001B[1;32m~\\AppData\\Local\\Temp\\ipykernel_6348\\1895075032.py\u001B[0m in \u001B[0;36m?\u001B[1;34m()\u001B[0m\n\u001B[1;32m----> 1\u001B[1;33m \u001B[0mdf\u001B[0m\u001B[1;33m.\u001B[0m\u001B[0mstat\u001B[0m\u001B[1;33m\u001B[0m\u001B[1;33m\u001B[0m\u001B[0m\n\u001B[0m",
      "\u001B[1;32m~\\Desktop\\python\\AI\\venv\\lib\\site-packages\\pandas\\core\\generic.py\u001B[0m in \u001B[0;36m?\u001B[1;34m(self, name)\u001B[0m\n\u001B[0;32m   6295\u001B[0m             \u001B[1;32mand\u001B[0m \u001B[0mname\u001B[0m \u001B[1;32mnot\u001B[0m \u001B[1;32min\u001B[0m \u001B[0mself\u001B[0m\u001B[1;33m.\u001B[0m\u001B[0m_accessors\u001B[0m\u001B[1;33m\u001B[0m\u001B[1;33m\u001B[0m\u001B[0m\n\u001B[0;32m   6296\u001B[0m             \u001B[1;32mand\u001B[0m \u001B[0mself\u001B[0m\u001B[1;33m.\u001B[0m\u001B[0m_info_axis\u001B[0m\u001B[1;33m.\u001B[0m\u001B[0m_can_hold_identifiers_and_holds_name\u001B[0m\u001B[1;33m(\u001B[0m\u001B[0mname\u001B[0m\u001B[1;33m)\u001B[0m\u001B[1;33m\u001B[0m\u001B[1;33m\u001B[0m\u001B[0m\n\u001B[0;32m   6297\u001B[0m         ):\n\u001B[0;32m   6298\u001B[0m             \u001B[1;32mreturn\u001B[0m \u001B[0mself\u001B[0m\u001B[1;33m[\u001B[0m\u001B[0mname\u001B[0m\u001B[1;33m]\u001B[0m\u001B[1;33m\u001B[0m\u001B[1;33m\u001B[0m\u001B[0m\n\u001B[1;32m-> 6299\u001B[1;33m         \u001B[1;32mreturn\u001B[0m \u001B[0mobject\u001B[0m\u001B[1;33m.\u001B[0m\u001B[0m__getattribute__\u001B[0m\u001B[1;33m(\u001B[0m\u001B[0mself\u001B[0m\u001B[1;33m,\u001B[0m \u001B[0mname\u001B[0m\u001B[1;33m)\u001B[0m\u001B[1;33m\u001B[0m\u001B[1;33m\u001B[0m\u001B[0m\n\u001B[0m",
      "\u001B[1;31mAttributeError\u001B[0m: 'DataFrame' object has no attribute 'stat'"
     ]
    }
   ],
   "source": [
    "df.stat"
   ],
   "metadata": {
    "collapsed": false,
    "pycharm": {
     "name": "#%%\n"
    }
   }
  },
  {
   "cell_type": "markdown",
   "source": [
    "# 8. 실습 2의 데이터프레임 파일(csv)로 저장"
   ],
   "metadata": {
    "collapsed": false,
    "pycharm": {
     "name": "#%% md\n"
    }
   }
  },
  {
   "cell_type": "code",
   "execution_count": 67,
   "outputs": [
    {
     "data": {
      "text/plain": "                        file_name  /JS  /AA  /OpenAction  /AcroForm  \\\ncount                          20   20   20           20         20   \nunique                         20    3    2            2          3   \ntop     Data\\test_files\\file_00_0    0    0            0          0   \nfreq                            1   13   19           15         15   \n\n        /RichMedia  /Launch  /EmbeddedFile  /XFA  /URI  ...  fromCharCode  \\\ncount           20       20             20    20    20  ...            20   \nunique           1        2              3     2     4  ...             2   \ntop              0        0              0     0     0  ...             0   \nfreq            20       19             16    19    15  ...            17   \n\n        getAnnots  ip  xref_size  trailer_size  file_size  nof_stream  cve  \\\ncount          20  20         20            20     20.000          20   20   \nunique          2   8         17            17     20.000          18    1   \ntop             0   4          0             0    195.771           8    0   \nfreq           17   6          3             3      1.000           2   20   \n\n        yara  class  \ncount     20     20  \nunique     4      2  \ntop        0      0  \nfreq      17     10  \n\n[4 rows x 58 columns]",
      "text/html": "<div>\n<style scoped>\n    .dataframe tbody tr th:only-of-type {\n        vertical-align: middle;\n    }\n\n    .dataframe tbody tr th {\n        vertical-align: top;\n    }\n\n    .dataframe thead th {\n        text-align: right;\n    }\n</style>\n<table border=\"1\" class=\"dataframe\">\n  <thead>\n    <tr style=\"text-align: right;\">\n      <th></th>\n      <th>file_name</th>\n      <th>/JS</th>\n      <th>/AA</th>\n      <th>/OpenAction</th>\n      <th>/AcroForm</th>\n      <th>/RichMedia</th>\n      <th>/Launch</th>\n      <th>/EmbeddedFile</th>\n      <th>/XFA</th>\n      <th>/URI</th>\n      <th>...</th>\n      <th>fromCharCode</th>\n      <th>getAnnots</th>\n      <th>ip</th>\n      <th>xref_size</th>\n      <th>trailer_size</th>\n      <th>file_size</th>\n      <th>nof_stream</th>\n      <th>cve</th>\n      <th>yara</th>\n      <th>class</th>\n    </tr>\n  </thead>\n  <tbody>\n    <tr>\n      <th>count</th>\n      <td>20</td>\n      <td>20</td>\n      <td>20</td>\n      <td>20</td>\n      <td>20</td>\n      <td>20</td>\n      <td>20</td>\n      <td>20</td>\n      <td>20</td>\n      <td>20</td>\n      <td>...</td>\n      <td>20</td>\n      <td>20</td>\n      <td>20</td>\n      <td>20</td>\n      <td>20</td>\n      <td>20.000</td>\n      <td>20</td>\n      <td>20</td>\n      <td>20</td>\n      <td>20</td>\n    </tr>\n    <tr>\n      <th>unique</th>\n      <td>20</td>\n      <td>3</td>\n      <td>2</td>\n      <td>2</td>\n      <td>3</td>\n      <td>1</td>\n      <td>2</td>\n      <td>3</td>\n      <td>2</td>\n      <td>4</td>\n      <td>...</td>\n      <td>2</td>\n      <td>2</td>\n      <td>8</td>\n      <td>17</td>\n      <td>17</td>\n      <td>20.000</td>\n      <td>18</td>\n      <td>1</td>\n      <td>4</td>\n      <td>2</td>\n    </tr>\n    <tr>\n      <th>top</th>\n      <td>Data\\test_files\\file_00_0</td>\n      <td>0</td>\n      <td>0</td>\n      <td>0</td>\n      <td>0</td>\n      <td>0</td>\n      <td>0</td>\n      <td>0</td>\n      <td>0</td>\n      <td>0</td>\n      <td>...</td>\n      <td>0</td>\n      <td>0</td>\n      <td>4</td>\n      <td>0</td>\n      <td>0</td>\n      <td>195.771</td>\n      <td>8</td>\n      <td>0</td>\n      <td>0</td>\n      <td>0</td>\n    </tr>\n    <tr>\n      <th>freq</th>\n      <td>1</td>\n      <td>13</td>\n      <td>19</td>\n      <td>15</td>\n      <td>15</td>\n      <td>20</td>\n      <td>19</td>\n      <td>16</td>\n      <td>19</td>\n      <td>15</td>\n      <td>...</td>\n      <td>17</td>\n      <td>17</td>\n      <td>6</td>\n      <td>3</td>\n      <td>3</td>\n      <td>1.000</td>\n      <td>2</td>\n      <td>20</td>\n      <td>17</td>\n      <td>10</td>\n    </tr>\n  </tbody>\n</table>\n<p>4 rows × 58 columns</p>\n</div>"
     },
     "execution_count": 67,
     "metadata": {},
     "output_type": "execute_result"
    }
   ],
   "source": [
    "df.describe()"
   ],
   "metadata": {
    "collapsed": false,
    "pycharm": {
     "name": "#%%\n"
    }
   }
  },
  {
   "cell_type": "code",
   "execution_count": null,
   "outputs": [],
   "source": [],
   "metadata": {
    "collapsed": false,
    "pycharm": {
     "name": "#%%\n"
    }
   }
  }
 ],
 "metadata": {
  "kernelspec": {
   "display_name": "Python 3",
   "language": "python",
   "name": "python3"
  },
  "language_info": {
   "codemirror_mode": {
    "name": "ipython",
    "version": 2
   },
   "file_extension": ".py",
   "mimetype": "text/x-python",
   "name": "python",
   "nbconvert_exporter": "python",
   "pygments_lexer": "ipython2",
   "version": "2.7.6"
  }
 },
 "nbformat": 4,
 "nbformat_minor": 0
}