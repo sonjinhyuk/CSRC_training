{
 "cells": [
  {
   "cell_type": "markdown",
   "source": [
    "# 데이터 전처리\n",
    "## 결측값 처리"
   ],
   "metadata": {
    "collapsed": false,
    "pycharm": {
     "name": "#%% md\n"
    }
   }
  },
  {
   "cell_type": "code",
   "execution_count": 1,
   "metadata": {
    "collapsed": true
   },
   "outputs": [],
   "source": [
    "import pandas as pd\n",
    "import numpy as np"
   ]
  },
  {
   "cell_type": "code",
   "execution_count": 2,
   "outputs": [],
   "source": [
    "data = {\n",
    "    \"group\": ['A', 'B', 'A', 'A', 'B', 'C', 'C', 'B'],\n",
    "    \"score\": [10, 9, 10, 20, 7, 8, 10, 6],\n",
    "    \"age\": [27, 28, 30, 36, 24, 27, 33, 25]\n",
    "}\n",
    "df = pd.DataFrame(data =data,\n",
    "    index = [f\"x{i}\" for i in range(8)]\n",
    ")"
   ],
   "metadata": {
    "collapsed": false,
    "pycharm": {
     "name": "#%%\n"
    }
   }
  },
  {
   "cell_type": "code",
   "execution_count": 4,
   "outputs": [
    {
     "data": {
      "text/plain": "   group  score   age\nx0     A   10.0  27.0\nx1     B    9.0   NaN\nx2     A   10.0  30.0\nx3     A    NaN   NaN\nx4     B    7.0  24.0\nx5     C    8.0  27.0\nx6     C   10.0  33.0\nx7     B    6.0  25.0\nx8   NaN    NaN   NaN",
      "text/html": "<div>\n<style scoped>\n    .dataframe tbody tr th:only-of-type {\n        vertical-align: middle;\n    }\n\n    .dataframe tbody tr th {\n        vertical-align: top;\n    }\n\n    .dataframe thead th {\n        text-align: right;\n    }\n</style>\n<table border=\"1\" class=\"dataframe\">\n  <thead>\n    <tr style=\"text-align: right;\">\n      <th></th>\n      <th>group</th>\n      <th>score</th>\n      <th>age</th>\n    </tr>\n  </thead>\n  <tbody>\n    <tr>\n      <th>x0</th>\n      <td>A</td>\n      <td>10.0</td>\n      <td>27.0</td>\n    </tr>\n    <tr>\n      <th>x1</th>\n      <td>B</td>\n      <td>9.0</td>\n      <td>NaN</td>\n    </tr>\n    <tr>\n      <th>x2</th>\n      <td>A</td>\n      <td>10.0</td>\n      <td>30.0</td>\n    </tr>\n    <tr>\n      <th>x3</th>\n      <td>A</td>\n      <td>NaN</td>\n      <td>NaN</td>\n    </tr>\n    <tr>\n      <th>x4</th>\n      <td>B</td>\n      <td>7.0</td>\n      <td>24.0</td>\n    </tr>\n    <tr>\n      <th>x5</th>\n      <td>C</td>\n      <td>8.0</td>\n      <td>27.0</td>\n    </tr>\n    <tr>\n      <th>x6</th>\n      <td>C</td>\n      <td>10.0</td>\n      <td>33.0</td>\n    </tr>\n    <tr>\n      <th>x7</th>\n      <td>B</td>\n      <td>6.0</td>\n      <td>25.0</td>\n    </tr>\n    <tr>\n      <th>x8</th>\n      <td>NaN</td>\n      <td>NaN</td>\n      <td>NaN</td>\n    </tr>\n  </tbody>\n</table>\n</div>"
     },
     "execution_count": 4,
     "metadata": {},
     "output_type": "execute_result"
    }
   ],
   "source": [
    "df.loc['x1', 'age'] = np.nan\n",
    "df.loc['x3', ['score', 'age']] = np.nan\n",
    "df.loc['x8', :] = np.nan\n",
    "df"
   ],
   "metadata": {
    "collapsed": false,
    "pycharm": {
     "name": "#%%\n"
    }
   }
  },
  {
   "cell_type": "markdown",
   "source": [
    "- 결측값 확인"
   ],
   "metadata": {
    "collapsed": false,
    "pycharm": {
     "name": "#%% md\n"
    }
   }
  },
  {
   "cell_type": "code",
   "execution_count": 5,
   "outputs": [
    {
     "data": {
      "text/plain": "    group  score    age\nx0  False  False  False\nx1  False  False   True\nx2  False  False  False\nx3  False   True   True\nx4  False  False  False\nx5  False  False  False\nx6  False  False  False\nx7  False  False  False\nx8   True   True   True",
      "text/html": "<div>\n<style scoped>\n    .dataframe tbody tr th:only-of-type {\n        vertical-align: middle;\n    }\n\n    .dataframe tbody tr th {\n        vertical-align: top;\n    }\n\n    .dataframe thead th {\n        text-align: right;\n    }\n</style>\n<table border=\"1\" class=\"dataframe\">\n  <thead>\n    <tr style=\"text-align: right;\">\n      <th></th>\n      <th>group</th>\n      <th>score</th>\n      <th>age</th>\n    </tr>\n  </thead>\n  <tbody>\n    <tr>\n      <th>x0</th>\n      <td>False</td>\n      <td>False</td>\n      <td>False</td>\n    </tr>\n    <tr>\n      <th>x1</th>\n      <td>False</td>\n      <td>False</td>\n      <td>True</td>\n    </tr>\n    <tr>\n      <th>x2</th>\n      <td>False</td>\n      <td>False</td>\n      <td>False</td>\n    </tr>\n    <tr>\n      <th>x3</th>\n      <td>False</td>\n      <td>True</td>\n      <td>True</td>\n    </tr>\n    <tr>\n      <th>x4</th>\n      <td>False</td>\n      <td>False</td>\n      <td>False</td>\n    </tr>\n    <tr>\n      <th>x5</th>\n      <td>False</td>\n      <td>False</td>\n      <td>False</td>\n    </tr>\n    <tr>\n      <th>x6</th>\n      <td>False</td>\n      <td>False</td>\n      <td>False</td>\n    </tr>\n    <tr>\n      <th>x7</th>\n      <td>False</td>\n      <td>False</td>\n      <td>False</td>\n    </tr>\n    <tr>\n      <th>x8</th>\n      <td>True</td>\n      <td>True</td>\n      <td>True</td>\n    </tr>\n  </tbody>\n</table>\n</div>"
     },
     "execution_count": 5,
     "metadata": {},
     "output_type": "execute_result"
    }
   ],
   "source": [
    "df.isnull()#결측치 = True, 아닌건 False"
   ],
   "metadata": {
    "collapsed": false,
    "pycharm": {
     "name": "#%%\n"
    }
   }
  },
  {
   "cell_type": "code",
   "execution_count": 8,
   "outputs": [
    {
     "name": "stdout",
     "output_type": "stream",
     "text": [
      "x0    0\n",
      "x1    1\n",
      "x2    0\n",
      "x3    2\n",
      "x4    0\n",
      "x5    0\n",
      "x6    0\n",
      "x7    0\n",
      "x8    3\n",
      "dtype: int64\n"
     ]
    }
   ],
   "source": [
    "#print(df.isnull().sum())\n",
    "#print(df.isnull().sum(0))\n",
    "print(df.isnull().sum(axis=0))## sum의 첫 parameter는 axis며 default값은 0"
   ],
   "metadata": {
    "collapsed": false,
    "pycharm": {
     "name": "#%%\n"
    }
   }
  },
  {
   "cell_type": "markdown",
   "source": [
    "# 결측치 삭제\n",
    "- 데이터명.dropna(): NaN이라고 표기한 값 제거\n",
    "- dropna(how=, axis=)\n",
    "- how: any, all 결측치 처리 방식\n",
    "    - any: 목록 삭제, NaN이 하나라도 있으면 삭제\n",
    "    - all: 단일 삭제, 전체가 NaN인 경우 삭제\n",
    "- axis:0, 1 행,열 기준\n",
    "    - 0: 행 기준\n",
    "    - 1: 열 기준"
   ],
   "metadata": {
    "collapsed": false,
    "pycharm": {
     "name": "#%% md\n"
    }
   }
  },
  {
   "cell_type": "code",
   "execution_count": 9,
   "outputs": [
    {
     "data": {
      "text/plain": "   group  score   age\nx0     A   10.0  27.0\nx1     B    9.0   NaN\nx2     A   10.0  30.0\nx3     A    NaN   NaN\nx4     B    7.0  24.0\nx5     C    8.0  27.0\nx6     C   10.0  33.0\nx7     B    6.0  25.0",
      "text/html": "<div>\n<style scoped>\n    .dataframe tbody tr th:only-of-type {\n        vertical-align: middle;\n    }\n\n    .dataframe tbody tr th {\n        vertical-align: top;\n    }\n\n    .dataframe thead th {\n        text-align: right;\n    }\n</style>\n<table border=\"1\" class=\"dataframe\">\n  <thead>\n    <tr style=\"text-align: right;\">\n      <th></th>\n      <th>group</th>\n      <th>score</th>\n      <th>age</th>\n    </tr>\n  </thead>\n  <tbody>\n    <tr>\n      <th>x0</th>\n      <td>A</td>\n      <td>10.0</td>\n      <td>27.0</td>\n    </tr>\n    <tr>\n      <th>x1</th>\n      <td>B</td>\n      <td>9.0</td>\n      <td>NaN</td>\n    </tr>\n    <tr>\n      <th>x2</th>\n      <td>A</td>\n      <td>10.0</td>\n      <td>30.0</td>\n    </tr>\n    <tr>\n      <th>x3</th>\n      <td>A</td>\n      <td>NaN</td>\n      <td>NaN</td>\n    </tr>\n    <tr>\n      <th>x4</th>\n      <td>B</td>\n      <td>7.0</td>\n      <td>24.0</td>\n    </tr>\n    <tr>\n      <th>x5</th>\n      <td>C</td>\n      <td>8.0</td>\n      <td>27.0</td>\n    </tr>\n    <tr>\n      <th>x6</th>\n      <td>C</td>\n      <td>10.0</td>\n      <td>33.0</td>\n    </tr>\n    <tr>\n      <th>x7</th>\n      <td>B</td>\n      <td>6.0</td>\n      <td>25.0</td>\n    </tr>\n  </tbody>\n</table>\n</div>"
     },
     "execution_count": 9,
     "metadata": {},
     "output_type": "execute_result"
    }
   ],
   "source": [
    "#행(axis=0)을 기준으로 모두 NaN인 행 제거\n",
    "df.dropna(how='all', axis=0)"
   ],
   "metadata": {
    "collapsed": false,
    "pycharm": {
     "name": "#%%\n"
    }
   }
  },
  {
   "cell_type": "code",
   "execution_count": 10,
   "outputs": [
    {
     "data": {
      "text/plain": "   group  score   age\nx0     A   10.0  27.0\nx1     B    9.0   NaN\nx2     A   10.0  30.0\nx3     A    NaN   NaN\nx4     B    7.0  24.0\nx5     C    8.0  27.0\nx6     C   10.0  33.0\nx7     B    6.0  25.0\nx8   NaN    NaN   NaN",
      "text/html": "<div>\n<style scoped>\n    .dataframe tbody tr th:only-of-type {\n        vertical-align: middle;\n    }\n\n    .dataframe tbody tr th {\n        vertical-align: top;\n    }\n\n    .dataframe thead th {\n        text-align: right;\n    }\n</style>\n<table border=\"1\" class=\"dataframe\">\n  <thead>\n    <tr style=\"text-align: right;\">\n      <th></th>\n      <th>group</th>\n      <th>score</th>\n      <th>age</th>\n    </tr>\n  </thead>\n  <tbody>\n    <tr>\n      <th>x0</th>\n      <td>A</td>\n      <td>10.0</td>\n      <td>27.0</td>\n    </tr>\n    <tr>\n      <th>x1</th>\n      <td>B</td>\n      <td>9.0</td>\n      <td>NaN</td>\n    </tr>\n    <tr>\n      <th>x2</th>\n      <td>A</td>\n      <td>10.0</td>\n      <td>30.0</td>\n    </tr>\n    <tr>\n      <th>x3</th>\n      <td>A</td>\n      <td>NaN</td>\n      <td>NaN</td>\n    </tr>\n    <tr>\n      <th>x4</th>\n      <td>B</td>\n      <td>7.0</td>\n      <td>24.0</td>\n    </tr>\n    <tr>\n      <th>x5</th>\n      <td>C</td>\n      <td>8.0</td>\n      <td>27.0</td>\n    </tr>\n    <tr>\n      <th>x6</th>\n      <td>C</td>\n      <td>10.0</td>\n      <td>33.0</td>\n    </tr>\n    <tr>\n      <th>x7</th>\n      <td>B</td>\n      <td>6.0</td>\n      <td>25.0</td>\n    </tr>\n    <tr>\n      <th>x8</th>\n      <td>NaN</td>\n      <td>NaN</td>\n      <td>NaN</td>\n    </tr>\n  </tbody>\n</table>\n</div>"
     },
     "execution_count": 10,
     "metadata": {},
     "output_type": "execute_result"
    }
   ],
   "source": [
    "#열(axis=1)을 기준으로 모두 NaN인 행 제거\n",
    "df.dropna(how='all', axis=1)"
   ],
   "metadata": {
    "collapsed": false,
    "pycharm": {
     "name": "#%%\n"
    }
   }
  },
  {
   "cell_type": "code",
   "execution_count": 11,
   "outputs": [
    {
     "data": {
      "text/plain": "   group  score   age\nx0     A   10.0  27.0\nx2     A   10.0  30.0\nx4     B    7.0  24.0\nx5     C    8.0  27.0\nx6     C   10.0  33.0\nx7     B    6.0  25.0",
      "text/html": "<div>\n<style scoped>\n    .dataframe tbody tr th:only-of-type {\n        vertical-align: middle;\n    }\n\n    .dataframe tbody tr th {\n        vertical-align: top;\n    }\n\n    .dataframe thead th {\n        text-align: right;\n    }\n</style>\n<table border=\"1\" class=\"dataframe\">\n  <thead>\n    <tr style=\"text-align: right;\">\n      <th></th>\n      <th>group</th>\n      <th>score</th>\n      <th>age</th>\n    </tr>\n  </thead>\n  <tbody>\n    <tr>\n      <th>x0</th>\n      <td>A</td>\n      <td>10.0</td>\n      <td>27.0</td>\n    </tr>\n    <tr>\n      <th>x2</th>\n      <td>A</td>\n      <td>10.0</td>\n      <td>30.0</td>\n    </tr>\n    <tr>\n      <th>x4</th>\n      <td>B</td>\n      <td>7.0</td>\n      <td>24.0</td>\n    </tr>\n    <tr>\n      <th>x5</th>\n      <td>C</td>\n      <td>8.0</td>\n      <td>27.0</td>\n    </tr>\n    <tr>\n      <th>x6</th>\n      <td>C</td>\n      <td>10.0</td>\n      <td>33.0</td>\n    </tr>\n    <tr>\n      <th>x7</th>\n      <td>B</td>\n      <td>6.0</td>\n      <td>25.0</td>\n    </tr>\n  </tbody>\n</table>\n</div>"
     },
     "execution_count": 11,
     "metadata": {},
     "output_type": "execute_result"
    }
   ],
   "source": [
    "# 행 기준으로 NaN이 하나라도 있는 경우 행 삭제\n",
    "df.dropna(how='any', axis=0)"
   ],
   "metadata": {
    "collapsed": false,
    "pycharm": {
     "name": "#%%\n"
    }
   }
  },
  {
   "cell_type": "code",
   "execution_count": 12,
   "outputs": [
    {
     "data": {
      "text/plain": "Empty DataFrame\nColumns: []\nIndex: [x0, x1, x2, x3, x4, x5, x6, x7, x8]",
      "text/html": "<div>\n<style scoped>\n    .dataframe tbody tr th:only-of-type {\n        vertical-align: middle;\n    }\n\n    .dataframe tbody tr th {\n        vertical-align: top;\n    }\n\n    .dataframe thead th {\n        text-align: right;\n    }\n</style>\n<table border=\"1\" class=\"dataframe\">\n  <thead>\n    <tr style=\"text-align: right;\">\n      <th></th>\n    </tr>\n  </thead>\n  <tbody>\n    <tr>\n      <th>x0</th>\n    </tr>\n    <tr>\n      <th>x1</th>\n    </tr>\n    <tr>\n      <th>x2</th>\n    </tr>\n    <tr>\n      <th>x3</th>\n    </tr>\n    <tr>\n      <th>x4</th>\n    </tr>\n    <tr>\n      <th>x5</th>\n    </tr>\n    <tr>\n      <th>x6</th>\n    </tr>\n    <tr>\n      <th>x7</th>\n    </tr>\n    <tr>\n      <th>x8</th>\n    </tr>\n  </tbody>\n</table>\n</div>"
     },
     "execution_count": 12,
     "metadata": {},
     "output_type": "execute_result"
    }
   ],
   "source": [
    "# 열 기준으로 NaN이 하나라도 있는 경우 행 삭제\n",
    "df.dropna(how='any', axis=1)"
   ],
   "metadata": {
    "collapsed": false,
    "pycharm": {
     "name": "#%%\n"
    }
   }
  },
  {
   "cell_type": "markdown",
   "source": [
    "- 임계치 삭제\n",
    "    - thresh = n: n개 이상 값(결측값이 아닌 값)이 있는 행/열만 선택"
   ],
   "metadata": {
    "collapsed": false,
    "pycharm": {
     "name": "#%% md\n"
    }
   }
  },
  {
   "cell_type": "code",
   "execution_count": 15,
   "outputs": [
    {
     "data": {
      "text/plain": "   group  score   age\nx0     A   10.0  27.0\nx1     B    9.0   NaN\nx2     A   10.0  30.0\nx4     B    7.0  24.0\nx5     C    8.0  27.0\nx6     C   10.0  33.0\nx7     B    6.0  25.0",
      "text/html": "<div>\n<style scoped>\n    .dataframe tbody tr th:only-of-type {\n        vertical-align: middle;\n    }\n\n    .dataframe tbody tr th {\n        vertical-align: top;\n    }\n\n    .dataframe thead th {\n        text-align: right;\n    }\n</style>\n<table border=\"1\" class=\"dataframe\">\n  <thead>\n    <tr style=\"text-align: right;\">\n      <th></th>\n      <th>group</th>\n      <th>score</th>\n      <th>age</th>\n    </tr>\n  </thead>\n  <tbody>\n    <tr>\n      <th>x0</th>\n      <td>A</td>\n      <td>10.0</td>\n      <td>27.0</td>\n    </tr>\n    <tr>\n      <th>x1</th>\n      <td>B</td>\n      <td>9.0</td>\n      <td>NaN</td>\n    </tr>\n    <tr>\n      <th>x2</th>\n      <td>A</td>\n      <td>10.0</td>\n      <td>30.0</td>\n    </tr>\n    <tr>\n      <th>x4</th>\n      <td>B</td>\n      <td>7.0</td>\n      <td>24.0</td>\n    </tr>\n    <tr>\n      <th>x5</th>\n      <td>C</td>\n      <td>8.0</td>\n      <td>27.0</td>\n    </tr>\n    <tr>\n      <th>x6</th>\n      <td>C</td>\n      <td>10.0</td>\n      <td>33.0</td>\n    </tr>\n    <tr>\n      <th>x7</th>\n      <td>B</td>\n      <td>6.0</td>\n      <td>25.0</td>\n    </tr>\n  </tbody>\n</table>\n</div>"
     },
     "execution_count": 15,
     "metadata": {},
     "output_type": "execute_result"
    }
   ],
   "source": [
    "df.dropna(thresh=2, axis=0)\n",
    "# 2개 이상 값이 있는 행만 삭제"
   ],
   "metadata": {
    "collapsed": false,
    "pycharm": {
     "name": "#%%\n"
    }
   }
  },
  {
   "cell_type": "code",
   "execution_count": 16,
   "outputs": [
    {
     "data": {
      "text/plain": "   group  score\nx0     A   10.0\nx1     B    9.0\nx2     A   10.0\nx3     A    NaN\nx4     B    7.0\nx5     C    8.0\nx6     C   10.0\nx7     B    6.0\nx8   NaN    NaN",
      "text/html": "<div>\n<style scoped>\n    .dataframe tbody tr th:only-of-type {\n        vertical-align: middle;\n    }\n\n    .dataframe tbody tr th {\n        vertical-align: top;\n    }\n\n    .dataframe thead th {\n        text-align: right;\n    }\n</style>\n<table border=\"1\" class=\"dataframe\">\n  <thead>\n    <tr style=\"text-align: right;\">\n      <th></th>\n      <th>group</th>\n      <th>score</th>\n    </tr>\n  </thead>\n  <tbody>\n    <tr>\n      <th>x0</th>\n      <td>A</td>\n      <td>10.0</td>\n    </tr>\n    <tr>\n      <th>x1</th>\n      <td>B</td>\n      <td>9.0</td>\n    </tr>\n    <tr>\n      <th>x2</th>\n      <td>A</td>\n      <td>10.0</td>\n    </tr>\n    <tr>\n      <th>x3</th>\n      <td>A</td>\n      <td>NaN</td>\n    </tr>\n    <tr>\n      <th>x4</th>\n      <td>B</td>\n      <td>7.0</td>\n    </tr>\n    <tr>\n      <th>x5</th>\n      <td>C</td>\n      <td>8.0</td>\n    </tr>\n    <tr>\n      <th>x6</th>\n      <td>C</td>\n      <td>10.0</td>\n    </tr>\n    <tr>\n      <th>x7</th>\n      <td>B</td>\n      <td>6.0</td>\n    </tr>\n    <tr>\n      <th>x8</th>\n      <td>NaN</td>\n      <td>NaN</td>\n    </tr>\n  </tbody>\n</table>\n</div>"
     },
     "execution_count": 16,
     "metadata": {},
     "output_type": "execute_result"
    }
   ],
   "source": [
    "df.dropna(thresh=7, axis=1)\n",
    "# 7개 이상 값이 있는 열만 삭제"
   ],
   "metadata": {
    "collapsed": false,
    "pycharm": {
     "name": "#%%\n"
    }
   }
  },
  {
   "cell_type": "code",
   "execution_count": 33,
   "outputs": [
    {
     "data": {
      "text/plain": "   group  score   age\nx0     A   10.0  27.0\nx1     B    9.0   NaN\nx2     A   10.0  30.0\nx3     A    NaN   NaN\nx4     B    7.0  24.0\nx5     C    8.0  27.0\nx6     C   10.0  33.0\nx7     B    6.0  25.0",
      "text/html": "<div>\n<style scoped>\n    .dataframe tbody tr th:only-of-type {\n        vertical-align: middle;\n    }\n\n    .dataframe tbody tr th {\n        vertical-align: top;\n    }\n\n    .dataframe thead th {\n        text-align: right;\n    }\n</style>\n<table border=\"1\" class=\"dataframe\">\n  <thead>\n    <tr style=\"text-align: right;\">\n      <th></th>\n      <th>group</th>\n      <th>score</th>\n      <th>age</th>\n    </tr>\n  </thead>\n  <tbody>\n    <tr>\n      <th>x0</th>\n      <td>A</td>\n      <td>10.0</td>\n      <td>27.0</td>\n    </tr>\n    <tr>\n      <th>x1</th>\n      <td>B</td>\n      <td>9.0</td>\n      <td>NaN</td>\n    </tr>\n    <tr>\n      <th>x2</th>\n      <td>A</td>\n      <td>10.0</td>\n      <td>30.0</td>\n    </tr>\n    <tr>\n      <th>x3</th>\n      <td>A</td>\n      <td>NaN</td>\n      <td>NaN</td>\n    </tr>\n    <tr>\n      <th>x4</th>\n      <td>B</td>\n      <td>7.0</td>\n      <td>24.0</td>\n    </tr>\n    <tr>\n      <th>x5</th>\n      <td>C</td>\n      <td>8.0</td>\n      <td>27.0</td>\n    </tr>\n    <tr>\n      <th>x6</th>\n      <td>C</td>\n      <td>10.0</td>\n      <td>33.0</td>\n    </tr>\n    <tr>\n      <th>x7</th>\n      <td>B</td>\n      <td>6.0</td>\n      <td>25.0</td>\n    </tr>\n  </tbody>\n</table>\n</div>"
     },
     "execution_count": 33,
     "metadata": {},
     "output_type": "execute_result"
    }
   ],
   "source": [
    "df = df.dropna(how='all', axis=0)\n",
    "df"
   ],
   "metadata": {
    "collapsed": false,
    "pycharm": {
     "name": "#%%\n"
    }
   }
  },
  {
   "cell_type": "markdown",
   "source": [
    "#결측값 대치\n",
    "- 결측값 대치\n",
    "    -  fillna(value=0)"
   ],
   "metadata": {
    "collapsed": false,
    "pycharm": {
     "name": "#%% md\n"
    }
   }
  },
  {
   "cell_type": "code",
   "execution_count": 34,
   "outputs": [
    {
     "data": {
      "text/plain": "   group  score   age\nx0     A   10.0  27.0\nx1     B    9.0   0.0\nx2     A   10.0  30.0\nx3     A    0.0   0.0\nx4     B    7.0  24.0\nx5     C    8.0  27.0\nx6     C   10.0  33.0\nx7     B    6.0  25.0",
      "text/html": "<div>\n<style scoped>\n    .dataframe tbody tr th:only-of-type {\n        vertical-align: middle;\n    }\n\n    .dataframe tbody tr th {\n        vertical-align: top;\n    }\n\n    .dataframe thead th {\n        text-align: right;\n    }\n</style>\n<table border=\"1\" class=\"dataframe\">\n  <thead>\n    <tr style=\"text-align: right;\">\n      <th></th>\n      <th>group</th>\n      <th>score</th>\n      <th>age</th>\n    </tr>\n  </thead>\n  <tbody>\n    <tr>\n      <th>x0</th>\n      <td>A</td>\n      <td>10.0</td>\n      <td>27.0</td>\n    </tr>\n    <tr>\n      <th>x1</th>\n      <td>B</td>\n      <td>9.0</td>\n      <td>0.0</td>\n    </tr>\n    <tr>\n      <th>x2</th>\n      <td>A</td>\n      <td>10.0</td>\n      <td>30.0</td>\n    </tr>\n    <tr>\n      <th>x3</th>\n      <td>A</td>\n      <td>0.0</td>\n      <td>0.0</td>\n    </tr>\n    <tr>\n      <th>x4</th>\n      <td>B</td>\n      <td>7.0</td>\n      <td>24.0</td>\n    </tr>\n    <tr>\n      <th>x5</th>\n      <td>C</td>\n      <td>8.0</td>\n      <td>27.0</td>\n    </tr>\n    <tr>\n      <th>x6</th>\n      <td>C</td>\n      <td>10.0</td>\n      <td>33.0</td>\n    </tr>\n    <tr>\n      <th>x7</th>\n      <td>B</td>\n      <td>6.0</td>\n      <td>25.0</td>\n    </tr>\n  </tbody>\n</table>\n</div>"
     },
     "execution_count": 34,
     "metadata": {},
     "output_type": "execute_result"
    }
   ],
   "source": [
    "df.fillna(value=0)"
   ],
   "metadata": {
    "collapsed": false,
    "pycharm": {
     "name": "#%%\n"
    }
   }
  },
  {
   "cell_type": "code",
   "execution_count": 37,
   "outputs": [
    {
     "name": "stdout",
     "output_type": "stream",
     "text": [
      "score     8.571429\n",
      "age      27.666667\n",
      "dtype: float64\n"
     ]
    }
   ],
   "source": [
    "print(df.mean(numeric_only=True))#평균값\n",
    "# print(df.mode(numeric_only=True))#최빈값\n",
    "# print(df.median(numeric_only=True))#중앙값\n",
    "# df[['score', 'age']].mean()\n",
    "# 만약,"
   ],
   "metadata": {
    "collapsed": false,
    "pycharm": {
     "name": "#%%\n"
    }
   }
  },
  {
   "cell_type": "code",
   "execution_count": 38,
   "outputs": [
    {
     "data": {
      "text/plain": "   group      score        age\nx0     A  10.000000  27.000000\nx1     B   9.000000  27.666667\nx2     A  10.000000  30.000000\nx3     A   8.571429  27.666667\nx4     B   7.000000  24.000000\nx5     C   8.000000  27.000000\nx6     C  10.000000  33.000000\nx7     B   6.000000  25.000000",
      "text/html": "<div>\n<style scoped>\n    .dataframe tbody tr th:only-of-type {\n        vertical-align: middle;\n    }\n\n    .dataframe tbody tr th {\n        vertical-align: top;\n    }\n\n    .dataframe thead th {\n        text-align: right;\n    }\n</style>\n<table border=\"1\" class=\"dataframe\">\n  <thead>\n    <tr style=\"text-align: right;\">\n      <th></th>\n      <th>group</th>\n      <th>score</th>\n      <th>age</th>\n    </tr>\n  </thead>\n  <tbody>\n    <tr>\n      <th>x0</th>\n      <td>A</td>\n      <td>10.000000</td>\n      <td>27.000000</td>\n    </tr>\n    <tr>\n      <th>x1</th>\n      <td>B</td>\n      <td>9.000000</td>\n      <td>27.666667</td>\n    </tr>\n    <tr>\n      <th>x2</th>\n      <td>A</td>\n      <td>10.000000</td>\n      <td>30.000000</td>\n    </tr>\n    <tr>\n      <th>x3</th>\n      <td>A</td>\n      <td>8.571429</td>\n      <td>27.666667</td>\n    </tr>\n    <tr>\n      <th>x4</th>\n      <td>B</td>\n      <td>7.000000</td>\n      <td>24.000000</td>\n    </tr>\n    <tr>\n      <th>x5</th>\n      <td>C</td>\n      <td>8.000000</td>\n      <td>27.000000</td>\n    </tr>\n    <tr>\n      <th>x6</th>\n      <td>C</td>\n      <td>10.000000</td>\n      <td>33.000000</td>\n    </tr>\n    <tr>\n      <th>x7</th>\n      <td>B</td>\n      <td>6.000000</td>\n      <td>25.000000</td>\n    </tr>\n  </tbody>\n</table>\n</div>"
     },
     "execution_count": 38,
     "metadata": {},
     "output_type": "execute_result"
    }
   ],
   "source": [
    "df.fillna(value=df.mean(numeric_only=True))"
   ],
   "metadata": {
    "collapsed": false,
    "pycharm": {
     "name": "#%%\n"
    }
   }
  },
  {
   "cell_type": "code",
   "execution_count": 39,
   "outputs": [
    {
     "data": {
      "text/plain": "   group      score        age\nx0     A  10.000000  27.000000\nx1     B   9.000000  27.666667\nx2     A  10.000000  30.000000\nx3     A   8.571429  27.666667\nx4     B   7.000000  24.000000\nx5     C   8.000000  27.000000\nx6     C  10.000000  33.000000\nx7     B   6.000000  25.000000",
      "text/html": "<div>\n<style scoped>\n    .dataframe tbody tr th:only-of-type {\n        vertical-align: middle;\n    }\n\n    .dataframe tbody tr th {\n        vertical-align: top;\n    }\n\n    .dataframe thead th {\n        text-align: right;\n    }\n</style>\n<table border=\"1\" class=\"dataframe\">\n  <thead>\n    <tr style=\"text-align: right;\">\n      <th></th>\n      <th>group</th>\n      <th>score</th>\n      <th>age</th>\n    </tr>\n  </thead>\n  <tbody>\n    <tr>\n      <th>x0</th>\n      <td>A</td>\n      <td>10.000000</td>\n      <td>27.000000</td>\n    </tr>\n    <tr>\n      <th>x1</th>\n      <td>B</td>\n      <td>9.000000</td>\n      <td>27.666667</td>\n    </tr>\n    <tr>\n      <th>x2</th>\n      <td>A</td>\n      <td>10.000000</td>\n      <td>30.000000</td>\n    </tr>\n    <tr>\n      <th>x3</th>\n      <td>A</td>\n      <td>8.571429</td>\n      <td>27.666667</td>\n    </tr>\n    <tr>\n      <th>x4</th>\n      <td>B</td>\n      <td>7.000000</td>\n      <td>24.000000</td>\n    </tr>\n    <tr>\n      <th>x5</th>\n      <td>C</td>\n      <td>8.000000</td>\n      <td>27.000000</td>\n    </tr>\n    <tr>\n      <th>x6</th>\n      <td>C</td>\n      <td>10.000000</td>\n      <td>33.000000</td>\n    </tr>\n    <tr>\n      <th>x7</th>\n      <td>B</td>\n      <td>6.000000</td>\n      <td>25.000000</td>\n    </tr>\n  </tbody>\n</table>\n</div>"
     },
     "execution_count": 39,
     "metadata": {},
     "output_type": "execute_result"
    }
   ],
   "source": [
    "df_new = df.fillna(value=df.mean(numeric_only=True))\n",
    "df_new"
   ],
   "metadata": {
    "collapsed": false,
    "pycharm": {
     "name": "#%%\n"
    }
   }
  },
  {
   "cell_type": "code",
   "execution_count": 41,
   "outputs": [
    {
     "data": {
      "text/plain": "   group      score        age\nx0     A  10.000000  27.000000\nx1     B   9.000000  27.666667\nx2     A  10.000000  30.000000\nx3     A   8.571429  27.666667\nx4     B   7.000000  24.000000\nx5     C   8.000000  27.000000\nx6     C  10.000000  33.000000\nx7     B   6.000000  25.000000",
      "text/html": "<div>\n<style scoped>\n    .dataframe tbody tr th:only-of-type {\n        vertical-align: middle;\n    }\n\n    .dataframe tbody tr th {\n        vertical-align: top;\n    }\n\n    .dataframe thead th {\n        text-align: right;\n    }\n</style>\n<table border=\"1\" class=\"dataframe\">\n  <thead>\n    <tr style=\"text-align: right;\">\n      <th></th>\n      <th>group</th>\n      <th>score</th>\n      <th>age</th>\n    </tr>\n  </thead>\n  <tbody>\n    <tr>\n      <th>x0</th>\n      <td>A</td>\n      <td>10.000000</td>\n      <td>27.000000</td>\n    </tr>\n    <tr>\n      <th>x1</th>\n      <td>B</td>\n      <td>9.000000</td>\n      <td>27.666667</td>\n    </tr>\n    <tr>\n      <th>x2</th>\n      <td>A</td>\n      <td>10.000000</td>\n      <td>30.000000</td>\n    </tr>\n    <tr>\n      <th>x3</th>\n      <td>A</td>\n      <td>8.571429</td>\n      <td>27.666667</td>\n    </tr>\n    <tr>\n      <th>x4</th>\n      <td>B</td>\n      <td>7.000000</td>\n      <td>24.000000</td>\n    </tr>\n    <tr>\n      <th>x5</th>\n      <td>C</td>\n      <td>8.000000</td>\n      <td>27.000000</td>\n    </tr>\n    <tr>\n      <th>x6</th>\n      <td>C</td>\n      <td>10.000000</td>\n      <td>33.000000</td>\n    </tr>\n    <tr>\n      <th>x7</th>\n      <td>B</td>\n      <td>6.000000</td>\n      <td>25.000000</td>\n    </tr>\n  </tbody>\n</table>\n</div>"
     },
     "execution_count": 41,
     "metadata": {},
     "output_type": "execute_result"
    }
   ],
   "source": [
    "df_new['score'] = df['score'].fillna(value=df['score'].mean())\n",
    "df_new"
   ],
   "metadata": {
    "collapsed": false,
    "pycharm": {
     "name": "#%%\n"
    }
   }
  }
 ],
 "metadata": {
  "kernelspec": {
   "display_name": "Python 3",
   "language": "python",
   "name": "python3"
  },
  "language_info": {
   "codemirror_mode": {
    "name": "ipython",
    "version": 2
   },
   "file_extension": ".py",
   "mimetype": "text/x-python",
   "name": "python",
   "nbconvert_exporter": "python",
   "pygments_lexer": "ipython2",
   "version": "2.7.6"
  }
 },
 "nbformat": 4,
 "nbformat_minor": 0
}