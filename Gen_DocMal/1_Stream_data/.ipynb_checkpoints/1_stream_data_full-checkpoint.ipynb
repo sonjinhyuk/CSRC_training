{
 "cells": [
  {
   "cell_type": "code",
   "execution_count": null,
   "id": "da578a88-be24-499d-8fcb-25f6123318f7",
   "metadata": {},
   "outputs": [],
   "source": [
    "import zipfile\n",
    "import os"
   ]
  },
  {
   "cell_type": "code",
   "execution_count": null,
   "id": "3fdb76ed-64ba-45f1-9efc-35e48e9cc06c",
   "metadata": {},
   "outputs": [],
   "source": [
    "def replace_vba_stream(file_path: str,\n",
    "                       content: list,\n",
    "                       output: str = './temp') -> None:\n",
    "    \n",
    "    basename = os.path.basename(file_path)\n",
    "    ext = os.path.splitext(file_path)\n",
    "    modified_path = os.path.join(output, basename.replace(ext, ''))\n",
    "    \n",
    "    if not os.path.exists(output):\n",
    "        os.mkdir(output)\n",
    "\n",
    "    with zipfile.ZipFile(file=file_path) as zf:\n",
    "        zf.extractall(output)\n",
    "\n",
    "    for (root, dirs, files) in os.walk(output):\n",
    "        for file in files:\n",
    "            if file != 'vbaProject.bin':\n",
    "                continue\n",
    "\n",
    "            with open(os.path.join(root, file), 'wb') as f:\n",
    "                bytes = bytearray(content)\n",
    "                f.write(bytes)"
   ]
  }
 ],
 "metadata": {
  "kernelspec": {
   "display_name": "Python 3 (ipykernel)",
   "language": "python",
   "name": "python3"
  },
  "language_info": {
   "codemirror_mode": {
    "name": "ipython",
    "version": 3
   },
   "file_extension": ".py",
   "mimetype": "text/x-python",
   "name": "python",
   "nbconvert_exporter": "python",
   "pygments_lexer": "ipython3",
   "version": "3.12.3"
  }
 },
 "nbformat": 4,
 "nbformat_minor": 5
}
