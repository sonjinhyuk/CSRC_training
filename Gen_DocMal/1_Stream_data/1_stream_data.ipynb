{
 "cells": [
  {
   "cell_type": "code",
   "execution_count": null,
   "id": "da578a88-be24-499d-8fcb-25f6123318f7",
   "metadata": {},
   "outputs": [],
   "source": [
    "import zipfile\n",
    "import shutil\n",
    "import csv\n",
    "import os"
   ]
  },
  {
   "cell_type": "code",
   "execution_count": null,
   "id": "3fdb76ed-64ba-45f1-9efc-35e48e9cc06c",
   "metadata": {},
   "outputs": [],
   "source": [
    "def extract_stream(file_path: str,\n",
    "                   out_dir: str = './') -> None:\n",
    "    \n",
    "    header = ['Filename', 'Stream', 'Size', 'Critical']\n",
    "\n",
    "    basename = os.path.basename(file_path)\n",
    "    ext = os.path.splitext(file_path)\n",
    "    extracted_path = os.path.join(out_dir, f'extracted_{basename}').replace(ext[1], '.csv')\n",
    "\n",
    "    if not os.path.exists('./temp'):\n",
    "        os.mkdir('./temp')\n",
    "\n",
    "    # TODO\n",
    "    stream_list = list()\n",
    "    for (root, dirs, files) in os.walk():\n",
    "        for file in files:\n",
    "            extract_file = os.path.join()\n",
    "            temp = list()\n",
    "            \n",
    "            with open(extract_file, 'rb') as f:\n",
    "                data = f.read()\n",
    "\n",
    "            temp.append()\n",
    "            temp.append()\n",
    "            temp.append()\n",
    "            temp.append()\n",
    "\n",
    "            if  < len(data):\n",
    "                continue\n",
    "            \n",
    "            for d in data:\n",
    "                temp.append()\n",
    "\n",
    "            stream_list.apped()\n",
    "\n",
    "    with open(extracted_path, 'wt', newline='', encoding='utf-8') as f:\n",
    "        csv_writer = csv.writer(f)\n",
    "        csv_writer.writerow(header)\n",
    "        csv_writer.writerows(stream_list)\n",
    "\n",
    "    shutil.rmtree()"
   ]
  },
  {
   "cell_type": "code",
   "execution_count": null,
   "id": "c7dc2498-9632-4790-ae3d-232a64d20c87",
   "metadata": {},
   "outputs": [],
   "source": [
    "def replace_vba_stream(file_path: str,\n",
    "                       content: list,\n",
    "                       out_dir: str = './') -> None:\n",
    "    \n",
    "    basename = os.path.basename(file_path)\n",
    "    modified_path = os.path.join(out_dir, f'modified_{basename}')\n",
    "    \n",
    "    if not os.path.exists('./temp'):\n",
    "        os.mkdir('./temp')\n",
    "\n",
    "    for (root, dirs, files) in os.walk():\n",
    "        for file in files:\n",
    "            if file != '':\n",
    "                # TODO\n",
    "\n",
    "            with open(os.path.join(), '') as f:\n",
    "                bytes = bytearray()\n",
    "                f.write(bytes)\n",
    "\n",
    "    with zipfile.ZipFile(modified_path, 'w') as zf:\n",
    "        for (root, dirs, files) in os.walk():\n",
    "            for file in files:\n",
    "                zf.write(os.path.join(),\n",
    "                         arcname=os.path.relpath(, ''),\n",
    "                         compress_type=)\n",
    "\n",
    "    shutil.rmtree()"
   ]
  }
 ],
 "metadata": {
  "kernelspec": {
   "display_name": "Python 3 (ipykernel)",
   "language": "python",
   "name": "python3"
  },
  "language_info": {
   "codemirror_mode": {
    "name": "ipython",
    "version": 3
   },
   "file_extension": ".py",
   "mimetype": "text/x-python",
   "name": "python",
   "nbconvert_exporter": "python",
   "pygments_lexer": "ipython3",
   "version": "3.12.3"
  }
 },
 "nbformat": 4,
 "nbformat_minor": 5
}
