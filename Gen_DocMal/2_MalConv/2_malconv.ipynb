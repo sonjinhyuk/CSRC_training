{
 "cells": [
  {
   "cell_type": "markdown",
   "metadata": {},
   "source": [
    "# 2. MalConv를 통한 악성여부 확인"
   ]
  },
  {
   "cell_type": "markdown",
   "metadata": {},
   "source": [
    "* MalConv Class를 만들기 위한 package 로드"
   ]
  },
  {
   "cell_type": "code",
   "execution_count": 1,
   "metadata": {},
   "outputs": [],
   "source": [
    "import numpy as np\n",
    "import torch\n",
    "import torch.nn as nn\n",
    "import torch.nn.functional as F"
   ]
  },
  {
   "cell_type": "markdown",
   "metadata": {},
   "source": [
    "## 1. MalConv 만들기"
   ]
  },
  {
   "cell_type": "markdown",
   "metadata": {},
   "source": [
    "* MalConv Class 만들기"
   ]
  },
  {
   "cell_type": "code",
   "execution_count": 2,
   "metadata": {},
   "outputs": [],
   "source": [
    "class MalConv(nn.Module):\n",
    "    def __init__(self, out_size=2, channels=128, window_size=512, embd_size=8):\n",
    "        \n",
    "        ### MalConv 제작을 위한 variable 초기화 ###\n",
    "\n",
    "        # nn.Module 상속 선언\n",
    "        super(MalConv, self).__init__()\n",
    "        \n",
    "        # Embedding Vector 구성(257(0~256) * embd_size)\n",
    "        self.embd = nn.Embedding(257, embd_size, padding_idx=0)\n",
    "        \n",
    "        # window_size 선언     \n",
    "        self.window_size = window_size\n",
    "        \n",
    "        # 2개 1D Convolution Layer 선언(embd_size * channels * window_size)\n",
    "        self.conv_1 = nn.Conv1d(embd_size, channels, window_size, stride=window_size, bias=True)\n",
    "        self.conv_2 = nn.Conv1d(embd_size, channels, window_size, stride=window_size, bias=True)        \n",
    "        \n",
    "        # MaxPooling Layer 선언\n",
    "        self.pooling = nn.AdaptiveMaxPool1d(1)        \n",
    "\n",
    "        # Fully Connected Layer 선언(channels * channels)\n",
    "        self.fc_1 = nn.Linear(channels, channels)\n",
    "        \n",
    "        # Fully Connected Layer 선언(channels * out_size)\n",
    "        self.fc_2 = nn.Linear(channels, out_size)\n",
    "    \n",
    "    ### Malconv 실행 시 동작 함수 ###\n",
    "    def forward(self, x):\n",
    "        \n",
    "        # TODO\n",
    "        # input x에 대한 embedding vector 구축\n",
    "        x = self.embd(x.long())\n",
    "        \n",
    "        # CNN 연산을 위한 차원 교환\n",
    "        x = torch.transpose(x,-1,-2)\n",
    "\n",
    "        # conv_1을 이용한 cnn값 추출\n",
    "        cnn_value = ### FILL HERE ###\n",
    "\n",
    "        # conv_2 및 sigmoid를 이용한 값 추출\n",
    "        gating_weight = torch.sigmoid(self.conv_2(x))\n",
    "\n",
    "        # cnn_value와 gating_weight 추출된 값의 합성곱 연산 수행\n",
    "        x = ### FILL HERE ###      \n",
    "        \n",
    "        # 합성곱 값에 대한 MaxPooling 수행\n",
    "        x = self.pooling(x)\n",
    "\n",
    "        # FC layer 연산을 위한 shape 변경\n",
    "        x = x.view(x.size(0), -1)\n",
    "\n",
    "        # fc_1을 통한 FC layer 연산 및 Relu 활성화 함수 연산\n",
    "        x = F.relu(### FILL HERE ###)\n",
    "\n",
    "        # ReLU 함수값을 fc_2를 통한 FC layer 연산 수행\n",
    "        x = ### FILL HERE ###  \n",
    "        return x"
   ]
  },
  {
   "cell_type": "markdown",
   "metadata": {},
   "source": [
    "## 2. MalConv 모델 이용하기"
   ]
  },
  {
   "cell_type": "markdown",
   "metadata": {},
   "source": [
    "### 1. MalConv 모델 이용 준비\n",
    "* 앞서 구축한 MalConv class 불러오기"
   ]
  },
  {
   "cell_type": "code",
   "execution_count": 3,
   "metadata": {},
   "outputs": [],
   "source": [
    "# TODO: 256 channel, 512 window_size, embed_size 8의 Malconv 모델 구성\n",
    "malconv_model = MalConv(### FILL HERE ###)"
   ]
  },
  {
   "cell_type": "markdown",
   "metadata": {},
   "source": [
    "* 기 구축한 문서형 Stream data의 MalConv 모델 가중치 불러오기 및 MalConv 적용"
   ]
  },
  {
   "cell_type": "code",
   "execution_count": null,
   "metadata": {},
   "outputs": [],
   "source": [
    "# TODO: weight load 및 모델 적용\n",
    "weight = torch.load(\"../data/malconv_doc.pth\", map_location=torch.device('cpu'))\n",
    "### FILL HERE ###"
   ]
  },
  {
   "cell_type": "markdown",
   "metadata": {},
   "source": [
    "### 2. MalConv를 이용한 문서형 stream data의 악성 여부 확인"
   ]
  },
  {
   "cell_type": "markdown",
   "metadata": {},
   "source": [
    "* 정상/악성 Stream data 불러오기"
   ]
  },
  {
   "cell_type": "code",
   "execution_count": 5,
   "metadata": {},
   "outputs": [],
   "source": [
    "with open(\"../data/2_benign.txt\", \"r\") as f:\n",
    "    benign_data = f.read().split(\",\")\n",
    "    benign_data = [int(x) for x in benign_data]"
   ]
  },
  {
   "cell_type": "code",
   "execution_count": 6,
   "metadata": {},
   "outputs": [],
   "source": [
    "with open(\"../data/2_critical.txt\", \"r\") as f:\n",
    "    mal_data = f.read().split(\",\")\n",
    "    mal_data = [int(x) for x in mal_data]"
   ]
  },
  {
   "cell_type": "markdown",
   "metadata": {},
   "source": [
    "* 악성 탐지를 위한 과정 구축"
   ]
  },
  {
   "cell_type": "code",
   "execution_count": 7,
   "metadata": {},
   "outputs": [],
   "source": [
    "def detect(malconv, stream_data):\n",
    "    \"\"\"\n",
    "    :param nn.Module malconv: 앞서 구축한 MalConv 모델\n",
    "    :param list stream_data : 악성 여부를 확인할 stream data\n",
    "    \"\"\"\n",
    "    # TODO\n",
    "    ### MalConv를 이용한 Stream data 악성 여부 확인 함수 만들기###    \n",
    "    # stream data를 malconv에 맞는 형식으로 변환\n",
    "    stream_data = torch.from_numpy(np.frombuffer(bytearray(stream_data), dtype=np.uint8)[np.newaxis, :])\n",
    "\n",
    "    # malconv를 통해 값 도출\n",
    "    output = ### FILL HERE ###\n",
    "\n",
    "    # 도출된 값을 Softmax 함수를 이용한 확률값으로 변환\n",
    "    output = F.softmax(output, dim=-1).detach().numpy()[0,1]\n",
    "    return output"
   ]
  },
  {
   "cell_type": "markdown",
   "metadata": {},
   "source": [
    "* 정상/악성 Stream Data 악성 탐지 여부 확인"
   ]
  },
  {
   "cell_type": "code",
   "execution_count": null,
   "metadata": {},
   "outputs": [],
   "source": [
    "detect(malconv_model, benign_data)"
   ]
  },
  {
   "cell_type": "code",
   "execution_count": null,
   "metadata": {},
   "outputs": [],
   "source": [
    "detect(malconv_model, mal_data)"
   ]
  }
 ],
 "metadata": {
  "kernelspec": {
   "display_name": "Python 3 (ipykernel)",
   "language": "python",
   "name": "python3"
  },
  "language_info": {
   "codemirror_mode": {
    "name": "ipython",
    "version": 3
   },
   "file_extension": ".py",
   "mimetype": "text/x-python",
   "name": "python",
   "nbconvert_exporter": "python",
   "pygments_lexer": "ipython3",
   "version": "3.10.11"
  }
 },
 "nbformat": 4,
 "nbformat_minor": 4
}
