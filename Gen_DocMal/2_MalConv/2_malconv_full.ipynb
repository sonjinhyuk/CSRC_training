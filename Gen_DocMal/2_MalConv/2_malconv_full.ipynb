{
 "cells": [
  {
   "cell_type": "markdown",
   "metadata": {},
   "source": [
    "## 1. MalConv 만들기"
   ]
  },
  {
   "cell_type": "markdown",
   "metadata": {},
   "source": [
    "* 필요한 Package 다운로드"
   ]
  },
  {
   "cell_type": "code",
   "execution_count": null,
   "metadata": {},
   "outputs": [],
   "source": [
    "!pip install torch\n",
    "!pip install numpy"
   ]
  },
  {
   "cell_type": "markdown",
   "metadata": {},
   "source": [
    "* MalConv Class를 만들기 위한 package 로드"
   ]
  },
  {
   "cell_type": "code",
   "execution_count": null,
   "metadata": {},
   "outputs": [],
   "source": [
    "import numpy as np\n",
    "import torch\n",
    "import torch.nn as nn\n",
    "import torch.nn.functional as F"
   ]
  },
  {
   "cell_type": "markdown",
   "metadata": {},
   "source": [
    "* MalConv Class 만들기"
   ]
  },
  {
   "cell_type": "code",
   "execution_count": null,
   "metadata": {},
   "outputs": [],
   "source": [
    "class MalConv(nn.Module):\n",
    "    def __init__(self, out_size=2, channels=128, window_size=512, embd_size=8):\n",
    "        \n",
    "        ### MalConv 제작을 위한 variable 초기화 ###\n",
    "        # 1. nn.Module 상속 선언\n",
    "        # 2. Embedding Vector 구성(257(0~256) * embd_size)\n",
    "        # 3. window_size 선언\n",
    "        # 4. 2개 1D Convolution Layer 선언(embd_size * channels * window_size)\n",
    "        # 5. MaxPooling Layer 선언\n",
    "        # 6. Fully Connected Layer 선언(channels * channels)\n",
    "        # 7. Fully Connected Layer 선언(channels * out_size)\n",
    "\n",
    "        super(MalConv, self).__init__()\n",
    "        self.embd = nn.Embedding(257, embd_size, padding_idx=0)        \n",
    "        self.window_size = window_size\n",
    "        self.conv_1 = nn.Conv1d(embd_size, channels, window_size, stride=window_size, bias=True)\n",
    "        self.conv_2 = nn.Conv1d(embd_size, channels, window_size, stride=window_size, bias=True)        \n",
    "        self.pooling = nn.AdaptiveMaxPool1d(1)        \n",
    "        self.fc_1 = nn.Linear(channels, channels)\n",
    "        self.fc_2 = nn.Linear(channels, out_size)\n",
    "    \n",
    "    def forward(self, x):\n",
    "\n",
    "        ### MalConv 학습과정 구축 ###\n",
    "        # 1. input x에 대한 embedding vector 구축\n",
    "        # 2. CNN 연산을 위한 차원 교환\n",
    "        # 3. conv_1을 이용한 cnn값 추출\n",
    "        # 4. conv_2 및 sigmoid를 이용한 값 추출\n",
    "        # 5. 3,4번의 추출된 값의 합성곱 연산 수행\n",
    "        # 6. 5번 값에 대한 MaxPooling 수행\n",
    "        # 7. FC layer 연산을 위한 shape 변경\n",
    "        # 8. fc_1을 통한 FC layer 연산 및 Relu 활성화 함수 연산\n",
    "        # 9. 8의 결과를 fc_2를 통한 FC layer 연산 수행\n",
    "        # 10. 최종 결과 return\n",
    "        \n",
    "        x = self.embd(x.long())\n",
    "        x = torch.transpose(x,-1,-2)\n",
    "        cnn_value = self.conv_1(x)\n",
    "        gating_weight = torch.sigmoid(self.conv_2(x))        \n",
    "        x = cnn_value * gating_weight        \n",
    "        x = self.pooling(x)\n",
    "        x = x.view(x.size(0), -1)\n",
    "        x = F.relu(self.fc_1(x))\n",
    "        x = self.fc_2(x)        \n",
    "        return x"
   ]
  },
  {
   "cell_type": "markdown",
   "metadata": {},
   "source": [
    "## 2. MalConv 모델 이용하기"
   ]
  },
  {
   "cell_type": "markdown",
   "metadata": {},
   "source": [
    "### 1. MalConv 모델 이용 준비\n",
    "* 앞서 구축한 MalConv class 불러오기"
   ]
  },
  {
   "cell_type": "code",
   "execution_count": null,
   "metadata": {},
   "outputs": [],
   "source": [
    "# 256 channel, 512 window_size, embed_size 8의 Malconv 모델 구성\n",
    "malconv_model = MalConv(channels=256, window_size=512, embed_size=8)"
   ]
  },
  {
   "cell_type": "markdown",
   "metadata": {},
   "source": [
    "* 기 구축한 문서형 Stream data의 MalConv 모델 가중치 불러오기 및 MalConv 적용"
   ]
  },
  {
   "cell_type": "code",
   "execution_count": null,
   "metadata": {},
   "outputs": [],
   "source": [
    "weight = torch.load(\"./malRNN_doc.pt\")\n",
    "malconv_model.load_state_dict(weight)"
   ]
  },
  {
   "cell_type": "markdown",
   "metadata": {},
   "source": [
    "### 2. MalConv를 이용한 문서형 stream data의 악성 여부 확인"
   ]
  },
  {
   "cell_type": "code",
   "execution_count": null,
   "metadata": {},
   "outputs": [],
   "source": [
    "data1 = []\n",
    "data2 = []"
   ]
  },
  {
   "cell_type": "markdown",
   "metadata": {},
   "source": [
    "* 악성 탐지를 위한 과정 구축"
   ]
  },
  {
   "cell_type": "code",
   "execution_count": null,
   "metadata": {},
   "outputs": [],
   "source": [
    "def detect(malconv, stream_data):\n",
    "    \n",
    "    ### MalConv를 이용한 Stream data 악성 여부 확인 함수 ###\n",
    "    # malconv: 앞서 구축한 MalConv 모델\n",
    "    # stream_data : 악성 여부를 확인할 stream data\n",
    "\n",
    "    # 1. stream data를 malconv에 맞는 형식으로 변환\n",
    "    # 2. malconv를 통해 값 도출\n",
    "    # 3. 도출된 값을 Softmax 함수를 이용한 확률값으로 변환\n",
    "\n",
    "    stream_data = torch.from_numpy(np.fromduffer(stream_data, dtype=np.uint8)[np.newaxis, :])\n",
    "    output = malconv(stream_data)\n",
    "    output = F.softmax(malconv(output), dim=-1)\n",
    "    return output"
   ]
  }
 ],
 "metadata": {
  "kernelspec": {
   "display_name": "Python 3",
   "language": "python",
   "name": "python3"
  },
  "language_info": {
   "codemirror_mode": {
    "name": "ipython",
    "version": 3
   },
   "file_extension": ".py",
   "mimetype": "text/x-python",
   "name": "python",
   "nbconvert_exporter": "python",
   "pygments_lexer": "ipython3",
   "version": "3.10.12"
  }
 },
 "nbformat": 4,
 "nbformat_minor": 2
}
