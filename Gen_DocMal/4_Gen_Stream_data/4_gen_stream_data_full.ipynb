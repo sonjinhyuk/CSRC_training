{
 "cells": [
  {
   "cell_type": "markdown",
   "metadata": {},
   "source": [
    "# 4. MalRNN을 이용한 변종 문서형 Stream Data 생성\n",
    "* 필요한 package 다운로드 확인 및 적용"
   ]
  },
  {
   "cell_type": "code",
   "execution_count": null,
   "metadata": {},
   "outputs": [],
   "source": [
    "# !pip install torch\n",
    "# !pip install numpy"
   ]
  },
  {
   "cell_type": "code",
   "execution_count": null,
   "metadata": {},
   "outputs": [],
   "source": [
    "import numpy as np\n",
    "import torch\n",
    "from rnn_model import CharRNN"
   ]
  },
  {
   "cell_type": "markdown",
   "metadata": {},
   "source": [
    "## 1. Stream byte 생성 함수 구축"
   ]
  },
  {
   "cell_type": "code",
   "execution_count": null,
   "metadata": {},
   "outputs": [],
   "source": [
    "def generate_byte(model, base_stream, device, len_to_predict=1000, temperature=0.8):\n",
    "    hidden_state = model.init_hidden(1).to(device)\n",
    "    base_input = torch.LongTensor(base_stream).unsqueeze(0).to(device)\n",
    "    predict = base_stream\n",
    "\n",
    "    for p in range(len(base_stream) - 1):\n",
    "        _, hidden_state = model(base_input[:, p], hidden_state)\n",
    "\n",
    "    output_result = []\n",
    "    model_input = base_input[:, -1]\n",
    "    for p in range(len_to_predict):\n",
    "        output, hidden_state = model(model_input, hidden_state)\n",
    "        output_result.append(output)\n",
    "\n",
    "        output_dist = output.data.view(-1).div(temperature).exp()\n",
    "        predict_stream = torch.multinomial(output_dist, 1)[0]\n",
    "\n",
    "        predict = np.append(predict, predict_stream.detach().cpu())\n",
    "        model_input = (\n",
    "            torch.tensor(predict_stream, dtype=torch.long).unsqueeze(0).to(device)\n",
    "        )\n",
    "\n",
    "    return predict.tolist(), output_result"
   ]
  },
  {
   "cell_type": "markdown",
   "metadata": {},
   "source": [
    "## 2. 변종 문서형 Byte Stream 생성 과정 구축"
   ]
  },
  {
   "cell_type": "code",
   "execution_count": null,
   "metadata": {},
   "outputs": [],
   "source": [
    "with open(\"../data/4_critical_example.txt\", \"r\") as f:\n",
    "    critical_base = f.read().split(\",\")\n",
    "    critical_base = [int(x) for x in critical_base]"
   ]
  },
  {
   "cell_type": "code",
   "execution_count": null,
   "metadata": {},
   "outputs": [],
   "source": [
    "### byte stream 생성 과정 구축 ###\n",
    "# TODO\n",
    "# 1. 학습장치 할당\n",
    "# 2. model 호출 및 weight load 후 모델의 학습장치 할당\n",
    "# 3. generate_byte 함수를 통한 byte stream 생성\n",
    "# 4. 생성된 byte를 합친 변정 byte stream 생성\n",
    "device = torch.device(\"cuda\") if torch.cuda.is_available() else torch.device(\"cpu\")\n",
    "\n",
    "model = CharRNN(\n",
    "    input_size=256,\n",
    "    hidden_size = 100,\n",
    "    output_size=256,\n",
    "    model=\"gru\",\n",
    "    n_layers=1\n",
    ")\n",
    "model = torch.load(\"../data/malRNN_doc.pt\")\n",
    "model.to(device)\n",
    "\n",
    "new_byte = generate_byte(model=model, base_stream=critical_base, device=device)\n",
    "generated_byte = bytearray(critical_base) + bytearray(new_byte[0])"
   ]
  },
  {
   "cell_type": "markdown",
   "metadata": {},
   "source": [
    "## 3. 변종 Byte Stream 탐지 회피 여부 확인"
   ]
  },
  {
   "cell_type": "code",
   "execution_count": null,
   "metadata": {},
   "outputs": [],
   "source": [
    "from MalConv import MalConv\n",
    "import torch.nn.functional as F"
   ]
  },
  {
   "cell_type": "code",
   "execution_count": null,
   "metadata": {},
   "outputs": [],
   "source": [
    "def detect(malconv, stream_data):\n",
    "    stream_data = torch.from_numpy(np.frombuffer(bytearray(stream_data), dtype=np.uint8)[np.newaxis, :])\n",
    "    output = malconv(stream_data)\n",
    "    output = F.softmax(output, dim=-1).detach().numpy()[0,1]\n",
    "    return output\n",
    "\n",
    "malconv = MalConv(channels=256, window_size=512, embd_size=8)\n",
    "malconv_weight = torch.load(\"../data/malconv_doc.pth\")\n",
    "malconv.load_state_dict(malconv_weight)"
   ]
  },
  {
   "cell_type": "code",
   "execution_count": null,
   "metadata": {},
   "outputs": [],
   "source": [
    "detect(malconv, critical_base)"
   ]
  },
  {
   "cell_type": "code",
   "execution_count": null,
   "metadata": {},
   "outputs": [],
   "source": [
    "detect(malconv, generated_byte)"
   ]
  }
 ],
 "metadata": {
  "kernelspec": {
   "display_name": "Python 3",
   "language": "python",
   "name": "python3"
  },
  "language_info": {
   "codemirror_mode": {
    "name": "ipython",
    "version": 3
   },
   "file_extension": ".py",
   "mimetype": "text/x-python",
   "name": "python",
   "nbconvert_exporter": "python",
   "pygments_lexer": "ipython3",
   "version": "3.10.12"
  }
 },
 "nbformat": 4,
 "nbformat_minor": 2
}
